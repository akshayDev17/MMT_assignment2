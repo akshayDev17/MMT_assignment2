{
 "cells": [
  {
   "cell_type": "markdown",
   "metadata": {},
   "source": [
    "# Dataset:\n",
    "1. Our training dataset can be found [here](https://iiitaphyd-my.sharepoint.com/personal/devansh_manu_research_iiit_ac_in/_layouts/15/onedrive.aspx?originalPath=aHR0cHM6Ly9paWl0YXBoeWQtbXkuc2hhcmVwb2ludC5jb20vOmY6L2cvcGVyc29uYWwvZGV2YW5zaF9tYW51X3Jlc2VhcmNoX2lpaXRfYWNfaW4vRWxZZm1zQ3h0Q2xJcjJLSVBqcWEzYUFCdFVva2xha2cwNnBCMDJMMmlKaWVIdz9ydGltZT1UNjRHc1lqQzEwZw&viewid=5db72c70%2D223f%2D4887%2Dbf50%2Dbd0fbf14638f&id=%2Fpersonal%2Fdevansh%5Fmanu%5Fresearch%5Fiiit%5Fac%5Fin%2FDocuments%2FMMT%20%2D%20Hands%20on%20activity%2FEmotion%20Classification)\n",
    "2. From the above link, we picked up the Arousal and Valence data.\n",
    "3. From [this](https://onedrive.live.com/?authkey=%21ABJMt2rGTQvCxyM&id=3E1ACB43A24F0BDA%21352&cid=3E1ACB43A24F0BDA) link, we picked up the already-annotated Tension data.\n",
    "4. Training of our model was done on the above mentioned Arousal, Valence and Tension dataset. "
   ]
  },
  {
   "cell_type": "markdown",
   "metadata": {},
   "source": [
    "# Instructions to run this code:\n",
    "1. `git clone https://github.com/akshayDev17/emotion_dataset.git`\n",
    "2. make a directory titled **src**, and put this notebook in that directory\n",
    "3. the **emotion_dataset** and **src** directories should be at same hierarchial level"
   ]
  },
  {
   "cell_type": "markdown",
   "metadata": {},
   "source": [
    "# Models:\n",
    "1. We have used 4 models for these classification tasks: ridge, Kneighbors, svm, decision-tree classifiers."
   ]
  },
  {
   "cell_type": "markdown",
   "metadata": {},
   "source": [
    "# Procedure:\n",
    "1. We plan on performing 3 binary classifications, namely Arousal-positive vs Arousal-negative, Valence-positive vs Valence-negative and Tension-positive vs Tension-negative.\n",
    "2. For all the models, we firstly use their default classifier-API, without specifiying any parameters.\n",
    "3. Then we try to perform grid Search, under a confined parameter space, to obtain the best hyper-parameter values for those models.\n",
    "4. Lastly, we compare the grid searched and default classifier-models, to funnel out the best classifier for each emotion-type"
   ]
  },
  {
   "cell_type": "code",
   "execution_count": 1,
   "metadata": {},
   "outputs": [],
   "source": [
    "import os\n",
    "import librosa\n",
    "import numpy as np\n",
    "import matplotlib.pyplot as plt\n",
    "import seaborn as sns\n",
    "from sklearn.model_selection import train_test_split\n",
    "from sklearn.metrics import accuracy_score"
   ]
  },
  {
   "cell_type": "code",
   "execution_count": 2,
   "metadata": {},
   "outputs": [],
   "source": [
    "def getFeatures(path):\n",
    "    y, sr = librosa.load(path)\n",
    "    chroma_cens = librosa.feature.chroma_cens(y=y, sr=sr)\n",
    "    cent = librosa.feature.spectral_centroid(y=y, sr=sr)\n",
    "    spec_bw = librosa.feature.spectral_bandwidth(y=y, sr=sr)\n",
    "    rolloff = librosa.feature.spectral_rolloff(y=y, sr=sr)\n",
    "    \n",
    "    mfcc = librosa.feature.mfcc(y=y, sr=sr)\n",
    "    mfcc_delta = librosa.feature.delta(mfcc)\n",
    "    \n",
    "    features = []\n",
    "    features.append(np.mean(cent))\n",
    "    features.append(np.mean(spec_bw))\n",
    "    features.append(np.mean(rolloff))\n",
    "    features.append(np.mean(chroma_cens))\n",
    "    for coefficient in mfcc:\n",
    "        features.append(np.mean(coefficient))\n",
    "    return features   "
   ]
  },
  {
   "cell_type": "markdown",
   "metadata": {},
   "source": [
    "## Arousal-data-collection:\n",
    "We separated the arousal-only tracks, based on positive and negative arousal."
   ]
  },
  {
   "cell_type": "code",
   "execution_count": 3,
   "metadata": {},
   "outputs": [],
   "source": [
    "arousal_feature_set, arousal_y_labels = [], []\n",
    "arousal_directory = \"../emotion_dataset/Arousal/\""
   ]
  },
  {
   "cell_type": "code",
   "execution_count": 4,
   "metadata": {},
   "outputs": [
    {
     "name": "stdout",
     "output_type": "stream",
     "text": [
      "/home/laferrari/IIIT-H SEMESTERS/8th_sem/Music, Mind and Technology/assignment2/src\n"
     ]
    }
   ],
   "source": [
    "print(os.getcwd())"
   ]
  },
  {
   "cell_type": "markdown",
   "metadata": {},
   "source": [
    "Extracting features for the arousal-positive and arousal-negative music data"
   ]
  },
  {
   "cell_type": "code",
   "execution_count": 5,
   "metadata": {},
   "outputs": [
    {
     "name": "stderr",
     "output_type": "stream",
     "text": [
      "/home/laferrari/anaconda3/envs/tensorflow_cpu/lib/python3.6/site-packages/librosa/core/audio.py:161: UserWarning: PySoundFile failed. Trying audioread instead.\n",
      "  warnings.warn('PySoundFile failed. Trying audioread instead.')\n",
      "/home/laferrari/anaconda3/envs/tensorflow_cpu/lib/python3.6/site-packages/librosa/core/audio.py:161: UserWarning: PySoundFile failed. Trying audioread instead.\n",
      "  warnings.warn('PySoundFile failed. Trying audioread instead.')\n",
      "/home/laferrari/anaconda3/envs/tensorflow_cpu/lib/python3.6/site-packages/librosa/core/audio.py:161: UserWarning: PySoundFile failed. Trying audioread instead.\n",
      "  warnings.warn('PySoundFile failed. Trying audioread instead.')\n",
      "/home/laferrari/anaconda3/envs/tensorflow_cpu/lib/python3.6/site-packages/librosa/core/audio.py:161: UserWarning: PySoundFile failed. Trying audioread instead.\n",
      "  warnings.warn('PySoundFile failed. Trying audioread instead.')\n",
      "/home/laferrari/anaconda3/envs/tensorflow_cpu/lib/python3.6/site-packages/librosa/core/audio.py:161: UserWarning: PySoundFile failed. Trying audioread instead.\n",
      "  warnings.warn('PySoundFile failed. Trying audioread instead.')\n",
      "/home/laferrari/anaconda3/envs/tensorflow_cpu/lib/python3.6/site-packages/librosa/core/audio.py:161: UserWarning: PySoundFile failed. Trying audioread instead.\n",
      "  warnings.warn('PySoundFile failed. Trying audioread instead.')\n",
      "/home/laferrari/anaconda3/envs/tensorflow_cpu/lib/python3.6/site-packages/librosa/core/audio.py:161: UserWarning: PySoundFile failed. Trying audioread instead.\n",
      "  warnings.warn('PySoundFile failed. Trying audioread instead.')\n",
      "/home/laferrari/anaconda3/envs/tensorflow_cpu/lib/python3.6/site-packages/librosa/core/audio.py:161: UserWarning: PySoundFile failed. Trying audioread instead.\n",
      "  warnings.warn('PySoundFile failed. Trying audioread instead.')\n",
      "/home/laferrari/anaconda3/envs/tensorflow_cpu/lib/python3.6/site-packages/librosa/core/audio.py:161: UserWarning: PySoundFile failed. Trying audioread instead.\n",
      "  warnings.warn('PySoundFile failed. Trying audioread instead.')\n",
      "/home/laferrari/anaconda3/envs/tensorflow_cpu/lib/python3.6/site-packages/librosa/core/audio.py:161: UserWarning: PySoundFile failed. Trying audioread instead.\n",
      "  warnings.warn('PySoundFile failed. Trying audioread instead.')\n",
      "/home/laferrari/anaconda3/envs/tensorflow_cpu/lib/python3.6/site-packages/librosa/core/audio.py:161: UserWarning: PySoundFile failed. Trying audioread instead.\n",
      "  warnings.warn('PySoundFile failed. Trying audioread instead.')\n",
      "/home/laferrari/anaconda3/envs/tensorflow_cpu/lib/python3.6/site-packages/librosa/core/audio.py:161: UserWarning: PySoundFile failed. Trying audioread instead.\n",
      "  warnings.warn('PySoundFile failed. Trying audioread instead.')\n",
      "/home/laferrari/anaconda3/envs/tensorflow_cpu/lib/python3.6/site-packages/librosa/core/audio.py:161: UserWarning: PySoundFile failed. Trying audioread instead.\n",
      "  warnings.warn('PySoundFile failed. Trying audioread instead.')\n",
      "/home/laferrari/anaconda3/envs/tensorflow_cpu/lib/python3.6/site-packages/librosa/core/audio.py:161: UserWarning: PySoundFile failed. Trying audioread instead.\n",
      "  warnings.warn('PySoundFile failed. Trying audioread instead.')\n",
      "/home/laferrari/anaconda3/envs/tensorflow_cpu/lib/python3.6/site-packages/librosa/core/audio.py:161: UserWarning: PySoundFile failed. Trying audioread instead.\n",
      "  warnings.warn('PySoundFile failed. Trying audioread instead.')\n",
      "/home/laferrari/anaconda3/envs/tensorflow_cpu/lib/python3.6/site-packages/librosa/core/audio.py:161: UserWarning: PySoundFile failed. Trying audioread instead.\n",
      "  warnings.warn('PySoundFile failed. Trying audioread instead.')\n",
      "/home/laferrari/anaconda3/envs/tensorflow_cpu/lib/python3.6/site-packages/librosa/core/audio.py:161: UserWarning: PySoundFile failed. Trying audioread instead.\n",
      "  warnings.warn('PySoundFile failed. Trying audioread instead.')\n",
      "/home/laferrari/anaconda3/envs/tensorflow_cpu/lib/python3.6/site-packages/librosa/core/audio.py:161: UserWarning: PySoundFile failed. Trying audioread instead.\n",
      "  warnings.warn('PySoundFile failed. Trying audioread instead.')\n",
      "/home/laferrari/anaconda3/envs/tensorflow_cpu/lib/python3.6/site-packages/librosa/core/audio.py:161: UserWarning: PySoundFile failed. Trying audioread instead.\n",
      "  warnings.warn('PySoundFile failed. Trying audioread instead.')\n",
      "/home/laferrari/anaconda3/envs/tensorflow_cpu/lib/python3.6/site-packages/librosa/core/audio.py:161: UserWarning: PySoundFile failed. Trying audioread instead.\n",
      "  warnings.warn('PySoundFile failed. Trying audioread instead.')\n",
      "/home/laferrari/anaconda3/envs/tensorflow_cpu/lib/python3.6/site-packages/librosa/core/audio.py:161: UserWarning: PySoundFile failed. Trying audioread instead.\n",
      "  warnings.warn('PySoundFile failed. Trying audioread instead.')\n",
      "/home/laferrari/anaconda3/envs/tensorflow_cpu/lib/python3.6/site-packages/librosa/core/audio.py:161: UserWarning: PySoundFile failed. Trying audioread instead.\n",
      "  warnings.warn('PySoundFile failed. Trying audioread instead.')\n",
      "/home/laferrari/anaconda3/envs/tensorflow_cpu/lib/python3.6/site-packages/librosa/core/audio.py:161: UserWarning: PySoundFile failed. Trying audioread instead.\n",
      "  warnings.warn('PySoundFile failed. Trying audioread instead.')\n",
      "/home/laferrari/anaconda3/envs/tensorflow_cpu/lib/python3.6/site-packages/librosa/core/audio.py:161: UserWarning: PySoundFile failed. Trying audioread instead.\n",
      "  warnings.warn('PySoundFile failed. Trying audioread instead.')\n",
      "/home/laferrari/anaconda3/envs/tensorflow_cpu/lib/python3.6/site-packages/librosa/core/audio.py:161: UserWarning: PySoundFile failed. Trying audioread instead.\n",
      "  warnings.warn('PySoundFile failed. Trying audioread instead.')\n",
      "/home/laferrari/anaconda3/envs/tensorflow_cpu/lib/python3.6/site-packages/librosa/core/audio.py:161: UserWarning: PySoundFile failed. Trying audioread instead.\n",
      "  warnings.warn('PySoundFile failed. Trying audioread instead.')\n",
      "/home/laferrari/anaconda3/envs/tensorflow_cpu/lib/python3.6/site-packages/librosa/core/audio.py:161: UserWarning: PySoundFile failed. Trying audioread instead.\n",
      "  warnings.warn('PySoundFile failed. Trying audioread instead.')\n",
      "/home/laferrari/anaconda3/envs/tensorflow_cpu/lib/python3.6/site-packages/librosa/core/audio.py:161: UserWarning: PySoundFile failed. Trying audioread instead.\n",
      "  warnings.warn('PySoundFile failed. Trying audioread instead.')\n",
      "/home/laferrari/anaconda3/envs/tensorflow_cpu/lib/python3.6/site-packages/librosa/core/audio.py:161: UserWarning: PySoundFile failed. Trying audioread instead.\n",
      "  warnings.warn('PySoundFile failed. Trying audioread instead.')\n",
      "/home/laferrari/anaconda3/envs/tensorflow_cpu/lib/python3.6/site-packages/librosa/core/audio.py:161: UserWarning: PySoundFile failed. Trying audioread instead.\n",
      "  warnings.warn('PySoundFile failed. Trying audioread instead.')\n",
      "/home/laferrari/anaconda3/envs/tensorflow_cpu/lib/python3.6/site-packages/librosa/core/audio.py:161: UserWarning: PySoundFile failed. Trying audioread instead.\n",
      "  warnings.warn('PySoundFile failed. Trying audioread instead.')\n",
      "/home/laferrari/anaconda3/envs/tensorflow_cpu/lib/python3.6/site-packages/librosa/core/audio.py:161: UserWarning: PySoundFile failed. Trying audioread instead.\n",
      "  warnings.warn('PySoundFile failed. Trying audioread instead.')\n",
      "/home/laferrari/anaconda3/envs/tensorflow_cpu/lib/python3.6/site-packages/librosa/core/audio.py:161: UserWarning: PySoundFile failed. Trying audioread instead.\n",
      "  warnings.warn('PySoundFile failed. Trying audioread instead.')\n",
      "/home/laferrari/anaconda3/envs/tensorflow_cpu/lib/python3.6/site-packages/librosa/core/audio.py:161: UserWarning: PySoundFile failed. Trying audioread instead.\n",
      "  warnings.warn('PySoundFile failed. Trying audioread instead.')\n",
      "/home/laferrari/anaconda3/envs/tensorflow_cpu/lib/python3.6/site-packages/librosa/core/audio.py:161: UserWarning: PySoundFile failed. Trying audioread instead.\n",
      "  warnings.warn('PySoundFile failed. Trying audioread instead.')\n",
      "/home/laferrari/anaconda3/envs/tensorflow_cpu/lib/python3.6/site-packages/librosa/core/audio.py:161: UserWarning: PySoundFile failed. Trying audioread instead.\n",
      "  warnings.warn('PySoundFile failed. Trying audioread instead.')\n",
      "/home/laferrari/anaconda3/envs/tensorflow_cpu/lib/python3.6/site-packages/librosa/core/audio.py:161: UserWarning: PySoundFile failed. Trying audioread instead.\n",
      "  warnings.warn('PySoundFile failed. Trying audioread instead.')\n"
     ]
    },
    {
     "name": "stderr",
     "output_type": "stream",
     "text": [
      "/home/laferrari/anaconda3/envs/tensorflow_cpu/lib/python3.6/site-packages/librosa/core/audio.py:161: UserWarning: PySoundFile failed. Trying audioread instead.\n",
      "  warnings.warn('PySoundFile failed. Trying audioread instead.')\n",
      "/home/laferrari/anaconda3/envs/tensorflow_cpu/lib/python3.6/site-packages/librosa/core/audio.py:161: UserWarning: PySoundFile failed. Trying audioread instead.\n",
      "  warnings.warn('PySoundFile failed. Trying audioread instead.')\n",
      "/home/laferrari/anaconda3/envs/tensorflow_cpu/lib/python3.6/site-packages/librosa/core/audio.py:161: UserWarning: PySoundFile failed. Trying audioread instead.\n",
      "  warnings.warn('PySoundFile failed. Trying audioread instead.')\n",
      "/home/laferrari/anaconda3/envs/tensorflow_cpu/lib/python3.6/site-packages/librosa/core/audio.py:161: UserWarning: PySoundFile failed. Trying audioread instead.\n",
      "  warnings.warn('PySoundFile failed. Trying audioread instead.')\n",
      "/home/laferrari/anaconda3/envs/tensorflow_cpu/lib/python3.6/site-packages/librosa/core/audio.py:161: UserWarning: PySoundFile failed. Trying audioread instead.\n",
      "  warnings.warn('PySoundFile failed. Trying audioread instead.')\n",
      "/home/laferrari/anaconda3/envs/tensorflow_cpu/lib/python3.6/site-packages/librosa/core/audio.py:161: UserWarning: PySoundFile failed. Trying audioread instead.\n",
      "  warnings.warn('PySoundFile failed. Trying audioread instead.')\n",
      "/home/laferrari/anaconda3/envs/tensorflow_cpu/lib/python3.6/site-packages/librosa/core/audio.py:161: UserWarning: PySoundFile failed. Trying audioread instead.\n",
      "  warnings.warn('PySoundFile failed. Trying audioread instead.')\n",
      "/home/laferrari/anaconda3/envs/tensorflow_cpu/lib/python3.6/site-packages/librosa/core/audio.py:161: UserWarning: PySoundFile failed. Trying audioread instead.\n",
      "  warnings.warn('PySoundFile failed. Trying audioread instead.')\n",
      "/home/laferrari/anaconda3/envs/tensorflow_cpu/lib/python3.6/site-packages/librosa/core/audio.py:161: UserWarning: PySoundFile failed. Trying audioread instead.\n",
      "  warnings.warn('PySoundFile failed. Trying audioread instead.')\n",
      "/home/laferrari/anaconda3/envs/tensorflow_cpu/lib/python3.6/site-packages/librosa/core/audio.py:161: UserWarning: PySoundFile failed. Trying audioread instead.\n",
      "  warnings.warn('PySoundFile failed. Trying audioread instead.')\n",
      "/home/laferrari/anaconda3/envs/tensorflow_cpu/lib/python3.6/site-packages/librosa/core/audio.py:161: UserWarning: PySoundFile failed. Trying audioread instead.\n",
      "  warnings.warn('PySoundFile failed. Trying audioread instead.')\n",
      "/home/laferrari/anaconda3/envs/tensorflow_cpu/lib/python3.6/site-packages/librosa/core/audio.py:161: UserWarning: PySoundFile failed. Trying audioread instead.\n",
      "  warnings.warn('PySoundFile failed. Trying audioread instead.')\n",
      "/home/laferrari/anaconda3/envs/tensorflow_cpu/lib/python3.6/site-packages/librosa/core/audio.py:161: UserWarning: PySoundFile failed. Trying audioread instead.\n",
      "  warnings.warn('PySoundFile failed. Trying audioread instead.')\n",
      "/home/laferrari/anaconda3/envs/tensorflow_cpu/lib/python3.6/site-packages/librosa/core/audio.py:161: UserWarning: PySoundFile failed. Trying audioread instead.\n",
      "  warnings.warn('PySoundFile failed. Trying audioread instead.')\n",
      "/home/laferrari/anaconda3/envs/tensorflow_cpu/lib/python3.6/site-packages/librosa/core/audio.py:161: UserWarning: PySoundFile failed. Trying audioread instead.\n",
      "  warnings.warn('PySoundFile failed. Trying audioread instead.')\n"
     ]
    }
   ],
   "source": [
    "dirName1, dirName2 = arousal_directory+\"Positive/\", arousal_directory+\"Negative/\"\n",
    "dirContents = os.listdir(dirName1)\n",
    "temp_y_label = \"A\"\n",
    "for music in dirContents:\n",
    "    currSongFeatures = getFeatures(dirName1+music)\n",
    "    arousal_y_labels.append(temp_y_label+\"P\")\n",
    "    arousal_feature_set.append(currSongFeatures)\n",
    "dirContents = os.listdir(dirName2)    \n",
    "for music in dirContents:\n",
    "    currSongFeatures = getFeatures(dirName2+music)\n",
    "    arousal_y_labels.append(temp_y_label+\"N\")\n",
    "    arousal_feature_set.append(currSongFeatures)"
   ]
  },
  {
   "cell_type": "code",
   "execution_count": 6,
   "metadata": {},
   "outputs": [
    {
     "name": "stdout",
     "output_type": "stream",
     "text": [
      "{'AP', 'AN'}\n"
     ]
    }
   ],
   "source": [
    "print(set(arousal_y_labels))"
   ]
  },
  {
   "cell_type": "code",
   "execution_count": 7,
   "metadata": {},
   "outputs": [
    {
     "data": {
      "text/plain": [
       "(52, 24)"
      ]
     },
     "execution_count": 7,
     "metadata": {},
     "output_type": "execute_result"
    }
   ],
   "source": [
    "arousal_feature_set = np.array(arousal_feature_set)\n",
    "arousal_feature_set.shape"
   ]
  },
  {
   "cell_type": "code",
   "execution_count": 8,
   "metadata": {},
   "outputs": [
    {
     "data": {
      "text/plain": [
       "(52,)"
      ]
     },
     "execution_count": 8,
     "metadata": {},
     "output_type": "execute_result"
    }
   ],
   "source": [
    "arousal_y = np.array(arousal_y_labels)\n",
    "arousal_y.shape"
   ]
  },
  {
   "cell_type": "markdown",
   "metadata": {},
   "source": [
    "Check distribution of labelled dataset"
   ]
  },
  {
   "cell_type": "code",
   "execution_count": 9,
   "metadata": {},
   "outputs": [
    {
     "data": {
      "text/plain": [
       "(array([28.,  0.,  0.,  0.,  0.,  0.,  0.,  0.,  0., 24.]),\n",
       " array([0. , 0.1, 0.2, 0.3, 0.4, 0.5, 0.6, 0.7, 0.8, 0.9, 1. ]),\n",
       " <a list of 10 Patch objects>)"
      ]
     },
     "execution_count": 9,
     "metadata": {},
     "output_type": "execute_result"
    },
    {
     "data": {
      "image/png": "[encoded data removed]",
      "text/plain": [
       "<Figure size 432x288 with 1 Axes>"
      ]
     },
     "metadata": {
      "needs_background": "light"
     },
     "output_type": "display_data"
    }
   ],
   "source": [
    "plt.hist(arousal_y)"
   ]
  },
  {
   "cell_type": "code",
   "execution_count": 10,
   "metadata": {},
   "outputs": [],
   "source": [
    "arousal_x_train, arousal_x_test, arousal_y_train, arousal_y_test = train_test_split(arousal_feature_set, arousal_y, test_size=0.2, random_state=1231)"
   ]
  },
  {
   "cell_type": "code",
   "execution_count": 11,
   "metadata": {},
   "outputs": [
    {
     "data": {
      "image/png": "[encoded data removed]",
      "text/plain": [
       "<Figure size 432x288 with 1 Axes>"
      ]
     },
     "metadata": {
      "needs_background": "light"
     },
     "output_type": "display_data"
    }
   ],
   "source": [
    "plt.hist(arousal_y_train, color='b', alpha=0.4, label='training_label_distribution')\n",
    "plt.hist(arousal_y_test, color='r', label='testing_label_distribution')\n",
    "plt.legend()\n",
    "plt.show()"
   ]
  },
  {
   "cell_type": "markdown",
   "metadata": {},
   "source": [
    "## Valence-data-collection"
   ]
  },
  {
   "cell_type": "code",
   "execution_count": 12,
   "metadata": {},
   "outputs": [],
   "source": [
    "valence_feature_set, valence_y_labels = [], []\n",
    "valence_directory = \"../emotion_dataset/Valence/\""
   ]
  },
  {
   "cell_type": "markdown",
   "metadata": {},
   "source": [
    "Extracting features for the arousal-positive and arousal-negative music data"
   ]
  },
  {
   "cell_type": "code",
   "execution_count": 13,
   "metadata": {},
   "outputs": [
    {
     "name": "stdout",
     "output_type": "stream",
     "text": [
      "/home/laferrari/IIIT-H SEMESTERS/8th_sem/Music, Mind and Technology/assignment2/src\n"
     ]
    }
   ],
   "source": [
    "print(os.getcwd())"
   ]
  },
  {
   "cell_type": "code",
   "execution_count": 14,
   "metadata": {},
   "outputs": [
    {
     "name": "stderr",
     "output_type": "stream",
     "text": [
      "/home/laferrari/anaconda3/envs/tensorflow_cpu/lib/python3.6/site-packages/librosa/core/audio.py:161: UserWarning: PySoundFile failed. Trying audioread instead.\n",
      "  warnings.warn('PySoundFile failed. Trying audioread instead.')\n",
      "/home/laferrari/anaconda3/envs/tensorflow_cpu/lib/python3.6/site-packages/librosa/core/audio.py:161: UserWarning: PySoundFile failed. Trying audioread instead.\n",
      "  warnings.warn('PySoundFile failed. Trying audioread instead.')\n",
      "/home/laferrari/anaconda3/envs/tensorflow_cpu/lib/python3.6/site-packages/librosa/core/audio.py:161: UserWarning: PySoundFile failed. Trying audioread instead.\n",
      "  warnings.warn('PySoundFile failed. Trying audioread instead.')\n",
      "/home/laferrari/anaconda3/envs/tensorflow_cpu/lib/python3.6/site-packages/librosa/core/audio.py:161: UserWarning: PySoundFile failed. Trying audioread instead.\n",
      "  warnings.warn('PySoundFile failed. Trying audioread instead.')\n",
      "/home/laferrari/anaconda3/envs/tensorflow_cpu/lib/python3.6/site-packages/librosa/core/audio.py:161: UserWarning: PySoundFile failed. Trying audioread instead.\n",
      "  warnings.warn('PySoundFile failed. Trying audioread instead.')\n",
      "/home/laferrari/anaconda3/envs/tensorflow_cpu/lib/python3.6/site-packages/librosa/core/audio.py:161: UserWarning: PySoundFile failed. Trying audioread instead.\n",
      "  warnings.warn('PySoundFile failed. Trying audioread instead.')\n",
      "/home/laferrari/anaconda3/envs/tensorflow_cpu/lib/python3.6/site-packages/librosa/core/audio.py:161: UserWarning: PySoundFile failed. Trying audioread instead.\n",
      "  warnings.warn('PySoundFile failed. Trying audioread instead.')\n",
      "/home/laferrari/anaconda3/envs/tensorflow_cpu/lib/python3.6/site-packages/librosa/core/audio.py:161: UserWarning: PySoundFile failed. Trying audioread instead.\n",
      "  warnings.warn('PySoundFile failed. Trying audioread instead.')\n",
      "/home/laferrari/anaconda3/envs/tensorflow_cpu/lib/python3.6/site-packages/librosa/core/audio.py:161: UserWarning: PySoundFile failed. Trying audioread instead.\n",
      "  warnings.warn('PySoundFile failed. Trying audioread instead.')\n",
      "/home/laferrari/anaconda3/envs/tensorflow_cpu/lib/python3.6/site-packages/librosa/core/audio.py:161: UserWarning: PySoundFile failed. Trying audioread instead.\n",
      "  warnings.warn('PySoundFile failed. Trying audioread instead.')\n",
      "/home/laferrari/anaconda3/envs/tensorflow_cpu/lib/python3.6/site-packages/librosa/core/audio.py:161: UserWarning: PySoundFile failed. Trying audioread instead.\n",
      "  warnings.warn('PySoundFile failed. Trying audioread instead.')\n",
      "/home/laferrari/anaconda3/envs/tensorflow_cpu/lib/python3.6/site-packages/librosa/core/audio.py:161: UserWarning: PySoundFile failed. Trying audioread instead.\n",
      "  warnings.warn('PySoundFile failed. Trying audioread instead.')\n",
      "/home/laferrari/anaconda3/envs/tensorflow_cpu/lib/python3.6/site-packages/librosa/core/audio.py:161: UserWarning: PySoundFile failed. Trying audioread instead.\n",
      "  warnings.warn('PySoundFile failed. Trying audioread instead.')\n",
      "/home/laferrari/anaconda3/envs/tensorflow_cpu/lib/python3.6/site-packages/librosa/core/audio.py:161: UserWarning: PySoundFile failed. Trying audioread instead.\n",
      "  warnings.warn('PySoundFile failed. Trying audioread instead.')\n",
      "/home/laferrari/anaconda3/envs/tensorflow_cpu/lib/python3.6/site-packages/librosa/core/audio.py:161: UserWarning: PySoundFile failed. Trying audioread instead.\n",
      "  warnings.warn('PySoundFile failed. Trying audioread instead.')\n",
      "/home/laferrari/anaconda3/envs/tensorflow_cpu/lib/python3.6/site-packages/librosa/core/audio.py:161: UserWarning: PySoundFile failed. Trying audioread instead.\n",
      "  warnings.warn('PySoundFile failed. Trying audioread instead.')\n",
      "/home/laferrari/anaconda3/envs/tensorflow_cpu/lib/python3.6/site-packages/librosa/core/audio.py:161: UserWarning: PySoundFile failed. Trying audioread instead.\n",
      "  warnings.warn('PySoundFile failed. Trying audioread instead.')\n",
      "/home/laferrari/anaconda3/envs/tensorflow_cpu/lib/python3.6/site-packages/librosa/core/audio.py:161: UserWarning: PySoundFile failed. Trying audioread instead.\n",
      "  warnings.warn('PySoundFile failed. Trying audioread instead.')\n",
      "/home/laferrari/anaconda3/envs/tensorflow_cpu/lib/python3.6/site-packages/librosa/core/audio.py:161: UserWarning: PySoundFile failed. Trying audioread instead.\n",
      "  warnings.warn('PySoundFile failed. Trying audioread instead.')\n",
      "/home/laferrari/anaconda3/envs/tensorflow_cpu/lib/python3.6/site-packages/librosa/core/audio.py:161: UserWarning: PySoundFile failed. Trying audioread instead.\n",
      "  warnings.warn('PySoundFile failed. Trying audioread instead.')\n",
      "/home/laferrari/anaconda3/envs/tensorflow_cpu/lib/python3.6/site-packages/librosa/core/audio.py:161: UserWarning: PySoundFile failed. Trying audioread instead.\n",
      "  warnings.warn('PySoundFile failed. Trying audioread instead.')\n",
      "/home/laferrari/anaconda3/envs/tensorflow_cpu/lib/python3.6/site-packages/librosa/core/audio.py:161: UserWarning: PySoundFile failed. Trying audioread instead.\n",
      "  warnings.warn('PySoundFile failed. Trying audioread instead.')\n",
      "/home/laferrari/anaconda3/envs/tensorflow_cpu/lib/python3.6/site-packages/librosa/core/audio.py:161: UserWarning: PySoundFile failed. Trying audioread instead.\n",
      "  warnings.warn('PySoundFile failed. Trying audioread instead.')\n",
      "/home/laferrari/anaconda3/envs/tensorflow_cpu/lib/python3.6/site-packages/librosa/core/audio.py:161: UserWarning: PySoundFile failed. Trying audioread instead.\n",
      "  warnings.warn('PySoundFile failed. Trying audioread instead.')\n",
      "/home/laferrari/anaconda3/envs/tensorflow_cpu/lib/python3.6/site-packages/librosa/core/audio.py:161: UserWarning: PySoundFile failed. Trying audioread instead.\n",
      "  warnings.warn('PySoundFile failed. Trying audioread instead.')\n",
      "/home/laferrari/anaconda3/envs/tensorflow_cpu/lib/python3.6/site-packages/librosa/core/audio.py:161: UserWarning: PySoundFile failed. Trying audioread instead.\n",
      "  warnings.warn('PySoundFile failed. Trying audioread instead.')\n",
      "/home/laferrari/anaconda3/envs/tensorflow_cpu/lib/python3.6/site-packages/librosa/core/audio.py:161: UserWarning: PySoundFile failed. Trying audioread instead.\n",
      "  warnings.warn('PySoundFile failed. Trying audioread instead.')\n",
      "/home/laferrari/anaconda3/envs/tensorflow_cpu/lib/python3.6/site-packages/librosa/core/audio.py:161: UserWarning: PySoundFile failed. Trying audioread instead.\n",
      "  warnings.warn('PySoundFile failed. Trying audioread instead.')\n",
      "/home/laferrari/anaconda3/envs/tensorflow_cpu/lib/python3.6/site-packages/librosa/core/audio.py:161: UserWarning: PySoundFile failed. Trying audioread instead.\n",
      "  warnings.warn('PySoundFile failed. Trying audioread instead.')\n"
     ]
    }
   ],
   "source": [
    "dirName1, dirName2 = valence_directory+\"Positive/\", valence_directory+\"Negative/\"\n",
    "dirContents = os.listdir(dirName1)\n",
    "temp_y_label = \"V\"\n",
    "for music in dirContents:\n",
    "    currSongFeatures = getFeatures(dirName1+music)\n",
    "    valence_y_labels.append(temp_y_label+\"P\")\n",
    "    valence_feature_set.append(currSongFeatures)\n",
    "dirContents = os.listdir(dirName2)    \n",
    "for music in dirContents:\n",
    "    currSongFeatures = getFeatures(dirName2+music)\n",
    "    valence_y_labels.append(temp_y_label+\"N\")\n",
    "    valence_feature_set.append(currSongFeatures)"
   ]
  },
  {
   "cell_type": "code",
   "execution_count": 15,
   "metadata": {},
   "outputs": [
    {
     "name": "stdout",
     "output_type": "stream",
     "text": [
      "{'VP', 'VN'}\n"
     ]
    }
   ],
   "source": [
    "print(set(valence_y_labels))"
   ]
  },
  {
   "cell_type": "code",
   "execution_count": 16,
   "metadata": {},
   "outputs": [
    {
     "data": {
      "text/plain": [
       "(29, 24)"
      ]
     },
     "execution_count": 16,
     "metadata": {},
     "output_type": "execute_result"
    }
   ],
   "source": [
    "valence_feature_set = np.array(valence_feature_set)\n",
    "valence_feature_set.shape"
   ]
  },
  {
   "cell_type": "code",
   "execution_count": 17,
   "metadata": {},
   "outputs": [
    {
     "data": {
      "text/plain": [
       "(29,)"
      ]
     },
     "execution_count": 17,
     "metadata": {},
     "output_type": "execute_result"
    }
   ],
   "source": [
    "valence_y = np.array(valence_y_labels)\n",
    "valence_y.shape"
   ]
  },
  {
   "cell_type": "markdown",
   "metadata": {},
   "source": [
    "Check distribution of labelled dataset"
   ]
  },
  {
   "cell_type": "code",
   "execution_count": 18,
   "metadata": {},
   "outputs": [
    {
     "data": {
      "text/plain": [
       "(array([18.,  0.,  0.,  0.,  0.,  0.,  0.,  0.,  0., 11.]),\n",
       " array([0. , 0.1, 0.2, 0.3, 0.4, 0.5, 0.6, 0.7, 0.8, 0.9, 1. ]),\n",
       " <a list of 10 Patch objects>)"
      ]
     },
     "execution_count": 18,
     "metadata": {},
     "output_type": "execute_result"
    },
    {
     "data": {
      "image/png": "[encoded data removed]",
      "text/plain": [
       "<Figure size 432x288 with 1 Axes>"
      ]
     },
     "metadata": {
      "needs_background": "light"
     },
     "output_type": "display_data"
    }
   ],
   "source": [
    "plt.hist(valence_y)"
   ]
  },
  {
   "cell_type": "code",
   "execution_count": 19,
   "metadata": {},
   "outputs": [],
   "source": [
    "valence_x_train, valence_x_test, valence_y_train, valence_y_test = train_test_split(valence_feature_set, valence_y, test_size=0.2, random_state=1231)"
   ]
  },
  {
   "cell_type": "code",
   "execution_count": 20,
   "metadata": {},
   "outputs": [
    {
     "data": {
      "image/png": "[encoded data removed]",
      "text/plain": [
       "<Figure size 432x288 with 1 Axes>"
      ]
     },
     "metadata": {
      "needs_background": "light"
     },
     "output_type": "display_data"
    }
   ],
   "source": [
    "plt.hist(valence_y_train, color='b', alpha=0.4, label='training_label_distribution')\n",
    "plt.hist(valence_y_test, color='r', label='testing_label_distribution')\n",
    "plt.legend()\n",
    "plt.show()"
   ]
  },
  {
   "cell_type": "markdown",
   "metadata": {},
   "source": [
    "## Tension-data-collection"
   ]
  },
  {
   "cell_type": "code",
   "execution_count": 21,
   "metadata": {},
   "outputs": [],
   "source": [
    "tension_feature_set, tension_y_labels = [], []\n",
    "tension_directory = \"../emotion_dataset/Tension/\""
   ]
  },
  {
   "cell_type": "code",
   "execution_count": 22,
   "metadata": {},
   "outputs": [
    {
     "name": "stderr",
     "output_type": "stream",
     "text": [
      "/home/laferrari/anaconda3/envs/tensorflow_cpu/lib/python3.6/site-packages/librosa/core/audio.py:161: UserWarning: PySoundFile failed. Trying audioread instead.\n",
      "  warnings.warn('PySoundFile failed. Trying audioread instead.')\n",
      "/home/laferrari/anaconda3/envs/tensorflow_cpu/lib/python3.6/site-packages/librosa/core/audio.py:161: UserWarning: PySoundFile failed. Trying audioread instead.\n",
      "  warnings.warn('PySoundFile failed. Trying audioread instead.')\n",
      "/home/laferrari/anaconda3/envs/tensorflow_cpu/lib/python3.6/site-packages/librosa/core/audio.py:161: UserWarning: PySoundFile failed. Trying audioread instead.\n",
      "  warnings.warn('PySoundFile failed. Trying audioread instead.')\n",
      "/home/laferrari/anaconda3/envs/tensorflow_cpu/lib/python3.6/site-packages/librosa/core/audio.py:161: UserWarning: PySoundFile failed. Trying audioread instead.\n",
      "  warnings.warn('PySoundFile failed. Trying audioread instead.')\n",
      "/home/laferrari/anaconda3/envs/tensorflow_cpu/lib/python3.6/site-packages/librosa/core/audio.py:161: UserWarning: PySoundFile failed. Trying audioread instead.\n",
      "  warnings.warn('PySoundFile failed. Trying audioread instead.')\n",
      "/home/laferrari/anaconda3/envs/tensorflow_cpu/lib/python3.6/site-packages/librosa/core/audio.py:161: UserWarning: PySoundFile failed. Trying audioread instead.\n",
      "  warnings.warn('PySoundFile failed. Trying audioread instead.')\n",
      "/home/laferrari/anaconda3/envs/tensorflow_cpu/lib/python3.6/site-packages/librosa/core/audio.py:161: UserWarning: PySoundFile failed. Trying audioread instead.\n",
      "  warnings.warn('PySoundFile failed. Trying audioread instead.')\n",
      "/home/laferrari/anaconda3/envs/tensorflow_cpu/lib/python3.6/site-packages/librosa/core/audio.py:161: UserWarning: PySoundFile failed. Trying audioread instead.\n",
      "  warnings.warn('PySoundFile failed. Trying audioread instead.')\n",
      "/home/laferrari/anaconda3/envs/tensorflow_cpu/lib/python3.6/site-packages/librosa/core/audio.py:161: UserWarning: PySoundFile failed. Trying audioread instead.\n",
      "  warnings.warn('PySoundFile failed. Trying audioread instead.')\n",
      "/home/laferrari/anaconda3/envs/tensorflow_cpu/lib/python3.6/site-packages/librosa/core/audio.py:161: UserWarning: PySoundFile failed. Trying audioread instead.\n",
      "  warnings.warn('PySoundFile failed. Trying audioread instead.')\n",
      "/home/laferrari/anaconda3/envs/tensorflow_cpu/lib/python3.6/site-packages/librosa/core/audio.py:161: UserWarning: PySoundFile failed. Trying audioread instead.\n",
      "  warnings.warn('PySoundFile failed. Trying audioread instead.')\n",
      "/home/laferrari/anaconda3/envs/tensorflow_cpu/lib/python3.6/site-packages/librosa/core/audio.py:161: UserWarning: PySoundFile failed. Trying audioread instead.\n",
      "  warnings.warn('PySoundFile failed. Trying audioread instead.')\n",
      "/home/laferrari/anaconda3/envs/tensorflow_cpu/lib/python3.6/site-packages/librosa/core/audio.py:161: UserWarning: PySoundFile failed. Trying audioread instead.\n",
      "  warnings.warn('PySoundFile failed. Trying audioread instead.')\n",
      "/home/laferrari/anaconda3/envs/tensorflow_cpu/lib/python3.6/site-packages/librosa/core/audio.py:161: UserWarning: PySoundFile failed. Trying audioread instead.\n",
      "  warnings.warn('PySoundFile failed. Trying audioread instead.')\n",
      "/home/laferrari/anaconda3/envs/tensorflow_cpu/lib/python3.6/site-packages/librosa/core/audio.py:161: UserWarning: PySoundFile failed. Trying audioread instead.\n",
      "  warnings.warn('PySoundFile failed. Trying audioread instead.')\n",
      "/home/laferrari/anaconda3/envs/tensorflow_cpu/lib/python3.6/site-packages/librosa/core/audio.py:161: UserWarning: PySoundFile failed. Trying audioread instead.\n",
      "  warnings.warn('PySoundFile failed. Trying audioread instead.')\n",
      "/home/laferrari/anaconda3/envs/tensorflow_cpu/lib/python3.6/site-packages/librosa/core/audio.py:161: UserWarning: PySoundFile failed. Trying audioread instead.\n",
      "  warnings.warn('PySoundFile failed. Trying audioread instead.')\n",
      "/home/laferrari/anaconda3/envs/tensorflow_cpu/lib/python3.6/site-packages/librosa/core/audio.py:161: UserWarning: PySoundFile failed. Trying audioread instead.\n",
      "  warnings.warn('PySoundFile failed. Trying audioread instead.')\n",
      "/home/laferrari/anaconda3/envs/tensorflow_cpu/lib/python3.6/site-packages/librosa/core/audio.py:161: UserWarning: PySoundFile failed. Trying audioread instead.\n",
      "  warnings.warn('PySoundFile failed. Trying audioread instead.')\n",
      "/home/laferrari/anaconda3/envs/tensorflow_cpu/lib/python3.6/site-packages/librosa/core/audio.py:161: UserWarning: PySoundFile failed. Trying audioread instead.\n",
      "  warnings.warn('PySoundFile failed. Trying audioread instead.')\n",
      "/home/laferrari/anaconda3/envs/tensorflow_cpu/lib/python3.6/site-packages/librosa/core/audio.py:161: UserWarning: PySoundFile failed. Trying audioread instead.\n",
      "  warnings.warn('PySoundFile failed. Trying audioread instead.')\n",
      "/home/laferrari/anaconda3/envs/tensorflow_cpu/lib/python3.6/site-packages/librosa/core/audio.py:161: UserWarning: PySoundFile failed. Trying audioread instead.\n",
      "  warnings.warn('PySoundFile failed. Trying audioread instead.')\n",
      "/home/laferrari/anaconda3/envs/tensorflow_cpu/lib/python3.6/site-packages/librosa/core/audio.py:161: UserWarning: PySoundFile failed. Trying audioread instead.\n",
      "  warnings.warn('PySoundFile failed. Trying audioread instead.')\n",
      "/home/laferrari/anaconda3/envs/tensorflow_cpu/lib/python3.6/site-packages/librosa/core/audio.py:161: UserWarning: PySoundFile failed. Trying audioread instead.\n",
      "  warnings.warn('PySoundFile failed. Trying audioread instead.')\n",
      "/home/laferrari/anaconda3/envs/tensorflow_cpu/lib/python3.6/site-packages/librosa/core/audio.py:161: UserWarning: PySoundFile failed. Trying audioread instead.\n",
      "  warnings.warn('PySoundFile failed. Trying audioread instead.')\n",
      "/home/laferrari/anaconda3/envs/tensorflow_cpu/lib/python3.6/site-packages/librosa/core/audio.py:161: UserWarning: PySoundFile failed. Trying audioread instead.\n",
      "  warnings.warn('PySoundFile failed. Trying audioread instead.')\n",
      "/home/laferrari/anaconda3/envs/tensorflow_cpu/lib/python3.6/site-packages/librosa/core/audio.py:161: UserWarning: PySoundFile failed. Trying audioread instead.\n",
      "  warnings.warn('PySoundFile failed. Trying audioread instead.')\n",
      "/home/laferrari/anaconda3/envs/tensorflow_cpu/lib/python3.6/site-packages/librosa/core/audio.py:161: UserWarning: PySoundFile failed. Trying audioread instead.\n",
      "  warnings.warn('PySoundFile failed. Trying audioread instead.')\n",
      "/home/laferrari/anaconda3/envs/tensorflow_cpu/lib/python3.6/site-packages/librosa/core/audio.py:161: UserWarning: PySoundFile failed. Trying audioread instead.\n",
      "  warnings.warn('PySoundFile failed. Trying audioread instead.')\n",
      "/home/laferrari/anaconda3/envs/tensorflow_cpu/lib/python3.6/site-packages/librosa/core/audio.py:161: UserWarning: PySoundFile failed. Trying audioread instead.\n",
      "  warnings.warn('PySoundFile failed. Trying audioread instead.')\n",
      "/home/laferrari/anaconda3/envs/tensorflow_cpu/lib/python3.6/site-packages/librosa/core/audio.py:161: UserWarning: PySoundFile failed. Trying audioread instead.\n",
      "  warnings.warn('PySoundFile failed. Trying audioread instead.')\n",
      "/home/laferrari/anaconda3/envs/tensorflow_cpu/lib/python3.6/site-packages/librosa/core/audio.py:161: UserWarning: PySoundFile failed. Trying audioread instead.\n",
      "  warnings.warn('PySoundFile failed. Trying audioread instead.')\n",
      "/home/laferrari/anaconda3/envs/tensorflow_cpu/lib/python3.6/site-packages/librosa/core/audio.py:161: UserWarning: PySoundFile failed. Trying audioread instead.\n",
      "  warnings.warn('PySoundFile failed. Trying audioread instead.')\n",
      "/home/laferrari/anaconda3/envs/tensorflow_cpu/lib/python3.6/site-packages/librosa/core/audio.py:161: UserWarning: PySoundFile failed. Trying audioread instead.\n",
      "  warnings.warn('PySoundFile failed. Trying audioread instead.')\n",
      "/home/laferrari/anaconda3/envs/tensorflow_cpu/lib/python3.6/site-packages/librosa/core/audio.py:161: UserWarning: PySoundFile failed. Trying audioread instead.\n",
      "  warnings.warn('PySoundFile failed. Trying audioread instead.')\n",
      "/home/laferrari/anaconda3/envs/tensorflow_cpu/lib/python3.6/site-packages/librosa/core/audio.py:161: UserWarning: PySoundFile failed. Trying audioread instead.\n",
      "  warnings.warn('PySoundFile failed. Trying audioread instead.')\n",
      "/home/laferrari/anaconda3/envs/tensorflow_cpu/lib/python3.6/site-packages/librosa/core/audio.py:161: UserWarning: PySoundFile failed. Trying audioread instead.\n",
      "  warnings.warn('PySoundFile failed. Trying audioread instead.')\n"
     ]
    },
    {
     "name": "stderr",
     "output_type": "stream",
     "text": [
      "/home/laferrari/anaconda3/envs/tensorflow_cpu/lib/python3.6/site-packages/librosa/core/audio.py:161: UserWarning: PySoundFile failed. Trying audioread instead.\n",
      "  warnings.warn('PySoundFile failed. Trying audioread instead.')\n",
      "/home/laferrari/anaconda3/envs/tensorflow_cpu/lib/python3.6/site-packages/librosa/core/audio.py:161: UserWarning: PySoundFile failed. Trying audioread instead.\n",
      "  warnings.warn('PySoundFile failed. Trying audioread instead.')\n",
      "/home/laferrari/anaconda3/envs/tensorflow_cpu/lib/python3.6/site-packages/librosa/core/audio.py:161: UserWarning: PySoundFile failed. Trying audioread instead.\n",
      "  warnings.warn('PySoundFile failed. Trying audioread instead.')\n",
      "/home/laferrari/anaconda3/envs/tensorflow_cpu/lib/python3.6/site-packages/librosa/core/audio.py:161: UserWarning: PySoundFile failed. Trying audioread instead.\n",
      "  warnings.warn('PySoundFile failed. Trying audioread instead.')\n",
      "/home/laferrari/anaconda3/envs/tensorflow_cpu/lib/python3.6/site-packages/librosa/core/audio.py:161: UserWarning: PySoundFile failed. Trying audioread instead.\n",
      "  warnings.warn('PySoundFile failed. Trying audioread instead.')\n",
      "/home/laferrari/anaconda3/envs/tensorflow_cpu/lib/python3.6/site-packages/librosa/core/audio.py:161: UserWarning: PySoundFile failed. Trying audioread instead.\n",
      "  warnings.warn('PySoundFile failed. Trying audioread instead.')\n",
      "/home/laferrari/anaconda3/envs/tensorflow_cpu/lib/python3.6/site-packages/librosa/core/audio.py:161: UserWarning: PySoundFile failed. Trying audioread instead.\n",
      "  warnings.warn('PySoundFile failed. Trying audioread instead.')\n",
      "/home/laferrari/anaconda3/envs/tensorflow_cpu/lib/python3.6/site-packages/librosa/core/audio.py:161: UserWarning: PySoundFile failed. Trying audioread instead.\n",
      "  warnings.warn('PySoundFile failed. Trying audioread instead.')\n",
      "/home/laferrari/anaconda3/envs/tensorflow_cpu/lib/python3.6/site-packages/librosa/core/audio.py:161: UserWarning: PySoundFile failed. Trying audioread instead.\n",
      "  warnings.warn('PySoundFile failed. Trying audioread instead.')\n",
      "/home/laferrari/anaconda3/envs/tensorflow_cpu/lib/python3.6/site-packages/librosa/core/audio.py:161: UserWarning: PySoundFile failed. Trying audioread instead.\n",
      "  warnings.warn('PySoundFile failed. Trying audioread instead.')\n",
      "/home/laferrari/anaconda3/envs/tensorflow_cpu/lib/python3.6/site-packages/librosa/core/audio.py:161: UserWarning: PySoundFile failed. Trying audioread instead.\n",
      "  warnings.warn('PySoundFile failed. Trying audioread instead.')\n",
      "/home/laferrari/anaconda3/envs/tensorflow_cpu/lib/python3.6/site-packages/librosa/core/audio.py:161: UserWarning: PySoundFile failed. Trying audioread instead.\n",
      "  warnings.warn('PySoundFile failed. Trying audioread instead.')\n",
      "/home/laferrari/anaconda3/envs/tensorflow_cpu/lib/python3.6/site-packages/librosa/core/audio.py:161: UserWarning: PySoundFile failed. Trying audioread instead.\n",
      "  warnings.warn('PySoundFile failed. Trying audioread instead.')\n",
      "/home/laferrari/anaconda3/envs/tensorflow_cpu/lib/python3.6/site-packages/librosa/core/audio.py:161: UserWarning: PySoundFile failed. Trying audioread instead.\n",
      "  warnings.warn('PySoundFile failed. Trying audioread instead.')\n",
      "/home/laferrari/anaconda3/envs/tensorflow_cpu/lib/python3.6/site-packages/librosa/core/audio.py:161: UserWarning: PySoundFile failed. Trying audioread instead.\n",
      "  warnings.warn('PySoundFile failed. Trying audioread instead.')\n",
      "/home/laferrari/anaconda3/envs/tensorflow_cpu/lib/python3.6/site-packages/librosa/core/audio.py:161: UserWarning: PySoundFile failed. Trying audioread instead.\n",
      "  warnings.warn('PySoundFile failed. Trying audioread instead.')\n",
      "/home/laferrari/anaconda3/envs/tensorflow_cpu/lib/python3.6/site-packages/librosa/core/audio.py:161: UserWarning: PySoundFile failed. Trying audioread instead.\n",
      "  warnings.warn('PySoundFile failed. Trying audioread instead.')\n",
      "/home/laferrari/anaconda3/envs/tensorflow_cpu/lib/python3.6/site-packages/librosa/core/audio.py:161: UserWarning: PySoundFile failed. Trying audioread instead.\n",
      "  warnings.warn('PySoundFile failed. Trying audioread instead.')\n",
      "/home/laferrari/anaconda3/envs/tensorflow_cpu/lib/python3.6/site-packages/librosa/core/audio.py:161: UserWarning: PySoundFile failed. Trying audioread instead.\n",
      "  warnings.warn('PySoundFile failed. Trying audioread instead.')\n",
      "/home/laferrari/anaconda3/envs/tensorflow_cpu/lib/python3.6/site-packages/librosa/core/audio.py:161: UserWarning: PySoundFile failed. Trying audioread instead.\n",
      "  warnings.warn('PySoundFile failed. Trying audioread instead.')\n",
      "/home/laferrari/anaconda3/envs/tensorflow_cpu/lib/python3.6/site-packages/librosa/core/audio.py:161: UserWarning: PySoundFile failed. Trying audioread instead.\n",
      "  warnings.warn('PySoundFile failed. Trying audioread instead.')\n",
      "/home/laferrari/anaconda3/envs/tensorflow_cpu/lib/python3.6/site-packages/librosa/core/audio.py:161: UserWarning: PySoundFile failed. Trying audioread instead.\n",
      "  warnings.warn('PySoundFile failed. Trying audioread instead.')\n",
      "/home/laferrari/anaconda3/envs/tensorflow_cpu/lib/python3.6/site-packages/librosa/core/audio.py:161: UserWarning: PySoundFile failed. Trying audioread instead.\n",
      "  warnings.warn('PySoundFile failed. Trying audioread instead.')\n",
      "/home/laferrari/anaconda3/envs/tensorflow_cpu/lib/python3.6/site-packages/librosa/core/audio.py:161: UserWarning: PySoundFile failed. Trying audioread instead.\n",
      "  warnings.warn('PySoundFile failed. Trying audioread instead.')\n",
      "/home/laferrari/anaconda3/envs/tensorflow_cpu/lib/python3.6/site-packages/librosa/core/audio.py:161: UserWarning: PySoundFile failed. Trying audioread instead.\n",
      "  warnings.warn('PySoundFile failed. Trying audioread instead.')\n",
      "/home/laferrari/anaconda3/envs/tensorflow_cpu/lib/python3.6/site-packages/librosa/core/audio.py:161: UserWarning: PySoundFile failed. Trying audioread instead.\n",
      "  warnings.warn('PySoundFile failed. Trying audioread instead.')\n",
      "/home/laferrari/anaconda3/envs/tensorflow_cpu/lib/python3.6/site-packages/librosa/core/audio.py:161: UserWarning: PySoundFile failed. Trying audioread instead.\n",
      "  warnings.warn('PySoundFile failed. Trying audioread instead.')\n",
      "/home/laferrari/anaconda3/envs/tensorflow_cpu/lib/python3.6/site-packages/librosa/core/audio.py:161: UserWarning: PySoundFile failed. Trying audioread instead.\n",
      "  warnings.warn('PySoundFile failed. Trying audioread instead.')\n",
      "/home/laferrari/anaconda3/envs/tensorflow_cpu/lib/python3.6/site-packages/librosa/core/audio.py:161: UserWarning: PySoundFile failed. Trying audioread instead.\n",
      "  warnings.warn('PySoundFile failed. Trying audioread instead.')\n",
      "/home/laferrari/anaconda3/envs/tensorflow_cpu/lib/python3.6/site-packages/librosa/core/audio.py:161: UserWarning: PySoundFile failed. Trying audioread instead.\n",
      "  warnings.warn('PySoundFile failed. Trying audioread instead.')\n",
      "/home/laferrari/anaconda3/envs/tensorflow_cpu/lib/python3.6/site-packages/librosa/core/audio.py:161: UserWarning: PySoundFile failed. Trying audioread instead.\n",
      "  warnings.warn('PySoundFile failed. Trying audioread instead.')\n",
      "/home/laferrari/anaconda3/envs/tensorflow_cpu/lib/python3.6/site-packages/librosa/core/audio.py:161: UserWarning: PySoundFile failed. Trying audioread instead.\n",
      "  warnings.warn('PySoundFile failed. Trying audioread instead.')\n",
      "/home/laferrari/anaconda3/envs/tensorflow_cpu/lib/python3.6/site-packages/librosa/core/audio.py:161: UserWarning: PySoundFile failed. Trying audioread instead.\n",
      "  warnings.warn('PySoundFile failed. Trying audioread instead.')\n",
      "/home/laferrari/anaconda3/envs/tensorflow_cpu/lib/python3.6/site-packages/librosa/core/audio.py:161: UserWarning: PySoundFile failed. Trying audioread instead.\n",
      "  warnings.warn('PySoundFile failed. Trying audioread instead.')\n",
      "/home/laferrari/anaconda3/envs/tensorflow_cpu/lib/python3.6/site-packages/librosa/core/audio.py:161: UserWarning: PySoundFile failed. Trying audioread instead.\n",
      "  warnings.warn('PySoundFile failed. Trying audioread instead.')\n",
      "/home/laferrari/anaconda3/envs/tensorflow_cpu/lib/python3.6/site-packages/librosa/core/audio.py:161: UserWarning: PySoundFile failed. Trying audioread instead.\n",
      "  warnings.warn('PySoundFile failed. Trying audioread instead.')\n",
      "/home/laferrari/anaconda3/envs/tensorflow_cpu/lib/python3.6/site-packages/librosa/core/audio.py:161: UserWarning: PySoundFile failed. Trying audioread instead.\n",
      "  warnings.warn('PySoundFile failed. Trying audioread instead.')\n"
     ]
    },
    {
     "name": "stderr",
     "output_type": "stream",
     "text": [
      "/home/laferrari/anaconda3/envs/tensorflow_cpu/lib/python3.6/site-packages/librosa/core/audio.py:161: UserWarning: PySoundFile failed. Trying audioread instead.\n",
      "  warnings.warn('PySoundFile failed. Trying audioread instead.')\n",
      "/home/laferrari/anaconda3/envs/tensorflow_cpu/lib/python3.6/site-packages/librosa/core/audio.py:161: UserWarning: PySoundFile failed. Trying audioread instead.\n",
      "  warnings.warn('PySoundFile failed. Trying audioread instead.')\n",
      "/home/laferrari/anaconda3/envs/tensorflow_cpu/lib/python3.6/site-packages/librosa/core/audio.py:161: UserWarning: PySoundFile failed. Trying audioread instead.\n",
      "  warnings.warn('PySoundFile failed. Trying audioread instead.')\n",
      "/home/laferrari/anaconda3/envs/tensorflow_cpu/lib/python3.6/site-packages/librosa/core/audio.py:161: UserWarning: PySoundFile failed. Trying audioread instead.\n",
      "  warnings.warn('PySoundFile failed. Trying audioread instead.')\n",
      "/home/laferrari/anaconda3/envs/tensorflow_cpu/lib/python3.6/site-packages/librosa/core/audio.py:161: UserWarning: PySoundFile failed. Trying audioread instead.\n",
      "  warnings.warn('PySoundFile failed. Trying audioread instead.')\n",
      "/home/laferrari/anaconda3/envs/tensorflow_cpu/lib/python3.6/site-packages/librosa/core/audio.py:161: UserWarning: PySoundFile failed. Trying audioread instead.\n",
      "  warnings.warn('PySoundFile failed. Trying audioread instead.')\n",
      "/home/laferrari/anaconda3/envs/tensorflow_cpu/lib/python3.6/site-packages/librosa/core/audio.py:161: UserWarning: PySoundFile failed. Trying audioread instead.\n",
      "  warnings.warn('PySoundFile failed. Trying audioread instead.')\n",
      "/home/laferrari/anaconda3/envs/tensorflow_cpu/lib/python3.6/site-packages/librosa/core/audio.py:161: UserWarning: PySoundFile failed. Trying audioread instead.\n",
      "  warnings.warn('PySoundFile failed. Trying audioread instead.')\n",
      "/home/laferrari/anaconda3/envs/tensorflow_cpu/lib/python3.6/site-packages/librosa/core/audio.py:161: UserWarning: PySoundFile failed. Trying audioread instead.\n",
      "  warnings.warn('PySoundFile failed. Trying audioread instead.')\n",
      "/home/laferrari/anaconda3/envs/tensorflow_cpu/lib/python3.6/site-packages/librosa/core/audio.py:161: UserWarning: PySoundFile failed. Trying audioread instead.\n",
      "  warnings.warn('PySoundFile failed. Trying audioread instead.')\n",
      "/home/laferrari/anaconda3/envs/tensorflow_cpu/lib/python3.6/site-packages/librosa/core/audio.py:161: UserWarning: PySoundFile failed. Trying audioread instead.\n",
      "  warnings.warn('PySoundFile failed. Trying audioread instead.')\n",
      "/home/laferrari/anaconda3/envs/tensorflow_cpu/lib/python3.6/site-packages/librosa/core/audio.py:161: UserWarning: PySoundFile failed. Trying audioread instead.\n",
      "  warnings.warn('PySoundFile failed. Trying audioread instead.')\n",
      "/home/laferrari/anaconda3/envs/tensorflow_cpu/lib/python3.6/site-packages/librosa/core/audio.py:161: UserWarning: PySoundFile failed. Trying audioread instead.\n",
      "  warnings.warn('PySoundFile failed. Trying audioread instead.')\n",
      "/home/laferrari/anaconda3/envs/tensorflow_cpu/lib/python3.6/site-packages/librosa/core/audio.py:161: UserWarning: PySoundFile failed. Trying audioread instead.\n",
      "  warnings.warn('PySoundFile failed. Trying audioread instead.')\n",
      "/home/laferrari/anaconda3/envs/tensorflow_cpu/lib/python3.6/site-packages/librosa/core/audio.py:161: UserWarning: PySoundFile failed. Trying audioread instead.\n",
      "  warnings.warn('PySoundFile failed. Trying audioread instead.')\n",
      "/home/laferrari/anaconda3/envs/tensorflow_cpu/lib/python3.6/site-packages/librosa/core/audio.py:161: UserWarning: PySoundFile failed. Trying audioread instead.\n",
      "  warnings.warn('PySoundFile failed. Trying audioread instead.')\n",
      "/home/laferrari/anaconda3/envs/tensorflow_cpu/lib/python3.6/site-packages/librosa/core/audio.py:161: UserWarning: PySoundFile failed. Trying audioread instead.\n",
      "  warnings.warn('PySoundFile failed. Trying audioread instead.')\n",
      "/home/laferrari/anaconda3/envs/tensorflow_cpu/lib/python3.6/site-packages/librosa/core/audio.py:161: UserWarning: PySoundFile failed. Trying audioread instead.\n",
      "  warnings.warn('PySoundFile failed. Trying audioread instead.')\n",
      "/home/laferrari/anaconda3/envs/tensorflow_cpu/lib/python3.6/site-packages/librosa/core/audio.py:161: UserWarning: PySoundFile failed. Trying audioread instead.\n",
      "  warnings.warn('PySoundFile failed. Trying audioread instead.')\n",
      "/home/laferrari/anaconda3/envs/tensorflow_cpu/lib/python3.6/site-packages/librosa/core/audio.py:161: UserWarning: PySoundFile failed. Trying audioread instead.\n",
      "  warnings.warn('PySoundFile failed. Trying audioread instead.')\n",
      "/home/laferrari/anaconda3/envs/tensorflow_cpu/lib/python3.6/site-packages/librosa/core/audio.py:161: UserWarning: PySoundFile failed. Trying audioread instead.\n",
      "  warnings.warn('PySoundFile failed. Trying audioread instead.')\n",
      "/home/laferrari/anaconda3/envs/tensorflow_cpu/lib/python3.6/site-packages/librosa/core/audio.py:161: UserWarning: PySoundFile failed. Trying audioread instead.\n",
      "  warnings.warn('PySoundFile failed. Trying audioread instead.')\n",
      "/home/laferrari/anaconda3/envs/tensorflow_cpu/lib/python3.6/site-packages/librosa/core/audio.py:161: UserWarning: PySoundFile failed. Trying audioread instead.\n",
      "  warnings.warn('PySoundFile failed. Trying audioread instead.')\n",
      "/home/laferrari/anaconda3/envs/tensorflow_cpu/lib/python3.6/site-packages/librosa/core/audio.py:161: UserWarning: PySoundFile failed. Trying audioread instead.\n",
      "  warnings.warn('PySoundFile failed. Trying audioread instead.')\n",
      "/home/laferrari/anaconda3/envs/tensorflow_cpu/lib/python3.6/site-packages/librosa/core/audio.py:161: UserWarning: PySoundFile failed. Trying audioread instead.\n",
      "  warnings.warn('PySoundFile failed. Trying audioread instead.')\n",
      "/home/laferrari/anaconda3/envs/tensorflow_cpu/lib/python3.6/site-packages/librosa/core/audio.py:161: UserWarning: PySoundFile failed. Trying audioread instead.\n",
      "  warnings.warn('PySoundFile failed. Trying audioread instead.')\n",
      "/home/laferrari/anaconda3/envs/tensorflow_cpu/lib/python3.6/site-packages/librosa/core/audio.py:161: UserWarning: PySoundFile failed. Trying audioread instead.\n",
      "  warnings.warn('PySoundFile failed. Trying audioread instead.')\n",
      "/home/laferrari/anaconda3/envs/tensorflow_cpu/lib/python3.6/site-packages/librosa/core/audio.py:161: UserWarning: PySoundFile failed. Trying audioread instead.\n",
      "  warnings.warn('PySoundFile failed. Trying audioread instead.')\n",
      "/home/laferrari/anaconda3/envs/tensorflow_cpu/lib/python3.6/site-packages/librosa/core/audio.py:161: UserWarning: PySoundFile failed. Trying audioread instead.\n",
      "  warnings.warn('PySoundFile failed. Trying audioread instead.')\n",
      "/home/laferrari/anaconda3/envs/tensorflow_cpu/lib/python3.6/site-packages/librosa/core/audio.py:161: UserWarning: PySoundFile failed. Trying audioread instead.\n",
      "  warnings.warn('PySoundFile failed. Trying audioread instead.')\n",
      "/home/laferrari/anaconda3/envs/tensorflow_cpu/lib/python3.6/site-packages/librosa/core/audio.py:161: UserWarning: PySoundFile failed. Trying audioread instead.\n",
      "  warnings.warn('PySoundFile failed. Trying audioread instead.')\n",
      "/home/laferrari/anaconda3/envs/tensorflow_cpu/lib/python3.6/site-packages/librosa/core/audio.py:161: UserWarning: PySoundFile failed. Trying audioread instead.\n",
      "  warnings.warn('PySoundFile failed. Trying audioread instead.')\n",
      "/home/laferrari/anaconda3/envs/tensorflow_cpu/lib/python3.6/site-packages/librosa/core/audio.py:161: UserWarning: PySoundFile failed. Trying audioread instead.\n",
      "  warnings.warn('PySoundFile failed. Trying audioread instead.')\n",
      "/home/laferrari/anaconda3/envs/tensorflow_cpu/lib/python3.6/site-packages/librosa/core/audio.py:161: UserWarning: PySoundFile failed. Trying audioread instead.\n",
      "  warnings.warn('PySoundFile failed. Trying audioread instead.')\n"
     ]
    }
   ],
   "source": [
    "dirContents = os.listdir(tension_directory)\n",
    "for music in dirContents:\n",
    "    temp_y_label = music.split(\"_\")[-1][:2]\n",
    "    if temp_y_label == \"TN\" or temp_y_label == \"TP\":\n",
    "        currSongFeatures = getFeatures(tension_directory+music)\n",
    "        tension_feature_set.append(currSongFeatures)\n",
    "        tension_y_labels.append(temp_y_label)"
   ]
  },
  {
   "cell_type": "code",
   "execution_count": 23,
   "metadata": {},
   "outputs": [
    {
     "name": "stdout",
     "output_type": "stream",
     "text": [
      "(108, 24)\n",
      "(108,)\n"
     ]
    }
   ],
   "source": [
    "tension_feature_set = np.array(tension_feature_set)\n",
    "print(tension_feature_set.shape)\n",
    "tension_y = np.array(tension_y_labels)\n",
    "print(tension_y.shape)"
   ]
  },
  {
   "cell_type": "code",
   "execution_count": 24,
   "metadata": {
    "scrolled": true
   },
   "outputs": [
    {
     "data": {
      "text/plain": [
       "(array([54.,  0.,  0.,  0.,  0.,  0.,  0.,  0.,  0., 54.]),\n",
       " array([0. , 0.1, 0.2, 0.3, 0.4, 0.5, 0.6, 0.7, 0.8, 0.9, 1. ]),\n",
       " <a list of 10 Patch objects>)"
      ]
     },
     "execution_count": 24,
     "metadata": {},
     "output_type": "execute_result"
    },
    {
     "data": {
      "image/png": "[encoded data removed]",
      "text/plain": [
       "<Figure size 432x288 with 1 Axes>"
      ]
     },
     "metadata": {
      "needs_background": "light"
     },
     "output_type": "display_data"
    }
   ],
   "source": [
    "plt.hist(tension_y)"
   ]
  },
  {
   "cell_type": "code",
   "execution_count": 25,
   "metadata": {},
   "outputs": [],
   "source": [
    "tension_x_train, tension_x_test, tension_y_train, tension_y_test = train_test_split(tension_feature_set, tension_y, test_size=0.2, random_state=1231)"
   ]
  },
  {
   "cell_type": "code",
   "execution_count": 26,
   "metadata": {},
   "outputs": [
    {
     "data": {
      "image/png": "[encoded data removed]",
      "text/plain": [
       "<Figure size 432x288 with 1 Axes>"
      ]
     },
     "metadata": {
      "needs_background": "light"
     },
     "output_type": "display_data"
    }
   ],
   "source": [
    "plt.hist(tension_y_train, color='b', alpha=0.4, label='training_label_distribution')\n",
    "plt.hist(tension_y_test, color='r', label='testing_label_distribution')\n",
    "plt.legend()\n",
    "plt.show()"
   ]
  },
  {
   "cell_type": "markdown",
   "metadata": {},
   "source": [
    "# Model-1: Ridge Classifier"
   ]
  },
  {
   "cell_type": "code",
   "execution_count": 27,
   "metadata": {},
   "outputs": [],
   "source": [
    "from sklearn.linear_model import RidgeClassifier"
   ]
  },
  {
   "cell_type": "markdown",
   "metadata": {},
   "source": [
    "## Arousal-Classification using model-1"
   ]
  },
  {
   "cell_type": "markdown",
   "metadata": {},
   "source": [
    "Lets see for the default classifier, what are the accuracies for training and validation"
   ]
  },
  {
   "cell_type": "code",
   "execution_count": 28,
   "metadata": {},
   "outputs": [
    {
     "name": "stdout",
     "output_type": "stream",
     "text": [
      "training accuracy, on the arousal_x_train data is:  1.0\n",
      "testing accuracy, on the arousal_x_test data is:  0.6363636363636364\n"
     ]
    }
   ],
   "source": [
    "ridge_clf_arousal_default = RidgeClassifier()\n",
    "ridge_clf_arousal_default.fit(arousal_x_train,arousal_y_train)\n",
    "print(\"training accuracy, on the arousal_x_train data is: \",ridge_clf_arousal_default.score(arousal_x_train, arousal_y_train))\n",
    "print(\"testing accuracy, on the arousal_x_test data is: \",ridge_clf_arousal_default.score(arousal_x_test, arousal_y_test))"
   ]
  },
  {
   "cell_type": "markdown",
   "metadata": {},
   "source": [
    "Performing **Grid search** to get a knowledge of hyperparameter tuning:\n",
    "1. Alpha value\n",
    "2. normalize\n",
    "3. class_weight"
   ]
  },
  {
   "cell_type": "code",
   "execution_count": 29,
   "metadata": {},
   "outputs": [
    {
     "name": "stdout",
     "output_type": "stream",
     "text": [
      "Best: 0.837398 using {'alpha': 0.6, 'max_iter': 10000, 'normalize': True}\n"
     ]
    },
    {
     "name": "stderr",
     "output_type": "stream",
     "text": [
      "/home/laferrari/anaconda3/envs/tensorflow_cpu/lib/python3.6/site-packages/sklearn/model_selection/_search.py:814: DeprecationWarning: The default of the `iid` parameter will change from True to False in version 0.22 and will be removed in 0.24. This will change numeric results when test-set sizes are unequal.\n",
      "  DeprecationWarning)\n"
     ]
    }
   ],
   "source": [
    "from sklearn.model_selection import GridSearchCV\n",
    "from sklearn.model_selection import RepeatedStratifiedKFold\n",
    "\n",
    "alpha=[i/10 for i in range(1,11)]\n",
    "is_normalize=[True, False]\n",
    "max_iter_arr = [i*10000 for i in range(1,11)]\n",
    "\n",
    "grid=dict(alpha=alpha, normalize=is_normalize, max_iter=max_iter_arr)\n",
    "cv = RepeatedStratifiedKFold(n_splits=10, n_repeats=3, random_state=1)\n",
    "grid_search = GridSearchCV(estimator=ridge_clf_arousal_default, param_grid=grid, n_jobs=-1, cv=cv, scoring='accuracy',error_score=0)\n",
    "grid_result = grid_search.fit(arousal_x_train, arousal_y_train)\n",
    "# summarize results\n",
    "print(\"Best: %f using %s\" % (grid_result.best_score_, grid_result.best_params_))"
   ]
  },
  {
   "cell_type": "code",
   "execution_count": 30,
   "metadata": {},
   "outputs": [
    {
     "name": "stdout",
     "output_type": "stream",
     "text": [
      "training accuracy, on the arousal_x_train data is:  0.9024390243902439\n",
      "testing accuracy, on the arousal_x_test data is:  0.7272727272727273\n"
     ]
    }
   ],
   "source": [
    "ridge_clf_arousal_gridSearched = RidgeClassifier(alpha=0.6, normalize=True, max_iter=10000)\n",
    "ridge_clf_arousal_gridSearched.fit(arousal_x_train,arousal_y_train)\n",
    "print(\"training accuracy, on the arousal_x_train data is: \",ridge_clf_arousal_gridSearched.score(arousal_x_train, arousal_y_train))\n",
    "print(\"testing accuracy, on the arousal_x_test data is: \",ridge_clf_arousal_gridSearched.score(arousal_x_test, arousal_y_test))"
   ]
  },
  {
   "cell_type": "markdown",
   "metadata": {},
   "source": [
    "## Valence Classification"
   ]
  },
  {
   "cell_type": "markdown",
   "metadata": {},
   "source": [
    "Lets take a look at how a normal, parametrised-by-default ridge classifier performs on valence data"
   ]
  },
  {
   "cell_type": "code",
   "execution_count": 31,
   "metadata": {},
   "outputs": [],
   "source": [
    "ridge_clf_valence_default = RidgeClassifier().fit(valence_x_train,valence_y_train)"
   ]
  },
  {
   "cell_type": "code",
   "execution_count": 32,
   "metadata": {
    "scrolled": true
   },
   "outputs": [
    {
     "name": "stdout",
     "output_type": "stream",
     "text": [
      "training accuracy, on the valence_x_train data is:  1.0\n",
      "testing accuracy, on the valence_x_test data is:  0.5\n"
     ]
    }
   ],
   "source": [
    "print(\"training accuracy, on the valence_x_train data is: \",ridge_clf_valence_default.score(valence_x_train, valence_y_train))\n",
    "print(\"testing accuracy, on the valence_x_test data is: \",ridge_clf_valence_default.score(valence_x_test, valence_y_test))"
   ]
  },
  {
   "cell_type": "markdown",
   "metadata": {},
   "source": [
    "Trying **Grid Search** for hyper-parameter tuning for this classifier"
   ]
  },
  {
   "cell_type": "code",
   "execution_count": 33,
   "metadata": {},
   "outputs": [
    {
     "name": "stderr",
     "output_type": "stream",
     "text": [
      "/home/laferrari/anaconda3/envs/tensorflow_cpu/lib/python3.6/site-packages/sklearn/model_selection/_split.py:657: Warning: The least populated class in y has only 9 members, which is too few. The minimum number of members in any class cannot be less than n_splits=10.\n",
      "  % (min_groups, self.n_splits)), Warning)\n",
      "/home/laferrari/anaconda3/envs/tensorflow_cpu/lib/python3.6/site-packages/sklearn/model_selection/_split.py:657: Warning: The least populated class in y has only 9 members, which is too few. The minimum number of members in any class cannot be less than n_splits=10.\n",
      "  % (min_groups, self.n_splits)), Warning)\n",
      "/home/laferrari/anaconda3/envs/tensorflow_cpu/lib/python3.6/site-packages/sklearn/model_selection/_split.py:657: Warning: The least populated class in y has only 9 members, which is too few. The minimum number of members in any class cannot be less than n_splits=10.\n",
      "  % (min_groups, self.n_splits)), Warning)\n"
     ]
    },
    {
     "name": "stdout",
     "output_type": "stream",
     "text": [
      "Best: 0.623188 using {'alpha': 0.2, 'class_weight': None, 'normalize': True}\n"
     ]
    },
    {
     "name": "stderr",
     "output_type": "stream",
     "text": [
      "/home/laferrari/anaconda3/envs/tensorflow_cpu/lib/python3.6/site-packages/sklearn/model_selection/_search.py:814: DeprecationWarning: The default of the `iid` parameter will change from True to False in version 0.22 and will be removed in 0.24. This will change numeric results when test-set sizes are unequal.\n",
      "  DeprecationWarning)\n"
     ]
    }
   ],
   "source": [
    "from sklearn.model_selection import GridSearchCV\n",
    "from sklearn.model_selection import RepeatedStratifiedKFold\n",
    "\n",
    "# defining hyperparameter choices\n",
    "alpha=[i/10 for i in range(1,11)]\n",
    "is_normalize=[True, False]\n",
    "class_weight=['balanced', None]\n",
    "\n",
    "grid=dict(alpha=alpha, normalize=is_normalize, class_weight=class_weight)\n",
    "cv = RepeatedStratifiedKFold(n_splits=10, n_repeats=3, random_state=1)\n",
    "grid_search = GridSearchCV(estimator=ridge_clf_valence_default, param_grid=grid, n_jobs=-1, cv=cv, scoring='accuracy',error_score=0)\n",
    "grid_result = grid_search.fit(valence_x_train, valence_y_train)\n",
    "# summarize results\n",
    "print(\"Best: %f using %s\" % (grid_result.best_score_, grid_result.best_params_))"
   ]
  },
  {
   "cell_type": "code",
   "execution_count": 34,
   "metadata": {},
   "outputs": [
    {
     "name": "stdout",
     "output_type": "stream",
     "text": [
      "training accuracy, on the valence_x_train data is:  0.9565217391304348\n",
      "testing accuracy, on the valence_x_test data is:  0.16666666666666666\n"
     ]
    }
   ],
   "source": [
    "ridge_clf_valence_gridSearched = RidgeClassifier(alpha=0.2, normalize=True)\n",
    "ridge_clf_valence_gridSearched.fit(valence_x_train,valence_y_train)\n",
    "print(\"training accuracy, on the valence_x_train data is: \",ridge_clf_valence_gridSearched.score(valence_x_train, valence_y_train))\n",
    "print(\"testing accuracy, on the valence_x_test data is: \",ridge_clf_valence_gridSearched.score(valence_x_test, valence_y_test))"
   ]
  },
  {
   "cell_type": "markdown",
   "metadata": {},
   "source": [
    "## Tension Classification"
   ]
  },
  {
   "cell_type": "markdown",
   "metadata": {},
   "source": [
    "Lets take a look at how a normal, parametrised-by-default ridge classifier performs on valence data"
   ]
  },
  {
   "cell_type": "code",
   "execution_count": 35,
   "metadata": {},
   "outputs": [],
   "source": [
    "ridge_clf_tension_default = RidgeClassifier().fit(tension_x_train,tension_y_train)"
   ]
  },
  {
   "cell_type": "code",
   "execution_count": 36,
   "metadata": {
    "scrolled": true
   },
   "outputs": [
    {
     "name": "stdout",
     "output_type": "stream",
     "text": [
      "training accuracy, on the tension_x_train data is:  0.8255813953488372\n",
      "testing accuracy, on the tension_x_test data is:  0.7272727272727273\n"
     ]
    }
   ],
   "source": [
    "print(\"training accuracy, on the tension_x_train data is: \",ridge_clf_tension_default.score(tension_x_train, tension_y_train))\n",
    "print(\"testing accuracy, on the tension_x_test data is: \",ridge_clf_tension_default.score(tension_x_test, tension_y_test))"
   ]
  },
  {
   "cell_type": "markdown",
   "metadata": {},
   "source": [
    "Trying **Grid Search** for hyper-parameter tuning for this classifier"
   ]
  },
  {
   "cell_type": "code",
   "execution_count": 37,
   "metadata": {},
   "outputs": [
    {
     "name": "stdout",
     "output_type": "stream",
     "text": [
      "Best: 0.662791 using {'alpha': 0.6, 'class_weight': 'balanced', 'normalize': False}\n"
     ]
    },
    {
     "name": "stderr",
     "output_type": "stream",
     "text": [
      "/home/laferrari/anaconda3/envs/tensorflow_cpu/lib/python3.6/site-packages/sklearn/model_selection/_search.py:814: DeprecationWarning: The default of the `iid` parameter will change from True to False in version 0.22 and will be removed in 0.24. This will change numeric results when test-set sizes are unequal.\n",
      "  DeprecationWarning)\n"
     ]
    }
   ],
   "source": [
    "from sklearn.model_selection import GridSearchCV\n",
    "from sklearn.model_selection import RepeatedStratifiedKFold\n",
    "\n",
    "# defining hyperparameter choices\n",
    "alpha=[i/10 for i in range(1,11)]\n",
    "is_normalize=[True, False]\n",
    "class_weight=['balanced', None]\n",
    "\n",
    "grid=dict(alpha=alpha, normalize=is_normalize, class_weight=class_weight)\n",
    "cv = RepeatedStratifiedKFold(n_splits=10, n_repeats=3, random_state=1)\n",
    "grid_search = GridSearchCV(estimator=ridge_clf_tension_default, param_grid=grid, n_jobs=-1, cv=cv, scoring='accuracy',error_score=0)\n",
    "grid_result = grid_search.fit(tension_x_train, tension_y_train)\n",
    "# summarize results\n",
    "print(\"Best: %f using %s\" % (grid_result.best_score_, grid_result.best_params_))"
   ]
  },
  {
   "cell_type": "code",
   "execution_count": 38,
   "metadata": {},
   "outputs": [
    {
     "name": "stdout",
     "output_type": "stream",
     "text": [
      "training accuracy, on the tension_x_train data is:  0.7906976744186046\n",
      "validation accuracy, on the tension_x_test data is:  0.6818181818181818\n"
     ]
    }
   ],
   "source": [
    "ridge_clf_tension_gridSearched = RidgeClassifier(alpha=0.6, class_weight='balanced', normalize=False)\n",
    "ridge_clf_tension_gridSearched.fit(tension_x_train,tension_y_train)\n",
    "print(\"training accuracy, on the tension_x_train data is: \",ridge_clf_tension_gridSearched.score(tension_x_train, tension_y_train))\n",
    "print(\"validation accuracy, on the tension_x_test data is: \",ridge_clf_tension_gridSearched.score(tension_x_test, tension_y_test))"
   ]
  },
  {
   "cell_type": "markdown",
   "metadata": {},
   "source": [
    "# Model-2: KNeighborsClassifier"
   ]
  },
  {
   "cell_type": "code",
   "execution_count": 39,
   "metadata": {},
   "outputs": [],
   "source": [
    "from sklearn.neighbors import KNeighborsClassifier"
   ]
  },
  {
   "cell_type": "markdown",
   "metadata": {},
   "source": [
    "## Arousal-classification"
   ]
  },
  {
   "cell_type": "markdown",
   "metadata": {},
   "source": [
    "Using a default-valued knclassifier at first"
   ]
  },
  {
   "cell_type": "code",
   "execution_count": 40,
   "metadata": {},
   "outputs": [
    {
     "name": "stdout",
     "output_type": "stream",
     "text": [
      "training accuracy, on the arousal_x_train data is:  0.7560975609756098\n",
      "validation accuracy, on the arousal_x_test data is:  0.6363636363636364\n"
     ]
    }
   ],
   "source": [
    "knc_arousal_default = KNeighborsClassifier()\n",
    "knc_arousal_default.fit(arousal_x_train,arousal_y_train)\n",
    "print(\"training accuracy, on the arousal_x_train data is: \",knc_arousal_default.score(arousal_x_train, arousal_y_train))\n",
    "print(\"validation accuracy, on the arousal_x_test data is: \",knc_arousal_default.score(arousal_x_test, arousal_y_test))"
   ]
  },
  {
   "cell_type": "markdown",
   "metadata": {},
   "source": [
    "Trying to tune hyperparameters:\n",
    "1. n_neighbors(default=5)"
   ]
  },
  {
   "cell_type": "code",
   "execution_count": 41,
   "metadata": {},
   "outputs": [
    {
     "name": "stdout",
     "output_type": "stream",
     "text": [
      "Best: 0.739837 using {'algorithm': 'auto', 'metric': 'euclidean', 'n_neighbors': 10, 'weights': 'uniform'}\n"
     ]
    },
    {
     "name": "stderr",
     "output_type": "stream",
     "text": [
      "/home/laferrari/anaconda3/envs/tensorflow_cpu/lib/python3.6/site-packages/sklearn/model_selection/_search.py:814: DeprecationWarning: The default of the `iid` parameter will change from True to False in version 0.22 and will be removed in 0.24. This will change numeric results when test-set sizes are unequal.\n",
      "  DeprecationWarning)\n"
     ]
    }
   ],
   "source": [
    "# defining hyperparameter choices\n",
    "n_neighbors_arr=[i for i in range(1,11)]\n",
    "algorithm_arr = ['auto', 'ball_tree', 'kd_tree', 'brute']\n",
    "metric_arr = ['euclidean', 'manhattan', 'minkowski']\n",
    "weights_arr=['uniform', 'distance']\n",
    "\n",
    "grid=dict(n_neighbors=n_neighbors_arr, algorithm=algorithm_arr, metric=metric_arr, weights=weights_arr)\n",
    "cv = RepeatedStratifiedKFold(n_splits=10, n_repeats=3, random_state=1)\n",
    "grid_search = GridSearchCV(estimator=knc_arousal_default, param_grid=grid, n_jobs=-1, cv=cv, scoring='accuracy',error_score=0)\n",
    "grid_result = grid_search.fit(arousal_x_train, arousal_y_train)\n",
    "# summarize results\n",
    "print(\"Best: %f using %s\" % (grid_result.best_score_, grid_result.best_params_))"
   ]
  },
  {
   "cell_type": "code",
   "execution_count": 42,
   "metadata": {},
   "outputs": [
    {
     "name": "stdout",
     "output_type": "stream",
     "text": [
      "training accuracy, on the arousal_x_train data is:  0.7317073170731707\n",
      "validation accuracy, on the arousal_x_test data is:  0.6363636363636364\n"
     ]
    }
   ],
   "source": [
    "knc_arousal_gridSearched = KNeighborsClassifier(algorithm='auto', metric='euclidean', n_neighbors=10, weights='uniform')\n",
    "knc_arousal_gridSearched.fit(arousal_x_train,arousal_y_train)\n",
    "print(\"training accuracy, on the arousal_x_train data is: \",knc_arousal_gridSearched.score(arousal_x_train, arousal_y_train))\n",
    "print(\"validation accuracy, on the arousal_x_test data is: \",knc_arousal_gridSearched.score(arousal_x_test, arousal_y_test))"
   ]
  },
  {
   "cell_type": "markdown",
   "metadata": {},
   "source": [
    "## Valence Classification"
   ]
  },
  {
   "cell_type": "markdown",
   "metadata": {},
   "source": [
    "Lets take a look at how a normal, parametrised-by-default ridge classifier performs on valence data"
   ]
  },
  {
   "cell_type": "code",
   "execution_count": 43,
   "metadata": {},
   "outputs": [
    {
     "name": "stdout",
     "output_type": "stream",
     "text": [
      "training accuracy, on the valence_x_train data is:  0.6521739130434783\n",
      "validation accuracy, on the valence_x_test data is:  0.3333333333333333\n"
     ]
    }
   ],
   "source": [
    "knc_valence_default = KNeighborsClassifier()\n",
    "knc_valence_default.fit(valence_x_train,valence_y_train)\n",
    "print(\"training accuracy, on the valence_x_train data is: \",knc_valence_default.score(valence_x_train, valence_y_train))\n",
    "print(\"validation accuracy, on the valence_x_test data is: \",knc_valence_default.score(valence_x_test, valence_y_test))"
   ]
  },
  {
   "cell_type": "markdown",
   "metadata": {},
   "source": [
    "Trying **Grid Search** for hyper-parameter tuning for this classifier"
   ]
  },
  {
   "cell_type": "code",
   "execution_count": 44,
   "metadata": {},
   "outputs": [
    {
     "name": "stderr",
     "output_type": "stream",
     "text": [
      "/home/laferrari/anaconda3/envs/tensorflow_cpu/lib/python3.6/site-packages/sklearn/model_selection/_split.py:657: Warning: The least populated class in y has only 9 members, which is too few. The minimum number of members in any class cannot be less than n_splits=10.\n",
      "  % (min_groups, self.n_splits)), Warning)\n",
      "/home/laferrari/anaconda3/envs/tensorflow_cpu/lib/python3.6/site-packages/sklearn/model_selection/_split.py:657: Warning: The least populated class in y has only 9 members, which is too few. The minimum number of members in any class cannot be less than n_splits=10.\n",
      "  % (min_groups, self.n_splits)), Warning)\n",
      "/home/laferrari/anaconda3/envs/tensorflow_cpu/lib/python3.6/site-packages/sklearn/model_selection/_split.py:657: Warning: The least populated class in y has only 9 members, which is too few. The minimum number of members in any class cannot be less than n_splits=10.\n",
      "  % (min_groups, self.n_splits)), Warning)\n"
     ]
    },
    {
     "name": "stdout",
     "output_type": "stream",
     "text": [
      "Best: 0.608696 using {'algorithm': 'auto', 'metric': 'euclidean', 'n_neighbors': 9, 'weights': 'uniform'}\n"
     ]
    },
    {
     "name": "stderr",
     "output_type": "stream",
     "text": [
      "/home/laferrari/anaconda3/envs/tensorflow_cpu/lib/python3.6/site-packages/sklearn/model_selection/_search.py:814: DeprecationWarning: The default of the `iid` parameter will change from True to False in version 0.22 and will be removed in 0.24. This will change numeric results when test-set sizes are unequal.\n",
      "  DeprecationWarning)\n"
     ]
    }
   ],
   "source": [
    "# defining hyperparameter choices\n",
    "n_neighbors_arr=[i for i in range(1,21)]\n",
    "algorithm_arr = ['auto', 'ball_tree', 'kd_tree', 'brute']\n",
    "metric_arr = ['euclidean', 'manhattan', 'minkowski']\n",
    "weights_arr=['uniform', 'distance']\n",
    "\n",
    "grid=dict(n_neighbors=n_neighbors_arr, algorithm=algorithm_arr, metric=metric_arr, weights=weights_arr)\n",
    "cv = RepeatedStratifiedKFold(n_splits=10, n_repeats=3, random_state=1)\n",
    "grid_search = GridSearchCV(estimator=knc_valence_default, param_grid=grid, n_jobs=-1, cv=cv, scoring='accuracy',error_score=0)\n",
    "grid_result = grid_search.fit(valence_x_train, valence_y_train)\n",
    "# summarize results\n",
    "print(\"Best: %f using %s\" % (grid_result.best_score_, grid_result.best_params_))"
   ]
  },
  {
   "cell_type": "code",
   "execution_count": 45,
   "metadata": {},
   "outputs": [
    {
     "name": "stdout",
     "output_type": "stream",
     "text": [
      "training accuracy, on the valence_x_train data is:  0.6086956521739131\n",
      "validation accuracy, on the valence_x_test data is:  0.6666666666666666\n"
     ]
    }
   ],
   "source": [
    "knc_valence_gridSearched = KNeighborsClassifier(algorithm='auto', metric='euclidean', n_neighbors=9, weights='uniform')\n",
    "knc_valence_gridSearched.fit(valence_x_train,valence_y_train)\n",
    "print(\"training accuracy, on the valence_x_train data is: \",knc_valence_gridSearched.score(valence_x_train, valence_y_train))\n",
    "print(\"validation accuracy, on the valence_x_test data is: \",knc_valence_gridSearched.score(valence_x_test, valence_y_test))"
   ]
  },
  {
   "cell_type": "markdown",
   "metadata": {},
   "source": [
    "## Tension Classification"
   ]
  },
  {
   "cell_type": "markdown",
   "metadata": {},
   "source": [
    "Lets take a look at how a normal, parametrised-by-default ridge classifier performs on valence data"
   ]
  },
  {
   "cell_type": "code",
   "execution_count": 46,
   "metadata": {},
   "outputs": [
    {
     "name": "stdout",
     "output_type": "stream",
     "text": [
      "training accuracy, on the tension_x_train data is:  0.7325581395348837\n",
      "validation accuracy, on the tension_x_test data is:  0.5\n"
     ]
    }
   ],
   "source": [
    "knc_tension_default = KNeighborsClassifier()\n",
    "knc_tension_default.fit(tension_x_train,tension_y_train)\n",
    "print(\"training accuracy, on the tension_x_train data is: \",knc_tension_default.score(tension_x_train, tension_y_train))\n",
    "print(\"validation accuracy, on the tension_x_test data is: \",knc_tension_default.score(tension_x_test, tension_y_test))"
   ]
  },
  {
   "cell_type": "markdown",
   "metadata": {},
   "source": [
    "Trying **Grid Search** for hyper-parameter tuning for this classifier"
   ]
  },
  {
   "cell_type": "code",
   "execution_count": 47,
   "metadata": {},
   "outputs": [
    {
     "name": "stdout",
     "output_type": "stream",
     "text": [
      "Best: 0.627907 using {'algorithm': 'auto', 'metric': 'euclidean', 'n_neighbors': 3, 'weights': 'distance'}\n"
     ]
    },
    {
     "name": "stderr",
     "output_type": "stream",
     "text": [
      "/home/laferrari/anaconda3/envs/tensorflow_cpu/lib/python3.6/site-packages/sklearn/model_selection/_search.py:814: DeprecationWarning: The default of the `iid` parameter will change from True to False in version 0.22 and will be removed in 0.24. This will change numeric results when test-set sizes are unequal.\n",
      "  DeprecationWarning)\n"
     ]
    }
   ],
   "source": [
    "n_neighbors_arr=[i for i in range(1,20)]\n",
    "algorithm_arr = ['auto', 'ball_tree', 'kd_tree', 'brute']\n",
    "metric_arr = ['euclidean', 'manhattan', 'minkowski']\n",
    "weights_arr=['uniform', 'distance']\n",
    "\n",
    "grid=dict(n_neighbors=n_neighbors_arr, algorithm=algorithm_arr, metric=metric_arr, weights=weights_arr)\n",
    "cv = RepeatedStratifiedKFold(n_splits=10, n_repeats=3, random_state=1)\n",
    "grid_search = GridSearchCV(estimator=knc_tension_default, param_grid=grid, n_jobs=-1, cv=cv, scoring='accuracy',error_score=0)\n",
    "grid_result = grid_search.fit(tension_x_train, tension_y_train)\n",
    "# summarize results\n",
    "print(\"Best: %f using %s\" % (grid_result.best_score_, grid_result.best_params_))"
   ]
  },
  {
   "cell_type": "code",
   "execution_count": 48,
   "metadata": {},
   "outputs": [
    {
     "name": "stdout",
     "output_type": "stream",
     "text": [
      "training accuracy, on the tension_x_train data is:  1.0\n",
      "validation accuracy, on the tension_x_test data is:  0.4090909090909091\n"
     ]
    }
   ],
   "source": [
    "knc_tension_gridSearched = KNeighborsClassifier(algorithm='auto', metric='euclidean', n_neighbors=3, weights='distance')\n",
    "knc_tension_gridSearched.fit(tension_x_train,tension_y_train)\n",
    "print(\"training accuracy, on the tension_x_train data is: \",knc_tension_gridSearched.score(tension_x_train, tension_y_train))\n",
    "print(\"validation accuracy, on the tension_x_test data is: \",knc_tension_gridSearched.score(tension_x_test, tension_y_test))"
   ]
  },
  {
   "cell_type": "markdown",
   "metadata": {},
   "source": [
    "# Model-3 : Support Vector Classifier"
   ]
  },
  {
   "cell_type": "code",
   "execution_count": 49,
   "metadata": {},
   "outputs": [],
   "source": [
    "from sklearn.svm import SVC"
   ]
  },
  {
   "cell_type": "markdown",
   "metadata": {},
   "source": [
    "## Arousal-classification"
   ]
  },
  {
   "cell_type": "code",
   "execution_count": 50,
   "metadata": {
    "scrolled": true
   },
   "outputs": [
    {
     "name": "stdout",
     "output_type": "stream",
     "text": [
      "training accuracy, on the arousal_x_train data is:  1.0\n",
      "validation accuracy, on the arousal_x_test data is:  0.5454545454545454\n"
     ]
    },
    {
     "name": "stderr",
     "output_type": "stream",
     "text": [
      "/home/laferrari/anaconda3/envs/tensorflow_cpu/lib/python3.6/site-packages/sklearn/svm/base.py:193: FutureWarning: The default value of gamma will change from 'auto' to 'scale' in version 0.22 to account better for unscaled features. Set gamma explicitly to 'auto' or 'scale' to avoid this warning.\n",
      "  \"avoid this warning.\", FutureWarning)\n"
     ]
    }
   ],
   "source": [
    "svc_arousal_default = SVC()\n",
    "svc_arousal_default.fit(arousal_x_train,arousal_y_train)\n",
    "print(\"training accuracy, on the arousal_x_train data is: \",svc_arousal_default.score(arousal_x_train, arousal_y_train))\n",
    "print(\"validation accuracy, on the arousal_x_test data is: \",svc_arousal_default.score(arousal_x_test, arousal_y_test))"
   ]
  },
  {
   "cell_type": "markdown",
   "metadata": {},
   "source": [
    "Performing **Grid search** to get a knowledge of hyperparameter tuning:\n",
    "1. Kernel function\n",
    "2. regularization parameter(C)"
   ]
  },
  {
   "cell_type": "code",
   "execution_count": 51,
   "metadata": {},
   "outputs": [
    {
     "name": "stdout",
     "output_type": "stream",
     "text": [
      "Best: 0.796748 using {'C': 100, 'kernel': 'linear'}\n"
     ]
    },
    {
     "name": "stderr",
     "output_type": "stream",
     "text": [
      "/home/laferrari/anaconda3/envs/tensorflow_cpu/lib/python3.6/site-packages/sklearn/model_selection/_search.py:814: DeprecationWarning: The default of the `iid` parameter will change from True to False in version 0.22 and will be removed in 0.24. This will change numeric results when test-set sizes are unequal.\n",
      "  DeprecationWarning)\n"
     ]
    }
   ],
   "source": [
    "from sklearn.model_selection import GridSearchCV\n",
    "from sklearn.model_selection import RepeatedStratifiedKFold\n",
    "\n",
    "kernel_arr = ['rbf', 'sigmoid', 'linear', 'poly']\n",
    "c_arr = [100, 10, 1.0, 0.1, 0.001]\n",
    "\n",
    "grid=dict(C=c_arr, kernel=kernel_arr)\n",
    "cv = RepeatedStratifiedKFold(n_splits=10, n_repeats=3, random_state=1)\n",
    "grid_search = GridSearchCV(estimator=svc_arousal_default, param_grid=grid, n_jobs=-1, cv=cv, scoring='accuracy',error_score=0)\n",
    "grid_result = grid_search.fit(arousal_x_train, arousal_y_train)\n",
    "# summarize results\n",
    "print(\"Best: %f using %s\" % (grid_result.best_score_, grid_result.best_params_))"
   ]
  },
  {
   "cell_type": "code",
   "execution_count": 52,
   "metadata": {},
   "outputs": [
    {
     "name": "stdout",
     "output_type": "stream",
     "text": [
      "training accuracy, on the arousal_x_train data is:  1.0\n",
      "validation accuracy, on the arousal_x_test data is:  0.6363636363636364\n"
     ]
    }
   ],
   "source": [
    "svc_arousal_gridSearched = SVC(C=100, kernel='linear')\n",
    "svc_arousal_gridSearched.fit(arousal_x_train,arousal_y_train)\n",
    "print(\"training accuracy, on the arousal_x_train data is: \",svc_arousal_gridSearched.score(arousal_x_train, arousal_y_train))\n",
    "print(\"validation accuracy, on the arousal_x_test data is: \",svc_arousal_gridSearched.score(arousal_x_test, arousal_y_test))"
   ]
  },
  {
   "cell_type": "markdown",
   "metadata": {},
   "source": [
    "## Valence Classification"
   ]
  },
  {
   "cell_type": "code",
   "execution_count": 53,
   "metadata": {},
   "outputs": [
    {
     "name": "stdout",
     "output_type": "stream",
     "text": [
      "training accuracy, on the valence_x_train data is:  1.0\n",
      "validation accuracy, on the valence_x_test data is:  0.6666666666666666\n"
     ]
    },
    {
     "name": "stderr",
     "output_type": "stream",
     "text": [
      "/home/laferrari/anaconda3/envs/tensorflow_cpu/lib/python3.6/site-packages/sklearn/svm/base.py:193: FutureWarning: The default value of gamma will change from 'auto' to 'scale' in version 0.22 to account better for unscaled features. Set gamma explicitly to 'auto' or 'scale' to avoid this warning.\n",
      "  \"avoid this warning.\", FutureWarning)\n"
     ]
    }
   ],
   "source": [
    "svc_valence_default = SVC()\n",
    "svc_valence_default.fit(valence_x_train,valence_y_train)\n",
    "print(\"training accuracy, on the valence_x_train data is: \",svc_valence_default.score(valence_x_train, valence_y_train))\n",
    "print(\"validation accuracy, on the valence_x_test data is: \",svc_valence_default.score(valence_x_test, valence_y_test))"
   ]
  },
  {
   "cell_type": "markdown",
   "metadata": {},
   "source": [
    "Performing **Grid search** to get a knowledge of hyperparameter tuning:\n",
    "1. Kernel function\n",
    "2. regularization parameter(C)"
   ]
  },
  {
   "cell_type": "code",
   "execution_count": 54,
   "metadata": {},
   "outputs": [
    {
     "name": "stderr",
     "output_type": "stream",
     "text": [
      "/home/laferrari/anaconda3/envs/tensorflow_cpu/lib/python3.6/site-packages/sklearn/model_selection/_split.py:657: Warning: The least populated class in y has only 9 members, which is too few. The minimum number of members in any class cannot be less than n_splits=10.\n",
      "  % (min_groups, self.n_splits)), Warning)\n",
      "/home/laferrari/anaconda3/envs/tensorflow_cpu/lib/python3.6/site-packages/sklearn/model_selection/_split.py:657: Warning: The least populated class in y has only 9 members, which is too few. The minimum number of members in any class cannot be less than n_splits=10.\n",
      "  % (min_groups, self.n_splits)), Warning)\n",
      "/home/laferrari/anaconda3/envs/tensorflow_cpu/lib/python3.6/site-packages/sklearn/model_selection/_split.py:657: Warning: The least populated class in y has only 9 members, which is too few. The minimum number of members in any class cannot be less than n_splits=10.\n",
      "  % (min_groups, self.n_splits)), Warning)\n"
     ]
    },
    {
     "name": "stdout",
     "output_type": "stream",
     "text": [
      "Best: 0.608696 using {'C': 200, 'kernel': 'rbf'}\n"
     ]
    },
    {
     "name": "stderr",
     "output_type": "stream",
     "text": [
      "/home/laferrari/anaconda3/envs/tensorflow_cpu/lib/python3.6/site-packages/sklearn/model_selection/_search.py:814: DeprecationWarning: The default of the `iid` parameter will change from True to False in version 0.22 and will be removed in 0.24. This will change numeric results when test-set sizes are unequal.\n",
      "  DeprecationWarning)\n",
      "/home/laferrari/anaconda3/envs/tensorflow_cpu/lib/python3.6/site-packages/sklearn/svm/base.py:193: FutureWarning: The default value of gamma will change from 'auto' to 'scale' in version 0.22 to account better for unscaled features. Set gamma explicitly to 'auto' or 'scale' to avoid this warning.\n",
      "  \"avoid this warning.\", FutureWarning)\n"
     ]
    }
   ],
   "source": [
    "from sklearn.model_selection import GridSearchCV\n",
    "from sklearn.model_selection import RepeatedStratifiedKFold\n",
    "\n",
    "kernel_arr = ['rbf', 'sigmoid', 'linear', 'poly']\n",
    "c_arr = [200, 100, 10, 1.0, 0.1, 0.001]\n",
    "\n",
    "grid=dict(C=c_arr, kernel=kernel_arr)\n",
    "cv = RepeatedStratifiedKFold(n_splits=10, n_repeats=3, random_state=1)\n",
    "grid_search = GridSearchCV(estimator=svc_valence_default, param_grid=grid, n_jobs=-1, cv=cv, scoring='accuracy',error_score=0)\n",
    "grid_result = grid_search.fit(valence_x_train, valence_y_train)\n",
    "# summarize results\n",
    "print(\"Best: %f using %s\" % (grid_result.best_score_, grid_result.best_params_))"
   ]
  },
  {
   "cell_type": "code",
   "execution_count": 55,
   "metadata": {},
   "outputs": [
    {
     "name": "stdout",
     "output_type": "stream",
     "text": [
      "training accuracy, on the valence_x_train data is:  1.0\n",
      "validation accuracy, on the valence_x_test data is:  0.6666666666666666\n"
     ]
    },
    {
     "name": "stderr",
     "output_type": "stream",
     "text": [
      "/home/laferrari/anaconda3/envs/tensorflow_cpu/lib/python3.6/site-packages/sklearn/svm/base.py:193: FutureWarning: The default value of gamma will change from 'auto' to 'scale' in version 0.22 to account better for unscaled features. Set gamma explicitly to 'auto' or 'scale' to avoid this warning.\n",
      "  \"avoid this warning.\", FutureWarning)\n"
     ]
    }
   ],
   "source": [
    "svc_valence_gridSearched = SVC(C=200, kernel='rbf')\n",
    "svc_valence_gridSearched.fit(valence_x_train,valence_y_train)\n",
    "print(\"training accuracy, on the valence_x_train data is: \",svc_valence_gridSearched.score(valence_x_train, valence_y_train))\n",
    "print(\"validation accuracy, on the valence_x_test data is: \",svc_valence_gridSearched.score(valence_x_test, valence_y_test))"
   ]
  },
  {
   "cell_type": "markdown",
   "metadata": {},
   "source": [
    "## Tension Classification"
   ]
  },
  {
   "cell_type": "markdown",
   "metadata": {},
   "source": [
    "Lets take a look at how a normal, parametrised-by-default ridge classifier performs on valence data"
   ]
  },
  {
   "cell_type": "code",
   "execution_count": 56,
   "metadata": {},
   "outputs": [
    {
     "name": "stdout",
     "output_type": "stream",
     "text": [
      "training accuracy, on the tension_x_train data is:  1.0\n",
      "validation accuracy, on the tension_x_test data is:  0.3181818181818182\n"
     ]
    },
    {
     "name": "stderr",
     "output_type": "stream",
     "text": [
      "/home/laferrari/anaconda3/envs/tensorflow_cpu/lib/python3.6/site-packages/sklearn/svm/base.py:193: FutureWarning: The default value of gamma will change from 'auto' to 'scale' in version 0.22 to account better for unscaled features. Set gamma explicitly to 'auto' or 'scale' to avoid this warning.\n",
      "  \"avoid this warning.\", FutureWarning)\n"
     ]
    }
   ],
   "source": [
    "svc_tension_default = SVC()\n",
    "svc_tension_default.fit(tension_x_train,tension_y_train)\n",
    "print(\"training accuracy, on the tension_x_train data is: \",svc_tension_default.score(tension_x_train, tension_y_train))\n",
    "print(\"validation accuracy, on the tension_x_test data is: \",svc_tension_default.score(tension_x_test, tension_y_test))"
   ]
  },
  {
   "cell_type": "markdown",
   "metadata": {},
   "source": [
    "* Trying **Grid Search** for hyper-parameter tuning for this classifier\n",
    "* the grid search for this dataset <font color=\"red\">was taking more than 1hr, even on HPC,</font> therefore we\n",
    "decided to go by some arbitrarily chosen parameters"
   ]
  },
  {
   "cell_type": "code",
   "execution_count": 58,
   "metadata": {},
   "outputs": [
    {
     "name": "stdout",
     "output_type": "stream",
     "text": [
      "training accuracy, on the tension_x_train data is:  0.7674418604651163\n",
      "validation accuracy, on the tension_x_test data is:  0.7272727272727273\n"
     ]
    }
   ],
   "source": [
    "svc_tension_gridSearched = SVC(kernel='linear', C=100)\n",
    "svc_tension_gridSearched.fit(tension_x_train,tension_y_train)\n",
    "print(\"training accuracy, on the tension_x_train data is: \",svc_tension_gridSearched.score(tension_x_train, tension_y_train))\n",
    "print(\"validation accuracy, on the tension_x_test data is: \",svc_tension_gridSearched.score(tension_x_test, tension_y_test))"
   ]
  },
  {
   "cell_type": "markdown",
   "metadata": {},
   "source": [
    "# Model-4 : Decision-tree Classifier"
   ]
  },
  {
   "cell_type": "code",
   "execution_count": 59,
   "metadata": {},
   "outputs": [],
   "source": [
    "from sklearn.tree import DecisionTreeClassifier"
   ]
  },
  {
   "cell_type": "markdown",
   "metadata": {},
   "source": [
    "## Arousal-Classification"
   ]
  },
  {
   "cell_type": "code",
   "execution_count": 60,
   "metadata": {
    "scrolled": true
   },
   "outputs": [
    {
     "name": "stdout",
     "output_type": "stream",
     "text": [
      "training accuracy, on the arousal_x_train data is:  1.0\n",
      "validation accuracy, on the arousal_x_test data is:  0.9090909090909091\n"
     ]
    }
   ],
   "source": [
    "dt_arousal_default = DecisionTreeClassifier()\n",
    "dt_arousal_default.fit(arousal_x_train,arousal_y_train)\n",
    "print(\"training accuracy, on the arousal_x_train data is: \",dt_arousal_default.score(arousal_x_train, arousal_y_train))\n",
    "print(\"validation accuracy, on the arousal_x_test data is: \",dt_arousal_default.score(arousal_x_test, arousal_y_test))"
   ]
  },
  {
   "cell_type": "markdown",
   "metadata": {},
   "source": [
    "Performing **Grid search** to get a knowledge of hyperparameter tuning"
   ]
  },
  {
   "cell_type": "code",
   "execution_count": 61,
   "metadata": {},
   "outputs": [
    {
     "name": "stdout",
     "output_type": "stream",
     "text": [
      "Best: 0.747967 using {'criterion': 'entropy', 'max_depth': 5, 'splitter': 'random'}\n"
     ]
    },
    {
     "name": "stderr",
     "output_type": "stream",
     "text": [
      "/home/laferrari/anaconda3/envs/tensorflow_cpu/lib/python3.6/site-packages/sklearn/model_selection/_search.py:814: DeprecationWarning: The default of the `iid` parameter will change from True to False in version 0.22 and will be removed in 0.24. This will change numeric results when test-set sizes are unequal.\n",
      "  DeprecationWarning)\n"
     ]
    }
   ],
   "source": [
    "from sklearn.model_selection import GridSearchCV\n",
    "from sklearn.model_selection import RepeatedStratifiedKFold\n",
    "\n",
    "criterion=['entropy', 'gini']\n",
    "max_depth=[1, 3, 5, None]\n",
    "splitter = ['best', 'random']\n",
    "\n",
    "grid=dict(criterion=criterion, max_depth=max_depth, splitter=splitter)\n",
    "cv = RepeatedStratifiedKFold(n_splits=10, n_repeats=3, random_state=1)\n",
    "grid_search = GridSearchCV(estimator=dt_arousal_default, param_grid=grid, n_jobs=-1, cv=cv, scoring='accuracy',error_score=0)\n",
    "grid_result = grid_search.fit(arousal_x_train, arousal_y_train)\n",
    "# summarize results\n",
    "print(\"Best: %f using %s\" % (grid_result.best_score_, grid_result.best_params_))"
   ]
  },
  {
   "cell_type": "code",
   "execution_count": 62,
   "metadata": {},
   "outputs": [
    {
     "name": "stdout",
     "output_type": "stream",
     "text": [
      "training accuracy, on the arousal_x_train data is:  0.8048780487804879\n",
      "validation accuracy, on the arousal_x_test data is:  0.7272727272727273\n"
     ]
    }
   ],
   "source": [
    "dt_arousal_gridSearched = DecisionTreeClassifier(criterion='gini', max_depth=1, splitter='random')\n",
    "dt_arousal_gridSearched.fit(arousal_x_train,arousal_y_train)\n",
    "print(\"training accuracy, on the arousal_x_train data is: \",dt_arousal_gridSearched.score(arousal_x_train, arousal_y_train))\n",
    "print(\"validation accuracy, on the arousal_x_test data is: \",dt_arousal_gridSearched.score(arousal_x_test, arousal_y_test))"
   ]
  },
  {
   "cell_type": "markdown",
   "metadata": {},
   "source": [
    "## Valence Classification"
   ]
  },
  {
   "cell_type": "code",
   "execution_count": 63,
   "metadata": {},
   "outputs": [
    {
     "name": "stdout",
     "output_type": "stream",
     "text": [
      "training accuracy, on the valence_x_train data is:  1.0\n",
      "validation accuracy, on the valence_x_test data is:  0.6666666666666666\n"
     ]
    }
   ],
   "source": [
    "dt_valence_default = DecisionTreeClassifier()\n",
    "dt_valence_default.fit(valence_x_train,valence_y_train)\n",
    "print(\"training accuracy, on the valence_x_train data is: \",dt_valence_default.score(valence_x_train, valence_y_train))\n",
    "print(\"validation accuracy, on the valence_x_test data is: \",dt_valence_default.score(valence_x_test, valence_y_test))"
   ]
  },
  {
   "cell_type": "markdown",
   "metadata": {},
   "source": [
    "Performing **Grid search** to get a knowledge of hyperparameter tuning"
   ]
  },
  {
   "cell_type": "code",
   "execution_count": 64,
   "metadata": {},
   "outputs": [
    {
     "name": "stderr",
     "output_type": "stream",
     "text": [
      "/home/laferrari/anaconda3/envs/tensorflow_cpu/lib/python3.6/site-packages/sklearn/model_selection/_split.py:657: Warning: The least populated class in y has only 9 members, which is too few. The minimum number of members in any class cannot be less than n_splits=10.\n",
      "  % (min_groups, self.n_splits)), Warning)\n",
      "/home/laferrari/anaconda3/envs/tensorflow_cpu/lib/python3.6/site-packages/sklearn/model_selection/_split.py:657: Warning: The least populated class in y has only 9 members, which is too few. The minimum number of members in any class cannot be less than n_splits=10.\n",
      "  % (min_groups, self.n_splits)), Warning)\n",
      "/home/laferrari/anaconda3/envs/tensorflow_cpu/lib/python3.6/site-packages/sklearn/model_selection/_split.py:657: Warning: The least populated class in y has only 9 members, which is too few. The minimum number of members in any class cannot be less than n_splits=10.\n",
      "  % (min_groups, self.n_splits)), Warning)\n"
     ]
    },
    {
     "name": "stdout",
     "output_type": "stream",
     "text": [
      "Best: 0.608696 using {'criterion': 'gini', 'max_depth': 3, 'splitter': 'best'}\n"
     ]
    },
    {
     "name": "stderr",
     "output_type": "stream",
     "text": [
      "/home/laferrari/anaconda3/envs/tensorflow_cpu/lib/python3.6/site-packages/sklearn/model_selection/_search.py:814: DeprecationWarning: The default of the `iid` parameter will change from True to False in version 0.22 and will be removed in 0.24. This will change numeric results when test-set sizes are unequal.\n",
      "  DeprecationWarning)\n"
     ]
    }
   ],
   "source": [
    "from sklearn.model_selection import GridSearchCV\n",
    "from sklearn.model_selection import RepeatedStratifiedKFold\n",
    "\n",
    "criterion=['entropy', 'gini']\n",
    "max_depth=[1, 3, 5, None]\n",
    "splitter = ['best', 'random']\n",
    "\n",
    "grid=dict(criterion=criterion, max_depth=max_depth, splitter=splitter)\n",
    "cv = RepeatedStratifiedKFold(n_splits=10, n_repeats=3, random_state=1)\n",
    "grid_search = GridSearchCV(estimator=dt_valence_default, param_grid=grid, n_jobs=-1, cv=cv, scoring='accuracy',error_score=0)\n",
    "grid_result = grid_search.fit(valence_x_train, valence_y_train)\n",
    "# summarize results\n",
    "print(\"Best: %f using %s\" % (grid_result.best_score_, grid_result.best_params_))"
   ]
  },
  {
   "cell_type": "code",
   "execution_count": 65,
   "metadata": {},
   "outputs": [
    {
     "name": "stdout",
     "output_type": "stream",
     "text": [
      "training accuracy, on the valence_x_train data is:  1.0\n",
      "validation accuracy, on the valence_x_test data is:  0.6666666666666666\n"
     ]
    }
   ],
   "source": [
    "dt_valence_gridSearched = DecisionTreeClassifier(criterion='gini', max_depth=5, splitter='best')\n",
    "dt_valence_gridSearched.fit(valence_x_train,valence_y_train)\n",
    "print(\"training accuracy, on the valence_x_train data is: \",dt_valence_gridSearched.score(valence_x_train, valence_y_train))\n",
    "print(\"validation accuracy, on the valence_x_test data is: \",dt_valence_gridSearched.score(valence_x_test, valence_y_test))"
   ]
  },
  {
   "cell_type": "markdown",
   "metadata": {},
   "source": [
    "## Tension Classification"
   ]
  },
  {
   "cell_type": "markdown",
   "metadata": {},
   "source": [
    "Lets take a look at how a normal, parametrised-by-default ridge classifier performs on valence data"
   ]
  },
  {
   "cell_type": "code",
   "execution_count": 66,
   "metadata": {},
   "outputs": [
    {
     "name": "stdout",
     "output_type": "stream",
     "text": [
      "training accuracy, on the tension_x_train data is:  1.0\n",
      "validation accuracy, on the tension_x_test data is:  0.6818181818181818\n"
     ]
    }
   ],
   "source": [
    "dt_tension_default = DecisionTreeClassifier()\n",
    "dt_tension_default.fit(tension_x_train,tension_y_train)\n",
    "print(\"training accuracy, on the tension_x_train data is: \",dt_tension_default.score(tension_x_train, tension_y_train))\n",
    "print(\"validation accuracy, on the tension_x_test data is: \",dt_tension_default.score(tension_x_test, tension_y_test))"
   ]
  },
  {
   "cell_type": "markdown",
   "metadata": {},
   "source": [
    "Trying **Grid Search** for hyper-parameter tuning for this classifier"
   ]
  },
  {
   "cell_type": "code",
   "execution_count": 67,
   "metadata": {},
   "outputs": [
    {
     "name": "stdout",
     "output_type": "stream",
     "text": [
      "Best: 0.624031 using {'criterion': 'entropy', 'max_depth': None, 'splitter': 'best'}\n"
     ]
    },
    {
     "name": "stderr",
     "output_type": "stream",
     "text": [
      "/home/laferrari/anaconda3/envs/tensorflow_cpu/lib/python3.6/site-packages/sklearn/model_selection/_search.py:814: DeprecationWarning: The default of the `iid` parameter will change from True to False in version 0.22 and will be removed in 0.24. This will change numeric results when test-set sizes are unequal.\n",
      "  DeprecationWarning)\n"
     ]
    }
   ],
   "source": [
    "from sklearn.model_selection import GridSearchCV\n",
    "from sklearn.model_selection import RepeatedStratifiedKFold\n",
    "\n",
    "criterion=['entropy', 'gini']\n",
    "max_depth=[1, 3, 5, None]\n",
    "splitter = ['best', 'random']\n",
    "\n",
    "grid=dict(criterion=criterion, max_depth=max_depth, splitter=splitter)\n",
    "grid_search = GridSearchCV(estimator=dt_tension_default, param_grid=grid, n_jobs=-1, cv=cv, scoring='accuracy',error_score=0)\n",
    "grid_result = grid_search.fit(tension_x_train, tension_y_train)\n",
    "# summarize results\n",
    "print(\"Best: %f using %s\" % (grid_result.best_score_, grid_result.best_params_))"
   ]
  },
  {
   "cell_type": "code",
   "execution_count": 68,
   "metadata": {
    "scrolled": false
   },
   "outputs": [
    {
     "name": "stdout",
     "output_type": "stream",
     "text": [
      "training accuracy, on the tension_x_train data is:  0.813953488372093\n",
      "validation accuracy, on the tension_x_test data is:  0.36363636363636365\n"
     ]
    }
   ],
   "source": [
    "dt_tension_gridSearched = DecisionTreeClassifier(criterion='entropy', max_depth=5, splitter='random')\n",
    "dt_tension_gridSearched.fit(tension_x_train,tension_y_train)\n",
    "print(\"training accuracy, on the tension_x_train data is: \",dt_tension_gridSearched.score(tension_x_train, tension_y_train))\n",
    "print(\"validation accuracy, on the tension_x_test data is: \",dt_tension_gridSearched.score(tension_x_test, tension_y_test))"
   ]
  },
  {
   "cell_type": "markdown",
   "metadata": {},
   "source": [
    "# Arousal-classification:"
   ]
  },
  {
   "cell_type": "markdown",
   "metadata": {},
   "source": [
    "We compare all the 8 models:\n",
    "1. default and gridSearched Ridge classifier\n",
    "2. default and gridSearched k neighbors classifier\n",
    "3. default and gridSearched SVM classifier\n",
    "4. default and gridSearched decision tree classifier"
   ]
  },
  {
   "cell_type": "code",
   "execution_count": 95,
   "metadata": {},
   "outputs": [
    {
     "name": "stdout",
     "output_type": "stream",
     "text": [
      "The best classifier for arousal classification is : def-dt, with testing accuracy of : 0.909091 \n"
     ]
    }
   ],
   "source": [
    "arousal_scores = []\n",
    "arousal_scores.append(ridge_clf_arousal_default.score(arousal_x_test, arousal_y_test))\n",
    "arousal_scores.append(ridge_clf_arousal_gridSearched.score(arousal_x_test, arousal_y_test))\n",
    "arousal_scores.append(knc_arousal_default.score(arousal_x_test, arousal_y_test))\n",
    "arousal_scores.append(knc_arousal_gridSearched.score(arousal_x_test, arousal_y_test))\n",
    "arousal_scores.append(svc_arousal_default.score(arousal_x_test, arousal_y_test))\n",
    "arousal_scores.append(svc_arousal_gridSearched.score(arousal_x_test, arousal_y_test))\n",
    "arousal_scores.append(dt_arousal_default.score(arousal_x_test, arousal_y_test))\n",
    "arousal_scores.append(dt_arousal_gridSearched.score(arousal_x_test, arousal_y_test))\n",
    "\n",
    "n = ['def-ridge', 'grid-ridge', 'def-knc', 'grid-knc', 'def-svc', 'grid-svc', 'def-dt','grid-dt']\n",
    "\n",
    "print(\"The best classifier for arousal classification is : %s, with testing accuracy of : %f \" % (n[np.argmax(arousal_scores)], arousal_scores[np.argmax(arousal_scores)]))"
   ]
  },
  {
   "cell_type": "markdown",
   "metadata": {},
   "source": [
    "# Valence Classification:\n",
    "We compare all the 8 models:\n",
    "1. default and gridSearched Ridge classifier\n",
    "2. default and gridSearched k neighbors classifier\n",
    "3. default and gridSearched SVM classifier\n",
    "4. default and gridSearched decision tree classifier"
   ]
  },
  {
   "cell_type": "code",
   "execution_count": 96,
   "metadata": {},
   "outputs": [
    {
     "name": "stdout",
     "output_type": "stream",
     "text": [
      "The best classifier for valence classification is : grid-knc, with testing accuracy of : 0.666667 \n"
     ]
    }
   ],
   "source": [
    "valence_scores = []\n",
    "valence_scores.append(ridge_clf_valence_default.score(valence_x_test, valence_y_test))\n",
    "valence_scores.append(ridge_clf_valence_gridSearched.score(valence_x_test, valence_y_test))\n",
    "valence_scores.append(knc_valence_default.score(valence_x_test, valence_y_test))\n",
    "valence_scores.append(knc_valence_gridSearched.score(valence_x_test, valence_y_test))\n",
    "valence_scores.append(svc_valence_default.score(valence_x_test, valence_y_test))\n",
    "valence_scores.append(svc_valence_gridSearched.score(valence_x_test, valence_y_test))\n",
    "valence_scores.append(dt_valence_default.score(valence_x_test, valence_y_test))\n",
    "valence_scores.append(dt_valence_gridSearched.score(valence_x_test, valence_y_test))\n",
    "\n",
    "n = ['def-ridge', 'grid-ridge', 'def-knc', 'grid-knc', 'def-svc', 'grid-svc', 'def-dt','grid-dt']\n",
    "\n",
    "print(\"The best classifier for valence classification is : %s, with testing accuracy of : %f \" % (n[np.argmax(valence_scores)], valence_scores[np.argmax(valence_scores)]))"
   ]
  },
  {
   "cell_type": "markdown",
   "metadata": {},
   "source": [
    "# Tension Classification:\n",
    "We compare all the 8 models:\n",
    "1. default and gridSearched Ridge classifier\n",
    "2. default and gridSearched k neighbors classifier\n",
    "3. default and gridSearched SVM classifier\n",
    "4. default and gridSearched decision tree classifier"
   ]
  },
  {
   "cell_type": "code",
   "execution_count": 97,
   "metadata": {},
   "outputs": [
    {
     "name": "stdout",
     "output_type": "stream",
     "text": [
      "The best classifier for tension classification is : def-ridge, with testing accuracy of : 0.727273 \n"
     ]
    }
   ],
   "source": [
    "tension_scores = []\n",
    "tension_scores.append(ridge_clf_tension_default.score(tension_x_test, tension_y_test))\n",
    "tension_scores.append(ridge_clf_tension_gridSearched.score(tension_x_test, tension_y_test))\n",
    "tension_scores.append(knc_tension_default.score(tension_x_test, tension_y_test))\n",
    "tension_scores.append(knc_tension_gridSearched.score(tension_x_test, tension_y_test))\n",
    "tension_scores.append(svc_tension_default.score(tension_x_test, tension_y_test))\n",
    "tension_scores.append(svc_tension_gridSearched.score(tension_x_test, tension_y_test))\n",
    "tension_scores.append(dt_tension_default.score(tension_x_test, tension_y_test))\n",
    "tension_scores.append(dt_tension_gridSearched.score(tension_x_test, tension_y_test))\n",
    "\n",
    "n = ['def-ridge', 'grid-ridge', 'def-knc', 'grid-knc', 'def-svc', 'grid-svc', 'def-dt','grid-dt']\n",
    "\n",
    "print(\"The best classifier for tension classification is : %s, with testing accuracy of : %f \" % (n[np.argmax(tension_scores)], tension_scores[np.argmax(tension_scores)]))"
   ]
  },
  {
   "cell_type": "markdown",
   "metadata": {},
   "source": [
    "# Voting Classifier \n",
    "1. We planned on trying out a voting classifier, based on the above obtained results.\n",
    "2. We chose those classifiers which performed the best in all the 3 classification tasks."
   ]
  },
  {
   "cell_type": "code",
   "execution_count": 98,
   "metadata": {},
   "outputs": [],
   "source": [
    "from sklearn.ensemble import VotingClassifier\n",
    "voting_clf = VotingClassifier(estimators=[('ridge', ridge_clf_tension_default),('knc', knc_valence_gridSearched),('dt', dt_arousal_default)])"
   ]
  },
  {
   "cell_type": "markdown",
   "metadata": {},
   "source": [
    "### Evaluating **arousal classification** over the voting classifier"
   ]
  },
  {
   "cell_type": "code",
   "execution_count": 99,
   "metadata": {
    "scrolled": true
   },
   "outputs": [
    {
     "name": "stdout",
     "output_type": "stream",
     "text": [
      "Accuracy of voting classifier on the test data is:  0.8181818181818182\n"
     ]
    }
   ],
   "source": [
    "voting_clf = voting_clf.fit(arousal_x_train, arousal_y_train)\n",
    "print(\"Accuracy of voting classifier on the test data is: \", voting_clf.score(arousal_x_test, arousal_y_test))"
   ]
  },
  {
   "cell_type": "markdown",
   "metadata": {},
   "source": [
    "### Evaluating **valence classification** over the voting classifier"
   ]
  },
  {
   "cell_type": "code",
   "execution_count": 100,
   "metadata": {},
   "outputs": [
    {
     "name": "stdout",
     "output_type": "stream",
     "text": [
      "Accuracy of voting classifier on the test data is:  0.8333333333333334\n"
     ]
    }
   ],
   "source": [
    "voting_clf = voting_clf.fit(valence_x_train, valence_y_train)\n",
    "print(\"Accuracy of voting classifier on the test data is: \", voting_clf.score(valence_x_test, valence_y_test))"
   ]
  },
  {
   "cell_type": "markdown",
   "metadata": {},
   "source": [
    "### Evaluating **tension classification** over the voting classifier"
   ]
  },
  {
   "cell_type": "code",
   "execution_count": 101,
   "metadata": {},
   "outputs": [
    {
     "name": "stdout",
     "output_type": "stream",
     "text": [
      "Accuracy of voting classifier on the test data is:  0.7727272727272727\n"
     ]
    }
   ],
   "source": [
    "voting_clf = voting_clf.fit(tension_x_train, tension_y_train)\n",
    "print(\"Accuracy of voting classifier on the test data is: \", voting_clf.score(tension_x_test, tension_y_test))"
   ]
  }
 ],
 "metadata": {
  "kernelspec": {
   "display_name": "Python [conda env:tensorflow_cpu] *",
   "language": "python",
   "name": "conda-env-tensorflow_cpu-py"
  },
  "language_info": {
   "codemirror_mode": {
    "name": "ipython",
    "version": 3
   },
   "file_extension": ".py",
   "mimetype": "text/x-python",
   "name": "python",
   "nbconvert_exporter": "python",
   "pygments_lexer": "ipython3",
   "version": "3.6.9"
  }
 },
 "nbformat": 4,
 "nbformat_minor": 2
}

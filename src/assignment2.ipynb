{
 "cells": [
  {
   "cell_type": "code",
   "execution_count": 1,
   "metadata": {},
   "outputs": [],
   "source": [
    "import librosa\n",
    "import matplotlib.pyplot as plt\n",
    "import numpy as np\n",
    "import pandas as pd\n",
    "from IPython.display import display\n",
    "import os"
   ]
  },
  {
   "cell_type": "markdown",
   "metadata": {},
   "source": [
    "load the audio file as a timeseries in y and store sampling rate as sr(measured in Hz)\n",
    "default sr is 22kHz"
   ]
  },
  {
   "cell_type": "code",
   "execution_count": 2,
   "metadata": {},
   "outputs": [],
   "source": [
    "def getFeatures(path):\n",
    "    y, sr = librosa.load(path)\n",
    "    tempo, beats = librosa.beat.beat_track(y=y, sr=sr)\n",
    "    chroma_stft = librosa.feature.chroma_stft(y=y, sr=sr)\n",
    "    chroma_cq = librosa.feature.chroma_cqt(y=y, sr=sr)\n",
    "    chroma_cens = librosa.feature.chroma_cens(y=y, sr=sr)\n",
    "    melspectrogram = librosa.feature.melspectrogram(y=y, sr=sr)\n",
    "    rms = librosa.feature.rms(y=y)\n",
    "    cent = librosa.feature.spectral_centroid(y=y, sr=sr)\n",
    "    spec_bw = librosa.feature.spectral_bandwidth(y=y, sr=sr)\n",
    "    rolloff = librosa.feature.spectral_rolloff(y=y, sr=sr)\n",
    "    zcr = librosa.feature.zero_crossing_rate(y)\n",
    "\n",
    "\n",
    "    mfcc = librosa.feature.mfcc(y=y, sr=sr)\n",
    "    mfcc_delta = librosa.feature.delta(mfcc)\n",
    "    \n",
    "    features = []\n",
    "    features.append(tempo)\n",
    "    features.append(np.sum(beats))\n",
    "    features.append(np.mean(chroma_stft))\n",
    "    features.append(np.mean(rms))\n",
    "    features.append(np.mean(cent))\n",
    "    features.append(np.mean(spec_bw))\n",
    "    features.append(np.mean(rolloff))\n",
    "    features.append(np.mean(zcr))\n",
    "    for coefficient in mfcc:\n",
    "        features.append(np.mean(coefficient))\n",
    "    return features   "
   ]
  },
  {
   "cell_type": "markdown",
   "metadata": {},
   "source": [
    "## Dataset:\n",
    "1. Our training dataset can be found [here](https://iiitaphyd-my.sharepoint.com/personal/devansh_manu_research_iiit_ac_in/_layouts/15/onedrive.aspx?originalPath=aHR0cHM6Ly9paWl0YXBoeWQtbXkuc2hhcmVwb2ludC5jb20vOmY6L2cvcGVyc29uYWwvZGV2YW5zaF9tYW51X3Jlc2VhcmNoX2lpaXRfYWNfaW4vRWxZZm1zQ3h0Q2xJcjJLSVBqcWEzYUFCdFVva2xha2cwNnBCMDJMMmlKaWVIdz9ydGltZT1UNjRHc1lqQzEwZw&viewid=5db72c70%2D223f%2D4887%2Dbf50%2Dbd0fbf14638f&id=%2Fpersonal%2Fdevansh%5Fmanu%5Fresearch%5Fiiit%5Fac%5Fin%2FDocuments%2FMMT%20%2D%20Hands%20on%20activity%2FEmotion%20Classification)\n",
    "2. From the above link, we picked up the Arousal and Valence data.\n",
    "3. From [this](https://onedrive.live.com/?authkey=%21ABJMt2rGTQvCxyM&id=3E1ACB43A24F0BDA%21352&cid=3E1ACB43A24F0BDA) link, we picked up the already-annotated Tension data.\n",
    "4. Training of our model was done on the above mentioned Arousal, Valence and Tension dataset. \n",
    "5. Our testing, which you would see at the end of this notebook, is done on the un-annotated data mentioned in this [link](https://onedrive.live.com/?authkey=%21ABJMt2rGTQvCxyM&id=3E1ACB43A24F0BDA%21122&cid=3E1ACB43A24F0BDA)"
   ]
  },
  {
   "cell_type": "markdown",
   "metadata": {},
   "source": [
    "Get training data-directory names"
   ]
  },
  {
   "cell_type": "code",
   "execution_count": 3,
   "metadata": {
    "scrolled": true
   },
   "outputs": [],
   "source": [
    "feature_set, y_labels = [], []\n",
    "dir_list = [\"../emotion_dataset/training/Arousal/\", \"../emotion_dataset/training/Valence/\", \"../emotion_dataset/training/Tension/\"]"
   ]
  },
  {
   "cell_type": "code",
   "execution_count": 4,
   "metadata": {
    "scrolled": true
   },
   "outputs": [
    {
     "data": {
      "text/plain": [
       "'/home/laferrari/IIIT-H SEMESTERS/8th_sem/Music, Mind and Technology/assignment2/src'"
      ]
     },
     "execution_count": 4,
     "metadata": {},
     "output_type": "execute_result"
    }
   ],
   "source": [
    "os.getcwd()"
   ]
  },
  {
   "cell_type": "markdown",
   "metadata": {},
   "source": [
    "Extracting features for Arousal and Valence music tracks"
   ]
  },
  {
   "cell_type": "code",
   "execution_count": 5,
   "metadata": {
    "scrolled": true
   },
   "outputs": [
    {
     "name": "stderr",
     "output_type": "stream",
     "text": [
      "/home/laferrari/anaconda3/envs/tensorflow_cpu/lib/python3.6/site-packages/librosa/core/audio.py:161: UserWarning: PySoundFile failed. Trying audioread instead.\n",
      "  warnings.warn('PySoundFile failed. Trying audioread instead.')\n",
      "/home/laferrari/anaconda3/envs/tensorflow_cpu/lib/python3.6/site-packages/librosa/core/audio.py:161: UserWarning: PySoundFile failed. Trying audioread instead.\n",
      "  warnings.warn('PySoundFile failed. Trying audioread instead.')\n",
      "/home/laferrari/anaconda3/envs/tensorflow_cpu/lib/python3.6/site-packages/librosa/core/audio.py:161: UserWarning: PySoundFile failed. Trying audioread instead.\n",
      "  warnings.warn('PySoundFile failed. Trying audioread instead.')\n",
      "/home/laferrari/anaconda3/envs/tensorflow_cpu/lib/python3.6/site-packages/librosa/core/audio.py:161: UserWarning: PySoundFile failed. Trying audioread instead.\n",
      "  warnings.warn('PySoundFile failed. Trying audioread instead.')\n",
      "/home/laferrari/anaconda3/envs/tensorflow_cpu/lib/python3.6/site-packages/librosa/core/audio.py:161: UserWarning: PySoundFile failed. Trying audioread instead.\n",
      "  warnings.warn('PySoundFile failed. Trying audioread instead.')\n",
      "/home/laferrari/anaconda3/envs/tensorflow_cpu/lib/python3.6/site-packages/librosa/core/audio.py:161: UserWarning: PySoundFile failed. Trying audioread instead.\n",
      "  warnings.warn('PySoundFile failed. Trying audioread instead.')\n",
      "/home/laferrari/anaconda3/envs/tensorflow_cpu/lib/python3.6/site-packages/librosa/core/audio.py:161: UserWarning: PySoundFile failed. Trying audioread instead.\n",
      "  warnings.warn('PySoundFile failed. Trying audioread instead.')\n",
      "/home/laferrari/anaconda3/envs/tensorflow_cpu/lib/python3.6/site-packages/librosa/core/audio.py:161: UserWarning: PySoundFile failed. Trying audioread instead.\n",
      "  warnings.warn('PySoundFile failed. Trying audioread instead.')\n",
      "/home/laferrari/anaconda3/envs/tensorflow_cpu/lib/python3.6/site-packages/librosa/core/audio.py:161: UserWarning: PySoundFile failed. Trying audioread instead.\n",
      "  warnings.warn('PySoundFile failed. Trying audioread instead.')\n",
      "/home/laferrari/anaconda3/envs/tensorflow_cpu/lib/python3.6/site-packages/librosa/core/audio.py:161: UserWarning: PySoundFile failed. Trying audioread instead.\n",
      "  warnings.warn('PySoundFile failed. Trying audioread instead.')\n",
      "/home/laferrari/anaconda3/envs/tensorflow_cpu/lib/python3.6/site-packages/librosa/core/audio.py:161: UserWarning: PySoundFile failed. Trying audioread instead.\n",
      "  warnings.warn('PySoundFile failed. Trying audioread instead.')\n",
      "/home/laferrari/anaconda3/envs/tensorflow_cpu/lib/python3.6/site-packages/librosa/core/audio.py:161: UserWarning: PySoundFile failed. Trying audioread instead.\n",
      "  warnings.warn('PySoundFile failed. Trying audioread instead.')\n",
      "/home/laferrari/anaconda3/envs/tensorflow_cpu/lib/python3.6/site-packages/librosa/core/audio.py:161: UserWarning: PySoundFile failed. Trying audioread instead.\n",
      "  warnings.warn('PySoundFile failed. Trying audioread instead.')\n",
      "/home/laferrari/anaconda3/envs/tensorflow_cpu/lib/python3.6/site-packages/librosa/core/audio.py:161: UserWarning: PySoundFile failed. Trying audioread instead.\n",
      "  warnings.warn('PySoundFile failed. Trying audioread instead.')\n",
      "/home/laferrari/anaconda3/envs/tensorflow_cpu/lib/python3.6/site-packages/librosa/core/audio.py:161: UserWarning: PySoundFile failed. Trying audioread instead.\n",
      "  warnings.warn('PySoundFile failed. Trying audioread instead.')\n",
      "/home/laferrari/anaconda3/envs/tensorflow_cpu/lib/python3.6/site-packages/librosa/core/audio.py:161: UserWarning: PySoundFile failed. Trying audioread instead.\n",
      "  warnings.warn('PySoundFile failed. Trying audioread instead.')\n",
      "/home/laferrari/anaconda3/envs/tensorflow_cpu/lib/python3.6/site-packages/librosa/core/audio.py:161: UserWarning: PySoundFile failed. Trying audioread instead.\n",
      "  warnings.warn('PySoundFile failed. Trying audioread instead.')\n",
      "/home/laferrari/anaconda3/envs/tensorflow_cpu/lib/python3.6/site-packages/librosa/core/audio.py:161: UserWarning: PySoundFile failed. Trying audioread instead.\n",
      "  warnings.warn('PySoundFile failed. Trying audioread instead.')\n",
      "/home/laferrari/anaconda3/envs/tensorflow_cpu/lib/python3.6/site-packages/librosa/core/audio.py:161: UserWarning: PySoundFile failed. Trying audioread instead.\n",
      "  warnings.warn('PySoundFile failed. Trying audioread instead.')\n",
      "/home/laferrari/anaconda3/envs/tensorflow_cpu/lib/python3.6/site-packages/librosa/core/audio.py:161: UserWarning: PySoundFile failed. Trying audioread instead.\n",
      "  warnings.warn('PySoundFile failed. Trying audioread instead.')\n",
      "/home/laferrari/anaconda3/envs/tensorflow_cpu/lib/python3.6/site-packages/librosa/core/audio.py:161: UserWarning: PySoundFile failed. Trying audioread instead.\n",
      "  warnings.warn('PySoundFile failed. Trying audioread instead.')\n",
      "/home/laferrari/anaconda3/envs/tensorflow_cpu/lib/python3.6/site-packages/librosa/core/audio.py:161: UserWarning: PySoundFile failed. Trying audioread instead.\n",
      "  warnings.warn('PySoundFile failed. Trying audioread instead.')\n",
      "/home/laferrari/anaconda3/envs/tensorflow_cpu/lib/python3.6/site-packages/librosa/core/audio.py:161: UserWarning: PySoundFile failed. Trying audioread instead.\n",
      "  warnings.warn('PySoundFile failed. Trying audioread instead.')\n",
      "/home/laferrari/anaconda3/envs/tensorflow_cpu/lib/python3.6/site-packages/librosa/core/audio.py:161: UserWarning: PySoundFile failed. Trying audioread instead.\n",
      "  warnings.warn('PySoundFile failed. Trying audioread instead.')\n",
      "/home/laferrari/anaconda3/envs/tensorflow_cpu/lib/python3.6/site-packages/librosa/core/audio.py:161: UserWarning: PySoundFile failed. Trying audioread instead.\n",
      "  warnings.warn('PySoundFile failed. Trying audioread instead.')\n",
      "/home/laferrari/anaconda3/envs/tensorflow_cpu/lib/python3.6/site-packages/librosa/core/audio.py:161: UserWarning: PySoundFile failed. Trying audioread instead.\n",
      "  warnings.warn('PySoundFile failed. Trying audioread instead.')\n",
      "/home/laferrari/anaconda3/envs/tensorflow_cpu/lib/python3.6/site-packages/librosa/core/audio.py:161: UserWarning: PySoundFile failed. Trying audioread instead.\n",
      "  warnings.warn('PySoundFile failed. Trying audioread instead.')\n",
      "/home/laferrari/anaconda3/envs/tensorflow_cpu/lib/python3.6/site-packages/librosa/core/audio.py:161: UserWarning: PySoundFile failed. Trying audioread instead.\n",
      "  warnings.warn('PySoundFile failed. Trying audioread instead.')\n",
      "/home/laferrari/anaconda3/envs/tensorflow_cpu/lib/python3.6/site-packages/librosa/core/audio.py:161: UserWarning: PySoundFile failed. Trying audioread instead.\n",
      "  warnings.warn('PySoundFile failed. Trying audioread instead.')\n",
      "/home/laferrari/anaconda3/envs/tensorflow_cpu/lib/python3.6/site-packages/librosa/core/audio.py:161: UserWarning: PySoundFile failed. Trying audioread instead.\n",
      "  warnings.warn('PySoundFile failed. Trying audioread instead.')\n",
      "/home/laferrari/anaconda3/envs/tensorflow_cpu/lib/python3.6/site-packages/librosa/core/audio.py:161: UserWarning: PySoundFile failed. Trying audioread instead.\n",
      "  warnings.warn('PySoundFile failed. Trying audioread instead.')\n",
      "/home/laferrari/anaconda3/envs/tensorflow_cpu/lib/python3.6/site-packages/librosa/core/audio.py:161: UserWarning: PySoundFile failed. Trying audioread instead.\n",
      "  warnings.warn('PySoundFile failed. Trying audioread instead.')\n",
      "/home/laferrari/anaconda3/envs/tensorflow_cpu/lib/python3.6/site-packages/librosa/core/audio.py:161: UserWarning: PySoundFile failed. Trying audioread instead.\n",
      "  warnings.warn('PySoundFile failed. Trying audioread instead.')\n",
      "/home/laferrari/anaconda3/envs/tensorflow_cpu/lib/python3.6/site-packages/librosa/core/audio.py:161: UserWarning: PySoundFile failed. Trying audioread instead.\n",
      "  warnings.warn('PySoundFile failed. Trying audioread instead.')\n",
      "/home/laferrari/anaconda3/envs/tensorflow_cpu/lib/python3.6/site-packages/librosa/core/audio.py:161: UserWarning: PySoundFile failed. Trying audioread instead.\n",
      "  warnings.warn('PySoundFile failed. Trying audioread instead.')\n",
      "/home/laferrari/anaconda3/envs/tensorflow_cpu/lib/python3.6/site-packages/librosa/core/audio.py:161: UserWarning: PySoundFile failed. Trying audioread instead.\n",
      "  warnings.warn('PySoundFile failed. Trying audioread instead.')\n",
      "/home/laferrari/anaconda3/envs/tensorflow_cpu/lib/python3.6/site-packages/librosa/core/audio.py:161: UserWarning: PySoundFile failed. Trying audioread instead.\n",
      "  warnings.warn('PySoundFile failed. Trying audioread instead.')\n"
     ]
    },
    {
     "name": "stderr",
     "output_type": "stream",
     "text": [
      "/home/laferrari/anaconda3/envs/tensorflow_cpu/lib/python3.6/site-packages/librosa/core/audio.py:161: UserWarning: PySoundFile failed. Trying audioread instead.\n",
      "  warnings.warn('PySoundFile failed. Trying audioread instead.')\n",
      "/home/laferrari/anaconda3/envs/tensorflow_cpu/lib/python3.6/site-packages/librosa/core/audio.py:161: UserWarning: PySoundFile failed. Trying audioread instead.\n",
      "  warnings.warn('PySoundFile failed. Trying audioread instead.')\n",
      "/home/laferrari/anaconda3/envs/tensorflow_cpu/lib/python3.6/site-packages/librosa/core/audio.py:161: UserWarning: PySoundFile failed. Trying audioread instead.\n",
      "  warnings.warn('PySoundFile failed. Trying audioread instead.')\n",
      "/home/laferrari/anaconda3/envs/tensorflow_cpu/lib/python3.6/site-packages/librosa/core/audio.py:161: UserWarning: PySoundFile failed. Trying audioread instead.\n",
      "  warnings.warn('PySoundFile failed. Trying audioread instead.')\n",
      "/home/laferrari/anaconda3/envs/tensorflow_cpu/lib/python3.6/site-packages/librosa/core/audio.py:161: UserWarning: PySoundFile failed. Trying audioread instead.\n",
      "  warnings.warn('PySoundFile failed. Trying audioread instead.')\n",
      "/home/laferrari/anaconda3/envs/tensorflow_cpu/lib/python3.6/site-packages/librosa/core/audio.py:161: UserWarning: PySoundFile failed. Trying audioread instead.\n",
      "  warnings.warn('PySoundFile failed. Trying audioread instead.')\n",
      "/home/laferrari/anaconda3/envs/tensorflow_cpu/lib/python3.6/site-packages/librosa/core/audio.py:161: UserWarning: PySoundFile failed. Trying audioread instead.\n",
      "  warnings.warn('PySoundFile failed. Trying audioread instead.')\n",
      "/home/laferrari/anaconda3/envs/tensorflow_cpu/lib/python3.6/site-packages/librosa/core/audio.py:161: UserWarning: PySoundFile failed. Trying audioread instead.\n",
      "  warnings.warn('PySoundFile failed. Trying audioread instead.')\n",
      "/home/laferrari/anaconda3/envs/tensorflow_cpu/lib/python3.6/site-packages/librosa/core/audio.py:161: UserWarning: PySoundFile failed. Trying audioread instead.\n",
      "  warnings.warn('PySoundFile failed. Trying audioread instead.')\n",
      "/home/laferrari/anaconda3/envs/tensorflow_cpu/lib/python3.6/site-packages/librosa/core/audio.py:161: UserWarning: PySoundFile failed. Trying audioread instead.\n",
      "  warnings.warn('PySoundFile failed. Trying audioread instead.')\n",
      "/home/laferrari/anaconda3/envs/tensorflow_cpu/lib/python3.6/site-packages/librosa/core/audio.py:161: UserWarning: PySoundFile failed. Trying audioread instead.\n",
      "  warnings.warn('PySoundFile failed. Trying audioread instead.')\n",
      "/home/laferrari/anaconda3/envs/tensorflow_cpu/lib/python3.6/site-packages/librosa/core/audio.py:161: UserWarning: PySoundFile failed. Trying audioread instead.\n",
      "  warnings.warn('PySoundFile failed. Trying audioread instead.')\n",
      "/home/laferrari/anaconda3/envs/tensorflow_cpu/lib/python3.6/site-packages/librosa/core/audio.py:161: UserWarning: PySoundFile failed. Trying audioread instead.\n",
      "  warnings.warn('PySoundFile failed. Trying audioread instead.')\n",
      "/home/laferrari/anaconda3/envs/tensorflow_cpu/lib/python3.6/site-packages/librosa/core/audio.py:161: UserWarning: PySoundFile failed. Trying audioread instead.\n",
      "  warnings.warn('PySoundFile failed. Trying audioread instead.')\n",
      "/home/laferrari/anaconda3/envs/tensorflow_cpu/lib/python3.6/site-packages/librosa/core/audio.py:161: UserWarning: PySoundFile failed. Trying audioread instead.\n",
      "  warnings.warn('PySoundFile failed. Trying audioread instead.')\n",
      "/home/laferrari/anaconda3/envs/tensorflow_cpu/lib/python3.6/site-packages/librosa/core/audio.py:161: UserWarning: PySoundFile failed. Trying audioread instead.\n",
      "  warnings.warn('PySoundFile failed. Trying audioread instead.')\n",
      "/home/laferrari/anaconda3/envs/tensorflow_cpu/lib/python3.6/site-packages/librosa/core/audio.py:161: UserWarning: PySoundFile failed. Trying audioread instead.\n",
      "  warnings.warn('PySoundFile failed. Trying audioread instead.')\n",
      "/home/laferrari/anaconda3/envs/tensorflow_cpu/lib/python3.6/site-packages/librosa/core/audio.py:161: UserWarning: PySoundFile failed. Trying audioread instead.\n",
      "  warnings.warn('PySoundFile failed. Trying audioread instead.')\n",
      "/home/laferrari/anaconda3/envs/tensorflow_cpu/lib/python3.6/site-packages/librosa/core/audio.py:161: UserWarning: PySoundFile failed. Trying audioread instead.\n",
      "  warnings.warn('PySoundFile failed. Trying audioread instead.')\n",
      "/home/laferrari/anaconda3/envs/tensorflow_cpu/lib/python3.6/site-packages/librosa/core/audio.py:161: UserWarning: PySoundFile failed. Trying audioread instead.\n",
      "  warnings.warn('PySoundFile failed. Trying audioread instead.')\n",
      "/home/laferrari/anaconda3/envs/tensorflow_cpu/lib/python3.6/site-packages/librosa/core/audio.py:161: UserWarning: PySoundFile failed. Trying audioread instead.\n",
      "  warnings.warn('PySoundFile failed. Trying audioread instead.')\n",
      "/home/laferrari/anaconda3/envs/tensorflow_cpu/lib/python3.6/site-packages/librosa/core/audio.py:161: UserWarning: PySoundFile failed. Trying audioread instead.\n",
      "  warnings.warn('PySoundFile failed. Trying audioread instead.')\n",
      "/home/laferrari/anaconda3/envs/tensorflow_cpu/lib/python3.6/site-packages/librosa/core/audio.py:161: UserWarning: PySoundFile failed. Trying audioread instead.\n",
      "  warnings.warn('PySoundFile failed. Trying audioread instead.')\n",
      "/home/laferrari/anaconda3/envs/tensorflow_cpu/lib/python3.6/site-packages/librosa/core/audio.py:161: UserWarning: PySoundFile failed. Trying audioread instead.\n",
      "  warnings.warn('PySoundFile failed. Trying audioread instead.')\n",
      "/home/laferrari/anaconda3/envs/tensorflow_cpu/lib/python3.6/site-packages/librosa/core/audio.py:161: UserWarning: PySoundFile failed. Trying audioread instead.\n",
      "  warnings.warn('PySoundFile failed. Trying audioread instead.')\n",
      "/home/laferrari/anaconda3/envs/tensorflow_cpu/lib/python3.6/site-packages/librosa/core/audio.py:161: UserWarning: PySoundFile failed. Trying audioread instead.\n",
      "  warnings.warn('PySoundFile failed. Trying audioread instead.')\n",
      "/home/laferrari/anaconda3/envs/tensorflow_cpu/lib/python3.6/site-packages/librosa/core/audio.py:161: UserWarning: PySoundFile failed. Trying audioread instead.\n",
      "  warnings.warn('PySoundFile failed. Trying audioread instead.')\n",
      "/home/laferrari/anaconda3/envs/tensorflow_cpu/lib/python3.6/site-packages/librosa/core/audio.py:161: UserWarning: PySoundFile failed. Trying audioread instead.\n",
      "  warnings.warn('PySoundFile failed. Trying audioread instead.')\n",
      "/home/laferrari/anaconda3/envs/tensorflow_cpu/lib/python3.6/site-packages/librosa/core/audio.py:161: UserWarning: PySoundFile failed. Trying audioread instead.\n",
      "  warnings.warn('PySoundFile failed. Trying audioread instead.')\n",
      "/home/laferrari/anaconda3/envs/tensorflow_cpu/lib/python3.6/site-packages/librosa/core/audio.py:161: UserWarning: PySoundFile failed. Trying audioread instead.\n",
      "  warnings.warn('PySoundFile failed. Trying audioread instead.')\n",
      "/home/laferrari/anaconda3/envs/tensorflow_cpu/lib/python3.6/site-packages/librosa/core/audio.py:161: UserWarning: PySoundFile failed. Trying audioread instead.\n",
      "  warnings.warn('PySoundFile failed. Trying audioread instead.')\n",
      "/home/laferrari/anaconda3/envs/tensorflow_cpu/lib/python3.6/site-packages/librosa/core/audio.py:161: UserWarning: PySoundFile failed. Trying audioread instead.\n",
      "  warnings.warn('PySoundFile failed. Trying audioread instead.')\n",
      "/home/laferrari/anaconda3/envs/tensorflow_cpu/lib/python3.6/site-packages/librosa/core/audio.py:161: UserWarning: PySoundFile failed. Trying audioread instead.\n",
      "  warnings.warn('PySoundFile failed. Trying audioread instead.')\n",
      "/home/laferrari/anaconda3/envs/tensorflow_cpu/lib/python3.6/site-packages/librosa/core/audio.py:161: UserWarning: PySoundFile failed. Trying audioread instead.\n",
      "  warnings.warn('PySoundFile failed. Trying audioread instead.')\n",
      "/home/laferrari/anaconda3/envs/tensorflow_cpu/lib/python3.6/site-packages/librosa/core/audio.py:161: UserWarning: PySoundFile failed. Trying audioread instead.\n",
      "  warnings.warn('PySoundFile failed. Trying audioread instead.')\n",
      "/home/laferrari/anaconda3/envs/tensorflow_cpu/lib/python3.6/site-packages/librosa/core/audio.py:161: UserWarning: PySoundFile failed. Trying audioread instead.\n",
      "  warnings.warn('PySoundFile failed. Trying audioread instead.')\n",
      "/home/laferrari/anaconda3/envs/tensorflow_cpu/lib/python3.6/site-packages/librosa/core/audio.py:161: UserWarning: PySoundFile failed. Trying audioread instead.\n",
      "  warnings.warn('PySoundFile failed. Trying audioread instead.')\n"
     ]
    },
    {
     "name": "stderr",
     "output_type": "stream",
     "text": [
      "/home/laferrari/anaconda3/envs/tensorflow_cpu/lib/python3.6/site-packages/librosa/core/audio.py:161: UserWarning: PySoundFile failed. Trying audioread instead.\n",
      "  warnings.warn('PySoundFile failed. Trying audioread instead.')\n",
      "/home/laferrari/anaconda3/envs/tensorflow_cpu/lib/python3.6/site-packages/librosa/core/audio.py:161: UserWarning: PySoundFile failed. Trying audioread instead.\n",
      "  warnings.warn('PySoundFile failed. Trying audioread instead.')\n",
      "/home/laferrari/anaconda3/envs/tensorflow_cpu/lib/python3.6/site-packages/librosa/core/audio.py:161: UserWarning: PySoundFile failed. Trying audioread instead.\n",
      "  warnings.warn('PySoundFile failed. Trying audioread instead.')\n",
      "/home/laferrari/anaconda3/envs/tensorflow_cpu/lib/python3.6/site-packages/librosa/core/audio.py:161: UserWarning: PySoundFile failed. Trying audioread instead.\n",
      "  warnings.warn('PySoundFile failed. Trying audioread instead.')\n",
      "/home/laferrari/anaconda3/envs/tensorflow_cpu/lib/python3.6/site-packages/librosa/core/audio.py:161: UserWarning: PySoundFile failed. Trying audioread instead.\n",
      "  warnings.warn('PySoundFile failed. Trying audioread instead.')\n",
      "/home/laferrari/anaconda3/envs/tensorflow_cpu/lib/python3.6/site-packages/librosa/core/audio.py:161: UserWarning: PySoundFile failed. Trying audioread instead.\n",
      "  warnings.warn('PySoundFile failed. Trying audioread instead.')\n",
      "/home/laferrari/anaconda3/envs/tensorflow_cpu/lib/python3.6/site-packages/librosa/core/audio.py:161: UserWarning: PySoundFile failed. Trying audioread instead.\n",
      "  warnings.warn('PySoundFile failed. Trying audioread instead.')\n"
     ]
    }
   ],
   "source": [
    "for i in range(2):\n",
    "    dirName1, dirName2 = dir_list[i]+\"Positive/\", dir_list[i]+\"Negative/\"\n",
    "    dirContents = os.listdir(dirName1)\n",
    "    temp_y_label = \"A\"\n",
    "    if i == 1:\n",
    "        temp_y_label = \"V\"\n",
    "    for music in dirContents:\n",
    "        currSongFeatures = getFeatures(dirName1+music)\n",
    "        y_labels.append(temp_y_label+\"P\")\n",
    "        feature_set.append(currSongFeatures)\n",
    "    dirContents = os.listdir(dirName2)    \n",
    "    for music in dirContents:\n",
    "        currSongFeatures = getFeatures(dirName2+music)\n",
    "        y_labels.append(temp_y_label+\"N\")\n",
    "        feature_set.append(currSongFeatures)"
   ]
  },
  {
   "cell_type": "markdown",
   "metadata": {},
   "source": [
    "This <font color=\"red\">warning</font> will always occur when loading mp3 because libsndfile does not (yet/currently) support the mp3 format. Librosa tries to use libsndfile first, and if that fails, it will fall back on the audioread package, which is a bit slower and more brittle, but supports more formats."
   ]
  },
  {
   "cell_type": "markdown",
   "metadata": {},
   "source": [
    "The types of labels gathered uptill now, i.e. Arousal and Valence(both can be positive and negative)"
   ]
  },
  {
   "cell_type": "code",
   "execution_count": 6,
   "metadata": {},
   "outputs": [
    {
     "name": "stdout",
     "output_type": "stream",
     "text": [
      "{'VP', 'VN', 'AN', 'AP'}\n"
     ]
    }
   ],
   "source": [
    "print(set(y_labels))"
   ]
  },
  {
   "cell_type": "code",
   "execution_count": 7,
   "metadata": {},
   "outputs": [
    {
     "name": "stderr",
     "output_type": "stream",
     "text": [
      "/home/laferrari/anaconda3/envs/tensorflow_cpu/lib/python3.6/site-packages/librosa/core/audio.py:161: UserWarning: PySoundFile failed. Trying audioread instead.\n",
      "  warnings.warn('PySoundFile failed. Trying audioread instead.')\n",
      "/home/laferrari/anaconda3/envs/tensorflow_cpu/lib/python3.6/site-packages/librosa/core/audio.py:161: UserWarning: PySoundFile failed. Trying audioread instead.\n",
      "  warnings.warn('PySoundFile failed. Trying audioread instead.')\n",
      "/home/laferrari/anaconda3/envs/tensorflow_cpu/lib/python3.6/site-packages/librosa/core/audio.py:161: UserWarning: PySoundFile failed. Trying audioread instead.\n",
      "  warnings.warn('PySoundFile failed. Trying audioread instead.')\n",
      "/home/laferrari/anaconda3/envs/tensorflow_cpu/lib/python3.6/site-packages/librosa/core/audio.py:161: UserWarning: PySoundFile failed. Trying audioread instead.\n",
      "  warnings.warn('PySoundFile failed. Trying audioread instead.')\n",
      "/home/laferrari/anaconda3/envs/tensorflow_cpu/lib/python3.6/site-packages/librosa/core/audio.py:161: UserWarning: PySoundFile failed. Trying audioread instead.\n",
      "  warnings.warn('PySoundFile failed. Trying audioread instead.')\n",
      "/home/laferrari/anaconda3/envs/tensorflow_cpu/lib/python3.6/site-packages/librosa/core/audio.py:161: UserWarning: PySoundFile failed. Trying audioread instead.\n",
      "  warnings.warn('PySoundFile failed. Trying audioread instead.')\n",
      "/home/laferrari/anaconda3/envs/tensorflow_cpu/lib/python3.6/site-packages/librosa/core/audio.py:161: UserWarning: PySoundFile failed. Trying audioread instead.\n",
      "  warnings.warn('PySoundFile failed. Trying audioread instead.')\n",
      "/home/laferrari/anaconda3/envs/tensorflow_cpu/lib/python3.6/site-packages/librosa/core/audio.py:161: UserWarning: PySoundFile failed. Trying audioread instead.\n",
      "  warnings.warn('PySoundFile failed. Trying audioread instead.')\n",
      "/home/laferrari/anaconda3/envs/tensorflow_cpu/lib/python3.6/site-packages/librosa/core/audio.py:161: UserWarning: PySoundFile failed. Trying audioread instead.\n",
      "  warnings.warn('PySoundFile failed. Trying audioread instead.')\n",
      "/home/laferrari/anaconda3/envs/tensorflow_cpu/lib/python3.6/site-packages/librosa/core/audio.py:161: UserWarning: PySoundFile failed. Trying audioread instead.\n",
      "  warnings.warn('PySoundFile failed. Trying audioread instead.')\n",
      "/home/laferrari/anaconda3/envs/tensorflow_cpu/lib/python3.6/site-packages/librosa/core/audio.py:161: UserWarning: PySoundFile failed. Trying audioread instead.\n",
      "  warnings.warn('PySoundFile failed. Trying audioread instead.')\n",
      "/home/laferrari/anaconda3/envs/tensorflow_cpu/lib/python3.6/site-packages/librosa/core/audio.py:161: UserWarning: PySoundFile failed. Trying audioread instead.\n",
      "  warnings.warn('PySoundFile failed. Trying audioread instead.')\n",
      "/home/laferrari/anaconda3/envs/tensorflow_cpu/lib/python3.6/site-packages/librosa/core/audio.py:161: UserWarning: PySoundFile failed. Trying audioread instead.\n",
      "  warnings.warn('PySoundFile failed. Trying audioread instead.')\n",
      "/home/laferrari/anaconda3/envs/tensorflow_cpu/lib/python3.6/site-packages/librosa/core/audio.py:161: UserWarning: PySoundFile failed. Trying audioread instead.\n",
      "  warnings.warn('PySoundFile failed. Trying audioread instead.')\n",
      "/home/laferrari/anaconda3/envs/tensorflow_cpu/lib/python3.6/site-packages/librosa/core/audio.py:161: UserWarning: PySoundFile failed. Trying audioread instead.\n",
      "  warnings.warn('PySoundFile failed. Trying audioread instead.')\n",
      "/home/laferrari/anaconda3/envs/tensorflow_cpu/lib/python3.6/site-packages/librosa/core/audio.py:161: UserWarning: PySoundFile failed. Trying audioread instead.\n",
      "  warnings.warn('PySoundFile failed. Trying audioread instead.')\n",
      "/home/laferrari/anaconda3/envs/tensorflow_cpu/lib/python3.6/site-packages/librosa/core/audio.py:161: UserWarning: PySoundFile failed. Trying audioread instead.\n",
      "  warnings.warn('PySoundFile failed. Trying audioread instead.')\n",
      "/home/laferrari/anaconda3/envs/tensorflow_cpu/lib/python3.6/site-packages/librosa/core/audio.py:161: UserWarning: PySoundFile failed. Trying audioread instead.\n",
      "  warnings.warn('PySoundFile failed. Trying audioread instead.')\n",
      "/home/laferrari/anaconda3/envs/tensorflow_cpu/lib/python3.6/site-packages/librosa/core/audio.py:161: UserWarning: PySoundFile failed. Trying audioread instead.\n",
      "  warnings.warn('PySoundFile failed. Trying audioread instead.')\n",
      "/home/laferrari/anaconda3/envs/tensorflow_cpu/lib/python3.6/site-packages/librosa/core/audio.py:161: UserWarning: PySoundFile failed. Trying audioread instead.\n",
      "  warnings.warn('PySoundFile failed. Trying audioread instead.')\n",
      "/home/laferrari/anaconda3/envs/tensorflow_cpu/lib/python3.6/site-packages/librosa/core/audio.py:161: UserWarning: PySoundFile failed. Trying audioread instead.\n",
      "  warnings.warn('PySoundFile failed. Trying audioread instead.')\n",
      "/home/laferrari/anaconda3/envs/tensorflow_cpu/lib/python3.6/site-packages/librosa/core/audio.py:161: UserWarning: PySoundFile failed. Trying audioread instead.\n",
      "  warnings.warn('PySoundFile failed. Trying audioread instead.')\n",
      "/home/laferrari/anaconda3/envs/tensorflow_cpu/lib/python3.6/site-packages/librosa/core/audio.py:161: UserWarning: PySoundFile failed. Trying audioread instead.\n",
      "  warnings.warn('PySoundFile failed. Trying audioread instead.')\n",
      "/home/laferrari/anaconda3/envs/tensorflow_cpu/lib/python3.6/site-packages/librosa/core/audio.py:161: UserWarning: PySoundFile failed. Trying audioread instead.\n",
      "  warnings.warn('PySoundFile failed. Trying audioread instead.')\n",
      "/home/laferrari/anaconda3/envs/tensorflow_cpu/lib/python3.6/site-packages/librosa/core/audio.py:161: UserWarning: PySoundFile failed. Trying audioread instead.\n",
      "  warnings.warn('PySoundFile failed. Trying audioread instead.')\n",
      "/home/laferrari/anaconda3/envs/tensorflow_cpu/lib/python3.6/site-packages/librosa/core/audio.py:161: UserWarning: PySoundFile failed. Trying audioread instead.\n",
      "  warnings.warn('PySoundFile failed. Trying audioread instead.')\n",
      "/home/laferrari/anaconda3/envs/tensorflow_cpu/lib/python3.6/site-packages/librosa/core/audio.py:161: UserWarning: PySoundFile failed. Trying audioread instead.\n",
      "  warnings.warn('PySoundFile failed. Trying audioread instead.')\n",
      "/home/laferrari/anaconda3/envs/tensorflow_cpu/lib/python3.6/site-packages/librosa/core/audio.py:161: UserWarning: PySoundFile failed. Trying audioread instead.\n",
      "  warnings.warn('PySoundFile failed. Trying audioread instead.')\n",
      "/home/laferrari/anaconda3/envs/tensorflow_cpu/lib/python3.6/site-packages/librosa/core/audio.py:161: UserWarning: PySoundFile failed. Trying audioread instead.\n",
      "  warnings.warn('PySoundFile failed. Trying audioread instead.')\n",
      "/home/laferrari/anaconda3/envs/tensorflow_cpu/lib/python3.6/site-packages/librosa/core/audio.py:161: UserWarning: PySoundFile failed. Trying audioread instead.\n",
      "  warnings.warn('PySoundFile failed. Trying audioread instead.')\n",
      "/home/laferrari/anaconda3/envs/tensorflow_cpu/lib/python3.6/site-packages/librosa/core/audio.py:161: UserWarning: PySoundFile failed. Trying audioread instead.\n",
      "  warnings.warn('PySoundFile failed. Trying audioread instead.')\n",
      "/home/laferrari/anaconda3/envs/tensorflow_cpu/lib/python3.6/site-packages/librosa/core/audio.py:161: UserWarning: PySoundFile failed. Trying audioread instead.\n",
      "  warnings.warn('PySoundFile failed. Trying audioread instead.')\n",
      "/home/laferrari/anaconda3/envs/tensorflow_cpu/lib/python3.6/site-packages/librosa/core/audio.py:161: UserWarning: PySoundFile failed. Trying audioread instead.\n",
      "  warnings.warn('PySoundFile failed. Trying audioread instead.')\n",
      "/home/laferrari/anaconda3/envs/tensorflow_cpu/lib/python3.6/site-packages/librosa/core/audio.py:161: UserWarning: PySoundFile failed. Trying audioread instead.\n",
      "  warnings.warn('PySoundFile failed. Trying audioread instead.')\n",
      "/home/laferrari/anaconda3/envs/tensorflow_cpu/lib/python3.6/site-packages/librosa/core/audio.py:161: UserWarning: PySoundFile failed. Trying audioread instead.\n",
      "  warnings.warn('PySoundFile failed. Trying audioread instead.')\n",
      "/home/laferrari/anaconda3/envs/tensorflow_cpu/lib/python3.6/site-packages/librosa/core/audio.py:161: UserWarning: PySoundFile failed. Trying audioread instead.\n",
      "  warnings.warn('PySoundFile failed. Trying audioread instead.')\n",
      "/home/laferrari/anaconda3/envs/tensorflow_cpu/lib/python3.6/site-packages/librosa/core/audio.py:161: UserWarning: PySoundFile failed. Trying audioread instead.\n",
      "  warnings.warn('PySoundFile failed. Trying audioread instead.')\n"
     ]
    },
    {
     "name": "stderr",
     "output_type": "stream",
     "text": [
      "/home/laferrari/anaconda3/envs/tensorflow_cpu/lib/python3.6/site-packages/librosa/core/audio.py:161: UserWarning: PySoundFile failed. Trying audioread instead.\n",
      "  warnings.warn('PySoundFile failed. Trying audioread instead.')\n",
      "/home/laferrari/anaconda3/envs/tensorflow_cpu/lib/python3.6/site-packages/librosa/core/audio.py:161: UserWarning: PySoundFile failed. Trying audioread instead.\n",
      "  warnings.warn('PySoundFile failed. Trying audioread instead.')\n",
      "/home/laferrari/anaconda3/envs/tensorflow_cpu/lib/python3.6/site-packages/librosa/core/audio.py:161: UserWarning: PySoundFile failed. Trying audioread instead.\n",
      "  warnings.warn('PySoundFile failed. Trying audioread instead.')\n",
      "/home/laferrari/anaconda3/envs/tensorflow_cpu/lib/python3.6/site-packages/librosa/core/audio.py:161: UserWarning: PySoundFile failed. Trying audioread instead.\n",
      "  warnings.warn('PySoundFile failed. Trying audioread instead.')\n",
      "/home/laferrari/anaconda3/envs/tensorflow_cpu/lib/python3.6/site-packages/librosa/core/audio.py:161: UserWarning: PySoundFile failed. Trying audioread instead.\n",
      "  warnings.warn('PySoundFile failed. Trying audioread instead.')\n",
      "/home/laferrari/anaconda3/envs/tensorflow_cpu/lib/python3.6/site-packages/librosa/core/audio.py:161: UserWarning: PySoundFile failed. Trying audioread instead.\n",
      "  warnings.warn('PySoundFile failed. Trying audioread instead.')\n",
      "/home/laferrari/anaconda3/envs/tensorflow_cpu/lib/python3.6/site-packages/librosa/core/audio.py:161: UserWarning: PySoundFile failed. Trying audioread instead.\n",
      "  warnings.warn('PySoundFile failed. Trying audioread instead.')\n",
      "/home/laferrari/anaconda3/envs/tensorflow_cpu/lib/python3.6/site-packages/librosa/core/audio.py:161: UserWarning: PySoundFile failed. Trying audioread instead.\n",
      "  warnings.warn('PySoundFile failed. Trying audioread instead.')\n",
      "/home/laferrari/anaconda3/envs/tensorflow_cpu/lib/python3.6/site-packages/librosa/core/audio.py:161: UserWarning: PySoundFile failed. Trying audioread instead.\n",
      "  warnings.warn('PySoundFile failed. Trying audioread instead.')\n",
      "/home/laferrari/anaconda3/envs/tensorflow_cpu/lib/python3.6/site-packages/librosa/core/audio.py:161: UserWarning: PySoundFile failed. Trying audioread instead.\n",
      "  warnings.warn('PySoundFile failed. Trying audioread instead.')\n",
      "/home/laferrari/anaconda3/envs/tensorflow_cpu/lib/python3.6/site-packages/librosa/core/audio.py:161: UserWarning: PySoundFile failed. Trying audioread instead.\n",
      "  warnings.warn('PySoundFile failed. Trying audioread instead.')\n",
      "/home/laferrari/anaconda3/envs/tensorflow_cpu/lib/python3.6/site-packages/librosa/core/audio.py:161: UserWarning: PySoundFile failed. Trying audioread instead.\n",
      "  warnings.warn('PySoundFile failed. Trying audioread instead.')\n",
      "/home/laferrari/anaconda3/envs/tensorflow_cpu/lib/python3.6/site-packages/librosa/core/audio.py:161: UserWarning: PySoundFile failed. Trying audioread instead.\n",
      "  warnings.warn('PySoundFile failed. Trying audioread instead.')\n",
      "/home/laferrari/anaconda3/envs/tensorflow_cpu/lib/python3.6/site-packages/librosa/core/audio.py:161: UserWarning: PySoundFile failed. Trying audioread instead.\n",
      "  warnings.warn('PySoundFile failed. Trying audioread instead.')\n",
      "/home/laferrari/anaconda3/envs/tensorflow_cpu/lib/python3.6/site-packages/librosa/core/audio.py:161: UserWarning: PySoundFile failed. Trying audioread instead.\n",
      "  warnings.warn('PySoundFile failed. Trying audioread instead.')\n",
      "/home/laferrari/anaconda3/envs/tensorflow_cpu/lib/python3.6/site-packages/librosa/core/audio.py:161: UserWarning: PySoundFile failed. Trying audioread instead.\n",
      "  warnings.warn('PySoundFile failed. Trying audioread instead.')\n",
      "/home/laferrari/anaconda3/envs/tensorflow_cpu/lib/python3.6/site-packages/librosa/core/audio.py:161: UserWarning: PySoundFile failed. Trying audioread instead.\n",
      "  warnings.warn('PySoundFile failed. Trying audioread instead.')\n",
      "/home/laferrari/anaconda3/envs/tensorflow_cpu/lib/python3.6/site-packages/librosa/core/audio.py:161: UserWarning: PySoundFile failed. Trying audioread instead.\n",
      "  warnings.warn('PySoundFile failed. Trying audioread instead.')\n",
      "/home/laferrari/anaconda3/envs/tensorflow_cpu/lib/python3.6/site-packages/librosa/core/audio.py:161: UserWarning: PySoundFile failed. Trying audioread instead.\n",
      "  warnings.warn('PySoundFile failed. Trying audioread instead.')\n",
      "/home/laferrari/anaconda3/envs/tensorflow_cpu/lib/python3.6/site-packages/librosa/core/audio.py:161: UserWarning: PySoundFile failed. Trying audioread instead.\n",
      "  warnings.warn('PySoundFile failed. Trying audioread instead.')\n",
      "/home/laferrari/anaconda3/envs/tensorflow_cpu/lib/python3.6/site-packages/librosa/core/audio.py:161: UserWarning: PySoundFile failed. Trying audioread instead.\n",
      "  warnings.warn('PySoundFile failed. Trying audioread instead.')\n",
      "/home/laferrari/anaconda3/envs/tensorflow_cpu/lib/python3.6/site-packages/librosa/core/audio.py:161: UserWarning: PySoundFile failed. Trying audioread instead.\n",
      "  warnings.warn('PySoundFile failed. Trying audioread instead.')\n",
      "/home/laferrari/anaconda3/envs/tensorflow_cpu/lib/python3.6/site-packages/librosa/core/audio.py:161: UserWarning: PySoundFile failed. Trying audioread instead.\n",
      "  warnings.warn('PySoundFile failed. Trying audioread instead.')\n",
      "/home/laferrari/anaconda3/envs/tensorflow_cpu/lib/python3.6/site-packages/librosa/core/audio.py:161: UserWarning: PySoundFile failed. Trying audioread instead.\n",
      "  warnings.warn('PySoundFile failed. Trying audioread instead.')\n",
      "/home/laferrari/anaconda3/envs/tensorflow_cpu/lib/python3.6/site-packages/librosa/core/audio.py:161: UserWarning: PySoundFile failed. Trying audioread instead.\n",
      "  warnings.warn('PySoundFile failed. Trying audioread instead.')\n",
      "/home/laferrari/anaconda3/envs/tensorflow_cpu/lib/python3.6/site-packages/librosa/core/audio.py:161: UserWarning: PySoundFile failed. Trying audioread instead.\n",
      "  warnings.warn('PySoundFile failed. Trying audioread instead.')\n",
      "/home/laferrari/anaconda3/envs/tensorflow_cpu/lib/python3.6/site-packages/librosa/core/audio.py:161: UserWarning: PySoundFile failed. Trying audioread instead.\n",
      "  warnings.warn('PySoundFile failed. Trying audioread instead.')\n",
      "/home/laferrari/anaconda3/envs/tensorflow_cpu/lib/python3.6/site-packages/librosa/core/audio.py:161: UserWarning: PySoundFile failed. Trying audioread instead.\n",
      "  warnings.warn('PySoundFile failed. Trying audioread instead.')\n",
      "/home/laferrari/anaconda3/envs/tensorflow_cpu/lib/python3.6/site-packages/librosa/core/audio.py:161: UserWarning: PySoundFile failed. Trying audioread instead.\n",
      "  warnings.warn('PySoundFile failed. Trying audioread instead.')\n",
      "/home/laferrari/anaconda3/envs/tensorflow_cpu/lib/python3.6/site-packages/librosa/core/audio.py:161: UserWarning: PySoundFile failed. Trying audioread instead.\n",
      "  warnings.warn('PySoundFile failed. Trying audioread instead.')\n",
      "/home/laferrari/anaconda3/envs/tensorflow_cpu/lib/python3.6/site-packages/librosa/core/audio.py:161: UserWarning: PySoundFile failed. Trying audioread instead.\n",
      "  warnings.warn('PySoundFile failed. Trying audioread instead.')\n",
      "/home/laferrari/anaconda3/envs/tensorflow_cpu/lib/python3.6/site-packages/librosa/core/audio.py:161: UserWarning: PySoundFile failed. Trying audioread instead.\n",
      "  warnings.warn('PySoundFile failed. Trying audioread instead.')\n",
      "/home/laferrari/anaconda3/envs/tensorflow_cpu/lib/python3.6/site-packages/librosa/core/audio.py:161: UserWarning: PySoundFile failed. Trying audioread instead.\n",
      "  warnings.warn('PySoundFile failed. Trying audioread instead.')\n",
      "/home/laferrari/anaconda3/envs/tensorflow_cpu/lib/python3.6/site-packages/librosa/core/audio.py:161: UserWarning: PySoundFile failed. Trying audioread instead.\n",
      "  warnings.warn('PySoundFile failed. Trying audioread instead.')\n",
      "/home/laferrari/anaconda3/envs/tensorflow_cpu/lib/python3.6/site-packages/librosa/core/audio.py:161: UserWarning: PySoundFile failed. Trying audioread instead.\n",
      "  warnings.warn('PySoundFile failed. Trying audioread instead.')\n",
      "/home/laferrari/anaconda3/envs/tensorflow_cpu/lib/python3.6/site-packages/librosa/core/audio.py:161: UserWarning: PySoundFile failed. Trying audioread instead.\n",
      "  warnings.warn('PySoundFile failed. Trying audioread instead.')\n",
      "/home/laferrari/anaconda3/envs/tensorflow_cpu/lib/python3.6/site-packages/librosa/core/audio.py:161: UserWarning: PySoundFile failed. Trying audioread instead.\n",
      "  warnings.warn('PySoundFile failed. Trying audioread instead.')\n"
     ]
    },
    {
     "name": "stderr",
     "output_type": "stream",
     "text": [
      "/home/laferrari/anaconda3/envs/tensorflow_cpu/lib/python3.6/site-packages/librosa/core/audio.py:161: UserWarning: PySoundFile failed. Trying audioread instead.\n",
      "  warnings.warn('PySoundFile failed. Trying audioread instead.')\n",
      "/home/laferrari/anaconda3/envs/tensorflow_cpu/lib/python3.6/site-packages/librosa/core/audio.py:161: UserWarning: PySoundFile failed. Trying audioread instead.\n",
      "  warnings.warn('PySoundFile failed. Trying audioread instead.')\n",
      "/home/laferrari/anaconda3/envs/tensorflow_cpu/lib/python3.6/site-packages/librosa/core/audio.py:161: UserWarning: PySoundFile failed. Trying audioread instead.\n",
      "  warnings.warn('PySoundFile failed. Trying audioread instead.')\n",
      "/home/laferrari/anaconda3/envs/tensorflow_cpu/lib/python3.6/site-packages/librosa/core/audio.py:161: UserWarning: PySoundFile failed. Trying audioread instead.\n",
      "  warnings.warn('PySoundFile failed. Trying audioread instead.')\n",
      "/home/laferrari/anaconda3/envs/tensorflow_cpu/lib/python3.6/site-packages/librosa/core/audio.py:161: UserWarning: PySoundFile failed. Trying audioread instead.\n",
      "  warnings.warn('PySoundFile failed. Trying audioread instead.')\n",
      "/home/laferrari/anaconda3/envs/tensorflow_cpu/lib/python3.6/site-packages/librosa/core/audio.py:161: UserWarning: PySoundFile failed. Trying audioread instead.\n",
      "  warnings.warn('PySoundFile failed. Trying audioread instead.')\n",
      "/home/laferrari/anaconda3/envs/tensorflow_cpu/lib/python3.6/site-packages/librosa/core/audio.py:161: UserWarning: PySoundFile failed. Trying audioread instead.\n",
      "  warnings.warn('PySoundFile failed. Trying audioread instead.')\n",
      "/home/laferrari/anaconda3/envs/tensorflow_cpu/lib/python3.6/site-packages/librosa/core/audio.py:161: UserWarning: PySoundFile failed. Trying audioread instead.\n",
      "  warnings.warn('PySoundFile failed. Trying audioread instead.')\n",
      "/home/laferrari/anaconda3/envs/tensorflow_cpu/lib/python3.6/site-packages/librosa/core/audio.py:161: UserWarning: PySoundFile failed. Trying audioread instead.\n",
      "  warnings.warn('PySoundFile failed. Trying audioread instead.')\n",
      "/home/laferrari/anaconda3/envs/tensorflow_cpu/lib/python3.6/site-packages/librosa/core/audio.py:161: UserWarning: PySoundFile failed. Trying audioread instead.\n",
      "  warnings.warn('PySoundFile failed. Trying audioread instead.')\n",
      "/home/laferrari/anaconda3/envs/tensorflow_cpu/lib/python3.6/site-packages/librosa/core/audio.py:161: UserWarning: PySoundFile failed. Trying audioread instead.\n",
      "  warnings.warn('PySoundFile failed. Trying audioread instead.')\n",
      "/home/laferrari/anaconda3/envs/tensorflow_cpu/lib/python3.6/site-packages/librosa/core/audio.py:161: UserWarning: PySoundFile failed. Trying audioread instead.\n",
      "  warnings.warn('PySoundFile failed. Trying audioread instead.')\n",
      "/home/laferrari/anaconda3/envs/tensorflow_cpu/lib/python3.6/site-packages/librosa/core/audio.py:161: UserWarning: PySoundFile failed. Trying audioread instead.\n",
      "  warnings.warn('PySoundFile failed. Trying audioread instead.')\n",
      "/home/laferrari/anaconda3/envs/tensorflow_cpu/lib/python3.6/site-packages/librosa/core/audio.py:161: UserWarning: PySoundFile failed. Trying audioread instead.\n",
      "  warnings.warn('PySoundFile failed. Trying audioread instead.')\n",
      "/home/laferrari/anaconda3/envs/tensorflow_cpu/lib/python3.6/site-packages/librosa/core/audio.py:161: UserWarning: PySoundFile failed. Trying audioread instead.\n",
      "  warnings.warn('PySoundFile failed. Trying audioread instead.')\n",
      "/home/laferrari/anaconda3/envs/tensorflow_cpu/lib/python3.6/site-packages/librosa/core/audio.py:161: UserWarning: PySoundFile failed. Trying audioread instead.\n",
      "  warnings.warn('PySoundFile failed. Trying audioread instead.')\n",
      "/home/laferrari/anaconda3/envs/tensorflow_cpu/lib/python3.6/site-packages/librosa/core/audio.py:161: UserWarning: PySoundFile failed. Trying audioread instead.\n",
      "  warnings.warn('PySoundFile failed. Trying audioread instead.')\n",
      "/home/laferrari/anaconda3/envs/tensorflow_cpu/lib/python3.6/site-packages/librosa/core/audio.py:161: UserWarning: PySoundFile failed. Trying audioread instead.\n",
      "  warnings.warn('PySoundFile failed. Trying audioread instead.')\n",
      "/home/laferrari/anaconda3/envs/tensorflow_cpu/lib/python3.6/site-packages/librosa/core/audio.py:161: UserWarning: PySoundFile failed. Trying audioread instead.\n",
      "  warnings.warn('PySoundFile failed. Trying audioread instead.')\n",
      "/home/laferrari/anaconda3/envs/tensorflow_cpu/lib/python3.6/site-packages/librosa/core/audio.py:161: UserWarning: PySoundFile failed. Trying audioread instead.\n",
      "  warnings.warn('PySoundFile failed. Trying audioread instead.')\n",
      "/home/laferrari/anaconda3/envs/tensorflow_cpu/lib/python3.6/site-packages/librosa/core/audio.py:161: UserWarning: PySoundFile failed. Trying audioread instead.\n",
      "  warnings.warn('PySoundFile failed. Trying audioread instead.')\n",
      "/home/laferrari/anaconda3/envs/tensorflow_cpu/lib/python3.6/site-packages/librosa/core/audio.py:161: UserWarning: PySoundFile failed. Trying audioread instead.\n",
      "  warnings.warn('PySoundFile failed. Trying audioread instead.')\n",
      "/home/laferrari/anaconda3/envs/tensorflow_cpu/lib/python3.6/site-packages/librosa/core/audio.py:161: UserWarning: PySoundFile failed. Trying audioread instead.\n",
      "  warnings.warn('PySoundFile failed. Trying audioread instead.')\n",
      "/home/laferrari/anaconda3/envs/tensorflow_cpu/lib/python3.6/site-packages/librosa/core/audio.py:161: UserWarning: PySoundFile failed. Trying audioread instead.\n",
      "  warnings.warn('PySoundFile failed. Trying audioread instead.')\n",
      "/home/laferrari/anaconda3/envs/tensorflow_cpu/lib/python3.6/site-packages/librosa/core/audio.py:161: UserWarning: PySoundFile failed. Trying audioread instead.\n",
      "  warnings.warn('PySoundFile failed. Trying audioread instead.')\n",
      "/home/laferrari/anaconda3/envs/tensorflow_cpu/lib/python3.6/site-packages/librosa/core/audio.py:161: UserWarning: PySoundFile failed. Trying audioread instead.\n",
      "  warnings.warn('PySoundFile failed. Trying audioread instead.')\n",
      "/home/laferrari/anaconda3/envs/tensorflow_cpu/lib/python3.6/site-packages/librosa/core/audio.py:161: UserWarning: PySoundFile failed. Trying audioread instead.\n",
      "  warnings.warn('PySoundFile failed. Trying audioread instead.')\n",
      "/home/laferrari/anaconda3/envs/tensorflow_cpu/lib/python3.6/site-packages/librosa/core/audio.py:161: UserWarning: PySoundFile failed. Trying audioread instead.\n",
      "  warnings.warn('PySoundFile failed. Trying audioread instead.')\n",
      "/home/laferrari/anaconda3/envs/tensorflow_cpu/lib/python3.6/site-packages/librosa/core/audio.py:161: UserWarning: PySoundFile failed. Trying audioread instead.\n",
      "  warnings.warn('PySoundFile failed. Trying audioread instead.')\n",
      "/home/laferrari/anaconda3/envs/tensorflow_cpu/lib/python3.6/site-packages/librosa/core/audio.py:161: UserWarning: PySoundFile failed. Trying audioread instead.\n",
      "  warnings.warn('PySoundFile failed. Trying audioread instead.')\n",
      "/home/laferrari/anaconda3/envs/tensorflow_cpu/lib/python3.6/site-packages/librosa/core/audio.py:161: UserWarning: PySoundFile failed. Trying audioread instead.\n",
      "  warnings.warn('PySoundFile failed. Trying audioread instead.')\n",
      "/home/laferrari/anaconda3/envs/tensorflow_cpu/lib/python3.6/site-packages/librosa/core/audio.py:161: UserWarning: PySoundFile failed. Trying audioread instead.\n",
      "  warnings.warn('PySoundFile failed. Trying audioread instead.')\n",
      "/home/laferrari/anaconda3/envs/tensorflow_cpu/lib/python3.6/site-packages/librosa/core/audio.py:161: UserWarning: PySoundFile failed. Trying audioread instead.\n",
      "  warnings.warn('PySoundFile failed. Trying audioread instead.')\n",
      "/home/laferrari/anaconda3/envs/tensorflow_cpu/lib/python3.6/site-packages/librosa/core/audio.py:161: UserWarning: PySoundFile failed. Trying audioread instead.\n",
      "  warnings.warn('PySoundFile failed. Trying audioread instead.')\n"
     ]
    }
   ],
   "source": [
    "dirName = dir_list[-1]\n",
    "dirContents = os.listdir(dirName)\n",
    "for music in dirContents:\n",
    "    temp_y_label = music.split(\"_\")[-1][:2]\n",
    "    if temp_y_label == \"TN\" or temp_y_label == \"TP\":\n",
    "        currSongFeatures = getFeatures(dirName+music)\n",
    "        feature_set.append(currSongFeatures)\n",
    "        y_labels.append(temp_y_label)"
   ]
  },
  {
   "cell_type": "code",
   "execution_count": 8,
   "metadata": {},
   "outputs": [
    {
     "name": "stdout",
     "output_type": "stream",
     "text": [
      "189\n",
      "189\n"
     ]
    }
   ],
   "source": [
    "print(len(y_labels))\n",
    "print(len(feature_set))"
   ]
  },
  {
   "cell_type": "code",
   "execution_count": 9,
   "metadata": {},
   "outputs": [
    {
     "name": "stdout",
     "output_type": "stream",
     "text": [
      "{'VN', 'TP', 'TN', 'VP', 'AN', 'AP'}\n"
     ]
    }
   ],
   "source": [
    "print(set(y_labels))"
   ]
  },
  {
   "cell_type": "code",
   "execution_count": 10,
   "metadata": {},
   "outputs": [],
   "source": [
    "feature_set = np.array(feature_set)"
   ]
  },
  {
   "cell_type": "code",
   "execution_count": 11,
   "metadata": {},
   "outputs": [
    {
     "data": {
      "text/plain": [
       "(189, 28)"
      ]
     },
     "execution_count": 11,
     "metadata": {},
     "output_type": "execute_result"
    }
   ],
   "source": [
    "feature_set.shape"
   ]
  },
  {
   "cell_type": "code",
   "execution_count": 12,
   "metadata": {},
   "outputs": [
    {
     "data": {
      "text/plain": [
       "(189,)"
      ]
     },
     "execution_count": 12,
     "metadata": {},
     "output_type": "execute_result"
    }
   ],
   "source": [
    "y = np.array(y_labels)\n",
    "y.shape"
   ]
  },
  {
   "cell_type": "code",
   "execution_count": 13,
   "metadata": {},
   "outputs": [],
   "source": [
    "feature_list = ['tempo', 'beats', 'chromagram', 'rmse',\n",
    "           'centroid', 'bandwidth', 'rolloff', 'zcr', 'mfcc1', 'mfcc2',\n",
    "           'mfcc3', 'mfcc4', 'mfcc5', 'mfcc6', 'mfcc7', 'mfcc8', 'mfcc9',\n",
    "           'mfcc10', 'mfcc11', 'mfcc12', 'mfcc13', 'mfcc14', 'mfcc15',\n",
    "           'mfcc16', 'mfcc17', 'mfcc18', 'mfcc19', 'mfcc20']"
   ]
  },
  {
   "cell_type": "code",
   "execution_count": 14,
   "metadata": {},
   "outputs": [],
   "source": [
    "import seaborn as sns"
   ]
  },
  {
   "cell_type": "code",
   "execution_count": 15,
   "metadata": {},
   "outputs": [
    {
     "data": {
      "text/plain": [
       "<matplotlib.axes._subplots.AxesSubplot at 0x7f6453c20518>"
      ]
     },
     "execution_count": 15,
     "metadata": {},
     "output_type": "execute_result"
    },
    {
     "data": {
      "image/png": "[encoded data removed]",
      "text/plain": [
       "<Figure size 432x288 with 1 Axes>"
      ]
     },
     "metadata": {
      "needs_background": "light"
     },
     "output_type": "display_data"
    }
   ],
   "source": [
    "sns.distplot(feature_set[:,0])"
   ]
  },
  {
   "cell_type": "code",
   "execution_count": 16,
   "metadata": {},
   "outputs": [],
   "source": [
    "import tensorflow as tf"
   ]
  },
  {
   "cell_type": "code",
   "execution_count": 17,
   "metadata": {},
   "outputs": [],
   "source": [
    "from tensorflow.keras.models import Sequential\n",
    "from tensorflow.keras.layers import Dense\n",
    "from tensorflow.keras.callbacks import EarlyStopping\n",
    "from tensorflow.keras.backend import clear_session"
   ]
  },
  {
   "cell_type": "markdown",
   "metadata": {},
   "source": [
    "## model1:\n",
    "1. this uses categorical crossentropy as the loss function\n",
    "2. We use 10% of our entire training data for validation\n",
    "3. mini-batch size is 32"
   ]
  },
  {
   "cell_type": "code",
   "execution_count": 92,
   "metadata": {},
   "outputs": [],
   "source": [
    "clear_session()\n",
    "model1 = Sequential()\n",
    "model1.add(Dense(128, input_shape=(feature_set.shape[1],), activation='relu'))\n",
    "model1.add(Dense(256, activation='relu'))\n",
    "model1.add(Dense(1024, activation='relu'))\n",
    "model1.add(Dense(2048, activation='relu'))\n",
    "model1.add(Dense(6, activation='softmax'))"
   ]
  },
  {
   "cell_type": "code",
   "execution_count": 93,
   "metadata": {},
   "outputs": [],
   "source": [
    "es = EarlyStopping(monitor='val_loss', mode='min', verbose=1, patience=3)"
   ]
  },
  {
   "cell_type": "code",
   "execution_count": 94,
   "metadata": {},
   "outputs": [],
   "source": [
    "model1.compile(loss='categorical_crossentropy', \n",
    "              optimizer=\"adam\",\n",
    "              metrics=[\"accuracy\"])"
   ]
  },
  {
   "cell_type": "code",
   "execution_count": 95,
   "metadata": {
    "scrolled": true
   },
   "outputs": [
    {
     "name": "stdout",
     "output_type": "stream",
     "text": [
      "Model: \"sequential\"\n",
      "_________________________________________________________________\n",
      "Layer (type)                 Output Shape              Param #   \n",
      "=================================================================\n",
      "dense (Dense)                (None, 128)               3712      \n",
      "_________________________________________________________________\n",
      "dense_1 (Dense)              (None, 256)               33024     \n",
      "_________________________________________________________________\n",
      "dense_2 (Dense)              (None, 1024)              263168    \n",
      "_________________________________________________________________\n",
      "dense_3 (Dense)              (None, 2048)              2099200   \n",
      "_________________________________________________________________\n",
      "dense_4 (Dense)              (None, 6)                 12294     \n",
      "=================================================================\n",
      "Total params: 2,411,398\n",
      "Trainable params: 2,411,398\n",
      "Non-trainable params: 0\n",
      "_________________________________________________________________\n"
     ]
    }
   ],
   "source": [
    "model1.summary()"
   ]
  },
  {
   "cell_type": "code",
   "execution_count": 22,
   "metadata": {},
   "outputs": [],
   "source": [
    "from tensorflow.keras.utils import to_categorical\n",
    "from sklearn.preprocessing import LabelEncoder, normalize\n",
    "from sklearn.model_selection import train_test_split"
   ]
  },
  {
   "cell_type": "code",
   "execution_count": 23,
   "metadata": {},
   "outputs": [],
   "source": [
    "encoder = LabelEncoder()\n",
    "encoder.fit(y_labels)\n",
    "encoded_Y = encoder.transform(y_labels)\n",
    "Y = to_categorical(encoded_Y)"
   ]
  },
  {
   "cell_type": "code",
   "execution_count": 24,
   "metadata": {},
   "outputs": [
    {
     "name": "stdout",
     "output_type": "stream",
     "text": [
      "(189, 6)\n"
     ]
    }
   ],
   "source": [
    "print(Y.shape)"
   ]
  },
  {
   "cell_type": "code",
   "execution_count": 96,
   "metadata": {},
   "outputs": [],
   "source": [
    "x_train, x_val, y_train, y_val = train_test_split(feature_set, Y, test_size=0.1, random_state=42)"
   ]
  },
  {
   "cell_type": "code",
   "execution_count": 97,
   "metadata": {},
   "outputs": [
    {
     "name": "stdout",
     "output_type": "stream",
     "text": [
      "shape of training data is:  (170, 28)\n",
      "shape of training label is:  (170, 6)\n",
      "shape of testing data is:  (19, 28)\n",
      "shape of testing label is:  (19, 6)\n"
     ]
    }
   ],
   "source": [
    "print(\"shape of training data is: \", x_train.shape)\n",
    "print(\"shape of training label is: \", y_train.shape)\n",
    "print(\"shape of testing data is: \", x_val.shape)\n",
    "print(\"shape of testing label is: \", y_val.shape)"
   ]
  },
  {
   "cell_type": "code",
   "execution_count": 98,
   "metadata": {},
   "outputs": [
    {
     "name": "stdout",
     "output_type": "stream",
     "text": [
      "Train on 170 samples, validate on 19 samples\n",
      "Epoch 1/20\n",
      "170/170 [==============================] - 1s 7ms/sample - loss: 846.0904 - accuracy: 0.1706 - val_loss: 480.6028 - val_accuracy: 0.2105\n",
      "Epoch 2/20\n",
      "170/170 [==============================] - 0s 2ms/sample - loss: 449.6308 - accuracy: 0.2647 - val_loss: 359.6826 - val_accuracy: 0.1579\n",
      "Epoch 3/20\n",
      "170/170 [==============================] - 0s 2ms/sample - loss: 130.2076 - accuracy: 0.2118 - val_loss: 97.5759 - val_accuracy: 0.2632\n",
      "Epoch 4/20\n",
      "170/170 [==============================] - 0s 2ms/sample - loss: 54.6664 - accuracy: 0.2118 - val_loss: 80.7580 - val_accuracy: 0.2105\n",
      "Epoch 5/20\n",
      "170/170 [==============================] - 0s 3ms/sample - loss: 44.4781 - accuracy: 0.2412 - val_loss: 21.2245 - val_accuracy: 0.2105\n",
      "Epoch 6/20\n",
      "170/170 [==============================] - 0s 3ms/sample - loss: 17.1102 - accuracy: 0.2471 - val_loss: 24.3075 - val_accuracy: 0.1579\n",
      "Epoch 7/20\n",
      "170/170 [==============================] - 1s 4ms/sample - loss: 13.4097 - accuracy: 0.2353 - val_loss: 12.4761 - val_accuracy: 0.2105\n",
      "Epoch 8/20\n",
      "170/170 [==============================] - 1s 3ms/sample - loss: 8.2128 - accuracy: 0.2294 - val_loss: 11.7400 - val_accuracy: 0.1579\n",
      "Epoch 9/20\n",
      "170/170 [==============================] - 0s 3ms/sample - loss: 4.7449 - accuracy: 0.2294 - val_loss: 12.8345 - val_accuracy: 0.2632\n",
      "Epoch 10/20\n",
      "170/170 [==============================] - 0s 3ms/sample - loss: 3.1423 - accuracy: 0.2941 - val_loss: 7.8419 - val_accuracy: 0.2105\n",
      "Epoch 11/20\n",
      "170/170 [==============================] - 0s 3ms/sample - loss: 4.1641 - accuracy: 0.2824 - val_loss: 6.4646 - val_accuracy: 0.1579\n",
      "Epoch 12/20\n",
      "170/170 [==============================] - 0s 2ms/sample - loss: 3.3232 - accuracy: 0.3353 - val_loss: 9.3496 - val_accuracy: 0.2105\n",
      "Epoch 13/20\n",
      "170/170 [==============================] - 0s 2ms/sample - loss: 3.0192 - accuracy: 0.3765 - val_loss: 7.5276 - val_accuracy: 0.3684\n",
      "Epoch 14/20\n",
      "170/170 [==============================] - 0s 3ms/sample - loss: 2.7721 - accuracy: 0.3647 - val_loss: 8.9823 - val_accuracy: 0.2105\n",
      "Epoch 00014: early stopping\n"
     ]
    }
   ],
   "source": [
    "results = model1.fit(x_train, y_train, epochs=20, callbacks=[es],validation_data=([x_val, y_val]), batch_size=32)"
   ]
  },
  {
   "cell_type": "code",
   "execution_count": null,
   "metadata": {},
   "outputs": [],
   "source": [
    "import IPython.display as ipd\n",
    "ipd.Audio(\"../emotion_dataset/Tension/20161058_TN2.mp3\")"
   ]
  },
  {
   "cell_type": "markdown",
   "metadata": {},
   "source": [
    "## model 2:\n",
    "1. Here I try to add 1 extra layer(dense_4 with 1024 x 1), but with a lesser dimension as its previous layer(dense_3 with 2048 x 1)\n",
    "2. We also use a train-val split of 0.2, i.e. 20% of entire data will be used for validation\n",
    "3. instead of ADAM optimizer in model1, we use RMSProp in this model\n",
    "4. batch size(mini-batch) is 16"
   ]
  },
  {
   "cell_type": "code",
   "execution_count": 149,
   "metadata": {},
   "outputs": [
    {
     "name": "stdout",
     "output_type": "stream",
     "text": [
      "Model: \"sequential\"\n",
      "_________________________________________________________________\n",
      "Layer (type)                 Output Shape              Param #   \n",
      "=================================================================\n",
      "dense (Dense)                (None, 28)                812       \n",
      "_________________________________________________________________\n",
      "dense_1 (Dense)              (None, 256)               7424      \n",
      "_________________________________________________________________\n",
      "dense_2 (Dense)              (None, 1024)              263168    \n",
      "_________________________________________________________________\n",
      "dense_3 (Dense)              (None, 2048)              2099200   \n",
      "_________________________________________________________________\n",
      "dense_4 (Dense)              (None, 1024)              2098176   \n",
      "_________________________________________________________________\n",
      "dense_5 (Dense)              (None, 6)                 6150      \n",
      "=================================================================\n",
      "Total params: 4,474,930\n",
      "Trainable params: 4,474,930\n",
      "Non-trainable params: 0\n",
      "_________________________________________________________________\n"
     ]
    }
   ],
   "source": [
    "clear_session()\n",
    "model2 = Sequential()\n",
    "model2.add(Dense(28, input_shape=(feature_set.shape[1],), activation='relu'))\n",
    "model2.add(Dense(256, activation='relu'))\n",
    "model2.add(Dense(1024, activation='relu'))\n",
    "model2.add(Dense(2048, activation='relu'))\n",
    "model2.add(Dense(1024, activation='relu'))\n",
    "model2.add(Dense(6, activation='softmax'))\n",
    "model2.summary()"
   ]
  },
  {
   "cell_type": "code",
   "execution_count": 150,
   "metadata": {},
   "outputs": [],
   "source": [
    "es = EarlyStopping(monitor='val_loss', mode='min', verbose=1, patience=3)\n",
    "model2.compile(loss='categorical_crossentropy', optimizer=\"rmsprop\", metrics=[\"accuracy\"])"
   ]
  },
  {
   "cell_type": "code",
   "execution_count": 151,
   "metadata": {},
   "outputs": [],
   "source": [
    "x_train, x_val, y_train, y_val = train_test_split(feature_set, Y, test_size=0.2, random_state=42)"
   ]
  },
  {
   "cell_type": "code",
   "execution_count": 152,
   "metadata": {},
   "outputs": [
    {
     "name": "stdout",
     "output_type": "stream",
     "text": [
      "Train on 170 samples, validate on 19 samples\n",
      "Epoch 1/20\n",
      "170/170 [==============================] - 1s 8ms/sample - loss: 1068.9735 - accuracy: 0.2000 - val_loss: 250.1704 - val_accuracy: 0.2105\n",
      "Epoch 2/20\n",
      "170/170 [==============================] - 1s 3ms/sample - loss: 145.7143 - accuracy: 0.2176 - val_loss: 111.3712 - val_accuracy: 0.1579\n",
      "Epoch 3/20\n",
      "170/170 [==============================] - 1s 3ms/sample - loss: 48.5519 - accuracy: 0.2118 - val_loss: 45.6417 - val_accuracy: 0.3158\n",
      "Epoch 4/20\n",
      "170/170 [==============================] - 1s 4ms/sample - loss: 30.0192 - accuracy: 0.2647 - val_loss: 36.1537 - val_accuracy: 0.1053\n",
      "Epoch 5/20\n",
      "170/170 [==============================] - 1s 3ms/sample - loss: 15.1215 - accuracy: 0.2588 - val_loss: 21.3352 - val_accuracy: 0.1579\n",
      "Epoch 6/20\n",
      "170/170 [==============================] - 1s 3ms/sample - loss: 11.9139 - accuracy: 0.2824 - val_loss: 23.1663 - val_accuracy: 0.2105\n",
      "Epoch 7/20\n",
      "170/170 [==============================] - 1s 4ms/sample - loss: 6.7071 - accuracy: 0.2118 - val_loss: 12.2361 - val_accuracy: 0.3684\n",
      "Epoch 8/20\n",
      "170/170 [==============================] - 1s 3ms/sample - loss: 4.0515 - accuracy: 0.2824 - val_loss: 2.8446 - val_accuracy: 0.2632\n",
      "Epoch 9/20\n",
      "170/170 [==============================] - 1s 3ms/sample - loss: 3.0653 - accuracy: 0.2353 - val_loss: 2.8150 - val_accuracy: 0.2105\n",
      "Epoch 10/20\n",
      "170/170 [==============================] - 1s 3ms/sample - loss: 2.4445 - accuracy: 0.2118 - val_loss: 2.3178 - val_accuracy: 0.1053\n",
      "Epoch 11/20\n",
      "170/170 [==============================] - 1s 4ms/sample - loss: 1.9009 - accuracy: 0.3118 - val_loss: 2.9173 - val_accuracy: 0.1579\n",
      "Epoch 12/20\n",
      "170/170 [==============================] - 1s 3ms/sample - loss: 1.9138 - accuracy: 0.2706 - val_loss: 3.1262 - val_accuracy: 0.1053\n",
      "Epoch 13/20\n",
      "170/170 [==============================] - 1s 3ms/sample - loss: 2.0085 - accuracy: 0.3529 - val_loss: 4.5531 - val_accuracy: 0.1579\n",
      "Epoch 00013: early stopping\n"
     ]
    }
   ],
   "source": [
    "result2 = model2.fit(x_train, y_train, callbacks=[es], batch_size=16, validation_data=[x_val, y_val], epochs=20)"
   ]
  },
  {
   "cell_type": "code",
   "execution_count": 130,
   "metadata": {},
   "outputs": [
    {
     "data": {
      "text/plain": [
       "<matplotlib.legend.Legend at 0x7f63adb19208>"
      ]
     },
     "execution_count": 130,
     "metadata": {},
     "output_type": "execute_result"
    },
    {
     "data": {
      "image/png": "[encoded data removed]",
      "text/plain": [
       "<Figure size 432x288 with 1 Axes>"
      ]
     },
     "metadata": {
      "needs_background": "light"
     },
     "output_type": "display_data"
    }
   ],
   "source": [
    "plt.plot(results.history['loss'], label='train_model1')\n",
    "plt.plot(result2.history['loss'], label='train_model2')\n",
    "plt.legend()"
   ]
  },
  {
   "cell_type": "code",
   "execution_count": 131,
   "metadata": {},
   "outputs": [
    {
     "data": {
      "text/plain": [
       "<matplotlib.legend.Legend at 0x7f63ed9404e0>"
      ]
     },
     "execution_count": 131,
     "metadata": {},
     "output_type": "execute_result"
    },
    {
     "data": {
      "image/png": "[encoded data removed]",
      "text/plain": [
       "<Figure size 432x288 with 1 Axes>"
      ]
     },
     "metadata": {
      "needs_background": "light"
     },
     "output_type": "display_data"
    }
   ],
   "source": [
    "plt.plot(results.history['val_loss'], label='test_model1')\n",
    "plt.plot(result2.history['val_loss'], label='test_model2')\n",
    "plt.legend()"
   ]
  },
  {
   "cell_type": "markdown",
   "metadata": {},
   "source": [
    "## model 3:\n",
    "1. We use a mix of activation functions for our layers\n",
    "2. We also use 30% of our entire training data for validation\n",
    "3. Batch size, while training is 8"
   ]
  },
  {
   "cell_type": "code",
   "execution_count": 35,
   "metadata": {},
   "outputs": [],
   "source": [
    "clear_session()\n",
    "model3 = Sequential()\n",
    "model3.add(Dense(32, input_shape=(feature_set.shape[1],), activation='relu'))\n",
    "model3.add(Dense(64, activation='tanh'))\n",
    "model3.add(Dense(128, activation='tanh'))\n",
    "model3.add(Dense(256, activation=tf.nn.sigmoid))\n",
    "model3.add(Dense(512, activation='relu'))\n",
    "model3.add(Dense(6, activation='softmax'))"
   ]
  },
  {
   "cell_type": "code",
   "execution_count": 36,
   "metadata": {},
   "outputs": [
    {
     "name": "stdout",
     "output_type": "stream",
     "text": [
      "Model: \"sequential\"\n",
      "_________________________________________________________________\n",
      "Layer (type)                 Output Shape              Param #   \n",
      "=================================================================\n",
      "dense (Dense)                (None, 32)                928       \n",
      "_________________________________________________________________\n",
      "dense_1 (Dense)              (None, 64)                2112      \n",
      "_________________________________________________________________\n",
      "dense_2 (Dense)              (None, 128)               8320      \n",
      "_________________________________________________________________\n",
      "dense_3 (Dense)              (None, 256)               33024     \n",
      "_________________________________________________________________\n",
      "dense_4 (Dense)              (None, 512)               131584    \n",
      "_________________________________________________________________\n",
      "dense_5 (Dense)              (None, 6)                 3078      \n",
      "=================================================================\n",
      "Total params: 179,046\n",
      "Trainable params: 179,046\n",
      "Non-trainable params: 0\n",
      "_________________________________________________________________\n"
     ]
    }
   ],
   "source": [
    "model3.summary()"
   ]
  },
  {
   "cell_type": "code",
   "execution_count": 37,
   "metadata": {},
   "outputs": [],
   "source": [
    "es = EarlyStopping(monitor='val_loss', mode='min', verbose=1, patience=3)\n",
    "model3.compile(loss='categorical_crossentropy', optimizer=\"rmsprop\", metrics=[\"accuracy\"])\n",
    "x_train, x_val, y_train, y_val = train_test_split(feature_set, Y, test_size=0.3, random_state=42)"
   ]
  },
  {
   "cell_type": "code",
   "execution_count": 38,
   "metadata": {
    "scrolled": true
   },
   "outputs": [
    {
     "name": "stdout",
     "output_type": "stream",
     "text": [
      "Train on 132 samples, validate on 57 samples\n",
      "Epoch 1/20\n",
      "132/132 [==============================] - 2s 16ms/sample - loss: 1.9190 - accuracy: 0.3030 - val_loss: 2.0165 - val_accuracy: 0.2281\n",
      "Epoch 2/20\n",
      "132/132 [==============================] - 0s 4ms/sample - loss: 1.6785 - accuracy: 0.3258 - val_loss: 2.0746 - val_accuracy: 0.2632\n",
      "Epoch 3/20\n",
      "132/132 [==============================] - 1s 4ms/sample - loss: 1.7583 - accuracy: 0.2576 - val_loss: 1.8024 - val_accuracy: 0.2632\n",
      "Epoch 4/20\n",
      "132/132 [==============================] - 1s 8ms/sample - loss: 1.6859 - accuracy: 0.3182 - val_loss: 1.8568 - val_accuracy: 0.2281\n",
      "Epoch 5/20\n",
      "132/132 [==============================] - 1s 5ms/sample - loss: 1.6596 - accuracy: 0.3030 - val_loss: 1.8763 - val_accuracy: 0.2456\n",
      "Epoch 6/20\n",
      "132/132 [==============================] - 0s 4ms/sample - loss: 1.6832 - accuracy: 0.2348 - val_loss: 1.7723 - val_accuracy: 0.2632\n",
      "Epoch 7/20\n",
      "132/132 [==============================] - 0s 3ms/sample - loss: 1.6260 - accuracy: 0.2955 - val_loss: 1.6985 - val_accuracy: 0.2632\n",
      "Epoch 8/20\n",
      "132/132 [==============================] - 0s 3ms/sample - loss: 1.6379 - accuracy: 0.2803 - val_loss: 1.7120 - val_accuracy: 0.2632\n",
      "Epoch 9/20\n",
      "132/132 [==============================] - 1s 4ms/sample - loss: 1.6410 - accuracy: 0.2727 - val_loss: 1.7407 - val_accuracy: 0.3509\n",
      "Epoch 10/20\n",
      "132/132 [==============================] - 0s 3ms/sample - loss: 1.6232 - accuracy: 0.2879 - val_loss: 1.7156 - val_accuracy: 0.2281\n",
      "Epoch 00010: early stopping\n"
     ]
    }
   ],
   "source": [
    "result3 = model3.fit(x_train, y_train, callbacks=[es], batch_size=8, validation_data=[x_val, y_val], epochs=20)"
   ]
  },
  {
   "cell_type": "code",
   "execution_count": 39,
   "metadata": {},
   "outputs": [
    {
     "data": {
      "text/plain": [
       "<matplotlib.legend.Legend at 0x7f63c209e160>"
      ]
     },
     "execution_count": 39,
     "metadata": {},
     "output_type": "execute_result"
    },
    {
     "data": {
      "image/png": "[encoded data removed]",
      "text/plain": [
       "<Figure size 432x288 with 1 Axes>"
      ]
     },
     "metadata": {
      "needs_background": "light"
     },
     "output_type": "display_data"
    }
   ],
   "source": [
    "plt.plot(results.history['loss'], label='train_model1')\n",
    "plt.plot(result2.history['loss'], label='train_model2')\n",
    "plt.plot(result3.history['loss'], label='train_model3')\n",
    "plt.legend()"
   ]
  },
  {
   "cell_type": "code",
   "execution_count": 40,
   "metadata": {
    "scrolled": true
   },
   "outputs": [
    {
     "data": {
      "text/plain": [
       "<matplotlib.legend.Legend at 0x7f63c201d048>"
      ]
     },
     "execution_count": 40,
     "metadata": {},
     "output_type": "execute_result"
    },
    {
     "data": {
      "image/png": "[encoded data removed]",
      "text/plain": [
       "<Figure size 432x288 with 1 Axes>"
      ]
     },
     "metadata": {
      "needs_background": "light"
     },
     "output_type": "display_data"
    }
   ],
   "source": [
    "plt.plot(results.history['val_loss'], label='val_model1')\n",
    "plt.plot(result2.history['val_loss'], label='val_model2')\n",
    "plt.plot(result3.history['val_loss'], label='val_model3')\n",
    "plt.legend()"
   ]
  },
  {
   "cell_type": "markdown",
   "metadata": {},
   "source": [
    "## model4:\n",
    "1. No usage of early stopping\n",
    "2. addition of extra dense layer\n",
    "3. We use 25% of our entire training data for validation\n",
    "4. Our mini-batch size is 8"
   ]
  },
  {
   "cell_type": "code",
   "execution_count": 138,
   "metadata": {},
   "outputs": [],
   "source": [
    "clear_session()\n",
    "model4 = Sequential()\n",
    "model4.add(Dense(32, input_shape=(feature_set.shape[1],), activation='relu'))\n",
    "model4.add(Dense(64, activation='tanh'))\n",
    "model4.add(Dense(128, activation='tanh'))\n",
    "model4.add(Dense(256, activation=tf.nn.sigmoid))\n",
    "model4.add(Dense(512, activation='relu'))\n",
    "model4.add(Dense(2048, activation=tf.keras.activations.tanh))\n",
    "model4.add(Dense(1024, activation=tf.keras.activations.tanh))\n",
    "model4.add(Dense(6, activation='softmax'))"
   ]
  },
  {
   "cell_type": "code",
   "execution_count": 139,
   "metadata": {
    "scrolled": true
   },
   "outputs": [
    {
     "name": "stdout",
     "output_type": "stream",
     "text": [
      "Model: \"sequential\"\n",
      "_________________________________________________________________\n",
      "Layer (type)                 Output Shape              Param #   \n",
      "=================================================================\n",
      "dense (Dense)                (None, 32)                928       \n",
      "_________________________________________________________________\n",
      "dense_1 (Dense)              (None, 64)                2112      \n",
      "_________________________________________________________________\n",
      "dense_2 (Dense)              (None, 128)               8320      \n",
      "_________________________________________________________________\n",
      "dense_3 (Dense)              (None, 256)               33024     \n",
      "_________________________________________________________________\n",
      "dense_4 (Dense)              (None, 512)               131584    \n",
      "_________________________________________________________________\n",
      "dense_5 (Dense)              (None, 2048)              1050624   \n",
      "_________________________________________________________________\n",
      "dense_6 (Dense)              (None, 1024)              2098176   \n",
      "_________________________________________________________________\n",
      "dense_7 (Dense)              (None, 6)                 6150      \n",
      "=================================================================\n",
      "Total params: 3,330,918\n",
      "Trainable params: 3,330,918\n",
      "Non-trainable params: 0\n",
      "_________________________________________________________________\n"
     ]
    }
   ],
   "source": [
    "model4.summary()"
   ]
  },
  {
   "cell_type": "code",
   "execution_count": 140,
   "metadata": {},
   "outputs": [],
   "source": [
    "model4.compile(loss='categorical_crossentropy', optimizer=\"adam\", metrics=[\"accuracy\"])\n",
    "x_train, x_val, y_train, y_val = train_test_split(feature_set, Y, test_size=0.1, random_state=42)"
   ]
  },
  {
   "cell_type": "code",
   "execution_count": 141,
   "metadata": {},
   "outputs": [
    {
     "name": "stdout",
     "output_type": "stream",
     "text": [
      "Train on 170 samples, validate on 19 samples\n",
      "Epoch 1/50\n",
      "170/170 [==============================] - 1s 8ms/sample - loss: 4.3688 - accuracy: 0.2412 - val_loss: 2.1517 - val_accuracy: 0.2105\n",
      "Epoch 2/50\n",
      "170/170 [==============================] - 0s 3ms/sample - loss: 1.7250 - accuracy: 0.2882 - val_loss: 1.8084 - val_accuracy: 0.2105\n",
      "Epoch 3/50\n",
      "170/170 [==============================] - 1s 3ms/sample - loss: 1.6367 - accuracy: 0.3294 - val_loss: 1.8086 - val_accuracy: 0.2105\n",
      "Epoch 4/50\n",
      "170/170 [==============================] - 0s 3ms/sample - loss: 1.6335 - accuracy: 0.2941 - val_loss: 1.8326 - val_accuracy: 0.2105\n",
      "Epoch 5/50\n",
      "170/170 [==============================] - 1s 3ms/sample - loss: 1.6181 - accuracy: 0.3471 - val_loss: 1.8348 - val_accuracy: 0.2632\n",
      "Epoch 6/50\n",
      "170/170 [==============================] - 0s 3ms/sample - loss: 1.6142 - accuracy: 0.3000 - val_loss: 1.8496 - val_accuracy: 0.1579\n",
      "Epoch 7/50\n",
      "170/170 [==============================] - 0s 3ms/sample - loss: 1.6551 - accuracy: 0.3235 - val_loss: 1.7399 - val_accuracy: 0.2632\n",
      "Epoch 8/50\n",
      "170/170 [==============================] - 0s 3ms/sample - loss: 1.6183 - accuracy: 0.2941 - val_loss: 1.8796 - val_accuracy: 0.2105\n",
      "Epoch 9/50\n",
      "170/170 [==============================] - 0s 3ms/sample - loss: 1.6381 - accuracy: 0.3353 - val_loss: 1.7466 - val_accuracy: 0.2105\n",
      "Epoch 10/50\n",
      "170/170 [==============================] - 0s 3ms/sample - loss: 1.6042 - accuracy: 0.3294 - val_loss: 1.7358 - val_accuracy: 0.2105\n",
      "Epoch 11/50\n",
      "170/170 [==============================] - 0s 3ms/sample - loss: 1.5865 - accuracy: 0.3471 - val_loss: 1.8081 - val_accuracy: 0.2632\n",
      "Epoch 12/50\n",
      "170/170 [==============================] - 1s 4ms/sample - loss: 1.5732 - accuracy: 0.2941 - val_loss: 1.7710 - val_accuracy: 0.2105\n",
      "Epoch 13/50\n",
      "170/170 [==============================] - 1s 4ms/sample - loss: 1.5971 - accuracy: 0.3294 - val_loss: 1.7784 - val_accuracy: 0.2105\n",
      "Epoch 14/50\n",
      "170/170 [==============================] - 1s 4ms/sample - loss: 1.6336 - accuracy: 0.3118 - val_loss: 1.6911 - val_accuracy: 0.2105\n",
      "Epoch 15/50\n",
      "170/170 [==============================] - 1s 3ms/sample - loss: 1.6455 - accuracy: 0.2824 - val_loss: 1.7889 - val_accuracy: 0.2632\n",
      "Epoch 16/50\n",
      "170/170 [==============================] - 0s 3ms/sample - loss: 1.6238 - accuracy: 0.3353 - val_loss: 1.8933 - val_accuracy: 0.2105\n",
      "Epoch 17/50\n",
      "170/170 [==============================] - 1s 3ms/sample - loss: 1.6089 - accuracy: 0.3000 - val_loss: 1.7761 - val_accuracy: 0.1579\n",
      "Epoch 18/50\n",
      "170/170 [==============================] - 1s 3ms/sample - loss: 1.5942 - accuracy: 0.3412 - val_loss: 1.8566 - val_accuracy: 0.2632\n",
      "Epoch 19/50\n",
      "170/170 [==============================] - 1s 3ms/sample - loss: 1.5997 - accuracy: 0.3000 - val_loss: 1.7959 - val_accuracy: 0.2105\n",
      "Epoch 20/50\n",
      "170/170 [==============================] - 1s 3ms/sample - loss: 1.5971 - accuracy: 0.3235 - val_loss: 1.7734 - val_accuracy: 0.1579\n",
      "Epoch 21/50\n",
      "170/170 [==============================] - 0s 3ms/sample - loss: 1.6038 - accuracy: 0.2765 - val_loss: 1.7286 - val_accuracy: 0.2632\n",
      "Epoch 22/50\n",
      "170/170 [==============================] - 1s 3ms/sample - loss: 1.6061 - accuracy: 0.3235 - val_loss: 1.8291 - val_accuracy: 0.2105\n",
      "Epoch 23/50\n",
      "170/170 [==============================] - 0s 3ms/sample - loss: 1.5967 - accuracy: 0.3294 - val_loss: 1.7882 - val_accuracy: 0.3158\n",
      "Epoch 24/50\n",
      "170/170 [==============================] - 1s 4ms/sample - loss: 1.6075 - accuracy: 0.3118 - val_loss: 1.7398 - val_accuracy: 0.2105\n",
      "Epoch 25/50\n",
      "170/170 [==============================] - 1s 3ms/sample - loss: 1.5976 - accuracy: 0.3176 - val_loss: 1.7723 - val_accuracy: 0.2632\n",
      "Epoch 26/50\n",
      "170/170 [==============================] - 0s 3ms/sample - loss: 1.5961 - accuracy: 0.3353 - val_loss: 1.9006 - val_accuracy: 0.2105\n",
      "Epoch 27/50\n",
      "170/170 [==============================] - 1s 4ms/sample - loss: 1.5994 - accuracy: 0.3353 - val_loss: 1.8490 - val_accuracy: 0.2632\n",
      "Epoch 28/50\n",
      "170/170 [==============================] - 1s 4ms/sample - loss: 1.6030 - accuracy: 0.3353 - val_loss: 1.8851 - val_accuracy: 0.2632\n",
      "Epoch 29/50\n",
      "170/170 [==============================] - 0s 3ms/sample - loss: 1.5992 - accuracy: 0.3353 - val_loss: 1.8420 - val_accuracy: 0.2632\n",
      "Epoch 30/50\n",
      "170/170 [==============================] - 1s 3ms/sample - loss: 1.5843 - accuracy: 0.3471 - val_loss: 1.8014 - val_accuracy: 0.2632\n",
      "Epoch 31/50\n",
      "170/170 [==============================] - 1s 3ms/sample - loss: 1.6019 - accuracy: 0.3176 - val_loss: 1.8274 - val_accuracy: 0.2105\n",
      "Epoch 32/50\n",
      "170/170 [==============================] - 0s 2ms/sample - loss: 1.6014 - accuracy: 0.2941 - val_loss: 1.8323 - val_accuracy: 0.2632\n",
      "Epoch 33/50\n",
      "170/170 [==============================] - 0s 3ms/sample - loss: 1.5952 - accuracy: 0.3118 - val_loss: 1.9513 - val_accuracy: 0.2105\n",
      "Epoch 34/50\n",
      "170/170 [==============================] - 0s 3ms/sample - loss: 1.5949 - accuracy: 0.2941 - val_loss: 1.9291 - val_accuracy: 0.2105\n",
      "Epoch 35/50\n",
      "170/170 [==============================] - 0s 3ms/sample - loss: 1.5740 - accuracy: 0.3118 - val_loss: 1.8879 - val_accuracy: 0.1579\n",
      "Epoch 36/50\n",
      "170/170 [==============================] - 0s 3ms/sample - loss: 1.5793 - accuracy: 0.3353 - val_loss: 1.8935 - val_accuracy: 0.1579\n",
      "Epoch 37/50\n",
      "170/170 [==============================] - 0s 3ms/sample - loss: 1.5720 - accuracy: 0.3118 - val_loss: 1.9914 - val_accuracy: 0.1579\n",
      "Epoch 38/50\n",
      "170/170 [==============================] - 0s 3ms/sample - loss: 1.5853 - accuracy: 0.3235 - val_loss: 1.8995 - val_accuracy: 0.1579\n",
      "Epoch 39/50\n",
      "170/170 [==============================] - 1s 3ms/sample - loss: 1.5898 - accuracy: 0.2765 - val_loss: 1.8864 - val_accuracy: 0.2105\n",
      "Epoch 40/50\n",
      "170/170 [==============================] - 1s 4ms/sample - loss: 1.6191 - accuracy: 0.2941 - val_loss: 1.8894 - val_accuracy: 0.2105\n",
      "Epoch 41/50\n",
      "170/170 [==============================] - 1s 4ms/sample - loss: 1.6020 - accuracy: 0.2765 - val_loss: 1.9499 - val_accuracy: 0.3158\n",
      "Epoch 42/50\n",
      "170/170 [==============================] - 1s 3ms/sample - loss: 1.6147 - accuracy: 0.2882 - val_loss: 1.8595 - val_accuracy: 0.2632\n",
      "Epoch 43/50\n",
      "170/170 [==============================] - 1s 3ms/sample - loss: 1.6181 - accuracy: 0.2882 - val_loss: 1.7358 - val_accuracy: 0.2632\n",
      "Epoch 44/50\n",
      "170/170 [==============================] - 0s 3ms/sample - loss: 1.6144 - accuracy: 0.2882 - val_loss: 1.8208 - val_accuracy: 0.2632\n",
      "Epoch 45/50\n",
      "170/170 [==============================] - 1s 4ms/sample - loss: 1.6105 - accuracy: 0.2941 - val_loss: 1.8406 - val_accuracy: 0.2632\n",
      "Epoch 46/50\n",
      "170/170 [==============================] - 1s 4ms/sample - loss: 1.5929 - accuracy: 0.3118 - val_loss: 1.9325 - val_accuracy: 0.2105\n",
      "Epoch 47/50\n",
      "170/170 [==============================] - 1s 4ms/sample - loss: 1.6019 - accuracy: 0.2941 - val_loss: 2.0181 - val_accuracy: 0.2632\n",
      "Epoch 48/50\n",
      "170/170 [==============================] - 1s 3ms/sample - loss: 1.6218 - accuracy: 0.3000 - val_loss: 1.9824 - val_accuracy: 0.2105\n",
      "Epoch 49/50\n",
      "170/170 [==============================] - 1s 5ms/sample - loss: 1.6060 - accuracy: 0.3118 - val_loss: 1.9055 - val_accuracy: 0.2105\n",
      "Epoch 50/50\n",
      "170/170 [==============================] - 1s 3ms/sample - loss: 1.6044 - accuracy: 0.3059 - val_loss: 1.9809 - val_accuracy: 0.2105\n"
     ]
    }
   ],
   "source": [
    "result4 = model4.fit(x_train, y_train, epochs=50, validation_data=[x_val, y_val], batch_size=32)"
   ]
  },
  {
   "cell_type": "code",
   "execution_count": 142,
   "metadata": {},
   "outputs": [
    {
     "data": {
      "text/plain": [
       "<matplotlib.legend.Legend at 0x7f63a05c2240>"
      ]
     },
     "execution_count": 142,
     "metadata": {},
     "output_type": "execute_result"
    },
    {
     "data": {
      "image/png": "[encoded data removed]",
      "text/plain": [
       "<Figure size 432x288 with 1 Axes>"
      ]
     },
     "metadata": {
      "needs_background": "light"
     },
     "output_type": "display_data"
    }
   ],
   "source": [
    "plt.plot(result3.history['loss'], label='train3_loss')\n",
    "plt.plot(result4.history['loss'], label='train4_loss')\n",
    "plt.legend()"
   ]
  },
  {
   "cell_type": "code",
   "execution_count": 143,
   "metadata": {},
   "outputs": [
    {
     "data": {
      "text/plain": [
       "<matplotlib.legend.Legend at 0x7f63a05a8cc0>"
      ]
     },
     "execution_count": 143,
     "metadata": {},
     "output_type": "execute_result"
    },
    {
     "data": {
      "image/png": "[encoded data removed]",
      "text/plain": [
       "<Figure size 432x288 with 1 Axes>"
      ]
     },
     "metadata": {
      "needs_background": "light"
     },
     "output_type": "display_data"
    }
   ],
   "source": [
    "plt.plot(result3.history['val_loss'], label='val3_loss')\n",
    "plt.plot(result4.history['val_loss'], label='val4_loss')\n",
    "plt.legend()"
   ]
  },
  {
   "cell_type": "code",
   "execution_count": 58,
   "metadata": {},
   "outputs": [
    {
     "name": "stderr",
     "output_type": "stream",
     "text": [
      "/home/laferrari/anaconda3/envs/tensorflow_cpu/lib/python3.6/site-packages/librosa/core/audio.py:161: UserWarning: PySoundFile failed. Trying audioread instead.\n",
      "  warnings.warn('PySoundFile failed. Trying audioread instead.')\n",
      "/home/laferrari/anaconda3/envs/tensorflow_cpu/lib/python3.6/site-packages/librosa/core/audio.py:161: UserWarning: PySoundFile failed. Trying audioread instead.\n",
      "  warnings.warn('PySoundFile failed. Trying audioread instead.')\n",
      "/home/laferrari/anaconda3/envs/tensorflow_cpu/lib/python3.6/site-packages/librosa/core/audio.py:161: UserWarning: PySoundFile failed. Trying audioread instead.\n",
      "  warnings.warn('PySoundFile failed. Trying audioread instead.')\n",
      "/home/laferrari/anaconda3/envs/tensorflow_cpu/lib/python3.6/site-packages/librosa/core/audio.py:161: UserWarning: PySoundFile failed. Trying audioread instead.\n",
      "  warnings.warn('PySoundFile failed. Trying audioread instead.')\n",
      "/home/laferrari/anaconda3/envs/tensorflow_cpu/lib/python3.6/site-packages/librosa/core/audio.py:161: UserWarning: PySoundFile failed. Trying audioread instead.\n",
      "  warnings.warn('PySoundFile failed. Trying audioread instead.')\n",
      "/home/laferrari/anaconda3/envs/tensorflow_cpu/lib/python3.6/site-packages/librosa/core/audio.py:161: UserWarning: PySoundFile failed. Trying audioread instead.\n",
      "  warnings.warn('PySoundFile failed. Trying audioread instead.')\n",
      "/home/laferrari/anaconda3/envs/tensorflow_cpu/lib/python3.6/site-packages/librosa/core/audio.py:161: UserWarning: PySoundFile failed. Trying audioread instead.\n",
      "  warnings.warn('PySoundFile failed. Trying audioread instead.')\n",
      "/home/laferrari/anaconda3/envs/tensorflow_cpu/lib/python3.6/site-packages/librosa/core/audio.py:161: UserWarning: PySoundFile failed. Trying audioread instead.\n",
      "  warnings.warn('PySoundFile failed. Trying audioread instead.')\n",
      "/home/laferrari/anaconda3/envs/tensorflow_cpu/lib/python3.6/site-packages/librosa/core/audio.py:161: UserWarning: PySoundFile failed. Trying audioread instead.\n",
      "  warnings.warn('PySoundFile failed. Trying audioread instead.')\n",
      "/home/laferrari/anaconda3/envs/tensorflow_cpu/lib/python3.6/site-packages/librosa/core/audio.py:161: UserWarning: PySoundFile failed. Trying audioread instead.\n",
      "  warnings.warn('PySoundFile failed. Trying audioread instead.')\n",
      "/home/laferrari/anaconda3/envs/tensorflow_cpu/lib/python3.6/site-packages/librosa/core/audio.py:161: UserWarning: PySoundFile failed. Trying audioread instead.\n",
      "  warnings.warn('PySoundFile failed. Trying audioread instead.')\n",
      "/home/laferrari/anaconda3/envs/tensorflow_cpu/lib/python3.6/site-packages/librosa/core/audio.py:161: UserWarning: PySoundFile failed. Trying audioread instead.\n",
      "  warnings.warn('PySoundFile failed. Trying audioread instead.')\n",
      "/home/laferrari/anaconda3/envs/tensorflow_cpu/lib/python3.6/site-packages/librosa/core/audio.py:161: UserWarning: PySoundFile failed. Trying audioread instead.\n",
      "  warnings.warn('PySoundFile failed. Trying audioread instead.')\n",
      "/home/laferrari/anaconda3/envs/tensorflow_cpu/lib/python3.6/site-packages/librosa/core/audio.py:161: UserWarning: PySoundFile failed. Trying audioread instead.\n",
      "  warnings.warn('PySoundFile failed. Trying audioread instead.')\n",
      "/home/laferrari/anaconda3/envs/tensorflow_cpu/lib/python3.6/site-packages/librosa/core/audio.py:161: UserWarning: PySoundFile failed. Trying audioread instead.\n",
      "  warnings.warn('PySoundFile failed. Trying audioread instead.')\n",
      "/home/laferrari/anaconda3/envs/tensorflow_cpu/lib/python3.6/site-packages/librosa/core/audio.py:161: UserWarning: PySoundFile failed. Trying audioread instead.\n",
      "  warnings.warn('PySoundFile failed. Trying audioread instead.')\n",
      "/home/laferrari/anaconda3/envs/tensorflow_cpu/lib/python3.6/site-packages/librosa/core/audio.py:161: UserWarning: PySoundFile failed. Trying audioread instead.\n",
      "  warnings.warn('PySoundFile failed. Trying audioread instead.')\n",
      "/home/laferrari/anaconda3/envs/tensorflow_cpu/lib/python3.6/site-packages/librosa/core/audio.py:161: UserWarning: PySoundFile failed. Trying audioread instead.\n",
      "  warnings.warn('PySoundFile failed. Trying audioread instead.')\n",
      "/home/laferrari/anaconda3/envs/tensorflow_cpu/lib/python3.6/site-packages/librosa/core/audio.py:161: UserWarning: PySoundFile failed. Trying audioread instead.\n",
      "  warnings.warn('PySoundFile failed. Trying audioread instead.')\n",
      "/home/laferrari/anaconda3/envs/tensorflow_cpu/lib/python3.6/site-packages/librosa/core/audio.py:161: UserWarning: PySoundFile failed. Trying audioread instead.\n",
      "  warnings.warn('PySoundFile failed. Trying audioread instead.')\n",
      "/home/laferrari/anaconda3/envs/tensorflow_cpu/lib/python3.6/site-packages/librosa/core/audio.py:161: UserWarning: PySoundFile failed. Trying audioread instead.\n",
      "  warnings.warn('PySoundFile failed. Trying audioread instead.')\n",
      "/home/laferrari/anaconda3/envs/tensorflow_cpu/lib/python3.6/site-packages/librosa/core/audio.py:161: UserWarning: PySoundFile failed. Trying audioread instead.\n",
      "  warnings.warn('PySoundFile failed. Trying audioread instead.')\n",
      "/home/laferrari/anaconda3/envs/tensorflow_cpu/lib/python3.6/site-packages/librosa/core/audio.py:161: UserWarning: PySoundFile failed. Trying audioread instead.\n",
      "  warnings.warn('PySoundFile failed. Trying audioread instead.')\n",
      "/home/laferrari/anaconda3/envs/tensorflow_cpu/lib/python3.6/site-packages/librosa/core/audio.py:161: UserWarning: PySoundFile failed. Trying audioread instead.\n",
      "  warnings.warn('PySoundFile failed. Trying audioread instead.')\n",
      "/home/laferrari/anaconda3/envs/tensorflow_cpu/lib/python3.6/site-packages/librosa/core/audio.py:161: UserWarning: PySoundFile failed. Trying audioread instead.\n",
      "  warnings.warn('PySoundFile failed. Trying audioread instead.')\n",
      "/home/laferrari/anaconda3/envs/tensorflow_cpu/lib/python3.6/site-packages/librosa/core/audio.py:161: UserWarning: PySoundFile failed. Trying audioread instead.\n",
      "  warnings.warn('PySoundFile failed. Trying audioread instead.')\n",
      "/home/laferrari/anaconda3/envs/tensorflow_cpu/lib/python3.6/site-packages/librosa/core/audio.py:161: UserWarning: PySoundFile failed. Trying audioread instead.\n",
      "  warnings.warn('PySoundFile failed. Trying audioread instead.')\n",
      "/home/laferrari/anaconda3/envs/tensorflow_cpu/lib/python3.6/site-packages/librosa/core/audio.py:161: UserWarning: PySoundFile failed. Trying audioread instead.\n",
      "  warnings.warn('PySoundFile failed. Trying audioread instead.')\n"
     ]
    }
   ],
   "source": [
    "testing_directory = \"../emotion_dataset/testing/\"\n",
    "dirContents = os.listdir(testing_directory)\n",
    "x_test, y_test = [], []\n",
    "for music in dirContents:\n",
    "    labelled_music = music.split('_')[1]\n",
    "    if labelled_music[1] == 'P' or labelled_music[1] == 'N':\n",
    "        music_features = getFeatures(testing_directory+music)\n",
    "        x_test.append(music_features)\n",
    "        y_test.append(labelled_music[:2])"
   ]
  },
  {
   "cell_type": "code",
   "execution_count": 68,
   "metadata": {},
   "outputs": [],
   "source": [
    "x_test = np.array(x_test)\n",
    "x_test.shape"
   ]
  },
  {
   "cell_type": "markdown",
   "metadata": {},
   "source": [
    "### model 1 predictions:"
   ]
  },
  {
   "cell_type": "code",
   "execution_count": 156,
   "metadata": {},
   "outputs": [],
   "source": [
    "y_pred = []\n",
    "for i in range(x_test.shape[0]):\n",
    "    x_i = x_test[i].reshape(1, x_test[i].shape[0])\n",
    "    y_i_pred = model1.predict(x_i)\n",
    "    y_i_pred = y_i_pred.reshape(y_i_pred.shape[-1],)\n",
    "    y_i_pred = encoder.inverse_transform([np.argmax(y_i_pred)])\n",
    "    y_pred.append(y_i_pred)"
   ]
  },
  {
   "cell_type": "code",
   "execution_count": 157,
   "metadata": {},
   "outputs": [
    {
     "data": {
      "text/plain": [
       "0.21428571428571427"
      ]
     },
     "execution_count": 157,
     "metadata": {},
     "output_type": "execute_result"
    }
   ],
   "source": [
    "from sklearn.metrics import accuracy_score\n",
    "accuracy_score(y_test, y_pred)"
   ]
  },
  {
   "cell_type": "code",
   "execution_count": 105,
   "metadata": {
    "scrolled": true
   },
   "outputs": [
    {
     "name": "stdout",
     "output_type": "stream",
     "text": [
      "['TP', 'VN', 'AP', 'AN', 'TN', 'AP', 'AP', 'AN', 'AN', 'AN', 'TP', 'TN', 'TP', 'AP', 'TN', 'TP', 'TN', 'AN', 'AP', 'AN', 'AP', 'VP', 'VP', 'TN', 'TP', 'VN', 'TP', 'TN']\n"
     ]
    }
   ],
   "source": [
    "print(y_test)"
   ]
  },
  {
   "cell_type": "code",
   "execution_count": 108,
   "metadata": {},
   "outputs": [
    {
     "name": "stdout",
     "output_type": "stream",
     "text": [
      "[array(['AN'], dtype='<U2'), array(['AP'], dtype='<U2'), array(['AP'], dtype='<U2'), array(['TN'], dtype='<U2'), array(['TN'], dtype='<U2'), array(['TN'], dtype='<U2'), array(['AN'], dtype='<U2'), array(['TN'], dtype='<U2'), array(['TP'], dtype='<U2'), array(['AP'], dtype='<U2'), array(['TP'], dtype='<U2'), array(['AP'], dtype='<U2'), array(['TN'], dtype='<U2'), array(['TN'], dtype='<U2'), array(['AP'], dtype='<U2'), array(['AN'], dtype='<U2'), array(['AN'], dtype='<U2'), array(['AP'], dtype='<U2'), array(['AN'], dtype='<U2'), array(['AN'], dtype='<U2'), array(['AP'], dtype='<U2'), array(['TP'], dtype='<U2'), array(['TN'], dtype='<U2'), array(['AP'], dtype='<U2'), array(['TP'], dtype='<U2'), array(['AN'], dtype='<U2'), array(['AN'], dtype='<U2'), array(['AN'], dtype='<U2')]\n"
     ]
    }
   ],
   "source": [
    "print(y_pred)"
   ]
  },
  {
   "cell_type": "markdown",
   "metadata": {},
   "source": [
    "### model 2 predictions:"
   ]
  },
  {
   "cell_type": "code",
   "execution_count": 153,
   "metadata": {},
   "outputs": [],
   "source": [
    "y_pred = []\n",
    "for i in range(x_test.shape[0]):\n",
    "    x_i = x_test[i].reshape(1, x_test[i].shape[0])\n",
    "    y_i_pred = model2.predict(x_i)\n",
    "    y_i_pred = y_i_pred.reshape(y_i_pred.shape[-1],)\n",
    "    y_i_pred = encoder.inverse_transform([np.argmax(y_i_pred)])\n",
    "    y_pred.append(y_i_pred)"
   ]
  },
  {
   "cell_type": "code",
   "execution_count": 154,
   "metadata": {},
   "outputs": [
    {
     "data": {
      "text/plain": [
       "0.17857142857142858"
      ]
     },
     "execution_count": 154,
     "metadata": {},
     "output_type": "execute_result"
    }
   ],
   "source": [
    "from sklearn.metrics import accuracy_score\n",
    "accuracy_score(y_test, y_pred)"
   ]
  },
  {
   "cell_type": "markdown",
   "metadata": {},
   "source": [
    "### model 3 predictions:"
   ]
  },
  {
   "cell_type": "code",
   "execution_count": 146,
   "metadata": {},
   "outputs": [],
   "source": [
    "y_pred = []\n",
    "for i in range(x_test.shape[0]):\n",
    "    x_i = x_test[i].reshape(1, x_test[i].shape[0])\n",
    "    y_i_pred = model3.predict(x_i)\n",
    "    y_i_pred = y_i_pred.reshape(y_i_pred.shape[-1],)\n",
    "    y_i_pred = encoder.inverse_transform([np.argmax(y_i_pred)])\n",
    "    y_pred.append(y_i_pred)"
   ]
  },
  {
   "cell_type": "code",
   "execution_count": 148,
   "metadata": {},
   "outputs": [
    {
     "data": {
      "text/plain": [
       "0.10714285714285714"
      ]
     },
     "execution_count": 148,
     "metadata": {},
     "output_type": "execute_result"
    }
   ],
   "source": [
    "from sklearn.metrics import accuracy_score\n",
    "accuracy_score(y_test, y_pred)"
   ]
  },
  {
   "cell_type": "markdown",
   "metadata": {},
   "source": [
    "### model 4 predictions:"
   ]
  },
  {
   "cell_type": "code",
   "execution_count": 144,
   "metadata": {},
   "outputs": [],
   "source": [
    "y_pred = []\n",
    "for i in range(x_test.shape[0]):\n",
    "    x_i = x_test[i].reshape(1, x_test[i].shape[0])\n",
    "    y_i_pred = model4.predict(x_i)\n",
    "    y_i_pred = y_i_pred.reshape(y_i_pred.shape[-1],)\n",
    "    y_i_pred = encoder.inverse_transform([np.argmax(y_i_pred)])\n",
    "    y_pred.append(y_i_pred)"
   ]
  },
  {
   "cell_type": "code",
   "execution_count": 145,
   "metadata": {},
   "outputs": [
    {
     "data": {
      "text/plain": [
       "0.21428571428571427"
      ]
     },
     "execution_count": 145,
     "metadata": {},
     "output_type": "execute_result"
    }
   ],
   "source": [
    "from sklearn.metrics import accuracy_score\n",
    "accuracy_score(y_test, y_pred)"
   ]
  }
 ],
 "metadata": {
  "kernelspec": {
   "display_name": "Python 3",
   "language": "python",
   "name": "python3"
  },
  "language_info": {
   "codemirror_mode": {
    "name": "ipython",
    "version": 3
   },
   "file_extension": ".py",
   "mimetype": "text/x-python",
   "name": "python",
   "nbconvert_exporter": "python",
   "pygments_lexer": "ipython3",
   "version": "3.6.9"
  }
 },
 "nbformat": 4,
 "nbformat_minor": 2
}

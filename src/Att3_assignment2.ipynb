{
 "cells": [
  {
   "cell_type": "markdown",
   "metadata": {},
   "source": [
    "# Dataset:\n",
    "1. Our training dataset can be found [here](https://onedrive.live.com/?authkey=%21ABJMt2rGTQvCxyM&id=3E1ACB43A24F0BDA%21122&cid=3E1ACB43A24F0BDA)\n",
    "2. Training of our model was done on the above mentioned Arousal, Valence and Tension dataset. "
   ]
  },
  {
   "cell_type": "markdown",
   "metadata": {},
   "source": [
    "# Instructions to run this code:\n",
    "1. `git clone https://github.com/akshayDev17/emotion_dataset.git`"
   ]
  },
  {
   "cell_type": "markdown",
   "metadata": {},
   "source": [
    "# Models:\n",
    "1. We have used 4 models for these classification tasks: ridge, Kneighbors, svm, decision-tree classifiers."
   ]
  },
  {
   "cell_type": "markdown",
   "metadata": {},
   "source": [
    "# Procedure:\n",
    "1. We plan on performing 3 binary classifications, namely Arousal-positive vs Arousal-negative, Valence-positive vs Valence-negative and Tension-positive vs Tension-negative.\n",
    "2. For all the models, we firstly use their default classifier-API, without specifiying any parameters.\n",
    "3. Then we try to perform grid Search, under a confined parameter space, to obtain the best hyper-parameter values for those models.\n",
    "4. Lastly, we compare the grid searched and default classifier-models, to funnel out the best classifier for each emotion-type"
   ]
  },
  {
   "cell_type": "code",
   "execution_count": 2,
   "metadata": {},
   "outputs": [],
   "source": [
    "import os\n",
    "import librosa\n",
    "import numpy as np\n",
    "import matplotlib.pyplot as plt\n",
    "import seaborn as sns\n",
    "from sklearn.model_selection import train_test_split\n",
    "from sklearn.metrics import accuracy_score"
   ]
  },
  {
   "cell_type": "code",
   "execution_count": 3,
   "metadata": {},
   "outputs": [],
   "source": [
    "def getFeatures(path):\n",
    "    y, sr = librosa.load(path)\n",
    "    chroma_cens = librosa.feature.chroma_cens(y=y, sr=sr)\n",
    "    cent = librosa.feature.spectral_centroid(y=y, sr=sr)\n",
    "    spec_bw = librosa.feature.spectral_bandwidth(y=y, sr=sr)\n",
    "    rolloff = librosa.feature.spectral_rolloff(y=y, sr=sr)\n",
    "    \n",
    "    mfcc = librosa.feature.mfcc(y=y, sr=sr)\n",
    "    mfcc_delta = librosa.feature.delta(mfcc)\n",
    "    \n",
    "    features = []\n",
    "    features.append(np.mean(cent))\n",
    "    features.append(np.mean(spec_bw))\n",
    "    features.append(np.mean(rolloff))\n",
    "    features.append(np.mean(chroma_cens))\n",
    "    for coefficient in mfcc:\n",
    "        features.append(np.mean(coefficient))\n",
    "    return features   "
   ]
  },
  {
   "cell_type": "markdown",
   "metadata": {},
   "source": [
    "## Arousal-data-collection:\n",
    "We separated the arousal-only tracks, based on positive and negative arousal."
   ]
  },
  {
   "cell_type": "code",
   "execution_count": 92,
   "metadata": {},
   "outputs": [],
   "source": [
    "arousal_directory = \"./emotion_dataset/Arousal/\"\n",
    "arousal_feature_set, arousal_y_labels = [], []"
   ]
  },
  {
   "cell_type": "code",
   "execution_count": 84,
   "metadata": {
    "scrolled": true
   },
   "outputs": [
    {
     "name": "stdout",
     "output_type": "stream",
     "text": [
      "/home/akpmnmy2j/MMT_assignment2\n"
     ]
    }
   ],
   "source": [
    "print(os.getcwd())"
   ]
  },
  {
   "cell_type": "markdown",
   "metadata": {},
   "source": [
    "Extracting features for the arousal-positive and arousal-negative music data"
   ]
  },
  {
   "cell_type": "code",
   "execution_count": 85,
   "metadata": {},
   "outputs": [
    {
     "name": "stderr",
     "output_type": "stream",
     "text": [
      "/home/akpmnmy2j/miniconda3/envs/tensorflow_gpu/lib/python3.7/site-packages/librosa/core/audio.py:161: UserWarning: PySoundFile failed. Trying audioread instead.\n",
      "  warnings.warn('PySoundFile failed. Trying audioread instead.')\n",
      "/home/akpmnmy2j/miniconda3/envs/tensorflow_gpu/lib/python3.7/site-packages/librosa/core/audio.py:161: UserWarning: PySoundFile failed. Trying audioread instead.\n",
      "  warnings.warn('PySoundFile failed. Trying audioread instead.')\n",
      "/home/akpmnmy2j/miniconda3/envs/tensorflow_gpu/lib/python3.7/site-packages/librosa/core/audio.py:161: UserWarning: PySoundFile failed. Trying audioread instead.\n",
      "  warnings.warn('PySoundFile failed. Trying audioread instead.')\n",
      "/home/akpmnmy2j/miniconda3/envs/tensorflow_gpu/lib/python3.7/site-packages/librosa/core/audio.py:161: UserWarning: PySoundFile failed. Trying audioread instead.\n",
      "  warnings.warn('PySoundFile failed. Trying audioread instead.')\n",
      "/home/akpmnmy2j/miniconda3/envs/tensorflow_gpu/lib/python3.7/site-packages/librosa/core/audio.py:161: UserWarning: PySoundFile failed. Trying audioread instead.\n",
      "  warnings.warn('PySoundFile failed. Trying audioread instead.')\n",
      "/home/akpmnmy2j/miniconda3/envs/tensorflow_gpu/lib/python3.7/site-packages/librosa/core/audio.py:161: UserWarning: PySoundFile failed. Trying audioread instead.\n",
      "  warnings.warn('PySoundFile failed. Trying audioread instead.')\n",
      "/home/akpmnmy2j/miniconda3/envs/tensorflow_gpu/lib/python3.7/site-packages/librosa/core/audio.py:161: UserWarning: PySoundFile failed. Trying audioread instead.\n",
      "  warnings.warn('PySoundFile failed. Trying audioread instead.')\n",
      "/home/akpmnmy2j/miniconda3/envs/tensorflow_gpu/lib/python3.7/site-packages/librosa/core/audio.py:161: UserWarning: PySoundFile failed. Trying audioread instead.\n",
      "  warnings.warn('PySoundFile failed. Trying audioread instead.')\n",
      "/home/akpmnmy2j/miniconda3/envs/tensorflow_gpu/lib/python3.7/site-packages/librosa/core/audio.py:161: UserWarning: PySoundFile failed. Trying audioread instead.\n",
      "  warnings.warn('PySoundFile failed. Trying audioread instead.')\n",
      "/home/akpmnmy2j/miniconda3/envs/tensorflow_gpu/lib/python3.7/site-packages/librosa/core/audio.py:161: UserWarning: PySoundFile failed. Trying audioread instead.\n",
      "  warnings.warn('PySoundFile failed. Trying audioread instead.')\n",
      "/home/akpmnmy2j/miniconda3/envs/tensorflow_gpu/lib/python3.7/site-packages/librosa/core/audio.py:161: UserWarning: PySoundFile failed. Trying audioread instead.\n",
      "  warnings.warn('PySoundFile failed. Trying audioread instead.')\n",
      "/home/akpmnmy2j/miniconda3/envs/tensorflow_gpu/lib/python3.7/site-packages/librosa/core/audio.py:161: UserWarning: PySoundFile failed. Trying audioread instead.\n",
      "  warnings.warn('PySoundFile failed. Trying audioread instead.')\n",
      "/home/akpmnmy2j/miniconda3/envs/tensorflow_gpu/lib/python3.7/site-packages/librosa/core/audio.py:161: UserWarning: PySoundFile failed. Trying audioread instead.\n",
      "  warnings.warn('PySoundFile failed. Trying audioread instead.')\n",
      "/home/akpmnmy2j/miniconda3/envs/tensorflow_gpu/lib/python3.7/site-packages/librosa/core/audio.py:161: UserWarning: PySoundFile failed. Trying audioread instead.\n",
      "  warnings.warn('PySoundFile failed. Trying audioread instead.')\n",
      "/home/akpmnmy2j/miniconda3/envs/tensorflow_gpu/lib/python3.7/site-packages/librosa/core/audio.py:161: UserWarning: PySoundFile failed. Trying audioread instead.\n",
      "  warnings.warn('PySoundFile failed. Trying audioread instead.')\n",
      "/home/akpmnmy2j/miniconda3/envs/tensorflow_gpu/lib/python3.7/site-packages/librosa/core/audio.py:161: UserWarning: PySoundFile failed. Trying audioread instead.\n",
      "  warnings.warn('PySoundFile failed. Trying audioread instead.')\n",
      "/home/akpmnmy2j/miniconda3/envs/tensorflow_gpu/lib/python3.7/site-packages/librosa/core/audio.py:161: UserWarning: PySoundFile failed. Trying audioread instead.\n",
      "  warnings.warn('PySoundFile failed. Trying audioread instead.')\n",
      "/home/akpmnmy2j/miniconda3/envs/tensorflow_gpu/lib/python3.7/site-packages/librosa/core/audio.py:161: UserWarning: PySoundFile failed. Trying audioread instead.\n",
      "  warnings.warn('PySoundFile failed. Trying audioread instead.')\n",
      "/home/akpmnmy2j/miniconda3/envs/tensorflow_gpu/lib/python3.7/site-packages/librosa/core/audio.py:161: UserWarning: PySoundFile failed. Trying audioread instead.\n",
      "  warnings.warn('PySoundFile failed. Trying audioread instead.')\n",
      "/home/akpmnmy2j/miniconda3/envs/tensorflow_gpu/lib/python3.7/site-packages/librosa/core/audio.py:161: UserWarning: PySoundFile failed. Trying audioread instead.\n",
      "  warnings.warn('PySoundFile failed. Trying audioread instead.')\n",
      "/home/akpmnmy2j/miniconda3/envs/tensorflow_gpu/lib/python3.7/site-packages/librosa/core/audio.py:161: UserWarning: PySoundFile failed. Trying audioread instead.\n",
      "  warnings.warn('PySoundFile failed. Trying audioread instead.')\n",
      "/home/akpmnmy2j/miniconda3/envs/tensorflow_gpu/lib/python3.7/site-packages/librosa/core/audio.py:161: UserWarning: PySoundFile failed. Trying audioread instead.\n",
      "  warnings.warn('PySoundFile failed. Trying audioread instead.')\n",
      "/home/akpmnmy2j/miniconda3/envs/tensorflow_gpu/lib/python3.7/site-packages/librosa/core/audio.py:161: UserWarning: PySoundFile failed. Trying audioread instead.\n",
      "  warnings.warn('PySoundFile failed. Trying audioread instead.')\n",
      "/home/akpmnmy2j/miniconda3/envs/tensorflow_gpu/lib/python3.7/site-packages/librosa/core/audio.py:161: UserWarning: PySoundFile failed. Trying audioread instead.\n",
      "  warnings.warn('PySoundFile failed. Trying audioread instead.')\n",
      "/home/akpmnmy2j/miniconda3/envs/tensorflow_gpu/lib/python3.7/site-packages/librosa/core/audio.py:161: UserWarning: PySoundFile failed. Trying audioread instead.\n",
      "  warnings.warn('PySoundFile failed. Trying audioread instead.')\n",
      "/home/akpmnmy2j/miniconda3/envs/tensorflow_gpu/lib/python3.7/site-packages/librosa/core/audio.py:161: UserWarning: PySoundFile failed. Trying audioread instead.\n",
      "  warnings.warn('PySoundFile failed. Trying audioread instead.')\n",
      "/home/akpmnmy2j/miniconda3/envs/tensorflow_gpu/lib/python3.7/site-packages/librosa/core/audio.py:161: UserWarning: PySoundFile failed. Trying audioread instead.\n",
      "  warnings.warn('PySoundFile failed. Trying audioread instead.')\n",
      "/home/akpmnmy2j/miniconda3/envs/tensorflow_gpu/lib/python3.7/site-packages/librosa/core/audio.py:161: UserWarning: PySoundFile failed. Trying audioread instead.\n",
      "  warnings.warn('PySoundFile failed. Trying audioread instead.')\n",
      "/home/akpmnmy2j/miniconda3/envs/tensorflow_gpu/lib/python3.7/site-packages/librosa/core/audio.py:161: UserWarning: PySoundFile failed. Trying audioread instead.\n",
      "  warnings.warn('PySoundFile failed. Trying audioread instead.')\n",
      "/home/akpmnmy2j/miniconda3/envs/tensorflow_gpu/lib/python3.7/site-packages/librosa/core/audio.py:161: UserWarning: PySoundFile failed. Trying audioread instead.\n",
      "  warnings.warn('PySoundFile failed. Trying audioread instead.')\n",
      "/home/akpmnmy2j/miniconda3/envs/tensorflow_gpu/lib/python3.7/site-packages/librosa/core/audio.py:161: UserWarning: PySoundFile failed. Trying audioread instead.\n",
      "  warnings.warn('PySoundFile failed. Trying audioread instead.')\n",
      "/home/akpmnmy2j/miniconda3/envs/tensorflow_gpu/lib/python3.7/site-packages/librosa/core/audio.py:161: UserWarning: PySoundFile failed. Trying audioread instead.\n",
      "  warnings.warn('PySoundFile failed. Trying audioread instead.')\n",
      "/home/akpmnmy2j/miniconda3/envs/tensorflow_gpu/lib/python3.7/site-packages/librosa/core/audio.py:161: UserWarning: PySoundFile failed. Trying audioread instead.\n",
      "  warnings.warn('PySoundFile failed. Trying audioread instead.')\n",
      "/home/akpmnmy2j/miniconda3/envs/tensorflow_gpu/lib/python3.7/site-packages/librosa/core/audio.py:161: UserWarning: PySoundFile failed. Trying audioread instead.\n",
      "  warnings.warn('PySoundFile failed. Trying audioread instead.')\n",
      "/home/akpmnmy2j/miniconda3/envs/tensorflow_gpu/lib/python3.7/site-packages/librosa/core/audio.py:161: UserWarning: PySoundFile failed. Trying audioread instead.\n",
      "  warnings.warn('PySoundFile failed. Trying audioread instead.')\n",
      "/home/akpmnmy2j/miniconda3/envs/tensorflow_gpu/lib/python3.7/site-packages/librosa/core/audio.py:161: UserWarning: PySoundFile failed. Trying audioread instead.\n",
      "  warnings.warn('PySoundFile failed. Trying audioread instead.')\n",
      "/home/akpmnmy2j/miniconda3/envs/tensorflow_gpu/lib/python3.7/site-packages/librosa/core/audio.py:161: UserWarning: PySoundFile failed. Trying audioread instead.\n",
      "  warnings.warn('PySoundFile failed. Trying audioread instead.')\n"
     ]
    },
    {
     "name": "stderr",
     "output_type": "stream",
     "text": [
      "/home/akpmnmy2j/miniconda3/envs/tensorflow_gpu/lib/python3.7/site-packages/librosa/core/audio.py:161: UserWarning: PySoundFile failed. Trying audioread instead.\n",
      "  warnings.warn('PySoundFile failed. Trying audioread instead.')\n",
      "/home/akpmnmy2j/miniconda3/envs/tensorflow_gpu/lib/python3.7/site-packages/librosa/core/audio.py:161: UserWarning: PySoundFile failed. Trying audioread instead.\n",
      "  warnings.warn('PySoundFile failed. Trying audioread instead.')\n",
      "/home/akpmnmy2j/miniconda3/envs/tensorflow_gpu/lib/python3.7/site-packages/librosa/core/audio.py:161: UserWarning: PySoundFile failed. Trying audioread instead.\n",
      "  warnings.warn('PySoundFile failed. Trying audioread instead.')\n",
      "/home/akpmnmy2j/miniconda3/envs/tensorflow_gpu/lib/python3.7/site-packages/librosa/core/audio.py:161: UserWarning: PySoundFile failed. Trying audioread instead.\n",
      "  warnings.warn('PySoundFile failed. Trying audioread instead.')\n",
      "/home/akpmnmy2j/miniconda3/envs/tensorflow_gpu/lib/python3.7/site-packages/librosa/core/audio.py:161: UserWarning: PySoundFile failed. Trying audioread instead.\n",
      "  warnings.warn('PySoundFile failed. Trying audioread instead.')\n",
      "/home/akpmnmy2j/miniconda3/envs/tensorflow_gpu/lib/python3.7/site-packages/librosa/core/audio.py:161: UserWarning: PySoundFile failed. Trying audioread instead.\n",
      "  warnings.warn('PySoundFile failed. Trying audioread instead.')\n",
      "/home/akpmnmy2j/miniconda3/envs/tensorflow_gpu/lib/python3.7/site-packages/librosa/core/audio.py:161: UserWarning: PySoundFile failed. Trying audioread instead.\n",
      "  warnings.warn('PySoundFile failed. Trying audioread instead.')\n",
      "/home/akpmnmy2j/miniconda3/envs/tensorflow_gpu/lib/python3.7/site-packages/librosa/core/audio.py:161: UserWarning: PySoundFile failed. Trying audioread instead.\n",
      "  warnings.warn('PySoundFile failed. Trying audioread instead.')\n",
      "/home/akpmnmy2j/miniconda3/envs/tensorflow_gpu/lib/python3.7/site-packages/librosa/core/audio.py:161: UserWarning: PySoundFile failed. Trying audioread instead.\n",
      "  warnings.warn('PySoundFile failed. Trying audioread instead.')\n",
      "/home/akpmnmy2j/miniconda3/envs/tensorflow_gpu/lib/python3.7/site-packages/librosa/core/audio.py:161: UserWarning: PySoundFile failed. Trying audioread instead.\n",
      "  warnings.warn('PySoundFile failed. Trying audioread instead.')\n",
      "/home/akpmnmy2j/miniconda3/envs/tensorflow_gpu/lib/python3.7/site-packages/librosa/core/audio.py:161: UserWarning: PySoundFile failed. Trying audioread instead.\n",
      "  warnings.warn('PySoundFile failed. Trying audioread instead.')\n",
      "/home/akpmnmy2j/miniconda3/envs/tensorflow_gpu/lib/python3.7/site-packages/librosa/core/audio.py:161: UserWarning: PySoundFile failed. Trying audioread instead.\n",
      "  warnings.warn('PySoundFile failed. Trying audioread instead.')\n",
      "/home/akpmnmy2j/miniconda3/envs/tensorflow_gpu/lib/python3.7/site-packages/librosa/core/audio.py:161: UserWarning: PySoundFile failed. Trying audioread instead.\n",
      "  warnings.warn('PySoundFile failed. Trying audioread instead.')\n",
      "/home/akpmnmy2j/miniconda3/envs/tensorflow_gpu/lib/python3.7/site-packages/librosa/core/audio.py:161: UserWarning: PySoundFile failed. Trying audioread instead.\n",
      "  warnings.warn('PySoundFile failed. Trying audioread instead.')\n",
      "/home/akpmnmy2j/miniconda3/envs/tensorflow_gpu/lib/python3.7/site-packages/librosa/core/audio.py:161: UserWarning: PySoundFile failed. Trying audioread instead.\n",
      "  warnings.warn('PySoundFile failed. Trying audioread instead.')\n",
      "/home/akpmnmy2j/miniconda3/envs/tensorflow_gpu/lib/python3.7/site-packages/librosa/core/audio.py:161: UserWarning: PySoundFile failed. Trying audioread instead.\n",
      "  warnings.warn('PySoundFile failed. Trying audioread instead.')\n",
      "/home/akpmnmy2j/miniconda3/envs/tensorflow_gpu/lib/python3.7/site-packages/librosa/core/audio.py:161: UserWarning: PySoundFile failed. Trying audioread instead.\n",
      "  warnings.warn('PySoundFile failed. Trying audioread instead.')\n",
      "/home/akpmnmy2j/miniconda3/envs/tensorflow_gpu/lib/python3.7/site-packages/librosa/core/audio.py:161: UserWarning: PySoundFile failed. Trying audioread instead.\n",
      "  warnings.warn('PySoundFile failed. Trying audioread instead.')\n",
      "/home/akpmnmy2j/miniconda3/envs/tensorflow_gpu/lib/python3.7/site-packages/librosa/core/audio.py:161: UserWarning: PySoundFile failed. Trying audioread instead.\n",
      "  warnings.warn('PySoundFile failed. Trying audioread instead.')\n",
      "/home/akpmnmy2j/miniconda3/envs/tensorflow_gpu/lib/python3.7/site-packages/librosa/core/audio.py:161: UserWarning: PySoundFile failed. Trying audioread instead.\n",
      "  warnings.warn('PySoundFile failed. Trying audioread instead.')\n",
      "/home/akpmnmy2j/miniconda3/envs/tensorflow_gpu/lib/python3.7/site-packages/librosa/core/audio.py:161: UserWarning: PySoundFile failed. Trying audioread instead.\n",
      "  warnings.warn('PySoundFile failed. Trying audioread instead.')\n",
      "/home/akpmnmy2j/miniconda3/envs/tensorflow_gpu/lib/python3.7/site-packages/librosa/core/audio.py:161: UserWarning: PySoundFile failed. Trying audioread instead.\n",
      "  warnings.warn('PySoundFile failed. Trying audioread instead.')\n",
      "/home/akpmnmy2j/miniconda3/envs/tensorflow_gpu/lib/python3.7/site-packages/librosa/core/audio.py:161: UserWarning: PySoundFile failed. Trying audioread instead.\n",
      "  warnings.warn('PySoundFile failed. Trying audioread instead.')\n",
      "/home/akpmnmy2j/miniconda3/envs/tensorflow_gpu/lib/python3.7/site-packages/librosa/core/audio.py:161: UserWarning: PySoundFile failed. Trying audioread instead.\n",
      "  warnings.warn('PySoundFile failed. Trying audioread instead.')\n",
      "/home/akpmnmy2j/miniconda3/envs/tensorflow_gpu/lib/python3.7/site-packages/librosa/core/audio.py:161: UserWarning: PySoundFile failed. Trying audioread instead.\n",
      "  warnings.warn('PySoundFile failed. Trying audioread instead.')\n",
      "/home/akpmnmy2j/miniconda3/envs/tensorflow_gpu/lib/python3.7/site-packages/librosa/core/audio.py:161: UserWarning: PySoundFile failed. Trying audioread instead.\n",
      "  warnings.warn('PySoundFile failed. Trying audioread instead.')\n",
      "/home/akpmnmy2j/miniconda3/envs/tensorflow_gpu/lib/python3.7/site-packages/librosa/core/audio.py:161: UserWarning: PySoundFile failed. Trying audioread instead.\n",
      "  warnings.warn('PySoundFile failed. Trying audioread instead.')\n",
      "/home/akpmnmy2j/miniconda3/envs/tensorflow_gpu/lib/python3.7/site-packages/librosa/core/audio.py:161: UserWarning: PySoundFile failed. Trying audioread instead.\n",
      "  warnings.warn('PySoundFile failed. Trying audioread instead.')\n",
      "/home/akpmnmy2j/miniconda3/envs/tensorflow_gpu/lib/python3.7/site-packages/librosa/core/audio.py:161: UserWarning: PySoundFile failed. Trying audioread instead.\n",
      "  warnings.warn('PySoundFile failed. Trying audioread instead.')\n",
      "/home/akpmnmy2j/miniconda3/envs/tensorflow_gpu/lib/python3.7/site-packages/librosa/core/audio.py:161: UserWarning: PySoundFile failed. Trying audioread instead.\n",
      "  warnings.warn('PySoundFile failed. Trying audioread instead.')\n",
      "/home/akpmnmy2j/miniconda3/envs/tensorflow_gpu/lib/python3.7/site-packages/librosa/core/audio.py:161: UserWarning: PySoundFile failed. Trying audioread instead.\n",
      "  warnings.warn('PySoundFile failed. Trying audioread instead.')\n",
      "/home/akpmnmy2j/miniconda3/envs/tensorflow_gpu/lib/python3.7/site-packages/librosa/core/audio.py:161: UserWarning: PySoundFile failed. Trying audioread instead.\n",
      "  warnings.warn('PySoundFile failed. Trying audioread instead.')\n",
      "/home/akpmnmy2j/miniconda3/envs/tensorflow_gpu/lib/python3.7/site-packages/librosa/core/audio.py:161: UserWarning: PySoundFile failed. Trying audioread instead.\n",
      "  warnings.warn('PySoundFile failed. Trying audioread instead.')\n",
      "/home/akpmnmy2j/miniconda3/envs/tensorflow_gpu/lib/python3.7/site-packages/librosa/core/audio.py:161: UserWarning: PySoundFile failed. Trying audioread instead.\n",
      "  warnings.warn('PySoundFile failed. Trying audioread instead.')\n",
      "/home/akpmnmy2j/miniconda3/envs/tensorflow_gpu/lib/python3.7/site-packages/librosa/core/audio.py:161: UserWarning: PySoundFile failed. Trying audioread instead.\n",
      "  warnings.warn('PySoundFile failed. Trying audioread instead.')\n",
      "/home/akpmnmy2j/miniconda3/envs/tensorflow_gpu/lib/python3.7/site-packages/librosa/core/audio.py:161: UserWarning: PySoundFile failed. Trying audioread instead.\n",
      "  warnings.warn('PySoundFile failed. Trying audioread instead.')\n",
      "/home/akpmnmy2j/miniconda3/envs/tensorflow_gpu/lib/python3.7/site-packages/librosa/core/audio.py:161: UserWarning: PySoundFile failed. Trying audioread instead.\n",
      "  warnings.warn('PySoundFile failed. Trying audioread instead.')\n"
     ]
    },
    {
     "name": "stderr",
     "output_type": "stream",
     "text": [
      "/home/akpmnmy2j/miniconda3/envs/tensorflow_gpu/lib/python3.7/site-packages/librosa/core/audio.py:161: UserWarning: PySoundFile failed. Trying audioread instead.\n",
      "  warnings.warn('PySoundFile failed. Trying audioread instead.')\n",
      "/home/akpmnmy2j/miniconda3/envs/tensorflow_gpu/lib/python3.7/site-packages/librosa/core/audio.py:161: UserWarning: PySoundFile failed. Trying audioread instead.\n",
      "  warnings.warn('PySoundFile failed. Trying audioread instead.')\n",
      "/home/akpmnmy2j/miniconda3/envs/tensorflow_gpu/lib/python3.7/site-packages/librosa/core/audio.py:161: UserWarning: PySoundFile failed. Trying audioread instead.\n",
      "  warnings.warn('PySoundFile failed. Trying audioread instead.')\n",
      "/home/akpmnmy2j/miniconda3/envs/tensorflow_gpu/lib/python3.7/site-packages/librosa/core/audio.py:161: UserWarning: PySoundFile failed. Trying audioread instead.\n",
      "  warnings.warn('PySoundFile failed. Trying audioread instead.')\n",
      "/home/akpmnmy2j/miniconda3/envs/tensorflow_gpu/lib/python3.7/site-packages/librosa/core/audio.py:161: UserWarning: PySoundFile failed. Trying audioread instead.\n",
      "  warnings.warn('PySoundFile failed. Trying audioread instead.')\n",
      "/home/akpmnmy2j/miniconda3/envs/tensorflow_gpu/lib/python3.7/site-packages/librosa/core/audio.py:161: UserWarning: PySoundFile failed. Trying audioread instead.\n",
      "  warnings.warn('PySoundFile failed. Trying audioread instead.')\n",
      "/home/akpmnmy2j/miniconda3/envs/tensorflow_gpu/lib/python3.7/site-packages/librosa/core/audio.py:161: UserWarning: PySoundFile failed. Trying audioread instead.\n",
      "  warnings.warn('PySoundFile failed. Trying audioread instead.')\n",
      "/home/akpmnmy2j/miniconda3/envs/tensorflow_gpu/lib/python3.7/site-packages/librosa/core/audio.py:161: UserWarning: PySoundFile failed. Trying audioread instead.\n",
      "  warnings.warn('PySoundFile failed. Trying audioread instead.')\n",
      "/home/akpmnmy2j/miniconda3/envs/tensorflow_gpu/lib/python3.7/site-packages/librosa/core/audio.py:161: UserWarning: PySoundFile failed. Trying audioread instead.\n",
      "  warnings.warn('PySoundFile failed. Trying audioread instead.')\n",
      "/home/akpmnmy2j/miniconda3/envs/tensorflow_gpu/lib/python3.7/site-packages/librosa/core/audio.py:161: UserWarning: PySoundFile failed. Trying audioread instead.\n",
      "  warnings.warn('PySoundFile failed. Trying audioread instead.')\n",
      "/home/akpmnmy2j/miniconda3/envs/tensorflow_gpu/lib/python3.7/site-packages/librosa/core/audio.py:161: UserWarning: PySoundFile failed. Trying audioread instead.\n",
      "  warnings.warn('PySoundFile failed. Trying audioread instead.')\n",
      "/home/akpmnmy2j/miniconda3/envs/tensorflow_gpu/lib/python3.7/site-packages/librosa/core/audio.py:161: UserWarning: PySoundFile failed. Trying audioread instead.\n",
      "  warnings.warn('PySoundFile failed. Trying audioread instead.')\n",
      "/home/akpmnmy2j/miniconda3/envs/tensorflow_gpu/lib/python3.7/site-packages/librosa/core/audio.py:161: UserWarning: PySoundFile failed. Trying audioread instead.\n",
      "  warnings.warn('PySoundFile failed. Trying audioread instead.')\n",
      "/home/akpmnmy2j/miniconda3/envs/tensorflow_gpu/lib/python3.7/site-packages/librosa/core/audio.py:161: UserWarning: PySoundFile failed. Trying audioread instead.\n",
      "  warnings.warn('PySoundFile failed. Trying audioread instead.')\n",
      "/home/akpmnmy2j/miniconda3/envs/tensorflow_gpu/lib/python3.7/site-packages/librosa/core/audio.py:161: UserWarning: PySoundFile failed. Trying audioread instead.\n",
      "  warnings.warn('PySoundFile failed. Trying audioread instead.')\n",
      "/home/akpmnmy2j/miniconda3/envs/tensorflow_gpu/lib/python3.7/site-packages/librosa/core/audio.py:161: UserWarning: PySoundFile failed. Trying audioread instead.\n",
      "  warnings.warn('PySoundFile failed. Trying audioread instead.')\n",
      "/home/akpmnmy2j/miniconda3/envs/tensorflow_gpu/lib/python3.7/site-packages/librosa/core/audio.py:161: UserWarning: PySoundFile failed. Trying audioread instead.\n",
      "  warnings.warn('PySoundFile failed. Trying audioread instead.')\n",
      "/home/akpmnmy2j/miniconda3/envs/tensorflow_gpu/lib/python3.7/site-packages/librosa/core/audio.py:161: UserWarning: PySoundFile failed. Trying audioread instead.\n",
      "  warnings.warn('PySoundFile failed. Trying audioread instead.')\n",
      "/home/akpmnmy2j/miniconda3/envs/tensorflow_gpu/lib/python3.7/site-packages/librosa/core/audio.py:161: UserWarning: PySoundFile failed. Trying audioread instead.\n",
      "  warnings.warn('PySoundFile failed. Trying audioread instead.')\n",
      "/home/akpmnmy2j/miniconda3/envs/tensorflow_gpu/lib/python3.7/site-packages/librosa/core/audio.py:161: UserWarning: PySoundFile failed. Trying audioread instead.\n",
      "  warnings.warn('PySoundFile failed. Trying audioread instead.')\n",
      "/home/akpmnmy2j/miniconda3/envs/tensorflow_gpu/lib/python3.7/site-packages/librosa/core/audio.py:161: UserWarning: PySoundFile failed. Trying audioread instead.\n",
      "  warnings.warn('PySoundFile failed. Trying audioread instead.')\n",
      "/home/akpmnmy2j/miniconda3/envs/tensorflow_gpu/lib/python3.7/site-packages/librosa/core/audio.py:161: UserWarning: PySoundFile failed. Trying audioread instead.\n",
      "  warnings.warn('PySoundFile failed. Trying audioread instead.')\n",
      "/home/akpmnmy2j/miniconda3/envs/tensorflow_gpu/lib/python3.7/site-packages/librosa/core/audio.py:161: UserWarning: PySoundFile failed. Trying audioread instead.\n",
      "  warnings.warn('PySoundFile failed. Trying audioread instead.')\n",
      "/home/akpmnmy2j/miniconda3/envs/tensorflow_gpu/lib/python3.7/site-packages/librosa/core/audio.py:161: UserWarning: PySoundFile failed. Trying audioread instead.\n",
      "  warnings.warn('PySoundFile failed. Trying audioread instead.')\n",
      "/home/akpmnmy2j/miniconda3/envs/tensorflow_gpu/lib/python3.7/site-packages/librosa/core/audio.py:161: UserWarning: PySoundFile failed. Trying audioread instead.\n",
      "  warnings.warn('PySoundFile failed. Trying audioread instead.')\n",
      "/home/akpmnmy2j/miniconda3/envs/tensorflow_gpu/lib/python3.7/site-packages/librosa/core/audio.py:161: UserWarning: PySoundFile failed. Trying audioread instead.\n",
      "  warnings.warn('PySoundFile failed. Trying audioread instead.')\n",
      "/home/akpmnmy2j/miniconda3/envs/tensorflow_gpu/lib/python3.7/site-packages/librosa/core/audio.py:161: UserWarning: PySoundFile failed. Trying audioread instead.\n",
      "  warnings.warn('PySoundFile failed. Trying audioread instead.')\n",
      "/home/akpmnmy2j/miniconda3/envs/tensorflow_gpu/lib/python3.7/site-packages/librosa/core/audio.py:161: UserWarning: PySoundFile failed. Trying audioread instead.\n",
      "  warnings.warn('PySoundFile failed. Trying audioread instead.')\n",
      "/home/akpmnmy2j/miniconda3/envs/tensorflow_gpu/lib/python3.7/site-packages/librosa/core/audio.py:161: UserWarning: PySoundFile failed. Trying audioread instead.\n",
      "  warnings.warn('PySoundFile failed. Trying audioread instead.')\n",
      "/home/akpmnmy2j/miniconda3/envs/tensorflow_gpu/lib/python3.7/site-packages/librosa/core/audio.py:161: UserWarning: PySoundFile failed. Trying audioread instead.\n",
      "  warnings.warn('PySoundFile failed. Trying audioread instead.')\n"
     ]
    }
   ],
   "source": [
    "dirContents = os.listdir(arousal_directory)\n",
    "for music in dirContents:\n",
    "    temp_y_label = music.split(\"_\")[-1][:2]\n",
    "    if temp_y_label == \"AN\" or temp_y_label == \"AP\":\n",
    "        currSongFeatures = getFeatures(arousal_directory+music)\n",
    "        arousal_feature_set.append(currSongFeatures)\n",
    "        arousal_y_labels.append(temp_y_label)"
   ]
  },
  {
   "cell_type": "code",
   "execution_count": 9,
   "metadata": {},
   "outputs": [
    {
     "name": "stdout",
     "output_type": "stream",
     "text": [
      "{'AP', 'AN'}\n"
     ]
    }
   ],
   "source": [
    "print(set(arousal_y_labels))"
   ]
  },
  {
   "cell_type": "code",
   "execution_count": 10,
   "metadata": {},
   "outputs": [
    {
     "data": {
      "text/plain": [
       "(104, 24)"
      ]
     },
     "execution_count": 10,
     "metadata": {},
     "output_type": "execute_result"
    }
   ],
   "source": [
    "arousal_feature_set = np.array(arousal_feature_set)\n",
    "arousal_feature_set.shape"
   ]
  },
  {
   "cell_type": "code",
   "execution_count": 11,
   "metadata": {},
   "outputs": [
    {
     "data": {
      "text/plain": [
       "(104,)"
      ]
     },
     "execution_count": 11,
     "metadata": {},
     "output_type": "execute_result"
    }
   ],
   "source": [
    "arousal_y = np.array(arousal_y_labels)\n",
    "arousal_y.shape"
   ]
  },
  {
   "cell_type": "markdown",
   "metadata": {},
   "source": [
    "Check distribution of labelled dataset"
   ]
  },
  {
   "cell_type": "code",
   "execution_count": 12,
   "metadata": {},
   "outputs": [
    {
     "data": {
      "text/plain": [
       "(array([52.,  0.,  0.,  0.,  0.,  0.,  0.,  0.,  0., 52.]),\n",
       " array([0. , 0.1, 0.2, 0.3, 0.4, 0.5, 0.6, 0.7, 0.8, 0.9, 1. ]),\n",
       " <a list of 10 Patch objects>)"
      ]
     },
     "execution_count": 12,
     "metadata": {},
     "output_type": "execute_result"
    },
    {
     "data": {
      "image/png": "[encoded data removed]",
      "text/plain": [
       "<Figure size 432x288 with 1 Axes>"
      ]
     },
     "metadata": {
      "needs_background": "light"
     },
     "output_type": "display_data"
    }
   ],
   "source": [
    "plt.hist(arousal_y)"
   ]
  },
  {
   "cell_type": "code",
   "execution_count": 13,
   "metadata": {},
   "outputs": [],
   "source": [
    "arousal_x_train, arousal_x_test, arousal_y_train, arousal_y_test = train_test_split(arousal_feature_set, arousal_y, test_size=0.2, random_state=1231)"
   ]
  },
  {
   "cell_type": "code",
   "execution_count": 14,
   "metadata": {},
   "outputs": [
    {
     "data": {
      "image/png": "[encoded data removed]",
      "text/plain": [
       "<Figure size 432x288 with 1 Axes>"
      ]
     },
     "metadata": {
      "needs_background": "light"
     },
     "output_type": "display_data"
    }
   ],
   "source": [
    "plt.hist(arousal_y_train, color='b', alpha=0.4, label='training_label_distribution')\n",
    "plt.hist(arousal_y_test, color='r', label='testing_label_distribution')\n",
    "plt.legend()\n",
    "plt.show()"
   ]
  },
  {
   "cell_type": "markdown",
   "metadata": {},
   "source": [
    "## Valence-data-collection"
   ]
  },
  {
   "cell_type": "code",
   "execution_count": 15,
   "metadata": {},
   "outputs": [],
   "source": [
    "valence_feature_set, valence_y_labels = [], []\n",
    "valence_directory = \"./emotion_dataset/Valence/\""
   ]
  },
  {
   "cell_type": "markdown",
   "metadata": {},
   "source": [
    "Extracting features for the arousal-positive and arousal-negative music data"
   ]
  },
  {
   "cell_type": "code",
   "execution_count": 16,
   "metadata": {},
   "outputs": [
    {
     "name": "stdout",
     "output_type": "stream",
     "text": [
      "/home/akpmnmy2j/MMT_assignment2\n"
     ]
    }
   ],
   "source": [
    "print(os.getcwd())"
   ]
  },
  {
   "cell_type": "code",
   "execution_count": 17,
   "metadata": {},
   "outputs": [
    {
     "name": "stderr",
     "output_type": "stream",
     "text": [
      "/home/akpmnmy2j/miniconda3/envs/tensorflow_gpu/lib/python3.7/site-packages/librosa/core/audio.py:161: UserWarning: PySoundFile failed. Trying audioread instead.\n",
      "  warnings.warn('PySoundFile failed. Trying audioread instead.')\n",
      "/home/akpmnmy2j/miniconda3/envs/tensorflow_gpu/lib/python3.7/site-packages/librosa/core/audio.py:161: UserWarning: PySoundFile failed. Trying audioread instead.\n",
      "  warnings.warn('PySoundFile failed. Trying audioread instead.')\n",
      "/home/akpmnmy2j/miniconda3/envs/tensorflow_gpu/lib/python3.7/site-packages/librosa/core/audio.py:161: UserWarning: PySoundFile failed. Trying audioread instead.\n",
      "  warnings.warn('PySoundFile failed. Trying audioread instead.')\n",
      "/home/akpmnmy2j/miniconda3/envs/tensorflow_gpu/lib/python3.7/site-packages/librosa/core/audio.py:161: UserWarning: PySoundFile failed. Trying audioread instead.\n",
      "  warnings.warn('PySoundFile failed. Trying audioread instead.')\n",
      "/home/akpmnmy2j/miniconda3/envs/tensorflow_gpu/lib/python3.7/site-packages/librosa/core/audio.py:161: UserWarning: PySoundFile failed. Trying audioread instead.\n",
      "  warnings.warn('PySoundFile failed. Trying audioread instead.')\n",
      "/home/akpmnmy2j/miniconda3/envs/tensorflow_gpu/lib/python3.7/site-packages/librosa/core/audio.py:161: UserWarning: PySoundFile failed. Trying audioread instead.\n",
      "  warnings.warn('PySoundFile failed. Trying audioread instead.')\n",
      "/home/akpmnmy2j/miniconda3/envs/tensorflow_gpu/lib/python3.7/site-packages/librosa/core/audio.py:161: UserWarning: PySoundFile failed. Trying audioread instead.\n",
      "  warnings.warn('PySoundFile failed. Trying audioread instead.')\n",
      "/home/akpmnmy2j/miniconda3/envs/tensorflow_gpu/lib/python3.7/site-packages/librosa/core/audio.py:161: UserWarning: PySoundFile failed. Trying audioread instead.\n",
      "  warnings.warn('PySoundFile failed. Trying audioread instead.')\n",
      "/home/akpmnmy2j/miniconda3/envs/tensorflow_gpu/lib/python3.7/site-packages/librosa/core/audio.py:161: UserWarning: PySoundFile failed. Trying audioread instead.\n",
      "  warnings.warn('PySoundFile failed. Trying audioread instead.')\n",
      "/home/akpmnmy2j/miniconda3/envs/tensorflow_gpu/lib/python3.7/site-packages/librosa/core/audio.py:161: UserWarning: PySoundFile failed. Trying audioread instead.\n",
      "  warnings.warn('PySoundFile failed. Trying audioread instead.')\n",
      "/home/akpmnmy2j/miniconda3/envs/tensorflow_gpu/lib/python3.7/site-packages/librosa/core/audio.py:161: UserWarning: PySoundFile failed. Trying audioread instead.\n",
      "  warnings.warn('PySoundFile failed. Trying audioread instead.')\n",
      "/home/akpmnmy2j/miniconda3/envs/tensorflow_gpu/lib/python3.7/site-packages/librosa/core/audio.py:161: UserWarning: PySoundFile failed. Trying audioread instead.\n",
      "  warnings.warn('PySoundFile failed. Trying audioread instead.')\n",
      "/home/akpmnmy2j/miniconda3/envs/tensorflow_gpu/lib/python3.7/site-packages/librosa/core/audio.py:161: UserWarning: PySoundFile failed. Trying audioread instead.\n",
      "  warnings.warn('PySoundFile failed. Trying audioread instead.')\n",
      "/home/akpmnmy2j/miniconda3/envs/tensorflow_gpu/lib/python3.7/site-packages/librosa/core/audio.py:161: UserWarning: PySoundFile failed. Trying audioread instead.\n",
      "  warnings.warn('PySoundFile failed. Trying audioread instead.')\n",
      "/home/akpmnmy2j/miniconda3/envs/tensorflow_gpu/lib/python3.7/site-packages/librosa/core/audio.py:161: UserWarning: PySoundFile failed. Trying audioread instead.\n",
      "  warnings.warn('PySoundFile failed. Trying audioread instead.')\n",
      "/home/akpmnmy2j/miniconda3/envs/tensorflow_gpu/lib/python3.7/site-packages/librosa/core/audio.py:161: UserWarning: PySoundFile failed. Trying audioread instead.\n",
      "  warnings.warn('PySoundFile failed. Trying audioread instead.')\n",
      "/home/akpmnmy2j/miniconda3/envs/tensorflow_gpu/lib/python3.7/site-packages/librosa/core/audio.py:161: UserWarning: PySoundFile failed. Trying audioread instead.\n",
      "  warnings.warn('PySoundFile failed. Trying audioread instead.')\n",
      "/home/akpmnmy2j/miniconda3/envs/tensorflow_gpu/lib/python3.7/site-packages/librosa/core/audio.py:161: UserWarning: PySoundFile failed. Trying audioread instead.\n",
      "  warnings.warn('PySoundFile failed. Trying audioread instead.')\n",
      "/home/akpmnmy2j/miniconda3/envs/tensorflow_gpu/lib/python3.7/site-packages/librosa/core/audio.py:161: UserWarning: PySoundFile failed. Trying audioread instead.\n",
      "  warnings.warn('PySoundFile failed. Trying audioread instead.')\n",
      "/home/akpmnmy2j/miniconda3/envs/tensorflow_gpu/lib/python3.7/site-packages/librosa/core/audio.py:161: UserWarning: PySoundFile failed. Trying audioread instead.\n",
      "  warnings.warn('PySoundFile failed. Trying audioread instead.')\n",
      "/home/akpmnmy2j/miniconda3/envs/tensorflow_gpu/lib/python3.7/site-packages/librosa/core/audio.py:161: UserWarning: PySoundFile failed. Trying audioread instead.\n",
      "  warnings.warn('PySoundFile failed. Trying audioread instead.')\n",
      "/home/akpmnmy2j/miniconda3/envs/tensorflow_gpu/lib/python3.7/site-packages/librosa/core/audio.py:161: UserWarning: PySoundFile failed. Trying audioread instead.\n",
      "  warnings.warn('PySoundFile failed. Trying audioread instead.')\n",
      "/home/akpmnmy2j/miniconda3/envs/tensorflow_gpu/lib/python3.7/site-packages/librosa/core/audio.py:161: UserWarning: PySoundFile failed. Trying audioread instead.\n",
      "  warnings.warn('PySoundFile failed. Trying audioread instead.')\n",
      "/home/akpmnmy2j/miniconda3/envs/tensorflow_gpu/lib/python3.7/site-packages/librosa/core/audio.py:161: UserWarning: PySoundFile failed. Trying audioread instead.\n",
      "  warnings.warn('PySoundFile failed. Trying audioread instead.')\n",
      "/home/akpmnmy2j/miniconda3/envs/tensorflow_gpu/lib/python3.7/site-packages/librosa/core/audio.py:161: UserWarning: PySoundFile failed. Trying audioread instead.\n",
      "  warnings.warn('PySoundFile failed. Trying audioread instead.')\n",
      "/home/akpmnmy2j/miniconda3/envs/tensorflow_gpu/lib/python3.7/site-packages/librosa/core/audio.py:161: UserWarning: PySoundFile failed. Trying audioread instead.\n",
      "  warnings.warn('PySoundFile failed. Trying audioread instead.')\n",
      "/home/akpmnmy2j/miniconda3/envs/tensorflow_gpu/lib/python3.7/site-packages/librosa/core/audio.py:161: UserWarning: PySoundFile failed. Trying audioread instead.\n",
      "  warnings.warn('PySoundFile failed. Trying audioread instead.')\n",
      "/home/akpmnmy2j/miniconda3/envs/tensorflow_gpu/lib/python3.7/site-packages/librosa/core/audio.py:161: UserWarning: PySoundFile failed. Trying audioread instead.\n",
      "  warnings.warn('PySoundFile failed. Trying audioread instead.')\n",
      "/home/akpmnmy2j/miniconda3/envs/tensorflow_gpu/lib/python3.7/site-packages/librosa/core/audio.py:161: UserWarning: PySoundFile failed. Trying audioread instead.\n",
      "  warnings.warn('PySoundFile failed. Trying audioread instead.')\n",
      "/home/akpmnmy2j/miniconda3/envs/tensorflow_gpu/lib/python3.7/site-packages/librosa/core/audio.py:161: UserWarning: PySoundFile failed. Trying audioread instead.\n",
      "  warnings.warn('PySoundFile failed. Trying audioread instead.')\n",
      "/home/akpmnmy2j/miniconda3/envs/tensorflow_gpu/lib/python3.7/site-packages/librosa/core/audio.py:161: UserWarning: PySoundFile failed. Trying audioread instead.\n",
      "  warnings.warn('PySoundFile failed. Trying audioread instead.')\n",
      "/home/akpmnmy2j/miniconda3/envs/tensorflow_gpu/lib/python3.7/site-packages/librosa/core/audio.py:161: UserWarning: PySoundFile failed. Trying audioread instead.\n",
      "  warnings.warn('PySoundFile failed. Trying audioread instead.')\n",
      "/home/akpmnmy2j/miniconda3/envs/tensorflow_gpu/lib/python3.7/site-packages/librosa/core/audio.py:161: UserWarning: PySoundFile failed. Trying audioread instead.\n",
      "  warnings.warn('PySoundFile failed. Trying audioread instead.')\n",
      "/home/akpmnmy2j/miniconda3/envs/tensorflow_gpu/lib/python3.7/site-packages/librosa/core/audio.py:161: UserWarning: PySoundFile failed. Trying audioread instead.\n",
      "  warnings.warn('PySoundFile failed. Trying audioread instead.')\n",
      "/home/akpmnmy2j/miniconda3/envs/tensorflow_gpu/lib/python3.7/site-packages/librosa/core/audio.py:161: UserWarning: PySoundFile failed. Trying audioread instead.\n",
      "  warnings.warn('PySoundFile failed. Trying audioread instead.')\n",
      "/home/akpmnmy2j/miniconda3/envs/tensorflow_gpu/lib/python3.7/site-packages/librosa/core/audio.py:161: UserWarning: PySoundFile failed. Trying audioread instead.\n",
      "  warnings.warn('PySoundFile failed. Trying audioread instead.')\n",
      "/home/akpmnmy2j/miniconda3/envs/tensorflow_gpu/lib/python3.7/site-packages/librosa/core/audio.py:161: UserWarning: PySoundFile failed. Trying audioread instead.\n",
      "  warnings.warn('PySoundFile failed. Trying audioread instead.')\n"
     ]
    },
    {
     "name": "stderr",
     "output_type": "stream",
     "text": [
      "/home/akpmnmy2j/miniconda3/envs/tensorflow_gpu/lib/python3.7/site-packages/librosa/core/audio.py:161: UserWarning: PySoundFile failed. Trying audioread instead.\n",
      "  warnings.warn('PySoundFile failed. Trying audioread instead.')\n",
      "/home/akpmnmy2j/miniconda3/envs/tensorflow_gpu/lib/python3.7/site-packages/librosa/core/audio.py:161: UserWarning: PySoundFile failed. Trying audioread instead.\n",
      "  warnings.warn('PySoundFile failed. Trying audioread instead.')\n",
      "/home/akpmnmy2j/miniconda3/envs/tensorflow_gpu/lib/python3.7/site-packages/librosa/core/audio.py:161: UserWarning: PySoundFile failed. Trying audioread instead.\n",
      "  warnings.warn('PySoundFile failed. Trying audioread instead.')\n",
      "/home/akpmnmy2j/miniconda3/envs/tensorflow_gpu/lib/python3.7/site-packages/librosa/core/audio.py:161: UserWarning: PySoundFile failed. Trying audioread instead.\n",
      "  warnings.warn('PySoundFile failed. Trying audioread instead.')\n",
      "/home/akpmnmy2j/miniconda3/envs/tensorflow_gpu/lib/python3.7/site-packages/librosa/core/audio.py:161: UserWarning: PySoundFile failed. Trying audioread instead.\n",
      "  warnings.warn('PySoundFile failed. Trying audioread instead.')\n",
      "/home/akpmnmy2j/miniconda3/envs/tensorflow_gpu/lib/python3.7/site-packages/librosa/core/audio.py:161: UserWarning: PySoundFile failed. Trying audioread instead.\n",
      "  warnings.warn('PySoundFile failed. Trying audioread instead.')\n",
      "/home/akpmnmy2j/miniconda3/envs/tensorflow_gpu/lib/python3.7/site-packages/librosa/core/audio.py:161: UserWarning: PySoundFile failed. Trying audioread instead.\n",
      "  warnings.warn('PySoundFile failed. Trying audioread instead.')\n",
      "/home/akpmnmy2j/miniconda3/envs/tensorflow_gpu/lib/python3.7/site-packages/librosa/core/audio.py:161: UserWarning: PySoundFile failed. Trying audioread instead.\n",
      "  warnings.warn('PySoundFile failed. Trying audioread instead.')\n",
      "/home/akpmnmy2j/miniconda3/envs/tensorflow_gpu/lib/python3.7/site-packages/librosa/core/audio.py:161: UserWarning: PySoundFile failed. Trying audioread instead.\n",
      "  warnings.warn('PySoundFile failed. Trying audioread instead.')\n",
      "/home/akpmnmy2j/miniconda3/envs/tensorflow_gpu/lib/python3.7/site-packages/librosa/core/audio.py:161: UserWarning: PySoundFile failed. Trying audioread instead.\n",
      "  warnings.warn('PySoundFile failed. Trying audioread instead.')\n",
      "/home/akpmnmy2j/miniconda3/envs/tensorflow_gpu/lib/python3.7/site-packages/librosa/core/audio.py:161: UserWarning: PySoundFile failed. Trying audioread instead.\n",
      "  warnings.warn('PySoundFile failed. Trying audioread instead.')\n",
      "/home/akpmnmy2j/miniconda3/envs/tensorflow_gpu/lib/python3.7/site-packages/librosa/core/audio.py:161: UserWarning: PySoundFile failed. Trying audioread instead.\n",
      "  warnings.warn('PySoundFile failed. Trying audioread instead.')\n",
      "/home/akpmnmy2j/miniconda3/envs/tensorflow_gpu/lib/python3.7/site-packages/librosa/core/audio.py:161: UserWarning: PySoundFile failed. Trying audioread instead.\n",
      "  warnings.warn('PySoundFile failed. Trying audioread instead.')\n",
      "/home/akpmnmy2j/miniconda3/envs/tensorflow_gpu/lib/python3.7/site-packages/librosa/core/audio.py:161: UserWarning: PySoundFile failed. Trying audioread instead.\n",
      "  warnings.warn('PySoundFile failed. Trying audioread instead.')\n",
      "/home/akpmnmy2j/miniconda3/envs/tensorflow_gpu/lib/python3.7/site-packages/librosa/core/audio.py:161: UserWarning: PySoundFile failed. Trying audioread instead.\n",
      "  warnings.warn('PySoundFile failed. Trying audioread instead.')\n",
      "/home/akpmnmy2j/miniconda3/envs/tensorflow_gpu/lib/python3.7/site-packages/librosa/core/audio.py:161: UserWarning: PySoundFile failed. Trying audioread instead.\n",
      "  warnings.warn('PySoundFile failed. Trying audioread instead.')\n",
      "/home/akpmnmy2j/miniconda3/envs/tensorflow_gpu/lib/python3.7/site-packages/librosa/core/audio.py:161: UserWarning: PySoundFile failed. Trying audioread instead.\n",
      "  warnings.warn('PySoundFile failed. Trying audioread instead.')\n",
      "/home/akpmnmy2j/miniconda3/envs/tensorflow_gpu/lib/python3.7/site-packages/librosa/core/audio.py:161: UserWarning: PySoundFile failed. Trying audioread instead.\n",
      "  warnings.warn('PySoundFile failed. Trying audioread instead.')\n",
      "/home/akpmnmy2j/miniconda3/envs/tensorflow_gpu/lib/python3.7/site-packages/librosa/core/audio.py:161: UserWarning: PySoundFile failed. Trying audioread instead.\n",
      "  warnings.warn('PySoundFile failed. Trying audioread instead.')\n",
      "/home/akpmnmy2j/miniconda3/envs/tensorflow_gpu/lib/python3.7/site-packages/librosa/core/audio.py:161: UserWarning: PySoundFile failed. Trying audioread instead.\n",
      "  warnings.warn('PySoundFile failed. Trying audioread instead.')\n",
      "/home/akpmnmy2j/miniconda3/envs/tensorflow_gpu/lib/python3.7/site-packages/librosa/core/audio.py:161: UserWarning: PySoundFile failed. Trying audioread instead.\n",
      "  warnings.warn('PySoundFile failed. Trying audioread instead.')\n",
      "/home/akpmnmy2j/miniconda3/envs/tensorflow_gpu/lib/python3.7/site-packages/librosa/core/audio.py:161: UserWarning: PySoundFile failed. Trying audioread instead.\n",
      "  warnings.warn('PySoundFile failed. Trying audioread instead.')\n",
      "/home/akpmnmy2j/miniconda3/envs/tensorflow_gpu/lib/python3.7/site-packages/librosa/core/audio.py:161: UserWarning: PySoundFile failed. Trying audioread instead.\n",
      "  warnings.warn('PySoundFile failed. Trying audioread instead.')\n",
      "/home/akpmnmy2j/miniconda3/envs/tensorflow_gpu/lib/python3.7/site-packages/librosa/core/audio.py:161: UserWarning: PySoundFile failed. Trying audioread instead.\n",
      "  warnings.warn('PySoundFile failed. Trying audioread instead.')\n",
      "/home/akpmnmy2j/miniconda3/envs/tensorflow_gpu/lib/python3.7/site-packages/librosa/core/audio.py:161: UserWarning: PySoundFile failed. Trying audioread instead.\n",
      "  warnings.warn('PySoundFile failed. Trying audioread instead.')\n",
      "/home/akpmnmy2j/miniconda3/envs/tensorflow_gpu/lib/python3.7/site-packages/librosa/core/audio.py:161: UserWarning: PySoundFile failed. Trying audioread instead.\n",
      "  warnings.warn('PySoundFile failed. Trying audioread instead.')\n",
      "/home/akpmnmy2j/miniconda3/envs/tensorflow_gpu/lib/python3.7/site-packages/librosa/core/audio.py:161: UserWarning: PySoundFile failed. Trying audioread instead.\n",
      "  warnings.warn('PySoundFile failed. Trying audioread instead.')\n",
      "/home/akpmnmy2j/miniconda3/envs/tensorflow_gpu/lib/python3.7/site-packages/librosa/core/audio.py:161: UserWarning: PySoundFile failed. Trying audioread instead.\n",
      "  warnings.warn('PySoundFile failed. Trying audioread instead.')\n",
      "/home/akpmnmy2j/miniconda3/envs/tensorflow_gpu/lib/python3.7/site-packages/librosa/core/audio.py:161: UserWarning: PySoundFile failed. Trying audioread instead.\n",
      "  warnings.warn('PySoundFile failed. Trying audioread instead.')\n",
      "/home/akpmnmy2j/miniconda3/envs/tensorflow_gpu/lib/python3.7/site-packages/librosa/core/audio.py:161: UserWarning: PySoundFile failed. Trying audioread instead.\n",
      "  warnings.warn('PySoundFile failed. Trying audioread instead.')\n",
      "/home/akpmnmy2j/miniconda3/envs/tensorflow_gpu/lib/python3.7/site-packages/librosa/core/audio.py:161: UserWarning: PySoundFile failed. Trying audioread instead.\n",
      "  warnings.warn('PySoundFile failed. Trying audioread instead.')\n",
      "/home/akpmnmy2j/miniconda3/envs/tensorflow_gpu/lib/python3.7/site-packages/librosa/core/audio.py:161: UserWarning: PySoundFile failed. Trying audioread instead.\n",
      "  warnings.warn('PySoundFile failed. Trying audioread instead.')\n",
      "/home/akpmnmy2j/miniconda3/envs/tensorflow_gpu/lib/python3.7/site-packages/librosa/core/audio.py:161: UserWarning: PySoundFile failed. Trying audioread instead.\n",
      "  warnings.warn('PySoundFile failed. Trying audioread instead.')\n",
      "/home/akpmnmy2j/miniconda3/envs/tensorflow_gpu/lib/python3.7/site-packages/librosa/core/audio.py:161: UserWarning: PySoundFile failed. Trying audioread instead.\n",
      "  warnings.warn('PySoundFile failed. Trying audioread instead.')\n",
      "/home/akpmnmy2j/miniconda3/envs/tensorflow_gpu/lib/python3.7/site-packages/librosa/core/audio.py:161: UserWarning: PySoundFile failed. Trying audioread instead.\n",
      "  warnings.warn('PySoundFile failed. Trying audioread instead.')\n",
      "/home/akpmnmy2j/miniconda3/envs/tensorflow_gpu/lib/python3.7/site-packages/librosa/core/audio.py:161: UserWarning: PySoundFile failed. Trying audioread instead.\n",
      "  warnings.warn('PySoundFile failed. Trying audioread instead.')\n",
      "/home/akpmnmy2j/miniconda3/envs/tensorflow_gpu/lib/python3.7/site-packages/librosa/core/audio.py:161: UserWarning: PySoundFile failed. Trying audioread instead.\n",
      "  warnings.warn('PySoundFile failed. Trying audioread instead.')\n"
     ]
    },
    {
     "name": "stderr",
     "output_type": "stream",
     "text": [
      "/home/akpmnmy2j/miniconda3/envs/tensorflow_gpu/lib/python3.7/site-packages/librosa/core/audio.py:161: UserWarning: PySoundFile failed. Trying audioread instead.\n",
      "  warnings.warn('PySoundFile failed. Trying audioread instead.')\n",
      "/home/akpmnmy2j/miniconda3/envs/tensorflow_gpu/lib/python3.7/site-packages/librosa/core/audio.py:161: UserWarning: PySoundFile failed. Trying audioread instead.\n",
      "  warnings.warn('PySoundFile failed. Trying audioread instead.')\n",
      "/home/akpmnmy2j/miniconda3/envs/tensorflow_gpu/lib/python3.7/site-packages/librosa/core/audio.py:161: UserWarning: PySoundFile failed. Trying audioread instead.\n",
      "  warnings.warn('PySoundFile failed. Trying audioread instead.')\n",
      "/home/akpmnmy2j/miniconda3/envs/tensorflow_gpu/lib/python3.7/site-packages/librosa/core/audio.py:161: UserWarning: PySoundFile failed. Trying audioread instead.\n",
      "  warnings.warn('PySoundFile failed. Trying audioread instead.')\n",
      "/home/akpmnmy2j/miniconda3/envs/tensorflow_gpu/lib/python3.7/site-packages/librosa/core/audio.py:161: UserWarning: PySoundFile failed. Trying audioread instead.\n",
      "  warnings.warn('PySoundFile failed. Trying audioread instead.')\n",
      "/home/akpmnmy2j/miniconda3/envs/tensorflow_gpu/lib/python3.7/site-packages/librosa/core/audio.py:161: UserWarning: PySoundFile failed. Trying audioread instead.\n",
      "  warnings.warn('PySoundFile failed. Trying audioread instead.')\n",
      "/home/akpmnmy2j/miniconda3/envs/tensorflow_gpu/lib/python3.7/site-packages/librosa/core/audio.py:161: UserWarning: PySoundFile failed. Trying audioread instead.\n",
      "  warnings.warn('PySoundFile failed. Trying audioread instead.')\n",
      "/home/akpmnmy2j/miniconda3/envs/tensorflow_gpu/lib/python3.7/site-packages/librosa/core/audio.py:161: UserWarning: PySoundFile failed. Trying audioread instead.\n",
      "  warnings.warn('PySoundFile failed. Trying audioread instead.')\n",
      "/home/akpmnmy2j/miniconda3/envs/tensorflow_gpu/lib/python3.7/site-packages/librosa/core/audio.py:161: UserWarning: PySoundFile failed. Trying audioread instead.\n",
      "  warnings.warn('PySoundFile failed. Trying audioread instead.')\n",
      "/home/akpmnmy2j/miniconda3/envs/tensorflow_gpu/lib/python3.7/site-packages/librosa/core/audio.py:161: UserWarning: PySoundFile failed. Trying audioread instead.\n",
      "  warnings.warn('PySoundFile failed. Trying audioread instead.')\n",
      "/home/akpmnmy2j/miniconda3/envs/tensorflow_gpu/lib/python3.7/site-packages/librosa/core/audio.py:161: UserWarning: PySoundFile failed. Trying audioread instead.\n",
      "  warnings.warn('PySoundFile failed. Trying audioread instead.')\n",
      "/home/akpmnmy2j/miniconda3/envs/tensorflow_gpu/lib/python3.7/site-packages/librosa/core/audio.py:161: UserWarning: PySoundFile failed. Trying audioread instead.\n",
      "  warnings.warn('PySoundFile failed. Trying audioread instead.')\n",
      "/home/akpmnmy2j/miniconda3/envs/tensorflow_gpu/lib/python3.7/site-packages/librosa/core/audio.py:161: UserWarning: PySoundFile failed. Trying audioread instead.\n",
      "  warnings.warn('PySoundFile failed. Trying audioread instead.')\n",
      "/home/akpmnmy2j/miniconda3/envs/tensorflow_gpu/lib/python3.7/site-packages/librosa/core/audio.py:161: UserWarning: PySoundFile failed. Trying audioread instead.\n",
      "  warnings.warn('PySoundFile failed. Trying audioread instead.')\n",
      "/home/akpmnmy2j/miniconda3/envs/tensorflow_gpu/lib/python3.7/site-packages/librosa/core/audio.py:161: UserWarning: PySoundFile failed. Trying audioread instead.\n",
      "  warnings.warn('PySoundFile failed. Trying audioread instead.')\n",
      "/home/akpmnmy2j/miniconda3/envs/tensorflow_gpu/lib/python3.7/site-packages/librosa/core/audio.py:161: UserWarning: PySoundFile failed. Trying audioread instead.\n",
      "  warnings.warn('PySoundFile failed. Trying audioread instead.')\n",
      "/home/akpmnmy2j/miniconda3/envs/tensorflow_gpu/lib/python3.7/site-packages/librosa/core/audio.py:161: UserWarning: PySoundFile failed. Trying audioread instead.\n",
      "  warnings.warn('PySoundFile failed. Trying audioread instead.')\n",
      "/home/akpmnmy2j/miniconda3/envs/tensorflow_gpu/lib/python3.7/site-packages/librosa/core/audio.py:161: UserWarning: PySoundFile failed. Trying audioread instead.\n",
      "  warnings.warn('PySoundFile failed. Trying audioread instead.')\n",
      "/home/akpmnmy2j/miniconda3/envs/tensorflow_gpu/lib/python3.7/site-packages/librosa/core/audio.py:161: UserWarning: PySoundFile failed. Trying audioread instead.\n",
      "  warnings.warn('PySoundFile failed. Trying audioread instead.')\n",
      "/home/akpmnmy2j/miniconda3/envs/tensorflow_gpu/lib/python3.7/site-packages/librosa/core/audio.py:161: UserWarning: PySoundFile failed. Trying audioread instead.\n",
      "  warnings.warn('PySoundFile failed. Trying audioread instead.')\n",
      "/home/akpmnmy2j/miniconda3/envs/tensorflow_gpu/lib/python3.7/site-packages/librosa/core/audio.py:161: UserWarning: PySoundFile failed. Trying audioread instead.\n",
      "  warnings.warn('PySoundFile failed. Trying audioread instead.')\n",
      "/home/akpmnmy2j/miniconda3/envs/tensorflow_gpu/lib/python3.7/site-packages/librosa/core/audio.py:161: UserWarning: PySoundFile failed. Trying audioread instead.\n",
      "  warnings.warn('PySoundFile failed. Trying audioread instead.')\n",
      "/home/akpmnmy2j/miniconda3/envs/tensorflow_gpu/lib/python3.7/site-packages/librosa/core/audio.py:161: UserWarning: PySoundFile failed. Trying audioread instead.\n",
      "  warnings.warn('PySoundFile failed. Trying audioread instead.')\n",
      "/home/akpmnmy2j/miniconda3/envs/tensorflow_gpu/lib/python3.7/site-packages/librosa/core/audio.py:161: UserWarning: PySoundFile failed. Trying audioread instead.\n",
      "  warnings.warn('PySoundFile failed. Trying audioread instead.')\n",
      "/home/akpmnmy2j/miniconda3/envs/tensorflow_gpu/lib/python3.7/site-packages/librosa/core/audio.py:161: UserWarning: PySoundFile failed. Trying audioread instead.\n",
      "  warnings.warn('PySoundFile failed. Trying audioread instead.')\n",
      "/home/akpmnmy2j/miniconda3/envs/tensorflow_gpu/lib/python3.7/site-packages/librosa/core/audio.py:161: UserWarning: PySoundFile failed. Trying audioread instead.\n",
      "  warnings.warn('PySoundFile failed. Trying audioread instead.')\n",
      "/home/akpmnmy2j/miniconda3/envs/tensorflow_gpu/lib/python3.7/site-packages/librosa/core/audio.py:161: UserWarning: PySoundFile failed. Trying audioread instead.\n",
      "  warnings.warn('PySoundFile failed. Trying audioread instead.')\n",
      "/home/akpmnmy2j/miniconda3/envs/tensorflow_gpu/lib/python3.7/site-packages/librosa/core/audio.py:161: UserWarning: PySoundFile failed. Trying audioread instead.\n",
      "  warnings.warn('PySoundFile failed. Trying audioread instead.')\n",
      "/home/akpmnmy2j/miniconda3/envs/tensorflow_gpu/lib/python3.7/site-packages/librosa/core/audio.py:161: UserWarning: PySoundFile failed. Trying audioread instead.\n",
      "  warnings.warn('PySoundFile failed. Trying audioread instead.')\n",
      "/home/akpmnmy2j/miniconda3/envs/tensorflow_gpu/lib/python3.7/site-packages/librosa/core/audio.py:161: UserWarning: PySoundFile failed. Trying audioread instead.\n",
      "  warnings.warn('PySoundFile failed. Trying audioread instead.')\n",
      "/home/akpmnmy2j/miniconda3/envs/tensorflow_gpu/lib/python3.7/site-packages/librosa/core/audio.py:161: UserWarning: PySoundFile failed. Trying audioread instead.\n",
      "  warnings.warn('PySoundFile failed. Trying audioread instead.')\n",
      "/home/akpmnmy2j/miniconda3/envs/tensorflow_gpu/lib/python3.7/site-packages/librosa/core/audio.py:161: UserWarning: PySoundFile failed. Trying audioread instead.\n",
      "  warnings.warn('PySoundFile failed. Trying audioread instead.')\n",
      "/home/akpmnmy2j/miniconda3/envs/tensorflow_gpu/lib/python3.7/site-packages/librosa/core/audio.py:161: UserWarning: PySoundFile failed. Trying audioread instead.\n",
      "  warnings.warn('PySoundFile failed. Trying audioread instead.')\n",
      "/home/akpmnmy2j/miniconda3/envs/tensorflow_gpu/lib/python3.7/site-packages/librosa/core/audio.py:161: UserWarning: PySoundFile failed. Trying audioread instead.\n",
      "  warnings.warn('PySoundFile failed. Trying audioread instead.')\n",
      "/home/akpmnmy2j/miniconda3/envs/tensorflow_gpu/lib/python3.7/site-packages/librosa/core/audio.py:161: UserWarning: PySoundFile failed. Trying audioread instead.\n",
      "  warnings.warn('PySoundFile failed. Trying audioread instead.')\n",
      "/home/akpmnmy2j/miniconda3/envs/tensorflow_gpu/lib/python3.7/site-packages/librosa/core/audio.py:161: UserWarning: PySoundFile failed. Trying audioread instead.\n",
      "  warnings.warn('PySoundFile failed. Trying audioread instead.')\n",
      "/home/akpmnmy2j/miniconda3/envs/tensorflow_gpu/lib/python3.7/site-packages/librosa/core/audio.py:161: UserWarning: PySoundFile failed. Trying audioread instead.\n",
      "  warnings.warn('PySoundFile failed. Trying audioread instead.')\n"
     ]
    },
    {
     "name": "stderr",
     "output_type": "stream",
     "text": [
      "/home/akpmnmy2j/miniconda3/envs/tensorflow_gpu/lib/python3.7/site-packages/librosa/core/audio.py:161: UserWarning: PySoundFile failed. Trying audioread instead.\n",
      "  warnings.warn('PySoundFile failed. Trying audioread instead.')\n",
      "/home/akpmnmy2j/miniconda3/envs/tensorflow_gpu/lib/python3.7/site-packages/librosa/core/audio.py:161: UserWarning: PySoundFile failed. Trying audioread instead.\n",
      "  warnings.warn('PySoundFile failed. Trying audioread instead.')\n",
      "/home/akpmnmy2j/miniconda3/envs/tensorflow_gpu/lib/python3.7/site-packages/librosa/core/audio.py:161: UserWarning: PySoundFile failed. Trying audioread instead.\n",
      "  warnings.warn('PySoundFile failed. Trying audioread instead.')\n",
      "/home/akpmnmy2j/miniconda3/envs/tensorflow_gpu/lib/python3.7/site-packages/librosa/core/audio.py:161: UserWarning: PySoundFile failed. Trying audioread instead.\n",
      "  warnings.warn('PySoundFile failed. Trying audioread instead.')\n",
      "/home/akpmnmy2j/miniconda3/envs/tensorflow_gpu/lib/python3.7/site-packages/librosa/core/audio.py:161: UserWarning: PySoundFile failed. Trying audioread instead.\n",
      "  warnings.warn('PySoundFile failed. Trying audioread instead.')\n"
     ]
    }
   ],
   "source": [
    "dirContents = os.listdir(valence_directory)\n",
    "for music in dirContents:\n",
    "    temp_y_label = music.split(\"_\")[-1][:2]\n",
    "    if temp_y_label == \"VN\" or temp_y_label == \"VP\":\n",
    "        currSongFeatures = getFeatures(valence_directory+music)\n",
    "        valence_feature_set.append(currSongFeatures)\n",
    "        valence_y_labels.append(temp_y_label)"
   ]
  },
  {
   "cell_type": "code",
   "execution_count": 18,
   "metadata": {},
   "outputs": [
    {
     "name": "stdout",
     "output_type": "stream",
     "text": [
      "{'VP', 'VN'}\n"
     ]
    }
   ],
   "source": [
    "print(set(valence_y_labels))"
   ]
  },
  {
   "cell_type": "code",
   "execution_count": 19,
   "metadata": {},
   "outputs": [
    {
     "data": {
      "text/plain": [
       "(116, 24)"
      ]
     },
     "execution_count": 19,
     "metadata": {},
     "output_type": "execute_result"
    }
   ],
   "source": [
    "valence_feature_set = np.array(valence_feature_set)\n",
    "valence_feature_set.shape"
   ]
  },
  {
   "cell_type": "code",
   "execution_count": 20,
   "metadata": {},
   "outputs": [
    {
     "data": {
      "text/plain": [
       "(116,)"
      ]
     },
     "execution_count": 20,
     "metadata": {},
     "output_type": "execute_result"
    }
   ],
   "source": [
    "valence_y = np.array(valence_y_labels)\n",
    "valence_y.shape"
   ]
  },
  {
   "cell_type": "markdown",
   "metadata": {},
   "source": [
    "Check distribution of labelled dataset"
   ]
  },
  {
   "cell_type": "code",
   "execution_count": 21,
   "metadata": {},
   "outputs": [
    {
     "data": {
      "text/plain": [
       "(array([58.,  0.,  0.,  0.,  0.,  0.,  0.,  0.,  0., 58.]),\n",
       " array([0. , 0.1, 0.2, 0.3, 0.4, 0.5, 0.6, 0.7, 0.8, 0.9, 1. ]),\n",
       " <a list of 10 Patch objects>)"
      ]
     },
     "execution_count": 21,
     "metadata": {},
     "output_type": "execute_result"
    },
    {
     "data": {
      "image/png": "[encoded data removed]",
      "text/plain": [
       "<Figure size 432x288 with 1 Axes>"
      ]
     },
     "metadata": {
      "needs_background": "light"
     },
     "output_type": "display_data"
    }
   ],
   "source": [
    "plt.hist(valence_y)"
   ]
  },
  {
   "cell_type": "code",
   "execution_count": 22,
   "metadata": {},
   "outputs": [],
   "source": [
    "valence_x_train, valence_x_test, valence_y_train, valence_y_test = train_test_split(valence_feature_set, valence_y, test_size=0.2, random_state=1231)"
   ]
  },
  {
   "cell_type": "code",
   "execution_count": 23,
   "metadata": {},
   "outputs": [
    {
     "data": {
      "image/png": "[encoded data removed]",
      "text/plain": [
       "<Figure size 432x288 with 1 Axes>"
      ]
     },
     "metadata": {
      "needs_background": "light"
     },
     "output_type": "display_data"
    }
   ],
   "source": [
    "plt.hist(valence_y_train, color='b', alpha=0.4, label='training_label_distribution')\n",
    "plt.hist(valence_y_test, color='r', label='testing_label_distribution')\n",
    "plt.legend()\n",
    "plt.show()"
   ]
  },
  {
   "cell_type": "markdown",
   "metadata": {},
   "source": [
    "## Tension-data-collection"
   ]
  },
  {
   "cell_type": "code",
   "execution_count": 4,
   "metadata": {},
   "outputs": [],
   "source": [
    "tension_feature_set, tension_y_labels = [], []\n",
    "tension_directory = \"./emotion_dataset/Tension/\""
   ]
  },
  {
   "cell_type": "code",
   "execution_count": 5,
   "metadata": {},
   "outputs": [
    {
     "name": "stderr",
     "output_type": "stream",
     "text": [
      "/home/akpmnmy2j/miniconda3/envs/tensorflow_gpu/lib/python3.7/site-packages/librosa/core/audio.py:161: UserWarning: PySoundFile failed. Trying audioread instead.\n",
      "  warnings.warn('PySoundFile failed. Trying audioread instead.')\n",
      "/home/akpmnmy2j/miniconda3/envs/tensorflow_gpu/lib/python3.7/site-packages/librosa/core/audio.py:161: UserWarning: PySoundFile failed. Trying audioread instead.\n",
      "  warnings.warn('PySoundFile failed. Trying audioread instead.')\n",
      "/home/akpmnmy2j/miniconda3/envs/tensorflow_gpu/lib/python3.7/site-packages/librosa/core/audio.py:161: UserWarning: PySoundFile failed. Trying audioread instead.\n",
      "  warnings.warn('PySoundFile failed. Trying audioread instead.')\n",
      "/home/akpmnmy2j/miniconda3/envs/tensorflow_gpu/lib/python3.7/site-packages/librosa/core/audio.py:161: UserWarning: PySoundFile failed. Trying audioread instead.\n",
      "  warnings.warn('PySoundFile failed. Trying audioread instead.')\n",
      "/home/akpmnmy2j/miniconda3/envs/tensorflow_gpu/lib/python3.7/site-packages/librosa/core/audio.py:161: UserWarning: PySoundFile failed. Trying audioread instead.\n",
      "  warnings.warn('PySoundFile failed. Trying audioread instead.')\n",
      "/home/akpmnmy2j/miniconda3/envs/tensorflow_gpu/lib/python3.7/site-packages/librosa/core/audio.py:161: UserWarning: PySoundFile failed. Trying audioread instead.\n",
      "  warnings.warn('PySoundFile failed. Trying audioread instead.')\n",
      "/home/akpmnmy2j/miniconda3/envs/tensorflow_gpu/lib/python3.7/site-packages/librosa/core/audio.py:161: UserWarning: PySoundFile failed. Trying audioread instead.\n",
      "  warnings.warn('PySoundFile failed. Trying audioread instead.')\n",
      "/home/akpmnmy2j/miniconda3/envs/tensorflow_gpu/lib/python3.7/site-packages/librosa/core/audio.py:161: UserWarning: PySoundFile failed. Trying audioread instead.\n",
      "  warnings.warn('PySoundFile failed. Trying audioread instead.')\n",
      "/home/akpmnmy2j/miniconda3/envs/tensorflow_gpu/lib/python3.7/site-packages/librosa/core/audio.py:161: UserWarning: PySoundFile failed. Trying audioread instead.\n",
      "  warnings.warn('PySoundFile failed. Trying audioread instead.')\n",
      "/home/akpmnmy2j/miniconda3/envs/tensorflow_gpu/lib/python3.7/site-packages/librosa/core/audio.py:161: UserWarning: PySoundFile failed. Trying audioread instead.\n",
      "  warnings.warn('PySoundFile failed. Trying audioread instead.')\n",
      "/home/akpmnmy2j/miniconda3/envs/tensorflow_gpu/lib/python3.7/site-packages/librosa/core/audio.py:161: UserWarning: PySoundFile failed. Trying audioread instead.\n",
      "  warnings.warn('PySoundFile failed. Trying audioread instead.')\n",
      "/home/akpmnmy2j/miniconda3/envs/tensorflow_gpu/lib/python3.7/site-packages/librosa/core/audio.py:161: UserWarning: PySoundFile failed. Trying audioread instead.\n",
      "  warnings.warn('PySoundFile failed. Trying audioread instead.')\n",
      "/home/akpmnmy2j/miniconda3/envs/tensorflow_gpu/lib/python3.7/site-packages/librosa/core/audio.py:161: UserWarning: PySoundFile failed. Trying audioread instead.\n",
      "  warnings.warn('PySoundFile failed. Trying audioread instead.')\n",
      "/home/akpmnmy2j/miniconda3/envs/tensorflow_gpu/lib/python3.7/site-packages/librosa/core/audio.py:161: UserWarning: PySoundFile failed. Trying audioread instead.\n",
      "  warnings.warn('PySoundFile failed. Trying audioread instead.')\n",
      "/home/akpmnmy2j/miniconda3/envs/tensorflow_gpu/lib/python3.7/site-packages/librosa/core/audio.py:161: UserWarning: PySoundFile failed. Trying audioread instead.\n",
      "  warnings.warn('PySoundFile failed. Trying audioread instead.')\n",
      "/home/akpmnmy2j/miniconda3/envs/tensorflow_gpu/lib/python3.7/site-packages/librosa/core/audio.py:161: UserWarning: PySoundFile failed. Trying audioread instead.\n",
      "  warnings.warn('PySoundFile failed. Trying audioread instead.')\n",
      "/home/akpmnmy2j/miniconda3/envs/tensorflow_gpu/lib/python3.7/site-packages/librosa/core/audio.py:161: UserWarning: PySoundFile failed. Trying audioread instead.\n",
      "  warnings.warn('PySoundFile failed. Trying audioread instead.')\n",
      "/home/akpmnmy2j/miniconda3/envs/tensorflow_gpu/lib/python3.7/site-packages/librosa/core/audio.py:161: UserWarning: PySoundFile failed. Trying audioread instead.\n",
      "  warnings.warn('PySoundFile failed. Trying audioread instead.')\n",
      "/home/akpmnmy2j/miniconda3/envs/tensorflow_gpu/lib/python3.7/site-packages/librosa/core/audio.py:161: UserWarning: PySoundFile failed. Trying audioread instead.\n",
      "  warnings.warn('PySoundFile failed. Trying audioread instead.')\n",
      "/home/akpmnmy2j/miniconda3/envs/tensorflow_gpu/lib/python3.7/site-packages/librosa/core/audio.py:161: UserWarning: PySoundFile failed. Trying audioread instead.\n",
      "  warnings.warn('PySoundFile failed. Trying audioread instead.')\n",
      "/home/akpmnmy2j/miniconda3/envs/tensorflow_gpu/lib/python3.7/site-packages/librosa/core/audio.py:161: UserWarning: PySoundFile failed. Trying audioread instead.\n",
      "  warnings.warn('PySoundFile failed. Trying audioread instead.')\n",
      "/home/akpmnmy2j/miniconda3/envs/tensorflow_gpu/lib/python3.7/site-packages/librosa/core/audio.py:161: UserWarning: PySoundFile failed. Trying audioread instead.\n",
      "  warnings.warn('PySoundFile failed. Trying audioread instead.')\n",
      "/home/akpmnmy2j/miniconda3/envs/tensorflow_gpu/lib/python3.7/site-packages/librosa/core/audio.py:161: UserWarning: PySoundFile failed. Trying audioread instead.\n",
      "  warnings.warn('PySoundFile failed. Trying audioread instead.')\n",
      "/home/akpmnmy2j/miniconda3/envs/tensorflow_gpu/lib/python3.7/site-packages/librosa/core/audio.py:161: UserWarning: PySoundFile failed. Trying audioread instead.\n",
      "  warnings.warn('PySoundFile failed. Trying audioread instead.')\n",
      "/home/akpmnmy2j/miniconda3/envs/tensorflow_gpu/lib/python3.7/site-packages/librosa/core/audio.py:161: UserWarning: PySoundFile failed. Trying audioread instead.\n",
      "  warnings.warn('PySoundFile failed. Trying audioread instead.')\n",
      "/home/akpmnmy2j/miniconda3/envs/tensorflow_gpu/lib/python3.7/site-packages/librosa/core/audio.py:161: UserWarning: PySoundFile failed. Trying audioread instead.\n",
      "  warnings.warn('PySoundFile failed. Trying audioread instead.')\n",
      "/home/akpmnmy2j/miniconda3/envs/tensorflow_gpu/lib/python3.7/site-packages/librosa/core/audio.py:161: UserWarning: PySoundFile failed. Trying audioread instead.\n",
      "  warnings.warn('PySoundFile failed. Trying audioread instead.')\n",
      "/home/akpmnmy2j/miniconda3/envs/tensorflow_gpu/lib/python3.7/site-packages/librosa/core/audio.py:161: UserWarning: PySoundFile failed. Trying audioread instead.\n",
      "  warnings.warn('PySoundFile failed. Trying audioread instead.')\n",
      "/home/akpmnmy2j/miniconda3/envs/tensorflow_gpu/lib/python3.7/site-packages/librosa/core/audio.py:161: UserWarning: PySoundFile failed. Trying audioread instead.\n",
      "  warnings.warn('PySoundFile failed. Trying audioread instead.')\n",
      "/home/akpmnmy2j/miniconda3/envs/tensorflow_gpu/lib/python3.7/site-packages/librosa/core/audio.py:161: UserWarning: PySoundFile failed. Trying audioread instead.\n",
      "  warnings.warn('PySoundFile failed. Trying audioread instead.')\n",
      "/home/akpmnmy2j/miniconda3/envs/tensorflow_gpu/lib/python3.7/site-packages/librosa/core/audio.py:161: UserWarning: PySoundFile failed. Trying audioread instead.\n",
      "  warnings.warn('PySoundFile failed. Trying audioread instead.')\n",
      "/home/akpmnmy2j/miniconda3/envs/tensorflow_gpu/lib/python3.7/site-packages/librosa/core/audio.py:161: UserWarning: PySoundFile failed. Trying audioread instead.\n",
      "  warnings.warn('PySoundFile failed. Trying audioread instead.')\n",
      "/home/akpmnmy2j/miniconda3/envs/tensorflow_gpu/lib/python3.7/site-packages/librosa/core/audio.py:161: UserWarning: PySoundFile failed. Trying audioread instead.\n",
      "  warnings.warn('PySoundFile failed. Trying audioread instead.')\n",
      "/home/akpmnmy2j/miniconda3/envs/tensorflow_gpu/lib/python3.7/site-packages/librosa/core/audio.py:161: UserWarning: PySoundFile failed. Trying audioread instead.\n",
      "  warnings.warn('PySoundFile failed. Trying audioread instead.')\n",
      "/home/akpmnmy2j/miniconda3/envs/tensorflow_gpu/lib/python3.7/site-packages/librosa/core/audio.py:161: UserWarning: PySoundFile failed. Trying audioread instead.\n",
      "  warnings.warn('PySoundFile failed. Trying audioread instead.')\n",
      "/home/akpmnmy2j/miniconda3/envs/tensorflow_gpu/lib/python3.7/site-packages/librosa/core/audio.py:161: UserWarning: PySoundFile failed. Trying audioread instead.\n",
      "  warnings.warn('PySoundFile failed. Trying audioread instead.')\n",
      "/home/akpmnmy2j/miniconda3/envs/tensorflow_gpu/lib/python3.7/site-packages/librosa/core/audio.py:161: UserWarning: PySoundFile failed. Trying audioread instead.\n",
      "  warnings.warn('PySoundFile failed. Trying audioread instead.')\n"
     ]
    },
    {
     "name": "stderr",
     "output_type": "stream",
     "text": [
      "/home/akpmnmy2j/miniconda3/envs/tensorflow_gpu/lib/python3.7/site-packages/librosa/core/audio.py:161: UserWarning: PySoundFile failed. Trying audioread instead.\n",
      "  warnings.warn('PySoundFile failed. Trying audioread instead.')\n",
      "/home/akpmnmy2j/miniconda3/envs/tensorflow_gpu/lib/python3.7/site-packages/librosa/core/audio.py:161: UserWarning: PySoundFile failed. Trying audioread instead.\n",
      "  warnings.warn('PySoundFile failed. Trying audioread instead.')\n",
      "/home/akpmnmy2j/miniconda3/envs/tensorflow_gpu/lib/python3.7/site-packages/librosa/core/audio.py:161: UserWarning: PySoundFile failed. Trying audioread instead.\n",
      "  warnings.warn('PySoundFile failed. Trying audioread instead.')\n",
      "/home/akpmnmy2j/miniconda3/envs/tensorflow_gpu/lib/python3.7/site-packages/librosa/core/audio.py:161: UserWarning: PySoundFile failed. Trying audioread instead.\n",
      "  warnings.warn('PySoundFile failed. Trying audioread instead.')\n",
      "/home/akpmnmy2j/miniconda3/envs/tensorflow_gpu/lib/python3.7/site-packages/librosa/core/audio.py:161: UserWarning: PySoundFile failed. Trying audioread instead.\n",
      "  warnings.warn('PySoundFile failed. Trying audioread instead.')\n",
      "/home/akpmnmy2j/miniconda3/envs/tensorflow_gpu/lib/python3.7/site-packages/librosa/core/audio.py:161: UserWarning: PySoundFile failed. Trying audioread instead.\n",
      "  warnings.warn('PySoundFile failed. Trying audioread instead.')\n",
      "/home/akpmnmy2j/miniconda3/envs/tensorflow_gpu/lib/python3.7/site-packages/librosa/core/audio.py:161: UserWarning: PySoundFile failed. Trying audioread instead.\n",
      "  warnings.warn('PySoundFile failed. Trying audioread instead.')\n",
      "/home/akpmnmy2j/miniconda3/envs/tensorflow_gpu/lib/python3.7/site-packages/librosa/core/audio.py:161: UserWarning: PySoundFile failed. Trying audioread instead.\n",
      "  warnings.warn('PySoundFile failed. Trying audioread instead.')\n",
      "/home/akpmnmy2j/miniconda3/envs/tensorflow_gpu/lib/python3.7/site-packages/librosa/core/audio.py:161: UserWarning: PySoundFile failed. Trying audioread instead.\n",
      "  warnings.warn('PySoundFile failed. Trying audioread instead.')\n",
      "/home/akpmnmy2j/miniconda3/envs/tensorflow_gpu/lib/python3.7/site-packages/librosa/core/audio.py:161: UserWarning: PySoundFile failed. Trying audioread instead.\n",
      "  warnings.warn('PySoundFile failed. Trying audioread instead.')\n",
      "/home/akpmnmy2j/miniconda3/envs/tensorflow_gpu/lib/python3.7/site-packages/librosa/core/audio.py:161: UserWarning: PySoundFile failed. Trying audioread instead.\n",
      "  warnings.warn('PySoundFile failed. Trying audioread instead.')\n",
      "/home/akpmnmy2j/miniconda3/envs/tensorflow_gpu/lib/python3.7/site-packages/librosa/core/audio.py:161: UserWarning: PySoundFile failed. Trying audioread instead.\n",
      "  warnings.warn('PySoundFile failed. Trying audioread instead.')\n",
      "/home/akpmnmy2j/miniconda3/envs/tensorflow_gpu/lib/python3.7/site-packages/librosa/core/audio.py:161: UserWarning: PySoundFile failed. Trying audioread instead.\n",
      "  warnings.warn('PySoundFile failed. Trying audioread instead.')\n",
      "/home/akpmnmy2j/miniconda3/envs/tensorflow_gpu/lib/python3.7/site-packages/librosa/core/audio.py:161: UserWarning: PySoundFile failed. Trying audioread instead.\n",
      "  warnings.warn('PySoundFile failed. Trying audioread instead.')\n",
      "/home/akpmnmy2j/miniconda3/envs/tensorflow_gpu/lib/python3.7/site-packages/librosa/core/audio.py:161: UserWarning: PySoundFile failed. Trying audioread instead.\n",
      "  warnings.warn('PySoundFile failed. Trying audioread instead.')\n",
      "/home/akpmnmy2j/miniconda3/envs/tensorflow_gpu/lib/python3.7/site-packages/librosa/core/audio.py:161: UserWarning: PySoundFile failed. Trying audioread instead.\n",
      "  warnings.warn('PySoundFile failed. Trying audioread instead.')\n",
      "/home/akpmnmy2j/miniconda3/envs/tensorflow_gpu/lib/python3.7/site-packages/librosa/core/audio.py:161: UserWarning: PySoundFile failed. Trying audioread instead.\n",
      "  warnings.warn('PySoundFile failed. Trying audioread instead.')\n",
      "/home/akpmnmy2j/miniconda3/envs/tensorflow_gpu/lib/python3.7/site-packages/librosa/core/audio.py:161: UserWarning: PySoundFile failed. Trying audioread instead.\n",
      "  warnings.warn('PySoundFile failed. Trying audioread instead.')\n",
      "/home/akpmnmy2j/miniconda3/envs/tensorflow_gpu/lib/python3.7/site-packages/librosa/core/audio.py:161: UserWarning: PySoundFile failed. Trying audioread instead.\n",
      "  warnings.warn('PySoundFile failed. Trying audioread instead.')\n",
      "/home/akpmnmy2j/miniconda3/envs/tensorflow_gpu/lib/python3.7/site-packages/librosa/core/audio.py:161: UserWarning: PySoundFile failed. Trying audioread instead.\n",
      "  warnings.warn('PySoundFile failed. Trying audioread instead.')\n",
      "/home/akpmnmy2j/miniconda3/envs/tensorflow_gpu/lib/python3.7/site-packages/librosa/core/audio.py:161: UserWarning: PySoundFile failed. Trying audioread instead.\n",
      "  warnings.warn('PySoundFile failed. Trying audioread instead.')\n",
      "/home/akpmnmy2j/miniconda3/envs/tensorflow_gpu/lib/python3.7/site-packages/librosa/core/audio.py:161: UserWarning: PySoundFile failed. Trying audioread instead.\n",
      "  warnings.warn('PySoundFile failed. Trying audioread instead.')\n",
      "/home/akpmnmy2j/miniconda3/envs/tensorflow_gpu/lib/python3.7/site-packages/librosa/core/audio.py:161: UserWarning: PySoundFile failed. Trying audioread instead.\n",
      "  warnings.warn('PySoundFile failed. Trying audioread instead.')\n",
      "/home/akpmnmy2j/miniconda3/envs/tensorflow_gpu/lib/python3.7/site-packages/librosa/core/audio.py:161: UserWarning: PySoundFile failed. Trying audioread instead.\n",
      "  warnings.warn('PySoundFile failed. Trying audioread instead.')\n",
      "/home/akpmnmy2j/miniconda3/envs/tensorflow_gpu/lib/python3.7/site-packages/librosa/core/audio.py:161: UserWarning: PySoundFile failed. Trying audioread instead.\n",
      "  warnings.warn('PySoundFile failed. Trying audioread instead.')\n",
      "/home/akpmnmy2j/miniconda3/envs/tensorflow_gpu/lib/python3.7/site-packages/librosa/core/audio.py:161: UserWarning: PySoundFile failed. Trying audioread instead.\n",
      "  warnings.warn('PySoundFile failed. Trying audioread instead.')\n",
      "/home/akpmnmy2j/miniconda3/envs/tensorflow_gpu/lib/python3.7/site-packages/librosa/core/audio.py:161: UserWarning: PySoundFile failed. Trying audioread instead.\n",
      "  warnings.warn('PySoundFile failed. Trying audioread instead.')\n",
      "/home/akpmnmy2j/miniconda3/envs/tensorflow_gpu/lib/python3.7/site-packages/librosa/core/audio.py:161: UserWarning: PySoundFile failed. Trying audioread instead.\n",
      "  warnings.warn('PySoundFile failed. Trying audioread instead.')\n",
      "/home/akpmnmy2j/miniconda3/envs/tensorflow_gpu/lib/python3.7/site-packages/librosa/core/audio.py:161: UserWarning: PySoundFile failed. Trying audioread instead.\n",
      "  warnings.warn('PySoundFile failed. Trying audioread instead.')\n",
      "/home/akpmnmy2j/miniconda3/envs/tensorflow_gpu/lib/python3.7/site-packages/librosa/core/audio.py:161: UserWarning: PySoundFile failed. Trying audioread instead.\n",
      "  warnings.warn('PySoundFile failed. Trying audioread instead.')\n",
      "/home/akpmnmy2j/miniconda3/envs/tensorflow_gpu/lib/python3.7/site-packages/librosa/core/audio.py:161: UserWarning: PySoundFile failed. Trying audioread instead.\n",
      "  warnings.warn('PySoundFile failed. Trying audioread instead.')\n",
      "/home/akpmnmy2j/miniconda3/envs/tensorflow_gpu/lib/python3.7/site-packages/librosa/core/audio.py:161: UserWarning: PySoundFile failed. Trying audioread instead.\n",
      "  warnings.warn('PySoundFile failed. Trying audioread instead.')\n",
      "/home/akpmnmy2j/miniconda3/envs/tensorflow_gpu/lib/python3.7/site-packages/librosa/core/audio.py:161: UserWarning: PySoundFile failed. Trying audioread instead.\n",
      "  warnings.warn('PySoundFile failed. Trying audioread instead.')\n",
      "/home/akpmnmy2j/miniconda3/envs/tensorflow_gpu/lib/python3.7/site-packages/librosa/core/audio.py:161: UserWarning: PySoundFile failed. Trying audioread instead.\n",
      "  warnings.warn('PySoundFile failed. Trying audioread instead.')\n",
      "/home/akpmnmy2j/miniconda3/envs/tensorflow_gpu/lib/python3.7/site-packages/librosa/core/audio.py:161: UserWarning: PySoundFile failed. Trying audioread instead.\n",
      "  warnings.warn('PySoundFile failed. Trying audioread instead.')\n",
      "/home/akpmnmy2j/miniconda3/envs/tensorflow_gpu/lib/python3.7/site-packages/librosa/core/audio.py:161: UserWarning: PySoundFile failed. Trying audioread instead.\n",
      "  warnings.warn('PySoundFile failed. Trying audioread instead.')\n",
      "/home/akpmnmy2j/miniconda3/envs/tensorflow_gpu/lib/python3.7/site-packages/librosa/core/audio.py:161: UserWarning: PySoundFile failed. Trying audioread instead.\n",
      "  warnings.warn('PySoundFile failed. Trying audioread instead.')\n"
     ]
    },
    {
     "name": "stderr",
     "output_type": "stream",
     "text": [
      "/home/akpmnmy2j/miniconda3/envs/tensorflow_gpu/lib/python3.7/site-packages/librosa/core/audio.py:161: UserWarning: PySoundFile failed. Trying audioread instead.\n",
      "  warnings.warn('PySoundFile failed. Trying audioread instead.')\n",
      "/home/akpmnmy2j/miniconda3/envs/tensorflow_gpu/lib/python3.7/site-packages/librosa/core/audio.py:161: UserWarning: PySoundFile failed. Trying audioread instead.\n",
      "  warnings.warn('PySoundFile failed. Trying audioread instead.')\n",
      "/home/akpmnmy2j/miniconda3/envs/tensorflow_gpu/lib/python3.7/site-packages/librosa/core/audio.py:161: UserWarning: PySoundFile failed. Trying audioread instead.\n",
      "  warnings.warn('PySoundFile failed. Trying audioread instead.')\n",
      "/home/akpmnmy2j/miniconda3/envs/tensorflow_gpu/lib/python3.7/site-packages/librosa/core/audio.py:161: UserWarning: PySoundFile failed. Trying audioread instead.\n",
      "  warnings.warn('PySoundFile failed. Trying audioread instead.')\n",
      "/home/akpmnmy2j/miniconda3/envs/tensorflow_gpu/lib/python3.7/site-packages/librosa/core/audio.py:161: UserWarning: PySoundFile failed. Trying audioread instead.\n",
      "  warnings.warn('PySoundFile failed. Trying audioread instead.')\n",
      "/home/akpmnmy2j/miniconda3/envs/tensorflow_gpu/lib/python3.7/site-packages/librosa/core/audio.py:161: UserWarning: PySoundFile failed. Trying audioread instead.\n",
      "  warnings.warn('PySoundFile failed. Trying audioread instead.')\n",
      "/home/akpmnmy2j/miniconda3/envs/tensorflow_gpu/lib/python3.7/site-packages/librosa/core/audio.py:161: UserWarning: PySoundFile failed. Trying audioread instead.\n",
      "  warnings.warn('PySoundFile failed. Trying audioread instead.')\n",
      "/home/akpmnmy2j/miniconda3/envs/tensorflow_gpu/lib/python3.7/site-packages/librosa/core/audio.py:161: UserWarning: PySoundFile failed. Trying audioread instead.\n",
      "  warnings.warn('PySoundFile failed. Trying audioread instead.')\n",
      "/home/akpmnmy2j/miniconda3/envs/tensorflow_gpu/lib/python3.7/site-packages/librosa/core/audio.py:161: UserWarning: PySoundFile failed. Trying audioread instead.\n",
      "  warnings.warn('PySoundFile failed. Trying audioread instead.')\n",
      "/home/akpmnmy2j/miniconda3/envs/tensorflow_gpu/lib/python3.7/site-packages/librosa/core/audio.py:161: UserWarning: PySoundFile failed. Trying audioread instead.\n",
      "  warnings.warn('PySoundFile failed. Trying audioread instead.')\n",
      "/home/akpmnmy2j/miniconda3/envs/tensorflow_gpu/lib/python3.7/site-packages/librosa/core/audio.py:161: UserWarning: PySoundFile failed. Trying audioread instead.\n",
      "  warnings.warn('PySoundFile failed. Trying audioread instead.')\n",
      "/home/akpmnmy2j/miniconda3/envs/tensorflow_gpu/lib/python3.7/site-packages/librosa/core/audio.py:161: UserWarning: PySoundFile failed. Trying audioread instead.\n",
      "  warnings.warn('PySoundFile failed. Trying audioread instead.')\n",
      "/home/akpmnmy2j/miniconda3/envs/tensorflow_gpu/lib/python3.7/site-packages/librosa/core/audio.py:161: UserWarning: PySoundFile failed. Trying audioread instead.\n",
      "  warnings.warn('PySoundFile failed. Trying audioread instead.')\n",
      "/home/akpmnmy2j/miniconda3/envs/tensorflow_gpu/lib/python3.7/site-packages/librosa/core/audio.py:161: UserWarning: PySoundFile failed. Trying audioread instead.\n",
      "  warnings.warn('PySoundFile failed. Trying audioread instead.')\n",
      "/home/akpmnmy2j/miniconda3/envs/tensorflow_gpu/lib/python3.7/site-packages/librosa/core/audio.py:161: UserWarning: PySoundFile failed. Trying audioread instead.\n",
      "  warnings.warn('PySoundFile failed. Trying audioread instead.')\n",
      "/home/akpmnmy2j/miniconda3/envs/tensorflow_gpu/lib/python3.7/site-packages/librosa/core/audio.py:161: UserWarning: PySoundFile failed. Trying audioread instead.\n",
      "  warnings.warn('PySoundFile failed. Trying audioread instead.')\n",
      "/home/akpmnmy2j/miniconda3/envs/tensorflow_gpu/lib/python3.7/site-packages/librosa/core/audio.py:161: UserWarning: PySoundFile failed. Trying audioread instead.\n",
      "  warnings.warn('PySoundFile failed. Trying audioread instead.')\n",
      "/home/akpmnmy2j/miniconda3/envs/tensorflow_gpu/lib/python3.7/site-packages/librosa/core/audio.py:161: UserWarning: PySoundFile failed. Trying audioread instead.\n",
      "  warnings.warn('PySoundFile failed. Trying audioread instead.')\n",
      "/home/akpmnmy2j/miniconda3/envs/tensorflow_gpu/lib/python3.7/site-packages/librosa/core/audio.py:161: UserWarning: PySoundFile failed. Trying audioread instead.\n",
      "  warnings.warn('PySoundFile failed. Trying audioread instead.')\n",
      "/home/akpmnmy2j/miniconda3/envs/tensorflow_gpu/lib/python3.7/site-packages/librosa/core/audio.py:161: UserWarning: PySoundFile failed. Trying audioread instead.\n",
      "  warnings.warn('PySoundFile failed. Trying audioread instead.')\n",
      "/home/akpmnmy2j/miniconda3/envs/tensorflow_gpu/lib/python3.7/site-packages/librosa/core/audio.py:161: UserWarning: PySoundFile failed. Trying audioread instead.\n",
      "  warnings.warn('PySoundFile failed. Trying audioread instead.')\n",
      "/home/akpmnmy2j/miniconda3/envs/tensorflow_gpu/lib/python3.7/site-packages/librosa/core/audio.py:161: UserWarning: PySoundFile failed. Trying audioread instead.\n",
      "  warnings.warn('PySoundFile failed. Trying audioread instead.')\n",
      "/home/akpmnmy2j/miniconda3/envs/tensorflow_gpu/lib/python3.7/site-packages/librosa/core/audio.py:161: UserWarning: PySoundFile failed. Trying audioread instead.\n",
      "  warnings.warn('PySoundFile failed. Trying audioread instead.')\n",
      "/home/akpmnmy2j/miniconda3/envs/tensorflow_gpu/lib/python3.7/site-packages/librosa/core/audio.py:161: UserWarning: PySoundFile failed. Trying audioread instead.\n",
      "  warnings.warn('PySoundFile failed. Trying audioread instead.')\n",
      "/home/akpmnmy2j/miniconda3/envs/tensorflow_gpu/lib/python3.7/site-packages/librosa/core/audio.py:161: UserWarning: PySoundFile failed. Trying audioread instead.\n",
      "  warnings.warn('PySoundFile failed. Trying audioread instead.')\n",
      "/home/akpmnmy2j/miniconda3/envs/tensorflow_gpu/lib/python3.7/site-packages/librosa/core/audio.py:161: UserWarning: PySoundFile failed. Trying audioread instead.\n",
      "  warnings.warn('PySoundFile failed. Trying audioread instead.')\n",
      "/home/akpmnmy2j/miniconda3/envs/tensorflow_gpu/lib/python3.7/site-packages/librosa/core/audio.py:161: UserWarning: PySoundFile failed. Trying audioread instead.\n",
      "  warnings.warn('PySoundFile failed. Trying audioread instead.')\n",
      "/home/akpmnmy2j/miniconda3/envs/tensorflow_gpu/lib/python3.7/site-packages/librosa/core/audio.py:161: UserWarning: PySoundFile failed. Trying audioread instead.\n",
      "  warnings.warn('PySoundFile failed. Trying audioread instead.')\n",
      "/home/akpmnmy2j/miniconda3/envs/tensorflow_gpu/lib/python3.7/site-packages/librosa/core/audio.py:161: UserWarning: PySoundFile failed. Trying audioread instead.\n",
      "  warnings.warn('PySoundFile failed. Trying audioread instead.')\n",
      "/home/akpmnmy2j/miniconda3/envs/tensorflow_gpu/lib/python3.7/site-packages/librosa/core/audio.py:161: UserWarning: PySoundFile failed. Trying audioread instead.\n",
      "  warnings.warn('PySoundFile failed. Trying audioread instead.')\n",
      "/home/akpmnmy2j/miniconda3/envs/tensorflow_gpu/lib/python3.7/site-packages/librosa/core/audio.py:161: UserWarning: PySoundFile failed. Trying audioread instead.\n",
      "  warnings.warn('PySoundFile failed. Trying audioread instead.')\n",
      "/home/akpmnmy2j/miniconda3/envs/tensorflow_gpu/lib/python3.7/site-packages/librosa/core/audio.py:161: UserWarning: PySoundFile failed. Trying audioread instead.\n",
      "  warnings.warn('PySoundFile failed. Trying audioread instead.')\n",
      "/home/akpmnmy2j/miniconda3/envs/tensorflow_gpu/lib/python3.7/site-packages/librosa/core/audio.py:161: UserWarning: PySoundFile failed. Trying audioread instead.\n",
      "  warnings.warn('PySoundFile failed. Trying audioread instead.')\n",
      "/home/akpmnmy2j/miniconda3/envs/tensorflow_gpu/lib/python3.7/site-packages/librosa/core/audio.py:161: UserWarning: PySoundFile failed. Trying audioread instead.\n",
      "  warnings.warn('PySoundFile failed. Trying audioread instead.')\n"
     ]
    }
   ],
   "source": [
    "dirContents = os.listdir(tension_directory)\n",
    "for music in dirContents:\n",
    "    temp_y_label = music.split(\"_\")[-1][:2]\n",
    "    if temp_y_label == \"TN\" or temp_y_label == \"TP\":\n",
    "        currSongFeatures = getFeatures(tension_directory+music)\n",
    "        tension_feature_set.append(currSongFeatures)\n",
    "        tension_y_labels.append(temp_y_label)"
   ]
  },
  {
   "cell_type": "code",
   "execution_count": 24,
   "metadata": {},
   "outputs": [
    {
     "name": "stdout",
     "output_type": "stream",
     "text": [
      "(108, 24)\n",
      "(108,)\n"
     ]
    }
   ],
   "source": [
    "tension_feature_set = np.array(tension_feature_set)\n",
    "print(tension_feature_set.shape)\n",
    "tension_y = np.array(tension_y_labels)\n",
    "print(tension_y.shape)"
   ]
  },
  {
   "cell_type": "code",
   "execution_count": 25,
   "metadata": {
    "scrolled": true
   },
   "outputs": [
    {
     "data": {
      "text/plain": [
       "(array([54.,  0.,  0.,  0.,  0.,  0.,  0.,  0.,  0., 54.]),\n",
       " array([0. , 0.1, 0.2, 0.3, 0.4, 0.5, 0.6, 0.7, 0.8, 0.9, 1. ]),\n",
       " <a list of 10 Patch objects>)"
      ]
     },
     "execution_count": 25,
     "metadata": {},
     "output_type": "execute_result"
    },
    {
     "data": {
      "image/png": "[encoded data removed]",
      "text/plain": [
       "<Figure size 432x288 with 1 Axes>"
      ]
     },
     "metadata": {
      "needs_background": "light"
     },
     "output_type": "display_data"
    }
   ],
   "source": [
    "plt.hist(tension_y)"
   ]
  },
  {
   "cell_type": "code",
   "execution_count": 26,
   "metadata": {},
   "outputs": [],
   "source": [
    "tension_x_train, tension_x_test, tension_y_train, tension_y_test = train_test_split(tension_feature_set, tension_y, test_size=0.2, random_state=1231)"
   ]
  },
  {
   "cell_type": "code",
   "execution_count": 27,
   "metadata": {},
   "outputs": [
    {
     "data": {
      "image/png": "[encoded data removed]",
      "text/plain": [
       "<Figure size 432x288 with 1 Axes>"
      ]
     },
     "metadata": {
      "needs_background": "light"
     },
     "output_type": "display_data"
    }
   ],
   "source": [
    "plt.hist(tension_y_train, color='b', alpha=0.4, label='training_label_distribution')\n",
    "plt.hist(tension_y_test, color='r', label='testing_label_distribution')\n",
    "plt.legend()\n",
    "plt.show()"
   ]
  },
  {
   "cell_type": "markdown",
   "metadata": {},
   "source": [
    "# Model-1: Ridge Classifier"
   ]
  },
  {
   "cell_type": "code",
   "execution_count": 28,
   "metadata": {},
   "outputs": [],
   "source": [
    "from sklearn.linear_model import RidgeClassifier"
   ]
  },
  {
   "cell_type": "markdown",
   "metadata": {},
   "source": [
    "## Arousal-Classification using model-1"
   ]
  },
  {
   "cell_type": "markdown",
   "metadata": {},
   "source": [
    "Lets see for the default classifier, what are the accuracies for training and validation"
   ]
  },
  {
   "cell_type": "code",
   "execution_count": 29,
   "metadata": {},
   "outputs": [
    {
     "name": "stdout",
     "output_type": "stream",
     "text": [
      "training accuracy, on the arousal_x_train data is:  0.8433734939759037\n",
      "testing accuracy, on the arousal_x_test data is:  0.6666666666666666\n"
     ]
    }
   ],
   "source": [
    "ridge_clf_arousal_default = RidgeClassifier()\n",
    "ridge_clf_arousal_default.fit(arousal_x_train,arousal_y_train)\n",
    "print(\"training accuracy, on the arousal_x_train data is: \",ridge_clf_arousal_default.score(arousal_x_train, arousal_y_train))\n",
    "print(\"testing accuracy, on the arousal_x_test data is: \",ridge_clf_arousal_default.score(arousal_x_test, arousal_y_test))"
   ]
  },
  {
   "cell_type": "markdown",
   "metadata": {},
   "source": [
    "Performing **Grid search** to get a knowledge of hyperparameter tuning:\n",
    "1. Alpha value\n",
    "2. normalize\n",
    "3. class_weight"
   ]
  },
  {
   "cell_type": "code",
   "execution_count": 30,
   "metadata": {},
   "outputs": [
    {
     "name": "stdout",
     "output_type": "stream",
     "text": [
      "Best: 0.720833 using {'alpha': 1.0, 'max_iter': 10000, 'normalize': True}\n"
     ]
    }
   ],
   "source": [
    "from sklearn.model_selection import GridSearchCV\n",
    "from sklearn.model_selection import RepeatedStratifiedKFold\n",
    "\n",
    "alpha=[i/10 for i in range(1,11)]\n",
    "is_normalize=[True, False]\n",
    "max_iter_arr = [i*10000 for i in range(1,11)]\n",
    "\n",
    "grid=dict(alpha=alpha, normalize=is_normalize, max_iter=max_iter_arr)\n",
    "cv = RepeatedStratifiedKFold(n_splits=10, n_repeats=3, random_state=1)\n",
    "grid_search = GridSearchCV(estimator=ridge_clf_arousal_default, param_grid=grid, n_jobs=-1, cv=cv, scoring='accuracy',error_score=0)\n",
    "grid_result = grid_search.fit(arousal_x_train, arousal_y_train)\n",
    "# summarize results\n",
    "print(\"Best: %f using %s\" % (grid_result.best_score_, grid_result.best_params_))"
   ]
  },
  {
   "cell_type": "code",
   "execution_count": 31,
   "metadata": {},
   "outputs": [
    {
     "name": "stdout",
     "output_type": "stream",
     "text": [
      "training accuracy, on the arousal_x_train data is:  0.7831325301204819\n",
      "testing accuracy, on the arousal_x_test data is:  0.6666666666666666\n"
     ]
    }
   ],
   "source": [
    "ridge_clf_arousal_gridSearched = RidgeClassifier(alpha=1.0, normalize=True, max_iter=10000)\n",
    "ridge_clf_arousal_gridSearched.fit(arousal_x_train,arousal_y_train)\n",
    "print(\"training accuracy, on the arousal_x_train data is: \",ridge_clf_arousal_gridSearched.score(arousal_x_train, arousal_y_train))\n",
    "print(\"testing accuracy, on the arousal_x_test data is: \",ridge_clf_arousal_gridSearched.score(arousal_x_test, arousal_y_test))"
   ]
  },
  {
   "cell_type": "markdown",
   "metadata": {},
   "source": [
    "## Valence Classification"
   ]
  },
  {
   "cell_type": "markdown",
   "metadata": {},
   "source": [
    "Lets take a look at how a normal, parametrised-by-default ridge classifier performs on valence data"
   ]
  },
  {
   "cell_type": "code",
   "execution_count": 32,
   "metadata": {},
   "outputs": [],
   "source": [
    "ridge_clf_valence_default = RidgeClassifier().fit(valence_x_train,valence_y_train)"
   ]
  },
  {
   "cell_type": "code",
   "execution_count": 33,
   "metadata": {
    "scrolled": true
   },
   "outputs": [
    {
     "name": "stdout",
     "output_type": "stream",
     "text": [
      "training accuracy, on the valence_x_train data is:  0.8260869565217391\n",
      "testing accuracy, on the valence_x_test data is:  0.5833333333333334\n"
     ]
    }
   ],
   "source": [
    "print(\"training accuracy, on the valence_x_train data is: \",ridge_clf_valence_default.score(valence_x_train, valence_y_train))\n",
    "print(\"testing accuracy, on the valence_x_test data is: \",ridge_clf_valence_default.score(valence_x_test, valence_y_test))"
   ]
  },
  {
   "cell_type": "markdown",
   "metadata": {},
   "source": [
    "Trying **Grid Search** for hyper-parameter tuning for this classifier"
   ]
  },
  {
   "cell_type": "code",
   "execution_count": 34,
   "metadata": {},
   "outputs": [
    {
     "name": "stdout",
     "output_type": "stream",
     "text": [
      "Best: 0.635926 using {'alpha': 0.2, 'class_weight': None, 'normalize': False}\n"
     ]
    }
   ],
   "source": [
    "from sklearn.model_selection import GridSearchCV\n",
    "from sklearn.model_selection import RepeatedStratifiedKFold\n",
    "\n",
    "# defining hyperparameter choices\n",
    "alpha=[i/10 for i in range(1,11)]\n",
    "is_normalize=[True, False]\n",
    "class_weight=['balanced', None]\n",
    "\n",
    "grid=dict(alpha=alpha, normalize=is_normalize, class_weight=class_weight)\n",
    "cv = RepeatedStratifiedKFold(n_splits=10, n_repeats=3, random_state=1)\n",
    "grid_search = GridSearchCV(estimator=ridge_clf_valence_default, param_grid=grid, n_jobs=-1, cv=cv, scoring='accuracy',error_score=0)\n",
    "grid_result = grid_search.fit(valence_x_train, valence_y_train)\n",
    "# summarize results\n",
    "print(\"Best: %f using %s\" % (grid_result.best_score_, grid_result.best_params_))"
   ]
  },
  {
   "cell_type": "code",
   "execution_count": 35,
   "metadata": {},
   "outputs": [
    {
     "name": "stdout",
     "output_type": "stream",
     "text": [
      "training accuracy, on the valence_x_train data is:  0.8260869565217391\n",
      "testing accuracy, on the valence_x_test data is:  0.5833333333333334\n"
     ]
    }
   ],
   "source": [
    "ridge_clf_valence_gridSearched = RidgeClassifier(alpha=0.2, class_weight=None, normalize=False)\n",
    "ridge_clf_valence_gridSearched.fit(valence_x_train,valence_y_train)\n",
    "print(\"training accuracy, on the valence_x_train data is: \",ridge_clf_valence_gridSearched.score(valence_x_train, valence_y_train))\n",
    "print(\"testing accuracy, on the valence_x_test data is: \",ridge_clf_valence_gridSearched.score(valence_x_test, valence_y_test))"
   ]
  },
  {
   "cell_type": "markdown",
   "metadata": {},
   "source": [
    "## Tension Classification"
   ]
  },
  {
   "cell_type": "markdown",
   "metadata": {},
   "source": [
    "Lets take a look at how a normal, parametrised-by-default ridge classifier performs on valence data"
   ]
  },
  {
   "cell_type": "code",
   "execution_count": 36,
   "metadata": {},
   "outputs": [],
   "source": [
    "ridge_clf_tension_default = RidgeClassifier().fit(tension_x_train,tension_y_train)"
   ]
  },
  {
   "cell_type": "code",
   "execution_count": 37,
   "metadata": {
    "scrolled": true
   },
   "outputs": [
    {
     "name": "stdout",
     "output_type": "stream",
     "text": [
      "training accuracy, on the tension_x_train data is:  0.7790697674418605\n",
      "testing accuracy, on the tension_x_test data is:  0.7727272727272727\n"
     ]
    }
   ],
   "source": [
    "print(\"training accuracy, on the tension_x_train data is: \",ridge_clf_tension_default.score(tension_x_train, tension_y_train))\n",
    "print(\"testing accuracy, on the tension_x_test data is: \",ridge_clf_tension_default.score(tension_x_test, tension_y_test))"
   ]
  },
  {
   "cell_type": "markdown",
   "metadata": {},
   "source": [
    "Trying **Grid Search** for hyper-parameter tuning for this classifier"
   ]
  },
  {
   "cell_type": "code",
   "execution_count": 38,
   "metadata": {},
   "outputs": [
    {
     "name": "stdout",
     "output_type": "stream",
     "text": [
      "Best: 0.665278 using {'alpha': 0.2, 'class_weight': None, 'normalize': False}\n"
     ]
    }
   ],
   "source": [
    "from sklearn.model_selection import GridSearchCV\n",
    "from sklearn.model_selection import RepeatedStratifiedKFold\n",
    "\n",
    "# defining hyperparameter choices\n",
    "alpha=[i/10 for i in range(1,11)]\n",
    "is_normalize=[True, False]\n",
    "class_weight=['balanced', None]\n",
    "\n",
    "grid=dict(alpha=alpha, normalize=is_normalize, class_weight=class_weight)\n",
    "cv = RepeatedStratifiedKFold(n_splits=10, n_repeats=3, random_state=1)\n",
    "grid_search = GridSearchCV(estimator=ridge_clf_tension_default, param_grid=grid, n_jobs=-1, cv=cv, scoring='accuracy',error_score=0)\n",
    "grid_result = grid_search.fit(tension_x_train, tension_y_train)\n",
    "# summarize results\n",
    "print(\"Best: %f using %s\" % (grid_result.best_score_, grid_result.best_params_))"
   ]
  },
  {
   "cell_type": "code",
   "execution_count": 42,
   "metadata": {},
   "outputs": [
    {
     "name": "stdout",
     "output_type": "stream",
     "text": [
      "training accuracy, on the tension_x_train data is:  0.7790697674418605\n",
      "validation accuracy, on the tension_x_test data is:  0.7727272727272727\n"
     ]
    }
   ],
   "source": [
    "ridge_clf_tension_gridSearched = RidgeClassifier(alpha=0.2, class_weight=None, normalize=False)\n",
    "ridge_clf_tension_gridSearched.fit(tension_x_train,tension_y_train)\n",
    "print(\"training accuracy, on the tension_x_train data is: \",ridge_clf_tension_gridSearched.score(tension_x_train, tension_y_train))\n",
    "print(\"validation accuracy, on the tension_x_test data is: \",ridge_clf_tension_gridSearched.score(tension_x_test, tension_y_test))"
   ]
  },
  {
   "cell_type": "markdown",
   "metadata": {},
   "source": [
    "# Model-2: KNeighborsClassifier"
   ]
  },
  {
   "cell_type": "code",
   "execution_count": 43,
   "metadata": {},
   "outputs": [],
   "source": [
    "from sklearn.neighbors import KNeighborsClassifier"
   ]
  },
  {
   "cell_type": "markdown",
   "metadata": {},
   "source": [
    "## Arousal-classification"
   ]
  },
  {
   "cell_type": "markdown",
   "metadata": {},
   "source": [
    "Using a default-valued knclassifier at first"
   ]
  },
  {
   "cell_type": "code",
   "execution_count": 44,
   "metadata": {},
   "outputs": [
    {
     "name": "stdout",
     "output_type": "stream",
     "text": [
      "training accuracy, on the arousal_x_train data is:  0.7228915662650602\n",
      "validation accuracy, on the arousal_x_test data is:  0.6190476190476191\n"
     ]
    }
   ],
   "source": [
    "knc_arousal_default = KNeighborsClassifier()\n",
    "knc_arousal_default.fit(arousal_x_train,arousal_y_train)\n",
    "print(\"training accuracy, on the arousal_x_train data is: \",knc_arousal_default.score(arousal_x_train, arousal_y_train))\n",
    "print(\"validation accuracy, on the arousal_x_test data is: \",knc_arousal_default.score(arousal_x_test, arousal_y_test))"
   ]
  },
  {
   "cell_type": "markdown",
   "metadata": {},
   "source": [
    "Trying to tune hyperparameters:\n",
    "1. n_neighbors(default=5)"
   ]
  },
  {
   "cell_type": "code",
   "execution_count": 47,
   "metadata": {},
   "outputs": [
    {
     "name": "stdout",
     "output_type": "stream",
     "text": [
      "Best: 0.712037 using {'algorithm': 'auto', 'metric': 'euclidean', 'n_neighbors': 8, 'weights': 'distance'}\n"
     ]
    }
   ],
   "source": [
    "# defining hyperparameter choices\n",
    "n_neighbors_arr=[i for i in range(1,11)]\n",
    "algorithm_arr = ['auto', 'ball_tree', 'kd_tree', 'brute']\n",
    "metric_arr = ['euclidean', 'minkowski']\n",
    "weights_arr=['uniform', 'distance']\n",
    "\n",
    "grid=dict(n_neighbors=n_neighbors_arr, algorithm=algorithm_arr, metric=metric_arr, weights=weights_arr)\n",
    "cv = RepeatedStratifiedKFold(n_splits=10, n_repeats=3, random_state=1)\n",
    "grid_search = GridSearchCV(estimator=knc_arousal_default, param_grid=grid, n_jobs=-1, cv=cv, scoring='accuracy',error_score=0)\n",
    "grid_result = grid_search.fit(arousal_x_train, arousal_y_train)\n",
    "# summarize results\n",
    "print(\"Best: %f using %s\" % (grid_result.best_score_, grid_result.best_params_))"
   ]
  },
  {
   "cell_type": "code",
   "execution_count": 48,
   "metadata": {},
   "outputs": [
    {
     "name": "stdout",
     "output_type": "stream",
     "text": [
      "training accuracy, on the arousal_x_train data is:  1.0\n",
      "validation accuracy, on the arousal_x_test data is:  0.6666666666666666\n"
     ]
    }
   ],
   "source": [
    "knc_arousal_gridSearched = KNeighborsClassifier(algorithm='auto', metric='euclidean', n_neighbors=8, weights='distance')\n",
    "knc_arousal_gridSearched.fit(arousal_x_train,arousal_y_train)\n",
    "print(\"training accuracy, on the arousal_x_train data is: \",knc_arousal_gridSearched.score(arousal_x_train, arousal_y_train))\n",
    "print(\"validation accuracy, on the arousal_x_test data is: \",knc_arousal_gridSearched.score(arousal_x_test, arousal_y_test))"
   ]
  },
  {
   "cell_type": "markdown",
   "metadata": {},
   "source": [
    "## Valence Classification"
   ]
  },
  {
   "cell_type": "markdown",
   "metadata": {},
   "source": [
    "Lets take a look at how a normal, parametrised-by-default ridge classifier performs on valence data"
   ]
  },
  {
   "cell_type": "code",
   "execution_count": 49,
   "metadata": {},
   "outputs": [
    {
     "name": "stdout",
     "output_type": "stream",
     "text": [
      "training accuracy, on the valence_x_train data is:  0.6739130434782609\n",
      "validation accuracy, on the valence_x_test data is:  0.625\n"
     ]
    }
   ],
   "source": [
    "knc_valence_default = KNeighborsClassifier()\n",
    "knc_valence_default.fit(valence_x_train,valence_y_train)\n",
    "print(\"training accuracy, on the valence_x_train data is: \",knc_valence_default.score(valence_x_train, valence_y_train))\n",
    "print(\"validation accuracy, on the valence_x_test data is: \",knc_valence_default.score(valence_x_test, valence_y_test))"
   ]
  },
  {
   "cell_type": "markdown",
   "metadata": {},
   "source": [
    "Trying **Grid Search** for hyper-parameter tuning for this classifier"
   ]
  },
  {
   "cell_type": "code",
   "execution_count": 50,
   "metadata": {},
   "outputs": [
    {
     "name": "stdout",
     "output_type": "stream",
     "text": [
      "Best: 0.664444 using {'algorithm': 'auto', 'metric': 'euclidean', 'n_neighbors': 9, 'weights': 'distance'}\n"
     ]
    }
   ],
   "source": [
    "# defining hyperparameter choices\n",
    "n_neighbors_arr=[i for i in range(1,21)]\n",
    "algorithm_arr = ['auto', 'ball_tree', 'kd_tree', 'brute']\n",
    "metric_arr = ['euclidean', 'minkowski']\n",
    "weights_arr=['uniform', 'distance']\n",
    "\n",
    "grid=dict(n_neighbors=n_neighbors_arr, algorithm=algorithm_arr, metric=metric_arr, weights=weights_arr)\n",
    "cv = RepeatedStratifiedKFold(n_splits=10, n_repeats=3, random_state=1)\n",
    "grid_search = GridSearchCV(estimator=knc_valence_default, param_grid=grid, n_jobs=-1, cv=cv, scoring='accuracy',error_score=0)\n",
    "grid_result = grid_search.fit(valence_x_train, valence_y_train)\n",
    "# summarize results\n",
    "print(\"Best: %f using %s\" % (grid_result.best_score_, grid_result.best_params_))"
   ]
  },
  {
   "cell_type": "code",
   "execution_count": 51,
   "metadata": {},
   "outputs": [
    {
     "name": "stdout",
     "output_type": "stream",
     "text": [
      "training accuracy, on the valence_x_train data is:  1.0\n",
      "validation accuracy, on the valence_x_test data is:  0.6666666666666666\n"
     ]
    }
   ],
   "source": [
    "knc_valence_gridSearched = KNeighborsClassifier(algorithm='auto', metric='euclidean', n_neighbors=9, weights='distance')\n",
    "knc_valence_gridSearched.fit(valence_x_train,valence_y_train)\n",
    "print(\"training accuracy, on the valence_x_train data is: \",knc_valence_gridSearched.score(valence_x_train, valence_y_train))\n",
    "print(\"validation accuracy, on the valence_x_test data is: \",knc_valence_gridSearched.score(valence_x_test, valence_y_test))"
   ]
  },
  {
   "cell_type": "markdown",
   "metadata": {},
   "source": [
    "## Tension Classification"
   ]
  },
  {
   "cell_type": "markdown",
   "metadata": {},
   "source": [
    "Lets take a look at how a normal, parametrised-by-default ridge classifier performs on valence data"
   ]
  },
  {
   "cell_type": "code",
   "execution_count": 52,
   "metadata": {},
   "outputs": [
    {
     "name": "stdout",
     "output_type": "stream",
     "text": [
      "training accuracy, on the tension_x_train data is:  0.6627906976744186\n",
      "validation accuracy, on the tension_x_test data is:  0.45454545454545453\n"
     ]
    }
   ],
   "source": [
    "knc_tension_default = KNeighborsClassifier()\n",
    "knc_tension_default.fit(tension_x_train,tension_y_train)\n",
    "print(\"training accuracy, on the tension_x_train data is: \",knc_tension_default.score(tension_x_train, tension_y_train))\n",
    "print(\"validation accuracy, on the tension_x_test data is: \",knc_tension_default.score(tension_x_test, tension_y_test))"
   ]
  },
  {
   "cell_type": "markdown",
   "metadata": {},
   "source": [
    "Trying **Grid Search** for hyper-parameter tuning for this classifier"
   ]
  },
  {
   "cell_type": "code",
   "execution_count": 53,
   "metadata": {},
   "outputs": [
    {
     "name": "stdout",
     "output_type": "stream",
     "text": [
      "Best: 0.512037 using {'algorithm': 'auto', 'metric': 'euclidean', 'n_neighbors': 3, 'weights': 'distance'}\n"
     ]
    }
   ],
   "source": [
    "n_neighbors_arr=[i for i in range(1,20)]\n",
    "algorithm_arr = ['auto', 'ball_tree', 'kd_tree', 'brute']\n",
    "metric_arr = ['euclidean', 'minkowski']\n",
    "weights_arr=['uniform', 'distance']\n",
    "\n",
    "grid=dict(n_neighbors=n_neighbors_arr, algorithm=algorithm_arr, metric=metric_arr, weights=weights_arr)\n",
    "cv = RepeatedStratifiedKFold(n_splits=10, n_repeats=3, random_state=1)\n",
    "grid_search = GridSearchCV(estimator=knc_tension_default, param_grid=grid, n_jobs=-1, cv=cv, scoring='accuracy',error_score=0)\n",
    "grid_result = grid_search.fit(tension_x_train, tension_y_train)\n",
    "# summarize results\n",
    "print(\"Best: %f using %s\" % (grid_result.best_score_, grid_result.best_params_))"
   ]
  },
  {
   "cell_type": "code",
   "execution_count": 54,
   "metadata": {},
   "outputs": [
    {
     "name": "stdout",
     "output_type": "stream",
     "text": [
      "training accuracy, on the tension_x_train data is:  1.0\n",
      "validation accuracy, on the tension_x_test data is:  0.45454545454545453\n"
     ]
    }
   ],
   "source": [
    "knc_tension_gridSearched = KNeighborsClassifier(algorithm='auto', metric='euclidean', n_neighbors=3, weights='distance')\n",
    "knc_tension_gridSearched.fit(tension_x_train,tension_y_train)\n",
    "print(\"training accuracy, on the tension_x_train data is: \",knc_tension_gridSearched.score(tension_x_train, tension_y_train))\n",
    "print(\"validation accuracy, on the tension_x_test data is: \",knc_tension_gridSearched.score(tension_x_test, tension_y_test))"
   ]
  },
  {
   "cell_type": "markdown",
   "metadata": {},
   "source": [
    "# Model-3 : Support Vector Classifier"
   ]
  },
  {
   "cell_type": "code",
   "execution_count": 55,
   "metadata": {},
   "outputs": [],
   "source": [
    "from sklearn.svm import SVC"
   ]
  },
  {
   "cell_type": "markdown",
   "metadata": {},
   "source": [
    "## Arousal-classification"
   ]
  },
  {
   "cell_type": "code",
   "execution_count": 56,
   "metadata": {
    "scrolled": true
   },
   "outputs": [
    {
     "name": "stdout",
     "output_type": "stream",
     "text": [
      "training accuracy, on the arousal_x_train data is:  0.7469879518072289\n",
      "validation accuracy, on the arousal_x_test data is:  0.5714285714285714\n"
     ]
    }
   ],
   "source": [
    "svc_arousal_default = SVC()\n",
    "svc_arousal_default.fit(arousal_x_train,arousal_y_train)\n",
    "print(\"training accuracy, on the arousal_x_train data is: \",svc_arousal_default.score(arousal_x_train, arousal_y_train))\n",
    "print(\"validation accuracy, on the arousal_x_test data is: \",svc_arousal_default.score(arousal_x_test, arousal_y_test))"
   ]
  },
  {
   "cell_type": "markdown",
   "metadata": {},
   "source": [
    "Performing **Grid search** to get a knowledge of hyperparameter tuning:\n",
    "1. Kernel function\n",
    "2. regularization parameter(C)"
   ]
  },
  {
   "cell_type": "code",
   "execution_count": 57,
   "metadata": {},
   "outputs": [
    {
     "name": "stdout",
     "output_type": "stream",
     "text": [
      "Best: 0.711111 using {'C': 10, 'kernel': 'rbf'}\n"
     ]
    }
   ],
   "source": [
    "from sklearn.model_selection import GridSearchCV\n",
    "from sklearn.model_selection import RepeatedStratifiedKFold\n",
    "\n",
    "kernel_arr = ['rbf', 'sigmoid', 'linear', 'poly']\n",
    "c_arr = [100, 10, 1.0, 0.1, 0.001]\n",
    "\n",
    "grid=dict(C=c_arr, kernel=kernel_arr)\n",
    "cv = RepeatedStratifiedKFold(n_splits=10, n_repeats=3, random_state=1)\n",
    "grid_search = GridSearchCV(estimator=svc_arousal_default, param_grid=grid, n_jobs=-1, cv=cv, scoring='accuracy',error_score=0)\n",
    "grid_result = grid_search.fit(arousal_x_train, arousal_y_train)\n",
    "# summarize results\n",
    "print(\"Best: %f using %s\" % (grid_result.best_score_, grid_result.best_params_))"
   ]
  },
  {
   "cell_type": "code",
   "execution_count": 58,
   "metadata": {},
   "outputs": [
    {
     "name": "stdout",
     "output_type": "stream",
     "text": [
      "training accuracy, on the arousal_x_train data is:  0.7590361445783133\n",
      "validation accuracy, on the arousal_x_test data is:  0.6190476190476191\n"
     ]
    }
   ],
   "source": [
    "svc_arousal_gridSearched = SVC(C=10, kernel='rbf')\n",
    "svc_arousal_gridSearched.fit(arousal_x_train,arousal_y_train)\n",
    "print(\"training accuracy, on the arousal_x_train data is: \",svc_arousal_gridSearched.score(arousal_x_train, arousal_y_train))\n",
    "print(\"validation accuracy, on the arousal_x_test data is: \",svc_arousal_gridSearched.score(arousal_x_test, arousal_y_test))"
   ]
  },
  {
   "cell_type": "markdown",
   "metadata": {},
   "source": [
    "## Valence Classification"
   ]
  },
  {
   "cell_type": "code",
   "execution_count": 59,
   "metadata": {},
   "outputs": [
    {
     "name": "stdout",
     "output_type": "stream",
     "text": [
      "training accuracy, on the valence_x_train data is:  0.532608695652174\n",
      "validation accuracy, on the valence_x_test data is:  0.5833333333333334\n"
     ]
    }
   ],
   "source": [
    "svc_valence_default = SVC()\n",
    "svc_valence_default.fit(valence_x_train,valence_y_train)\n",
    "print(\"training accuracy, on the valence_x_train data is: \",svc_valence_default.score(valence_x_train, valence_y_train))\n",
    "print(\"validation accuracy, on the valence_x_test data is: \",svc_valence_default.score(valence_x_test, valence_y_test))"
   ]
  },
  {
   "cell_type": "markdown",
   "metadata": {},
   "source": [
    "Performing **Grid search** to get a knowledge of hyperparameter tuning:\n",
    "1. Kernel function\n",
    "2. regularization parameter(C)\n",
    "\n",
    "Performing grid search on <font color=\"red\">svm-based classifier will take some serious computation power</font>, therefore i request you to run it on **ADA** or other equivalent HPC devices. "
   ]
  },
  {
   "cell_type": "code",
   "execution_count": 60,
   "metadata": {},
   "outputs": [
    {
     "name": "stdout",
     "output_type": "stream",
     "text": [
      "Best: 0.672222 using {'C': 0.001, 'kernel': 'linear'}\n"
     ]
    }
   ],
   "source": [
    "from sklearn.model_selection import GridSearchCV\n",
    "from sklearn.model_selection import RepeatedStratifiedKFold\n",
    "\n",
    "kernel_arr = ['rbf', 'sigmoid', 'linear', 'poly']\n",
    "c_arr = [200, 100, 10, 1.0, 0.1, 0.001]\n",
    "\n",
    "grid=dict(C=c_arr, kernel=kernel_arr)\n",
    "cv = RepeatedStratifiedKFold(n_splits=10, n_repeats=3, random_state=1)\n",
    "grid_search = GridSearchCV(estimator=svc_valence_default, param_grid=grid, n_jobs=-1, cv=cv, scoring='accuracy',error_score=0)\n",
    "grid_result = grid_search.fit(valence_x_train, valence_y_train)\n",
    "# summarize results\n",
    "print(\"Best: %f using %s\" % (grid_result.best_score_, grid_result.best_params_))"
   ]
  },
  {
   "cell_type": "code",
   "execution_count": 61,
   "metadata": {},
   "outputs": [
    {
     "name": "stdout",
     "output_type": "stream",
     "text": [
      "training accuracy, on the valence_x_train data is:  0.7934782608695652\n",
      "validation accuracy, on the valence_x_test data is:  0.5833333333333334\n"
     ]
    }
   ],
   "source": [
    "svc_valence_gridSearched = SVC(C=0.001, kernel='linear')\n",
    "svc_valence_gridSearched.fit(valence_x_train,valence_y_train)\n",
    "print(\"training accuracy, on the valence_x_train data is: \",svc_valence_gridSearched.score(valence_x_train, valence_y_train))\n",
    "print(\"validation accuracy, on the valence_x_test data is: \",svc_valence_gridSearched.score(valence_x_test, valence_y_test))"
   ]
  },
  {
   "cell_type": "markdown",
   "metadata": {},
   "source": [
    "## Tension Classification"
   ]
  },
  {
   "cell_type": "markdown",
   "metadata": {},
   "source": [
    "Lets take a look at how a normal, parametrised-by-default ridge classifier performs on valence data"
   ]
  },
  {
   "cell_type": "code",
   "execution_count": 75,
   "metadata": {},
   "outputs": [
    {
     "name": "stdout",
     "output_type": "stream",
     "text": [
      "training accuracy, on the tension_x_train data is:  0.5116279069767442\n",
      "validation accuracy, on the tension_x_test data is:  0.5909090909090909\n"
     ]
    }
   ],
   "source": [
    "svc_tension_default = SVC()\n",
    "svc_tension_default.fit(tension_x_train,tension_y_train)\n",
    "print(\"training accuracy, on the tension_x_train data is: \",svc_tension_default.score(tension_x_train, tension_y_train))\n",
    "print(\"validation accuracy, on the tension_x_test data is: \",svc_tension_default.score(tension_x_test, tension_y_test))"
   ]
  },
  {
   "cell_type": "markdown",
   "metadata": {},
   "source": [
    "* Trying **Grid Search** for hyper-parameter tuning for this classifier"
   ]
  },
  {
   "cell_type": "code",
   "execution_count": 76,
   "metadata": {},
   "outputs": [
    {
     "name": "stdout",
     "output_type": "stream",
     "text": [
      "Best: 0.599074 using {'C': 0.1, 'kernel': 'linear'}\n"
     ]
    }
   ],
   "source": [
    "from sklearn.model_selection import GridSearchCV\n",
    "from sklearn.model_selection import RepeatedStratifiedKFold\n",
    "\n",
    "kernel_arr = ['rbf', 'sigmoid', 'linear', 'poly']\n",
    "c_arr = [100, 10, 1.0, 0.1]\n",
    "\n",
    "grid=dict(C=c_arr, kernel=kernel_arr)\n",
    "cv = RepeatedStratifiedKFold(n_splits=10, n_repeats=3, random_state=1)\n",
    "grid_search = GridSearchCV(estimator=svc_tension_default, param_grid=grid, n_jobs=-1, cv=cv, scoring='accuracy',error_score=0)\n",
    "grid_result = grid_search.fit(tension_x_train, tension_y_train)\n",
    "# summarize results\n",
    "print(\"Best: %f using %s\" % (grid_result.best_score_, grid_result.best_params_))"
   ]
  },
  {
   "cell_type": "code",
   "execution_count": 77,
   "metadata": {},
   "outputs": [
    {
     "name": "stdout",
     "output_type": "stream",
     "text": [
      "training accuracy, on the tension_x_train data is:  0.813953488372093\n",
      "validation accuracy, on the tension_x_test data is:  0.6363636363636364\n"
     ]
    }
   ],
   "source": [
    "svc_tension_gridSearched = SVC(kernel='linear', C=0.1)\n",
    "svc_tension_gridSearched.fit(tension_x_train,tension_y_train)\n",
    "print(\"training accuracy, on the tension_x_train data is: \",svc_tension_gridSearched.score(tension_x_train, tension_y_train))\n",
    "print(\"validation accuracy, on the tension_x_test data is: \",svc_tension_gridSearched.score(tension_x_test, tension_y_test))"
   ]
  },
  {
   "cell_type": "markdown",
   "metadata": {},
   "source": [
    "# Model-4 : Decision-tree Classifier"
   ]
  },
  {
   "cell_type": "code",
   "execution_count": 62,
   "metadata": {},
   "outputs": [],
   "source": [
    "from sklearn.tree import DecisionTreeClassifier"
   ]
  },
  {
   "cell_type": "markdown",
   "metadata": {},
   "source": [
    "## Arousal-Classification"
   ]
  },
  {
   "cell_type": "code",
   "execution_count": 63,
   "metadata": {
    "scrolled": true
   },
   "outputs": [
    {
     "name": "stdout",
     "output_type": "stream",
     "text": [
      "training accuracy, on the arousal_x_train data is:  1.0\n",
      "validation accuracy, on the arousal_x_test data is:  0.7142857142857143\n"
     ]
    }
   ],
   "source": [
    "dt_arousal_default = DecisionTreeClassifier()\n",
    "dt_arousal_default.fit(arousal_x_train,arousal_y_train)\n",
    "print(\"training accuracy, on the arousal_x_train data is: \",dt_arousal_default.score(arousal_x_train, arousal_y_train))\n",
    "print(\"validation accuracy, on the arousal_x_test data is: \",dt_arousal_default.score(arousal_x_test, arousal_y_test))"
   ]
  },
  {
   "cell_type": "markdown",
   "metadata": {},
   "source": [
    "Performing **Grid search** to get a knowledge of hyperparameter tuning"
   ]
  },
  {
   "cell_type": "code",
   "execution_count": 64,
   "metadata": {},
   "outputs": [
    {
     "name": "stdout",
     "output_type": "stream",
     "text": [
      "Best: 0.668519 using {'criterion': 'entropy', 'max_depth': 1, 'splitter': 'random'}\n"
     ]
    }
   ],
   "source": [
    "from sklearn.model_selection import GridSearchCV\n",
    "from sklearn.model_selection import RepeatedStratifiedKFold\n",
    "\n",
    "criterion=['entropy', 'gini']\n",
    "max_depth=[1, 3, 5, None]\n",
    "splitter = ['best', 'random']\n",
    "\n",
    "grid=dict(criterion=criterion, max_depth=max_depth, splitter=splitter)\n",
    "cv = RepeatedStratifiedKFold(n_splits=10, n_repeats=3, random_state=1)\n",
    "grid_search = GridSearchCV(estimator=dt_arousal_default, param_grid=grid, n_jobs=-1, cv=cv, scoring='accuracy',error_score=0)\n",
    "grid_result = grid_search.fit(arousal_x_train, arousal_y_train)\n",
    "# summarize results\n",
    "print(\"Best: %f using %s\" % (grid_result.best_score_, grid_result.best_params_))"
   ]
  },
  {
   "cell_type": "code",
   "execution_count": 65,
   "metadata": {},
   "outputs": [
    {
     "name": "stdout",
     "output_type": "stream",
     "text": [
      "training accuracy, on the arousal_x_train data is:  0.6987951807228916\n",
      "validation accuracy, on the arousal_x_test data is:  0.6190476190476191\n"
     ]
    }
   ],
   "source": [
    "dt_arousal_gridSearched = DecisionTreeClassifier(criterion='entropy', max_depth=1, splitter='random')\n",
    "dt_arousal_gridSearched.fit(arousal_x_train,arousal_y_train)\n",
    "print(\"training accuracy, on the arousal_x_train data is: \",dt_arousal_gridSearched.score(arousal_x_train, arousal_y_train))\n",
    "print(\"validation accuracy, on the arousal_x_test data is: \",dt_arousal_gridSearched.score(arousal_x_test, arousal_y_test))"
   ]
  },
  {
   "cell_type": "markdown",
   "metadata": {},
   "source": [
    "## Valence Classification"
   ]
  },
  {
   "cell_type": "code",
   "execution_count": 66,
   "metadata": {},
   "outputs": [
    {
     "name": "stdout",
     "output_type": "stream",
     "text": [
      "training accuracy, on the valence_x_train data is:  1.0\n",
      "validation accuracy, on the valence_x_test data is:  0.5833333333333334\n"
     ]
    }
   ],
   "source": [
    "dt_valence_default = DecisionTreeClassifier()\n",
    "dt_valence_default.fit(valence_x_train,valence_y_train)\n",
    "print(\"training accuracy, on the valence_x_train data is: \",dt_valence_default.score(valence_x_train, valence_y_train))\n",
    "print(\"validation accuracy, on the valence_x_test data is: \",dt_valence_default.score(valence_x_test, valence_y_test))"
   ]
  },
  {
   "cell_type": "markdown",
   "metadata": {},
   "source": [
    "Performing **Grid search** to get a knowledge of hyperparameter tuning"
   ]
  },
  {
   "cell_type": "code",
   "execution_count": 67,
   "metadata": {},
   "outputs": [
    {
     "name": "stdout",
     "output_type": "stream",
     "text": [
      "Best: 0.582963 using {'criterion': 'entropy', 'max_depth': None, 'splitter': 'random'}\n"
     ]
    }
   ],
   "source": [
    "from sklearn.model_selection import GridSearchCV\n",
    "from sklearn.model_selection import RepeatedStratifiedKFold\n",
    "\n",
    "criterion=['entropy', 'gini']\n",
    "max_depth=[1, 3, 5, None]\n",
    "splitter = ['best', 'random']\n",
    "\n",
    "grid=dict(criterion=criterion, max_depth=max_depth, splitter=splitter)\n",
    "cv = RepeatedStratifiedKFold(n_splits=10, n_repeats=3, random_state=1)\n",
    "grid_search = GridSearchCV(estimator=dt_valence_default, param_grid=grid, n_jobs=-1, cv=cv, scoring='accuracy',error_score=0)\n",
    "grid_result = grid_search.fit(valence_x_train, valence_y_train)\n",
    "# summarize results\n",
    "print(\"Best: %f using %s\" % (grid_result.best_score_, grid_result.best_params_))"
   ]
  },
  {
   "cell_type": "code",
   "execution_count": 68,
   "metadata": {},
   "outputs": [
    {
     "name": "stdout",
     "output_type": "stream",
     "text": [
      "training accuracy, on the valence_x_train data is:  1.0\n",
      "validation accuracy, on the valence_x_test data is:  0.625\n"
     ]
    }
   ],
   "source": [
    "dt_valence_gridSearched = DecisionTreeClassifier(criterion='entropy', max_depth=None, splitter='random')\n",
    "dt_valence_gridSearched.fit(valence_x_train,valence_y_train)\n",
    "print(\"training accuracy, on the valence_x_train data is: \",dt_valence_gridSearched.score(valence_x_train, valence_y_train))\n",
    "print(\"validation accuracy, on the valence_x_test data is: \",dt_valence_gridSearched.score(valence_x_test, valence_y_test))"
   ]
  },
  {
   "cell_type": "markdown",
   "metadata": {},
   "source": [
    "## Tension Classification"
   ]
  },
  {
   "cell_type": "markdown",
   "metadata": {},
   "source": [
    "Lets take a look at how a normal, parametrised-by-default ridge classifier performs on valence data"
   ]
  },
  {
   "cell_type": "code",
   "execution_count": 69,
   "metadata": {},
   "outputs": [
    {
     "name": "stdout",
     "output_type": "stream",
     "text": [
      "training accuracy, on the tension_x_train data is:  1.0\n",
      "validation accuracy, on the tension_x_test data is:  0.6363636363636364\n"
     ]
    }
   ],
   "source": [
    "dt_tension_default = DecisionTreeClassifier()\n",
    "dt_tension_default.fit(tension_x_train,tension_y_train)\n",
    "print(\"training accuracy, on the tension_x_train data is: \",dt_tension_default.score(tension_x_train, tension_y_train))\n",
    "print(\"validation accuracy, on the tension_x_test data is: \",dt_tension_default.score(tension_x_test, tension_y_test))"
   ]
  },
  {
   "cell_type": "markdown",
   "metadata": {},
   "source": [
    "Trying **Grid Search** for hyper-parameter tuning for this classifier"
   ]
  },
  {
   "cell_type": "code",
   "execution_count": 70,
   "metadata": {},
   "outputs": [
    {
     "name": "stdout",
     "output_type": "stream",
     "text": [
      "Best: 0.558333 using {'criterion': 'entropy', 'max_depth': 3, 'splitter': 'random'}\n"
     ]
    }
   ],
   "source": [
    "from sklearn.model_selection import GridSearchCV\n",
    "from sklearn.model_selection import RepeatedStratifiedKFold\n",
    "\n",
    "criterion=['entropy', 'gini']\n",
    "max_depth=[1, 3, 5, None]\n",
    "splitter = ['best', 'random']\n",
    "\n",
    "grid=dict(criterion=criterion, max_depth=max_depth, splitter=splitter)\n",
    "grid_search = GridSearchCV(estimator=dt_tension_default, param_grid=grid, n_jobs=-1, cv=cv, scoring='accuracy',error_score=0)\n",
    "grid_result = grid_search.fit(tension_x_train, tension_y_train)\n",
    "# summarize results\n",
    "print(\"Best: %f using %s\" % (grid_result.best_score_, grid_result.best_params_))"
   ]
  },
  {
   "cell_type": "code",
   "execution_count": 71,
   "metadata": {
    "scrolled": false
   },
   "outputs": [
    {
     "name": "stdout",
     "output_type": "stream",
     "text": [
      "training accuracy, on the tension_x_train data is:  0.6976744186046512\n",
      "validation accuracy, on the tension_x_test data is:  0.5909090909090909\n"
     ]
    }
   ],
   "source": [
    "dt_tension_gridSearched = DecisionTreeClassifier(criterion='entropy', max_depth=3, splitter='random')\n",
    "dt_tension_gridSearched.fit(tension_x_train,tension_y_train)\n",
    "print(\"training accuracy, on the tension_x_train data is: \",dt_tension_gridSearched.score(tension_x_train, tension_y_train))\n",
    "print(\"validation accuracy, on the tension_x_test data is: \",dt_tension_gridSearched.score(tension_x_test, tension_y_test))"
   ]
  },
  {
   "cell_type": "markdown",
   "metadata": {},
   "source": [
    "# Arousal-classification:"
   ]
  },
  {
   "cell_type": "markdown",
   "metadata": {},
   "source": [
    "We compare all the 8 models:\n",
    "1. default and gridSearched Ridge classifier\n",
    "2. default and gridSearched k neighbors classifier\n",
    "3. default and gridSearched SVM classifier\n",
    "4. default and gridSearched decision tree classifier"
   ]
  },
  {
   "cell_type": "code",
   "execution_count": 72,
   "metadata": {},
   "outputs": [
    {
     "name": "stdout",
     "output_type": "stream",
     "text": [
      "The best classifier for arousal classification is : def-dt, with testing accuracy of : 0.714286 \n"
     ]
    }
   ],
   "source": [
    "arousal_scores = []\n",
    "arousal_scores.append(ridge_clf_arousal_default.score(arousal_x_test, arousal_y_test))\n",
    "arousal_scores.append(ridge_clf_arousal_gridSearched.score(arousal_x_test, arousal_y_test))\n",
    "arousal_scores.append(knc_arousal_default.score(arousal_x_test, arousal_y_test))\n",
    "arousal_scores.append(knc_arousal_gridSearched.score(arousal_x_test, arousal_y_test))\n",
    "arousal_scores.append(svc_arousal_default.score(arousal_x_test, arousal_y_test))\n",
    "arousal_scores.append(svc_arousal_gridSearched.score(arousal_x_test, arousal_y_test))\n",
    "arousal_scores.append(dt_arousal_default.score(arousal_x_test, arousal_y_test))\n",
    "arousal_scores.append(dt_arousal_gridSearched.score(arousal_x_test, arousal_y_test))\n",
    "\n",
    "n = ['def-ridge', 'grid-ridge', 'def-knc', 'grid-knc', 'def-svc', 'grid-svc', 'def-dt','grid-dt']\n",
    "\n",
    "print(\"The best classifier for arousal classification is : %s, with testing accuracy of : %f \" % (n[np.argmax(arousal_scores)], arousal_scores[np.argmax(arousal_scores)]))"
   ]
  },
  {
   "cell_type": "markdown",
   "metadata": {},
   "source": [
    "# Valence Classification:\n",
    "We compare all the 8 models:\n",
    "1. default and gridSearched Ridge classifier\n",
    "2. default and gridSearched k neighbors classifier\n",
    "3. default and gridSearched SVM classifier\n",
    "4. default and gridSearched decision tree classifier"
   ]
  },
  {
   "cell_type": "code",
   "execution_count": 73,
   "metadata": {},
   "outputs": [
    {
     "name": "stdout",
     "output_type": "stream",
     "text": [
      "The best classifier for valence classification is : grid-knc, with testing accuracy of : 0.666667 \n"
     ]
    }
   ],
   "source": [
    "valence_scores = []\n",
    "valence_scores.append(ridge_clf_valence_default.score(valence_x_test, valence_y_test))\n",
    "valence_scores.append(ridge_clf_valence_gridSearched.score(valence_x_test, valence_y_test))\n",
    "valence_scores.append(knc_valence_default.score(valence_x_test, valence_y_test))\n",
    "valence_scores.append(knc_valence_gridSearched.score(valence_x_test, valence_y_test))\n",
    "valence_scores.append(svc_valence_default.score(valence_x_test, valence_y_test))\n",
    "valence_scores.append(svc_valence_gridSearched.score(valence_x_test, valence_y_test))\n",
    "valence_scores.append(dt_valence_default.score(valence_x_test, valence_y_test))\n",
    "valence_scores.append(dt_valence_gridSearched.score(valence_x_test, valence_y_test))\n",
    "\n",
    "n = ['def-ridge', 'grid-ridge', 'def-knc', 'grid-knc', 'def-svc', 'grid-svc', 'def-dt','grid-dt']\n",
    "\n",
    "print(\"The best classifier for valence classification is : %s, with testing accuracy of : %f \" % (n[np.argmax(valence_scores)], valence_scores[np.argmax(valence_scores)]))"
   ]
  },
  {
   "cell_type": "markdown",
   "metadata": {},
   "source": [
    "# Tension Classification:\n",
    "We compare all the 8 models:\n",
    "1. default and gridSearched Ridge classifier\n",
    "2. default and gridSearched k neighbors classifier\n",
    "3. default and gridSearched SVM classifier\n",
    "4. default and gridSearched decision tree classifier"
   ]
  },
  {
   "cell_type": "code",
   "execution_count": 78,
   "metadata": {},
   "outputs": [
    {
     "name": "stdout",
     "output_type": "stream",
     "text": [
      "The best classifier for tension classification is : def-ridge, with testing accuracy of : 0.772727 \n"
     ]
    }
   ],
   "source": [
    "tension_scores = []\n",
    "tension_scores.append(ridge_clf_tension_default.score(tension_x_test, tension_y_test))\n",
    "tension_scores.append(ridge_clf_tension_gridSearched.score(tension_x_test, tension_y_test))\n",
    "tension_scores.append(knc_tension_default.score(tension_x_test, tension_y_test))\n",
    "tension_scores.append(knc_tension_gridSearched.score(tension_x_test, tension_y_test))\n",
    "tension_scores.append(svc_tension_default.score(tension_x_test, tension_y_test))\n",
    "tension_scores.append(svc_tension_gridSearched.score(tension_x_test, tension_y_test))\n",
    "tension_scores.append(dt_tension_default.score(tension_x_test, tension_y_test))\n",
    "tension_scores.append(dt_tension_gridSearched.score(tension_x_test, tension_y_test))\n",
    "\n",
    "n = ['def-ridge', 'grid-ridge', 'def-knc', 'grid-knc', 'def-svc', 'grid-svc', 'def-dt','grid-dt']\n",
    "\n",
    "print(\"The best classifier for tension classification is : %s, with testing accuracy of : %f \" % (n[np.argmax(tension_scores)], tension_scores[np.argmax(tension_scores)]))"
   ]
  },
  {
   "cell_type": "markdown",
   "metadata": {},
   "source": [
    "# Voting Classifier \n",
    "1. We planned on trying out a voting classifier, based on the above obtained results.\n",
    "2. We chose those classifiers which performed the best in all the 3 classification tasks."
   ]
  },
  {
   "cell_type": "code",
   "execution_count": 79,
   "metadata": {},
   "outputs": [],
   "source": [
    "from sklearn.ensemble import VotingClassifier\n",
    "voting_clf = VotingClassifier(estimators=[('ridge', ridge_clf_tension_default),('knc', knc_valence_gridSearched),('dt', dt_arousal_default)])"
   ]
  },
  {
   "cell_type": "markdown",
   "metadata": {},
   "source": [
    "### Evaluating **arousal classification** over the voting classifier"
   ]
  },
  {
   "cell_type": "code",
   "execution_count": 80,
   "metadata": {
    "scrolled": true
   },
   "outputs": [
    {
     "name": "stdout",
     "output_type": "stream",
     "text": [
      "Accuracy of voting classifier on the test data is:  0.6666666666666666\n"
     ]
    }
   ],
   "source": [
    "voting_clf = voting_clf.fit(arousal_x_train, arousal_y_train)\n",
    "print(\"Accuracy of voting classifier on the test data is: \", voting_clf.score(arousal_x_test, arousal_y_test))"
   ]
  },
  {
   "cell_type": "markdown",
   "metadata": {},
   "source": [
    "### Evaluating **valence classification** over the voting classifier"
   ]
  },
  {
   "cell_type": "code",
   "execution_count": 81,
   "metadata": {},
   "outputs": [
    {
     "name": "stdout",
     "output_type": "stream",
     "text": [
      "Accuracy of voting classifier on the test data is:  0.625\n"
     ]
    }
   ],
   "source": [
    "voting_clf = voting_clf.fit(valence_x_train, valence_y_train)\n",
    "print(\"Accuracy of voting classifier on the test data is: \", voting_clf.score(valence_x_test, valence_y_test))"
   ]
  },
  {
   "cell_type": "markdown",
   "metadata": {},
   "source": [
    "### Evaluating **tension classification** over the voting classifier"
   ]
  },
  {
   "cell_type": "code",
   "execution_count": 82,
   "metadata": {},
   "outputs": [
    {
     "name": "stdout",
     "output_type": "stream",
     "text": [
      "Accuracy of voting classifier on the test data is:  0.6818181818181818\n"
     ]
    }
   ],
   "source": [
    "voting_clf = voting_clf.fit(tension_x_train, tension_y_train)\n",
    "print(\"Accuracy of voting classifier on the test data is: \", voting_clf.score(tension_x_test, tension_y_test))"
   ]
  }
 ],
 "metadata": {
  "kernelspec": {
   "display_name": "Python 3",
   "language": "python",
   "name": "python3"
  },
  "language_info": {
   "codemirror_mode": {
    "name": "ipython",
    "version": 3
   },
   "file_extension": ".py",
   "mimetype": "text/x-python",
   "name": "python",
   "nbconvert_exporter": "python",
   "pygments_lexer": "ipython3",
   "version": "3.6.9"
  }
 },
 "nbformat": 4,
 "nbformat_minor": 2
}
